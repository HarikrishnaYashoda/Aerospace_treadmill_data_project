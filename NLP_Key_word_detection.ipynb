{
  "nbformat": 4,
  "nbformat_minor": 0,
  "metadata": {
    "colab": {
      "provenance": [],
      "mount_file_id": "1Z8nrRtnsaMsl6owkAVMu9e5LBGG_fHjE",
      "authorship_tag": "ABX9TyNChJYwR7YGh0eBnoI/Yy90",
      "include_colab_link": true
    },
    "kernelspec": {
      "name": "python3",
      "display_name": "Python 3"
    },
    "language_info": {
      "name": "python"
    }
  },
  "cells": [
    {
      "cell_type": "markdown",
      "metadata": {
        "id": "view-in-github",
        "colab_type": "text"
      },
      "source": [
        "<a href=\"https://colab.research.google.com/github/HarikrishnaYashoda/Aerospace_treadmill_data_project/blob/main/NLP_Key_word_detection.ipynb\" target=\"_parent\"><img src=\"https://colab.research.google.com/assets/colab-badge.svg\" alt=\"Open In Colab\"/></a>"
      ]
    },
    {
      "cell_type": "markdown",
      "source": [
        "**Introduction**\n",
        "\n",
        "As a first step in solving this problem, we will load the provided CSV files using the Pandas library. The training CSV file contains 100 rows, with three columns: URL, doc_id, and a label. The test CSV file has 48 rows with two columns: URL and doc_id. The goal is to train a machine learning model that can predict a label for the documents provided in the test CSV based on the data that is available in the training CSV."
      ],
      "metadata": {
        "id": "tE23WgveRLnW"
      }
    },
    {
      "cell_type": "code",
      "execution_count": 1,
      "metadata": {
        "id": "YfrkfPY1KPre"
      },
      "outputs": [],
      "source": [
        "import pandas as pd"
      ]
    },
    {
      "cell_type": "code",
      "source": [
        "train_csv = pd.read_csv(filepath_or_buffer=\"train.csv\")\n",
        "print(\"Training set shape\", train_csv.shape)\n",
        "train_csv.head()"
      ],
      "metadata": {
        "colab": {
          "base_uri": "https://localhost:8080/",
          "height": 224
        },
        "id": "mlaAuHnAROuq",
        "outputId": "97ea6b3e-f034-4c46-b860-2da90fc4808b"
      },
      "execution_count": 2,
      "outputs": [
        {
          "output_type": "stream",
          "name": "stdout",
          "text": [
            "Training set shape (100, 3)\n"
          ]
        },
        {
          "output_type": "execute_result",
          "data": {
            "text/plain": [
              "                                                 url  doc_id  label\n",
              "0  http://elbe-elster-klinikum.de/fachbereiche/ch...       1      1\n",
              "1  http://klinikum-bayreuth.de/einrichtungen/zent...       3      3\n",
              "2  http://klinikum-braunschweig.de/info.php/?id_o...       4      1\n",
              "3  http://klinikum-braunschweig.de/info.php/?id_o...       5      1\n",
              "4  http://klinikum-braunschweig.de/zuweiser/tumor...       6      3"
            ],
            "text/html": [
              "\n",
              "  <div id=\"df-d500b152-f505-4581-b288-0b2c23c159d0\" class=\"colab-df-container\">\n",
              "    <div>\n",
              "<style scoped>\n",
              "    .dataframe tbody tr th:only-of-type {\n",
              "        vertical-align: middle;\n",
              "    }\n",
              "\n",
              "    .dataframe tbody tr th {\n",
              "        vertical-align: top;\n",
              "    }\n",
              "\n",
              "    .dataframe thead th {\n",
              "        text-align: right;\n",
              "    }\n",
              "</style>\n",
              "<table border=\"1\" class=\"dataframe\">\n",
              "  <thead>\n",
              "    <tr style=\"text-align: right;\">\n",
              "      <th></th>\n",
              "      <th>url</th>\n",
              "      <th>doc_id</th>\n",
              "      <th>label</th>\n",
              "    </tr>\n",
              "  </thead>\n",
              "  <tbody>\n",
              "    <tr>\n",
              "      <th>0</th>\n",
              "      <td>http://elbe-elster-klinikum.de/fachbereiche/ch...</td>\n",
              "      <td>1</td>\n",
              "      <td>1</td>\n",
              "    </tr>\n",
              "    <tr>\n",
              "      <th>1</th>\n",
              "      <td>http://klinikum-bayreuth.de/einrichtungen/zent...</td>\n",
              "      <td>3</td>\n",
              "      <td>3</td>\n",
              "    </tr>\n",
              "    <tr>\n",
              "      <th>2</th>\n",
              "      <td>http://klinikum-braunschweig.de/info.php/?id_o...</td>\n",
              "      <td>4</td>\n",
              "      <td>1</td>\n",
              "    </tr>\n",
              "    <tr>\n",
              "      <th>3</th>\n",
              "      <td>http://klinikum-braunschweig.de/info.php/?id_o...</td>\n",
              "      <td>5</td>\n",
              "      <td>1</td>\n",
              "    </tr>\n",
              "    <tr>\n",
              "      <th>4</th>\n",
              "      <td>http://klinikum-braunschweig.de/zuweiser/tumor...</td>\n",
              "      <td>6</td>\n",
              "      <td>3</td>\n",
              "    </tr>\n",
              "  </tbody>\n",
              "</table>\n",
              "</div>\n",
              "    <div class=\"colab-df-buttons\">\n",
              "\n",
              "  <div class=\"colab-df-container\">\n",
              "    <button class=\"colab-df-convert\" onclick=\"convertToInteractive('df-d500b152-f505-4581-b288-0b2c23c159d0')\"\n",
              "            title=\"Convert this dataframe to an interactive table.\"\n",
              "            style=\"display:none;\">\n",
              "\n",
              "  <svg xmlns=\"http://www.w3.org/2000/svg\" height=\"24px\" viewBox=\"0 -960 960 960\">\n",
              "    <path d=\"M120-120v-720h720v720H120Zm60-500h600v-160H180v160Zm220 220h160v-160H400v160Zm0 220h160v-160H400v160ZM180-400h160v-160H180v160Zm440 0h160v-160H620v160ZM180-180h160v-160H180v160Zm440 0h160v-160H620v160Z\"/>\n",
              "  </svg>\n",
              "    </button>\n",
              "\n",
              "  <style>\n",
              "    .colab-df-container {\n",
              "      display:flex;\n",
              "      gap: 12px;\n",
              "    }\n",
              "\n",
              "    .colab-df-convert {\n",
              "      background-color: #E8F0FE;\n",
              "      border: none;\n",
              "      border-radius: 50%;\n",
              "      cursor: pointer;\n",
              "      display: none;\n",
              "      fill: #1967D2;\n",
              "      height: 32px;\n",
              "      padding: 0 0 0 0;\n",
              "      width: 32px;\n",
              "    }\n",
              "\n",
              "    .colab-df-convert:hover {\n",
              "      background-color: #E2EBFA;\n",
              "      box-shadow: 0px 1px 2px rgba(60, 64, 67, 0.3), 0px 1px 3px 1px rgba(60, 64, 67, 0.15);\n",
              "      fill: #174EA6;\n",
              "    }\n",
              "\n",
              "    .colab-df-buttons div {\n",
              "      margin-bottom: 4px;\n",
              "    }\n",
              "\n",
              "    [theme=dark] .colab-df-convert {\n",
              "      background-color: #3B4455;\n",
              "      fill: #D2E3FC;\n",
              "    }\n",
              "\n",
              "    [theme=dark] .colab-df-convert:hover {\n",
              "      background-color: #434B5C;\n",
              "      box-shadow: 0px 1px 3px 1px rgba(0, 0, 0, 0.15);\n",
              "      filter: drop-shadow(0px 1px 2px rgba(0, 0, 0, 0.3));\n",
              "      fill: #FFFFFF;\n",
              "    }\n",
              "  </style>\n",
              "\n",
              "    <script>\n",
              "      const buttonEl =\n",
              "        document.querySelector('#df-d500b152-f505-4581-b288-0b2c23c159d0 button.colab-df-convert');\n",
              "      buttonEl.style.display =\n",
              "        google.colab.kernel.accessAllowed ? 'block' : 'none';\n",
              "\n",
              "      async function convertToInteractive(key) {\n",
              "        const element = document.querySelector('#df-d500b152-f505-4581-b288-0b2c23c159d0');\n",
              "        const dataTable =\n",
              "          await google.colab.kernel.invokeFunction('convertToInteractive',\n",
              "                                                    [key], {});\n",
              "        if (!dataTable) return;\n",
              "\n",
              "        const docLinkHtml = 'Like what you see? Visit the ' +\n",
              "          '<a target=\"_blank\" href=https://colab.research.google.com/notebooks/data_table.ipynb>data table notebook</a>'\n",
              "          + ' to learn more about interactive tables.';\n",
              "        element.innerHTML = '';\n",
              "        dataTable['output_type'] = 'display_data';\n",
              "        await google.colab.output.renderOutput(dataTable, element);\n",
              "        const docLink = document.createElement('div');\n",
              "        docLink.innerHTML = docLinkHtml;\n",
              "        element.appendChild(docLink);\n",
              "      }\n",
              "    </script>\n",
              "  </div>\n",
              "\n",
              "\n",
              "    <div id=\"df-5aa00b89-3961-4cf1-a92e-1d7130c58363\">\n",
              "      <button class=\"colab-df-quickchart\" onclick=\"quickchart('df-5aa00b89-3961-4cf1-a92e-1d7130c58363')\"\n",
              "                title=\"Suggest charts\"\n",
              "                style=\"display:none;\">\n",
              "\n",
              "<svg xmlns=\"http://www.w3.org/2000/svg\" height=\"24px\"viewBox=\"0 0 24 24\"\n",
              "     width=\"24px\">\n",
              "    <g>\n",
              "        <path d=\"M19 3H5c-1.1 0-2 .9-2 2v14c0 1.1.9 2 2 2h14c1.1 0 2-.9 2-2V5c0-1.1-.9-2-2-2zM9 17H7v-7h2v7zm4 0h-2V7h2v10zm4 0h-2v-4h2v4z\"/>\n",
              "    </g>\n",
              "</svg>\n",
              "      </button>\n",
              "\n",
              "<style>\n",
              "  .colab-df-quickchart {\n",
              "      --bg-color: #E8F0FE;\n",
              "      --fill-color: #1967D2;\n",
              "      --hover-bg-color: #E2EBFA;\n",
              "      --hover-fill-color: #174EA6;\n",
              "      --disabled-fill-color: #AAA;\n",
              "      --disabled-bg-color: #DDD;\n",
              "  }\n",
              "\n",
              "  [theme=dark] .colab-df-quickchart {\n",
              "      --bg-color: #3B4455;\n",
              "      --fill-color: #D2E3FC;\n",
              "      --hover-bg-color: #434B5C;\n",
              "      --hover-fill-color: #FFFFFF;\n",
              "      --disabled-bg-color: #3B4455;\n",
              "      --disabled-fill-color: #666;\n",
              "  }\n",
              "\n",
              "  .colab-df-quickchart {\n",
              "    background-color: var(--bg-color);\n",
              "    border: none;\n",
              "    border-radius: 50%;\n",
              "    cursor: pointer;\n",
              "    display: none;\n",
              "    fill: var(--fill-color);\n",
              "    height: 32px;\n",
              "    padding: 0;\n",
              "    width: 32px;\n",
              "  }\n",
              "\n",
              "  .colab-df-quickchart:hover {\n",
              "    background-color: var(--hover-bg-color);\n",
              "    box-shadow: 0 1px 2px rgba(60, 64, 67, 0.3), 0 1px 3px 1px rgba(60, 64, 67, 0.15);\n",
              "    fill: var(--button-hover-fill-color);\n",
              "  }\n",
              "\n",
              "  .colab-df-quickchart-complete:disabled,\n",
              "  .colab-df-quickchart-complete:disabled:hover {\n",
              "    background-color: var(--disabled-bg-color);\n",
              "    fill: var(--disabled-fill-color);\n",
              "    box-shadow: none;\n",
              "  }\n",
              "\n",
              "  .colab-df-spinner {\n",
              "    border: 2px solid var(--fill-color);\n",
              "    border-color: transparent;\n",
              "    border-bottom-color: var(--fill-color);\n",
              "    animation:\n",
              "      spin 1s steps(1) infinite;\n",
              "  }\n",
              "\n",
              "  @keyframes spin {\n",
              "    0% {\n",
              "      border-color: transparent;\n",
              "      border-bottom-color: var(--fill-color);\n",
              "      border-left-color: var(--fill-color);\n",
              "    }\n",
              "    20% {\n",
              "      border-color: transparent;\n",
              "      border-left-color: var(--fill-color);\n",
              "      border-top-color: var(--fill-color);\n",
              "    }\n",
              "    30% {\n",
              "      border-color: transparent;\n",
              "      border-left-color: var(--fill-color);\n",
              "      border-top-color: var(--fill-color);\n",
              "      border-right-color: var(--fill-color);\n",
              "    }\n",
              "    40% {\n",
              "      border-color: transparent;\n",
              "      border-right-color: var(--fill-color);\n",
              "      border-top-color: var(--fill-color);\n",
              "    }\n",
              "    60% {\n",
              "      border-color: transparent;\n",
              "      border-right-color: var(--fill-color);\n",
              "    }\n",
              "    80% {\n",
              "      border-color: transparent;\n",
              "      border-right-color: var(--fill-color);\n",
              "      border-bottom-color: var(--fill-color);\n",
              "    }\n",
              "    90% {\n",
              "      border-color: transparent;\n",
              "      border-bottom-color: var(--fill-color);\n",
              "    }\n",
              "  }\n",
              "</style>\n",
              "\n",
              "      <script>\n",
              "        async function quickchart(key) {\n",
              "          const quickchartButtonEl =\n",
              "            document.querySelector('#' + key + ' button');\n",
              "          quickchartButtonEl.disabled = true;  // To prevent multiple clicks.\n",
              "          quickchartButtonEl.classList.add('colab-df-spinner');\n",
              "          try {\n",
              "            const charts = await google.colab.kernel.invokeFunction(\n",
              "                'suggestCharts', [key], {});\n",
              "          } catch (error) {\n",
              "            console.error('Error during call to suggestCharts:', error);\n",
              "          }\n",
              "          quickchartButtonEl.classList.remove('colab-df-spinner');\n",
              "          quickchartButtonEl.classList.add('colab-df-quickchart-complete');\n",
              "        }\n",
              "        (() => {\n",
              "          let quickchartButtonEl =\n",
              "            document.querySelector('#df-5aa00b89-3961-4cf1-a92e-1d7130c58363 button');\n",
              "          quickchartButtonEl.style.display =\n",
              "            google.colab.kernel.accessAllowed ? 'block' : 'none';\n",
              "        })();\n",
              "      </script>\n",
              "    </div>\n",
              "\n",
              "    </div>\n",
              "  </div>\n"
            ],
            "application/vnd.google.colaboratory.intrinsic+json": {
              "type": "dataframe",
              "variable_name": "train_csv",
              "summary": "{\n  \"name\": \"train_csv\",\n  \"rows\": 100,\n  \"fields\": [\n    {\n      \"column\": \"url\",\n      \"properties\": {\n        \"dtype\": \"string\",\n        \"num_unique_values\": 100,\n        \"samples\": [\n          \"http://www.sbk-vs.de/de/medizin/leistungen-und-angebote/medizinische_zentren/prostata-karzinomzentrum/prostata-karzinomzentrum.php/\",\n          \"http://www.klinikum-esslingen.de/kliniken-und-zentren/gefaess-und-thoraxchirurgie/unser-profil/?l=984%22\",\n          \"http://www.malteser-kliniken-rhein-ruhr.de/medizinische-fachbereiche/zentren-und-institute/darmzentrum-duisburg.html/?type=%23%23%23typenum%23%23%23%27a%3D0%27a%3D0\"\n        ],\n        \"semantic_type\": \"\",\n        \"description\": \"\"\n      }\n    },\n    {\n      \"column\": \"doc_id\",\n      \"properties\": {\n        \"dtype\": \"number\",\n        \"std\": 44,\n        \"min\": 1,\n        \"max\": 146,\n        \"num_unique_values\": 100,\n        \"samples\": [\n          125,\n          85,\n          107\n        ],\n        \"semantic_type\": \"\",\n        \"description\": \"\"\n      }\n    },\n    {\n      \"column\": \"label\",\n      \"properties\": {\n        \"dtype\": \"number\",\n        \"std\": 0,\n        \"min\": 1,\n        \"max\": 3,\n        \"num_unique_values\": 3,\n        \"samples\": [\n          1,\n          3,\n          2\n        ],\n        \"semantic_type\": \"\",\n        \"description\": \"\"\n      }\n    }\n  ]\n}"
            }
          },
          "metadata": {},
          "execution_count": 2
        }
      ]
    },
    {
      "cell_type": "code",
      "source": [
        "test_csv = pd.read_csv(filepath_or_buffer=\"test.csv\")\n",
        "print(\"Test set shape\", test_csv.shape)\n",
        "test_csv.head()"
      ],
      "metadata": {
        "colab": {
          "base_uri": "https://localhost:8080/",
          "height": 224
        },
        "id": "ChakipznRWVU",
        "outputId": "2f4196ce-34e3-473b-e496-44b650f53917"
      },
      "execution_count": 3,
      "outputs": [
        {
          "output_type": "stream",
          "name": "stdout",
          "text": [
            "Test set shape (48, 2)\n"
          ]
        },
        {
          "output_type": "execute_result",
          "data": {
            "text/plain": [
              "                                                 url  doc_id\n",
              "0  http://chirurgie-goettingen.de/medizinische-ve...       0\n",
              "1  http://evkb.de/kliniken-zentren/chirurgie/allg...       2\n",
              "2  http://krebszentrum.kreiskliniken-reutlingen.d...       7\n",
              "3  http://marienhospital-buer.de/mhb-av-chirurgie...      15\n",
              "4  http://marienhospital-buer.de/mhb-av-chirurgie...      16"
            ],
            "text/html": [
              "\n",
              "  <div id=\"df-3a6642c4-94c7-435d-bc88-7b6ab4518ed3\" class=\"colab-df-container\">\n",
              "    <div>\n",
              "<style scoped>\n",
              "    .dataframe tbody tr th:only-of-type {\n",
              "        vertical-align: middle;\n",
              "    }\n",
              "\n",
              "    .dataframe tbody tr th {\n",
              "        vertical-align: top;\n",
              "    }\n",
              "\n",
              "    .dataframe thead th {\n",
              "        text-align: right;\n",
              "    }\n",
              "</style>\n",
              "<table border=\"1\" class=\"dataframe\">\n",
              "  <thead>\n",
              "    <tr style=\"text-align: right;\">\n",
              "      <th></th>\n",
              "      <th>url</th>\n",
              "      <th>doc_id</th>\n",
              "    </tr>\n",
              "  </thead>\n",
              "  <tbody>\n",
              "    <tr>\n",
              "      <th>0</th>\n",
              "      <td>http://chirurgie-goettingen.de/medizinische-ve...</td>\n",
              "      <td>0</td>\n",
              "    </tr>\n",
              "    <tr>\n",
              "      <th>1</th>\n",
              "      <td>http://evkb.de/kliniken-zentren/chirurgie/allg...</td>\n",
              "      <td>2</td>\n",
              "    </tr>\n",
              "    <tr>\n",
              "      <th>2</th>\n",
              "      <td>http://krebszentrum.kreiskliniken-reutlingen.d...</td>\n",
              "      <td>7</td>\n",
              "    </tr>\n",
              "    <tr>\n",
              "      <th>3</th>\n",
              "      <td>http://marienhospital-buer.de/mhb-av-chirurgie...</td>\n",
              "      <td>15</td>\n",
              "    </tr>\n",
              "    <tr>\n",
              "      <th>4</th>\n",
              "      <td>http://marienhospital-buer.de/mhb-av-chirurgie...</td>\n",
              "      <td>16</td>\n",
              "    </tr>\n",
              "  </tbody>\n",
              "</table>\n",
              "</div>\n",
              "    <div class=\"colab-df-buttons\">\n",
              "\n",
              "  <div class=\"colab-df-container\">\n",
              "    <button class=\"colab-df-convert\" onclick=\"convertToInteractive('df-3a6642c4-94c7-435d-bc88-7b6ab4518ed3')\"\n",
              "            title=\"Convert this dataframe to an interactive table.\"\n",
              "            style=\"display:none;\">\n",
              "\n",
              "  <svg xmlns=\"http://www.w3.org/2000/svg\" height=\"24px\" viewBox=\"0 -960 960 960\">\n",
              "    <path d=\"M120-120v-720h720v720H120Zm60-500h600v-160H180v160Zm220 220h160v-160H400v160Zm0 220h160v-160H400v160ZM180-400h160v-160H180v160Zm440 0h160v-160H620v160ZM180-180h160v-160H180v160Zm440 0h160v-160H620v160Z\"/>\n",
              "  </svg>\n",
              "    </button>\n",
              "\n",
              "  <style>\n",
              "    .colab-df-container {\n",
              "      display:flex;\n",
              "      gap: 12px;\n",
              "    }\n",
              "\n",
              "    .colab-df-convert {\n",
              "      background-color: #E8F0FE;\n",
              "      border: none;\n",
              "      border-radius: 50%;\n",
              "      cursor: pointer;\n",
              "      display: none;\n",
              "      fill: #1967D2;\n",
              "      height: 32px;\n",
              "      padding: 0 0 0 0;\n",
              "      width: 32px;\n",
              "    }\n",
              "\n",
              "    .colab-df-convert:hover {\n",
              "      background-color: #E2EBFA;\n",
              "      box-shadow: 0px 1px 2px rgba(60, 64, 67, 0.3), 0px 1px 3px 1px rgba(60, 64, 67, 0.15);\n",
              "      fill: #174EA6;\n",
              "    }\n",
              "\n",
              "    .colab-df-buttons div {\n",
              "      margin-bottom: 4px;\n",
              "    }\n",
              "\n",
              "    [theme=dark] .colab-df-convert {\n",
              "      background-color: #3B4455;\n",
              "      fill: #D2E3FC;\n",
              "    }\n",
              "\n",
              "    [theme=dark] .colab-df-convert:hover {\n",
              "      background-color: #434B5C;\n",
              "      box-shadow: 0px 1px 3px 1px rgba(0, 0, 0, 0.15);\n",
              "      filter: drop-shadow(0px 1px 2px rgba(0, 0, 0, 0.3));\n",
              "      fill: #FFFFFF;\n",
              "    }\n",
              "  </style>\n",
              "\n",
              "    <script>\n",
              "      const buttonEl =\n",
              "        document.querySelector('#df-3a6642c4-94c7-435d-bc88-7b6ab4518ed3 button.colab-df-convert');\n",
              "      buttonEl.style.display =\n",
              "        google.colab.kernel.accessAllowed ? 'block' : 'none';\n",
              "\n",
              "      async function convertToInteractive(key) {\n",
              "        const element = document.querySelector('#df-3a6642c4-94c7-435d-bc88-7b6ab4518ed3');\n",
              "        const dataTable =\n",
              "          await google.colab.kernel.invokeFunction('convertToInteractive',\n",
              "                                                    [key], {});\n",
              "        if (!dataTable) return;\n",
              "\n",
              "        const docLinkHtml = 'Like what you see? Visit the ' +\n",
              "          '<a target=\"_blank\" href=https://colab.research.google.com/notebooks/data_table.ipynb>data table notebook</a>'\n",
              "          + ' to learn more about interactive tables.';\n",
              "        element.innerHTML = '';\n",
              "        dataTable['output_type'] = 'display_data';\n",
              "        await google.colab.output.renderOutput(dataTable, element);\n",
              "        const docLink = document.createElement('div');\n",
              "        docLink.innerHTML = docLinkHtml;\n",
              "        element.appendChild(docLink);\n",
              "      }\n",
              "    </script>\n",
              "  </div>\n",
              "\n",
              "\n",
              "    <div id=\"df-c903a1ce-d63a-41b1-a62f-97189ea57fcb\">\n",
              "      <button class=\"colab-df-quickchart\" onclick=\"quickchart('df-c903a1ce-d63a-41b1-a62f-97189ea57fcb')\"\n",
              "                title=\"Suggest charts\"\n",
              "                style=\"display:none;\">\n",
              "\n",
              "<svg xmlns=\"http://www.w3.org/2000/svg\" height=\"24px\"viewBox=\"0 0 24 24\"\n",
              "     width=\"24px\">\n",
              "    <g>\n",
              "        <path d=\"M19 3H5c-1.1 0-2 .9-2 2v14c0 1.1.9 2 2 2h14c1.1 0 2-.9 2-2V5c0-1.1-.9-2-2-2zM9 17H7v-7h2v7zm4 0h-2V7h2v10zm4 0h-2v-4h2v4z\"/>\n",
              "    </g>\n",
              "</svg>\n",
              "      </button>\n",
              "\n",
              "<style>\n",
              "  .colab-df-quickchart {\n",
              "      --bg-color: #E8F0FE;\n",
              "      --fill-color: #1967D2;\n",
              "      --hover-bg-color: #E2EBFA;\n",
              "      --hover-fill-color: #174EA6;\n",
              "      --disabled-fill-color: #AAA;\n",
              "      --disabled-bg-color: #DDD;\n",
              "  }\n",
              "\n",
              "  [theme=dark] .colab-df-quickchart {\n",
              "      --bg-color: #3B4455;\n",
              "      --fill-color: #D2E3FC;\n",
              "      --hover-bg-color: #434B5C;\n",
              "      --hover-fill-color: #FFFFFF;\n",
              "      --disabled-bg-color: #3B4455;\n",
              "      --disabled-fill-color: #666;\n",
              "  }\n",
              "\n",
              "  .colab-df-quickchart {\n",
              "    background-color: var(--bg-color);\n",
              "    border: none;\n",
              "    border-radius: 50%;\n",
              "    cursor: pointer;\n",
              "    display: none;\n",
              "    fill: var(--fill-color);\n",
              "    height: 32px;\n",
              "    padding: 0;\n",
              "    width: 32px;\n",
              "  }\n",
              "\n",
              "  .colab-df-quickchart:hover {\n",
              "    background-color: var(--hover-bg-color);\n",
              "    box-shadow: 0 1px 2px rgba(60, 64, 67, 0.3), 0 1px 3px 1px rgba(60, 64, 67, 0.15);\n",
              "    fill: var(--button-hover-fill-color);\n",
              "  }\n",
              "\n",
              "  .colab-df-quickchart-complete:disabled,\n",
              "  .colab-df-quickchart-complete:disabled:hover {\n",
              "    background-color: var(--disabled-bg-color);\n",
              "    fill: var(--disabled-fill-color);\n",
              "    box-shadow: none;\n",
              "  }\n",
              "\n",
              "  .colab-df-spinner {\n",
              "    border: 2px solid var(--fill-color);\n",
              "    border-color: transparent;\n",
              "    border-bottom-color: var(--fill-color);\n",
              "    animation:\n",
              "      spin 1s steps(1) infinite;\n",
              "  }\n",
              "\n",
              "  @keyframes spin {\n",
              "    0% {\n",
              "      border-color: transparent;\n",
              "      border-bottom-color: var(--fill-color);\n",
              "      border-left-color: var(--fill-color);\n",
              "    }\n",
              "    20% {\n",
              "      border-color: transparent;\n",
              "      border-left-color: var(--fill-color);\n",
              "      border-top-color: var(--fill-color);\n",
              "    }\n",
              "    30% {\n",
              "      border-color: transparent;\n",
              "      border-left-color: var(--fill-color);\n",
              "      border-top-color: var(--fill-color);\n",
              "      border-right-color: var(--fill-color);\n",
              "    }\n",
              "    40% {\n",
              "      border-color: transparent;\n",
              "      border-right-color: var(--fill-color);\n",
              "      border-top-color: var(--fill-color);\n",
              "    }\n",
              "    60% {\n",
              "      border-color: transparent;\n",
              "      border-right-color: var(--fill-color);\n",
              "    }\n",
              "    80% {\n",
              "      border-color: transparent;\n",
              "      border-right-color: var(--fill-color);\n",
              "      border-bottom-color: var(--fill-color);\n",
              "    }\n",
              "    90% {\n",
              "      border-color: transparent;\n",
              "      border-bottom-color: var(--fill-color);\n",
              "    }\n",
              "  }\n",
              "</style>\n",
              "\n",
              "      <script>\n",
              "        async function quickchart(key) {\n",
              "          const quickchartButtonEl =\n",
              "            document.querySelector('#' + key + ' button');\n",
              "          quickchartButtonEl.disabled = true;  // To prevent multiple clicks.\n",
              "          quickchartButtonEl.classList.add('colab-df-spinner');\n",
              "          try {\n",
              "            const charts = await google.colab.kernel.invokeFunction(\n",
              "                'suggestCharts', [key], {});\n",
              "          } catch (error) {\n",
              "            console.error('Error during call to suggestCharts:', error);\n",
              "          }\n",
              "          quickchartButtonEl.classList.remove('colab-df-spinner');\n",
              "          quickchartButtonEl.classList.add('colab-df-quickchart-complete');\n",
              "        }\n",
              "        (() => {\n",
              "          let quickchartButtonEl =\n",
              "            document.querySelector('#df-c903a1ce-d63a-41b1-a62f-97189ea57fcb button');\n",
              "          quickchartButtonEl.style.display =\n",
              "            google.colab.kernel.accessAllowed ? 'block' : 'none';\n",
              "        })();\n",
              "      </script>\n",
              "    </div>\n",
              "\n",
              "    </div>\n",
              "  </div>\n"
            ],
            "application/vnd.google.colaboratory.intrinsic+json": {
              "type": "dataframe",
              "variable_name": "test_csv",
              "summary": "{\n  \"name\": \"test_csv\",\n  \"rows\": 48,\n  \"fields\": [\n    {\n      \"column\": \"url\",\n      \"properties\": {\n        \"dtype\": \"string\",\n        \"num_unique_values\": 48,\n        \"samples\": [\n          \"http://www.josephstift-dresden.de/pressemitteilungen/rss/\",\n          \"http://www.pius-hospital.de/kliniken/gynaekologie-gynaekologische-onkologie/patienteninformationen/\",\n          \"http://www.interdisziplinaere-endoskopie.mri.tum.de/\"\n        ],\n        \"semantic_type\": \"\",\n        \"description\": \"\"\n      }\n    },\n    {\n      \"column\": \"doc_id\",\n      \"properties\": {\n        \"dtype\": \"number\",\n        \"std\": 39,\n        \"min\": 0,\n        \"max\": 147,\n        \"num_unique_values\": 48,\n        \"samples\": [\n          71,\n          123,\n          70\n        ],\n        \"semantic_type\": \"\",\n        \"description\": \"\"\n      }\n    }\n  ]\n}"
            }
          },
          "metadata": {},
          "execution_count": 3
        }
      ]
    },
    {
      "cell_type": "code",
      "source": [
        "tumor_keywords = pd.read_csv(filepath_or_buffer=\"keyword2tumor_type.csv\")\n",
        "print(\"Tumor keywords set shape\", tumor_keywords.shape)\n",
        "tumor_keywords.head()"
      ],
      "metadata": {
        "colab": {
          "base_uri": "https://localhost:8080/",
          "height": 224
        },
        "id": "MvYPoxTXS_9X",
        "outputId": "f061347c-37d8-4926-8462-762eb43dd42a"
      },
      "execution_count": 4,
      "outputs": [
        {
          "output_type": "stream",
          "name": "stdout",
          "text": [
            "Tumor keywords set shape (126, 2)\n"
          ]
        },
        {
          "output_type": "execute_result",
          "data": {
            "text/plain": [
              "        keyword tumor_type\n",
              "0  senologische      Brust\n",
              "1  brustzentrum      Brust\n",
              "2        breast      Brust\n",
              "3        thorax      Brust\n",
              "4     thorakale      Brust"
            ],
            "text/html": [
              "\n",
              "  <div id=\"df-58cfda34-1a89-4a38-9888-502baaf3e60f\" class=\"colab-df-container\">\n",
              "    <div>\n",
              "<style scoped>\n",
              "    .dataframe tbody tr th:only-of-type {\n",
              "        vertical-align: middle;\n",
              "    }\n",
              "\n",
              "    .dataframe tbody tr th {\n",
              "        vertical-align: top;\n",
              "    }\n",
              "\n",
              "    .dataframe thead th {\n",
              "        text-align: right;\n",
              "    }\n",
              "</style>\n",
              "<table border=\"1\" class=\"dataframe\">\n",
              "  <thead>\n",
              "    <tr style=\"text-align: right;\">\n",
              "      <th></th>\n",
              "      <th>keyword</th>\n",
              "      <th>tumor_type</th>\n",
              "    </tr>\n",
              "  </thead>\n",
              "  <tbody>\n",
              "    <tr>\n",
              "      <th>0</th>\n",
              "      <td>senologische</td>\n",
              "      <td>Brust</td>\n",
              "    </tr>\n",
              "    <tr>\n",
              "      <th>1</th>\n",
              "      <td>brustzentrum</td>\n",
              "      <td>Brust</td>\n",
              "    </tr>\n",
              "    <tr>\n",
              "      <th>2</th>\n",
              "      <td>breast</td>\n",
              "      <td>Brust</td>\n",
              "    </tr>\n",
              "    <tr>\n",
              "      <th>3</th>\n",
              "      <td>thorax</td>\n",
              "      <td>Brust</td>\n",
              "    </tr>\n",
              "    <tr>\n",
              "      <th>4</th>\n",
              "      <td>thorakale</td>\n",
              "      <td>Brust</td>\n",
              "    </tr>\n",
              "  </tbody>\n",
              "</table>\n",
              "</div>\n",
              "    <div class=\"colab-df-buttons\">\n",
              "\n",
              "  <div class=\"colab-df-container\">\n",
              "    <button class=\"colab-df-convert\" onclick=\"convertToInteractive('df-58cfda34-1a89-4a38-9888-502baaf3e60f')\"\n",
              "            title=\"Convert this dataframe to an interactive table.\"\n",
              "            style=\"display:none;\">\n",
              "\n",
              "  <svg xmlns=\"http://www.w3.org/2000/svg\" height=\"24px\" viewBox=\"0 -960 960 960\">\n",
              "    <path d=\"M120-120v-720h720v720H120Zm60-500h600v-160H180v160Zm220 220h160v-160H400v160Zm0 220h160v-160H400v160ZM180-400h160v-160H180v160Zm440 0h160v-160H620v160ZM180-180h160v-160H180v160Zm440 0h160v-160H620v160Z\"/>\n",
              "  </svg>\n",
              "    </button>\n",
              "\n",
              "  <style>\n",
              "    .colab-df-container {\n",
              "      display:flex;\n",
              "      gap: 12px;\n",
              "    }\n",
              "\n",
              "    .colab-df-convert {\n",
              "      background-color: #E8F0FE;\n",
              "      border: none;\n",
              "      border-radius: 50%;\n",
              "      cursor: pointer;\n",
              "      display: none;\n",
              "      fill: #1967D2;\n",
              "      height: 32px;\n",
              "      padding: 0 0 0 0;\n",
              "      width: 32px;\n",
              "    }\n",
              "\n",
              "    .colab-df-convert:hover {\n",
              "      background-color: #E2EBFA;\n",
              "      box-shadow: 0px 1px 2px rgba(60, 64, 67, 0.3), 0px 1px 3px 1px rgba(60, 64, 67, 0.15);\n",
              "      fill: #174EA6;\n",
              "    }\n",
              "\n",
              "    .colab-df-buttons div {\n",
              "      margin-bottom: 4px;\n",
              "    }\n",
              "\n",
              "    [theme=dark] .colab-df-convert {\n",
              "      background-color: #3B4455;\n",
              "      fill: #D2E3FC;\n",
              "    }\n",
              "\n",
              "    [theme=dark] .colab-df-convert:hover {\n",
              "      background-color: #434B5C;\n",
              "      box-shadow: 0px 1px 3px 1px rgba(0, 0, 0, 0.15);\n",
              "      filter: drop-shadow(0px 1px 2px rgba(0, 0, 0, 0.3));\n",
              "      fill: #FFFFFF;\n",
              "    }\n",
              "  </style>\n",
              "\n",
              "    <script>\n",
              "      const buttonEl =\n",
              "        document.querySelector('#df-58cfda34-1a89-4a38-9888-502baaf3e60f button.colab-df-convert');\n",
              "      buttonEl.style.display =\n",
              "        google.colab.kernel.accessAllowed ? 'block' : 'none';\n",
              "\n",
              "      async function convertToInteractive(key) {\n",
              "        const element = document.querySelector('#df-58cfda34-1a89-4a38-9888-502baaf3e60f');\n",
              "        const dataTable =\n",
              "          await google.colab.kernel.invokeFunction('convertToInteractive',\n",
              "                                                    [key], {});\n",
              "        if (!dataTable) return;\n",
              "\n",
              "        const docLinkHtml = 'Like what you see? Visit the ' +\n",
              "          '<a target=\"_blank\" href=https://colab.research.google.com/notebooks/data_table.ipynb>data table notebook</a>'\n",
              "          + ' to learn more about interactive tables.';\n",
              "        element.innerHTML = '';\n",
              "        dataTable['output_type'] = 'display_data';\n",
              "        await google.colab.output.renderOutput(dataTable, element);\n",
              "        const docLink = document.createElement('div');\n",
              "        docLink.innerHTML = docLinkHtml;\n",
              "        element.appendChild(docLink);\n",
              "      }\n",
              "    </script>\n",
              "  </div>\n",
              "\n",
              "\n",
              "    <div id=\"df-3ff03e6a-8281-47db-8ceb-80f44fe1895f\">\n",
              "      <button class=\"colab-df-quickchart\" onclick=\"quickchart('df-3ff03e6a-8281-47db-8ceb-80f44fe1895f')\"\n",
              "                title=\"Suggest charts\"\n",
              "                style=\"display:none;\">\n",
              "\n",
              "<svg xmlns=\"http://www.w3.org/2000/svg\" height=\"24px\"viewBox=\"0 0 24 24\"\n",
              "     width=\"24px\">\n",
              "    <g>\n",
              "        <path d=\"M19 3H5c-1.1 0-2 .9-2 2v14c0 1.1.9 2 2 2h14c1.1 0 2-.9 2-2V5c0-1.1-.9-2-2-2zM9 17H7v-7h2v7zm4 0h-2V7h2v10zm4 0h-2v-4h2v4z\"/>\n",
              "    </g>\n",
              "</svg>\n",
              "      </button>\n",
              "\n",
              "<style>\n",
              "  .colab-df-quickchart {\n",
              "      --bg-color: #E8F0FE;\n",
              "      --fill-color: #1967D2;\n",
              "      --hover-bg-color: #E2EBFA;\n",
              "      --hover-fill-color: #174EA6;\n",
              "      --disabled-fill-color: #AAA;\n",
              "      --disabled-bg-color: #DDD;\n",
              "  }\n",
              "\n",
              "  [theme=dark] .colab-df-quickchart {\n",
              "      --bg-color: #3B4455;\n",
              "      --fill-color: #D2E3FC;\n",
              "      --hover-bg-color: #434B5C;\n",
              "      --hover-fill-color: #FFFFFF;\n",
              "      --disabled-bg-color: #3B4455;\n",
              "      --disabled-fill-color: #666;\n",
              "  }\n",
              "\n",
              "  .colab-df-quickchart {\n",
              "    background-color: var(--bg-color);\n",
              "    border: none;\n",
              "    border-radius: 50%;\n",
              "    cursor: pointer;\n",
              "    display: none;\n",
              "    fill: var(--fill-color);\n",
              "    height: 32px;\n",
              "    padding: 0;\n",
              "    width: 32px;\n",
              "  }\n",
              "\n",
              "  .colab-df-quickchart:hover {\n",
              "    background-color: var(--hover-bg-color);\n",
              "    box-shadow: 0 1px 2px rgba(60, 64, 67, 0.3), 0 1px 3px 1px rgba(60, 64, 67, 0.15);\n",
              "    fill: var(--button-hover-fill-color);\n",
              "  }\n",
              "\n",
              "  .colab-df-quickchart-complete:disabled,\n",
              "  .colab-df-quickchart-complete:disabled:hover {\n",
              "    background-color: var(--disabled-bg-color);\n",
              "    fill: var(--disabled-fill-color);\n",
              "    box-shadow: none;\n",
              "  }\n",
              "\n",
              "  .colab-df-spinner {\n",
              "    border: 2px solid var(--fill-color);\n",
              "    border-color: transparent;\n",
              "    border-bottom-color: var(--fill-color);\n",
              "    animation:\n",
              "      spin 1s steps(1) infinite;\n",
              "  }\n",
              "\n",
              "  @keyframes spin {\n",
              "    0% {\n",
              "      border-color: transparent;\n",
              "      border-bottom-color: var(--fill-color);\n",
              "      border-left-color: var(--fill-color);\n",
              "    }\n",
              "    20% {\n",
              "      border-color: transparent;\n",
              "      border-left-color: var(--fill-color);\n",
              "      border-top-color: var(--fill-color);\n",
              "    }\n",
              "    30% {\n",
              "      border-color: transparent;\n",
              "      border-left-color: var(--fill-color);\n",
              "      border-top-color: var(--fill-color);\n",
              "      border-right-color: var(--fill-color);\n",
              "    }\n",
              "    40% {\n",
              "      border-color: transparent;\n",
              "      border-right-color: var(--fill-color);\n",
              "      border-top-color: var(--fill-color);\n",
              "    }\n",
              "    60% {\n",
              "      border-color: transparent;\n",
              "      border-right-color: var(--fill-color);\n",
              "    }\n",
              "    80% {\n",
              "      border-color: transparent;\n",
              "      border-right-color: var(--fill-color);\n",
              "      border-bottom-color: var(--fill-color);\n",
              "    }\n",
              "    90% {\n",
              "      border-color: transparent;\n",
              "      border-bottom-color: var(--fill-color);\n",
              "    }\n",
              "  }\n",
              "</style>\n",
              "\n",
              "      <script>\n",
              "        async function quickchart(key) {\n",
              "          const quickchartButtonEl =\n",
              "            document.querySelector('#' + key + ' button');\n",
              "          quickchartButtonEl.disabled = true;  // To prevent multiple clicks.\n",
              "          quickchartButtonEl.classList.add('colab-df-spinner');\n",
              "          try {\n",
              "            const charts = await google.colab.kernel.invokeFunction(\n",
              "                'suggestCharts', [key], {});\n",
              "          } catch (error) {\n",
              "            console.error('Error during call to suggestCharts:', error);\n",
              "          }\n",
              "          quickchartButtonEl.classList.remove('colab-df-spinner');\n",
              "          quickchartButtonEl.classList.add('colab-df-quickchart-complete');\n",
              "        }\n",
              "        (() => {\n",
              "          let quickchartButtonEl =\n",
              "            document.querySelector('#df-3ff03e6a-8281-47db-8ceb-80f44fe1895f button');\n",
              "          quickchartButtonEl.style.display =\n",
              "            google.colab.kernel.accessAllowed ? 'block' : 'none';\n",
              "        })();\n",
              "      </script>\n",
              "    </div>\n",
              "\n",
              "    </div>\n",
              "  </div>\n"
            ],
            "application/vnd.google.colaboratory.intrinsic+json": {
              "type": "dataframe",
              "variable_name": "tumor_keywords",
              "summary": "{\n  \"name\": \"tumor_keywords\",\n  \"rows\": 126,\n  \"fields\": [\n    {\n      \"column\": \"keyword\",\n      \"properties\": {\n        \"dtype\": \"string\",\n        \"num_unique_values\": 126,\n        \"samples\": [\n          \"magen\",\n          \"malignome\",\n          \"molekulare\"\n        ],\n        \"semantic_type\": \"\",\n        \"description\": \"\"\n      }\n    },\n    {\n      \"column\": \"tumor_type\",\n      \"properties\": {\n        \"dtype\": \"category\",\n        \"num_unique_values\": 36,\n        \"samples\": [\n          \"Surgical\",\n          \"Magen\",\n          \"Interdisziplin\\u00e4r\"\n        ],\n        \"semantic_type\": \"\",\n        \"description\": \"\"\n      }\n    }\n  ]\n}"
            }
          },
          "metadata": {},
          "execution_count": 4
        }
      ]
    },
    {
      "cell_type": "code",
      "source": [
        "train_csv.groupby(by=\"label\").size()"
      ],
      "metadata": {
        "colab": {
          "base_uri": "https://localhost:8080/",
          "height": 209
        },
        "id": "WHHIm3y8TEiy",
        "outputId": "90cb3b77-9360-4e6d-8942-a852baf8c8cf"
      },
      "execution_count": 5,
      "outputs": [
        {
          "output_type": "execute_result",
          "data": {
            "text/plain": [
              "label\n",
              "1    32\n",
              "2    59\n",
              "3     9\n",
              "dtype: int64"
            ],
            "text/html": [
              "<div>\n",
              "<style scoped>\n",
              "    .dataframe tbody tr th:only-of-type {\n",
              "        vertical-align: middle;\n",
              "    }\n",
              "\n",
              "    .dataframe tbody tr th {\n",
              "        vertical-align: top;\n",
              "    }\n",
              "\n",
              "    .dataframe thead th {\n",
              "        text-align: right;\n",
              "    }\n",
              "</style>\n",
              "<table border=\"1\" class=\"dataframe\">\n",
              "  <thead>\n",
              "    <tr style=\"text-align: right;\">\n",
              "      <th></th>\n",
              "      <th>0</th>\n",
              "    </tr>\n",
              "    <tr>\n",
              "      <th>label</th>\n",
              "      <th></th>\n",
              "    </tr>\n",
              "  </thead>\n",
              "  <tbody>\n",
              "    <tr>\n",
              "      <th>1</th>\n",
              "      <td>32</td>\n",
              "    </tr>\n",
              "    <tr>\n",
              "      <th>2</th>\n",
              "      <td>59</td>\n",
              "    </tr>\n",
              "    <tr>\n",
              "      <th>3</th>\n",
              "      <td>9</td>\n",
              "    </tr>\n",
              "  </tbody>\n",
              "</table>\n",
              "</div><br><label><b>dtype:</b> int64</label>"
            ]
          },
          "metadata": {},
          "execution_count": 5
        }
      ]
    },
    {
      "cell_type": "code",
      "source": [
        "train_csv['label'].unique()"
      ],
      "metadata": {
        "colab": {
          "base_uri": "https://localhost:8080/"
        },
        "id": "HtDgBAZhUYZY",
        "outputId": "3b00cdf0-2ab1-406f-9d9b-5dc760aeae82"
      },
      "execution_count": 6,
      "outputs": [
        {
          "output_type": "execute_result",
          "data": {
            "text/plain": [
              "array([1, 3, 2])"
            ]
          },
          "metadata": {},
          "execution_count": 6
        }
      ]
    },
    {
      "cell_type": "markdown",
      "source": [
        "We have 100 documents in the training set, and 48 in the test set. We have 32 documents that mention no tumor board (label = 1), 59 documents where a tumor board is mentioned, but we are not certain if it is the main focus of the page (label = 2), and 9 documents for which we are certain that they are dedicated to tumor boards."
      ],
      "metadata": {
        "id": "YMpDpOuJTMwS"
      }
    },
    {
      "cell_type": "markdown",
      "source": [
        "**Loading Data**"
      ],
      "metadata": {
        "id": "4VhpAOFlUryK"
      }
    },
    {
      "cell_type": "code",
      "source": [
        "def read_html(doc_id: int) -> str:\n",
        "    # Construct the file path using the doc_id\n",
        "    html_file_path = f\"/content/HTML/{doc_id}.html\"\n",
        "    try:\n",
        "        with open(file=html_file_path,\n",
        "                  mode=\"r\",\n",
        "                  encoding=\"latin1\") as f:\n",
        "            html = f.read()\n",
        "    except FileNotFoundError:\n",
        "        # Handle cases where the file for a specific doc_id is not found\n",
        "        print(f\"Warning: HTML file not found for doc_id {doc_id}\")\n",
        "        html = \"\" # Or some other placeholder like None\n",
        "    return html\n",
        "\n",
        "# Apply the modified function\n",
        "train_csv[\"html\"] = train_csv[\"doc_id\"].apply(read_html)"
      ],
      "metadata": {
        "id": "EUL8ZQ3Oc0GP"
      },
      "execution_count": 14,
      "outputs": []
    },
    {
      "cell_type": "code",
      "source": [
        "train_csv.sample(n=5, random_state=42)"
      ],
      "metadata": {
        "colab": {
          "base_uri": "https://localhost:8080/",
          "height": 292
        },
        "id": "2PljM3rhh0Bk",
        "outputId": "e2302cdd-5b1e-4706-9145-87becbe2ad65"
      },
      "execution_count": 12,
      "outputs": [
        {
          "output_type": "execute_result",
          "data": {
            "text/plain": [
              "                                                  url  doc_id  label  \\\n",
              "83  http://www.sbk-vs.de/de/medizin/leistungen-und...     125      1   \n",
              "53  http://www.klinikum-esslingen.de/kliniken-und-...      85      2   \n",
              "70  http://www.malteser-kliniken-rhein-ruhr.de/med...     107      2   \n",
              "45  http://www.klilu.de/medizin__pflege/kliniken_u...      73      2   \n",
              "44  http://www.kk-bochum.de/de/kliniken_zentren_be...      72      1   \n",
              "\n",
              "                                                 html  \n",
              "83  \\n\\n<!DOCTYPE HTML>\\n<html dir=\"ltr\" lang=\"de_...  \n",
              "53  <!DOCTYPE html>\\n<html xmlns=\"http://www.w3.or...  \n",
              "70  <!DOCTYPE html>\\n<html lang=\"de\">\\n<head>\\n\\n<...  \n",
              "45  <!DOCTYPE html>\\n<html lang=\"de\"><head>\\n\\t<me...  \n",
              "44  <!DOCTYPE html PUBLIC \"-//W3C//DTD HTML 4.01 T...  "
            ],
            "text/html": [
              "\n",
              "  <div id=\"df-af86a913-c63e-4071-ace7-e7194ab20608\" class=\"colab-df-container\">\n",
              "    <div>\n",
              "<style scoped>\n",
              "    .dataframe tbody tr th:only-of-type {\n",
              "        vertical-align: middle;\n",
              "    }\n",
              "\n",
              "    .dataframe tbody tr th {\n",
              "        vertical-align: top;\n",
              "    }\n",
              "\n",
              "    .dataframe thead th {\n",
              "        text-align: right;\n",
              "    }\n",
              "</style>\n",
              "<table border=\"1\" class=\"dataframe\">\n",
              "  <thead>\n",
              "    <tr style=\"text-align: right;\">\n",
              "      <th></th>\n",
              "      <th>url</th>\n",
              "      <th>doc_id</th>\n",
              "      <th>label</th>\n",
              "      <th>html</th>\n",
              "    </tr>\n",
              "  </thead>\n",
              "  <tbody>\n",
              "    <tr>\n",
              "      <th>83</th>\n",
              "      <td>http://www.sbk-vs.de/de/medizin/leistungen-und...</td>\n",
              "      <td>125</td>\n",
              "      <td>1</td>\n",
              "      <td>\\n\\n&lt;!DOCTYPE HTML&gt;\\n&lt;html dir=\"ltr\" lang=\"de_...</td>\n",
              "    </tr>\n",
              "    <tr>\n",
              "      <th>53</th>\n",
              "      <td>http://www.klinikum-esslingen.de/kliniken-und-...</td>\n",
              "      <td>85</td>\n",
              "      <td>2</td>\n",
              "      <td>&lt;!DOCTYPE html&gt;\\n&lt;html xmlns=\"http://www.w3.or...</td>\n",
              "    </tr>\n",
              "    <tr>\n",
              "      <th>70</th>\n",
              "      <td>http://www.malteser-kliniken-rhein-ruhr.de/med...</td>\n",
              "      <td>107</td>\n",
              "      <td>2</td>\n",
              "      <td>&lt;!DOCTYPE html&gt;\\n&lt;html lang=\"de\"&gt;\\n&lt;head&gt;\\n\\n&lt;...</td>\n",
              "    </tr>\n",
              "    <tr>\n",
              "      <th>45</th>\n",
              "      <td>http://www.klilu.de/medizin__pflege/kliniken_u...</td>\n",
              "      <td>73</td>\n",
              "      <td>2</td>\n",
              "      <td>&lt;!DOCTYPE html&gt;\\n&lt;html lang=\"de\"&gt;&lt;head&gt;\\n\\t&lt;me...</td>\n",
              "    </tr>\n",
              "    <tr>\n",
              "      <th>44</th>\n",
              "      <td>http://www.kk-bochum.de/de/kliniken_zentren_be...</td>\n",
              "      <td>72</td>\n",
              "      <td>1</td>\n",
              "      <td>&lt;!DOCTYPE html PUBLIC \"-//W3C//DTD HTML 4.01 T...</td>\n",
              "    </tr>\n",
              "  </tbody>\n",
              "</table>\n",
              "</div>\n",
              "    <div class=\"colab-df-buttons\">\n",
              "\n",
              "  <div class=\"colab-df-container\">\n",
              "    <button class=\"colab-df-convert\" onclick=\"convertToInteractive('df-af86a913-c63e-4071-ace7-e7194ab20608')\"\n",
              "            title=\"Convert this dataframe to an interactive table.\"\n",
              "            style=\"display:none;\">\n",
              "\n",
              "  <svg xmlns=\"http://www.w3.org/2000/svg\" height=\"24px\" viewBox=\"0 -960 960 960\">\n",
              "    <path d=\"M120-120v-720h720v720H120Zm60-500h600v-160H180v160Zm220 220h160v-160H400v160Zm0 220h160v-160H400v160ZM180-400h160v-160H180v160Zm440 0h160v-160H620v160ZM180-180h160v-160H180v160Zm440 0h160v-160H620v160Z\"/>\n",
              "  </svg>\n",
              "    </button>\n",
              "\n",
              "  <style>\n",
              "    .colab-df-container {\n",
              "      display:flex;\n",
              "      gap: 12px;\n",
              "    }\n",
              "\n",
              "    .colab-df-convert {\n",
              "      background-color: #E8F0FE;\n",
              "      border: none;\n",
              "      border-radius: 50%;\n",
              "      cursor: pointer;\n",
              "      display: none;\n",
              "      fill: #1967D2;\n",
              "      height: 32px;\n",
              "      padding: 0 0 0 0;\n",
              "      width: 32px;\n",
              "    }\n",
              "\n",
              "    .colab-df-convert:hover {\n",
              "      background-color: #E2EBFA;\n",
              "      box-shadow: 0px 1px 2px rgba(60, 64, 67, 0.3), 0px 1px 3px 1px rgba(60, 64, 67, 0.15);\n",
              "      fill: #174EA6;\n",
              "    }\n",
              "\n",
              "    .colab-df-buttons div {\n",
              "      margin-bottom: 4px;\n",
              "    }\n",
              "\n",
              "    [theme=dark] .colab-df-convert {\n",
              "      background-color: #3B4455;\n",
              "      fill: #D2E3FC;\n",
              "    }\n",
              "\n",
              "    [theme=dark] .colab-df-convert:hover {\n",
              "      background-color: #434B5C;\n",
              "      box-shadow: 0px 1px 3px 1px rgba(0, 0, 0, 0.15);\n",
              "      filter: drop-shadow(0px 1px 2px rgba(0, 0, 0, 0.3));\n",
              "      fill: #FFFFFF;\n",
              "    }\n",
              "  </style>\n",
              "\n",
              "    <script>\n",
              "      const buttonEl =\n",
              "        document.querySelector('#df-af86a913-c63e-4071-ace7-e7194ab20608 button.colab-df-convert');\n",
              "      buttonEl.style.display =\n",
              "        google.colab.kernel.accessAllowed ? 'block' : 'none';\n",
              "\n",
              "      async function convertToInteractive(key) {\n",
              "        const element = document.querySelector('#df-af86a913-c63e-4071-ace7-e7194ab20608');\n",
              "        const dataTable =\n",
              "          await google.colab.kernel.invokeFunction('convertToInteractive',\n",
              "                                                    [key], {});\n",
              "        if (!dataTable) return;\n",
              "\n",
              "        const docLinkHtml = 'Like what you see? Visit the ' +\n",
              "          '<a target=\"_blank\" href=https://colab.research.google.com/notebooks/data_table.ipynb>data table notebook</a>'\n",
              "          + ' to learn more about interactive tables.';\n",
              "        element.innerHTML = '';\n",
              "        dataTable['output_type'] = 'display_data';\n",
              "        await google.colab.output.renderOutput(dataTable, element);\n",
              "        const docLink = document.createElement('div');\n",
              "        docLink.innerHTML = docLinkHtml;\n",
              "        element.appendChild(docLink);\n",
              "      }\n",
              "    </script>\n",
              "  </div>\n",
              "\n",
              "\n",
              "    <div id=\"df-60521151-2a44-4680-aa12-32528b1ca269\">\n",
              "      <button class=\"colab-df-quickchart\" onclick=\"quickchart('df-60521151-2a44-4680-aa12-32528b1ca269')\"\n",
              "                title=\"Suggest charts\"\n",
              "                style=\"display:none;\">\n",
              "\n",
              "<svg xmlns=\"http://www.w3.org/2000/svg\" height=\"24px\"viewBox=\"0 0 24 24\"\n",
              "     width=\"24px\">\n",
              "    <g>\n",
              "        <path d=\"M19 3H5c-1.1 0-2 .9-2 2v14c0 1.1.9 2 2 2h14c1.1 0 2-.9 2-2V5c0-1.1-.9-2-2-2zM9 17H7v-7h2v7zm4 0h-2V7h2v10zm4 0h-2v-4h2v4z\"/>\n",
              "    </g>\n",
              "</svg>\n",
              "      </button>\n",
              "\n",
              "<style>\n",
              "  .colab-df-quickchart {\n",
              "      --bg-color: #E8F0FE;\n",
              "      --fill-color: #1967D2;\n",
              "      --hover-bg-color: #E2EBFA;\n",
              "      --hover-fill-color: #174EA6;\n",
              "      --disabled-fill-color: #AAA;\n",
              "      --disabled-bg-color: #DDD;\n",
              "  }\n",
              "\n",
              "  [theme=dark] .colab-df-quickchart {\n",
              "      --bg-color: #3B4455;\n",
              "      --fill-color: #D2E3FC;\n",
              "      --hover-bg-color: #434B5C;\n",
              "      --hover-fill-color: #FFFFFF;\n",
              "      --disabled-bg-color: #3B4455;\n",
              "      --disabled-fill-color: #666;\n",
              "  }\n",
              "\n",
              "  .colab-df-quickchart {\n",
              "    background-color: var(--bg-color);\n",
              "    border: none;\n",
              "    border-radius: 50%;\n",
              "    cursor: pointer;\n",
              "    display: none;\n",
              "    fill: var(--fill-color);\n",
              "    height: 32px;\n",
              "    padding: 0;\n",
              "    width: 32px;\n",
              "  }\n",
              "\n",
              "  .colab-df-quickchart:hover {\n",
              "    background-color: var(--hover-bg-color);\n",
              "    box-shadow: 0 1px 2px rgba(60, 64, 67, 0.3), 0 1px 3px 1px rgba(60, 64, 67, 0.15);\n",
              "    fill: var(--button-hover-fill-color);\n",
              "  }\n",
              "\n",
              "  .colab-df-quickchart-complete:disabled,\n",
              "  .colab-df-quickchart-complete:disabled:hover {\n",
              "    background-color: var(--disabled-bg-color);\n",
              "    fill: var(--disabled-fill-color);\n",
              "    box-shadow: none;\n",
              "  }\n",
              "\n",
              "  .colab-df-spinner {\n",
              "    border: 2px solid var(--fill-color);\n",
              "    border-color: transparent;\n",
              "    border-bottom-color: var(--fill-color);\n",
              "    animation:\n",
              "      spin 1s steps(1) infinite;\n",
              "  }\n",
              "\n",
              "  @keyframes spin {\n",
              "    0% {\n",
              "      border-color: transparent;\n",
              "      border-bottom-color: var(--fill-color);\n",
              "      border-left-color: var(--fill-color);\n",
              "    }\n",
              "    20% {\n",
              "      border-color: transparent;\n",
              "      border-left-color: var(--fill-color);\n",
              "      border-top-color: var(--fill-color);\n",
              "    }\n",
              "    30% {\n",
              "      border-color: transparent;\n",
              "      border-left-color: var(--fill-color);\n",
              "      border-top-color: var(--fill-color);\n",
              "      border-right-color: var(--fill-color);\n",
              "    }\n",
              "    40% {\n",
              "      border-color: transparent;\n",
              "      border-right-color: var(--fill-color);\n",
              "      border-top-color: var(--fill-color);\n",
              "    }\n",
              "    60% {\n",
              "      border-color: transparent;\n",
              "      border-right-color: var(--fill-color);\n",
              "    }\n",
              "    80% {\n",
              "      border-color: transparent;\n",
              "      border-right-color: var(--fill-color);\n",
              "      border-bottom-color: var(--fill-color);\n",
              "    }\n",
              "    90% {\n",
              "      border-color: transparent;\n",
              "      border-bottom-color: var(--fill-color);\n",
              "    }\n",
              "  }\n",
              "</style>\n",
              "\n",
              "      <script>\n",
              "        async function quickchart(key) {\n",
              "          const quickchartButtonEl =\n",
              "            document.querySelector('#' + key + ' button');\n",
              "          quickchartButtonEl.disabled = true;  // To prevent multiple clicks.\n",
              "          quickchartButtonEl.classList.add('colab-df-spinner');\n",
              "          try {\n",
              "            const charts = await google.colab.kernel.invokeFunction(\n",
              "                'suggestCharts', [key], {});\n",
              "          } catch (error) {\n",
              "            console.error('Error during call to suggestCharts:', error);\n",
              "          }\n",
              "          quickchartButtonEl.classList.remove('colab-df-spinner');\n",
              "          quickchartButtonEl.classList.add('colab-df-quickchart-complete');\n",
              "        }\n",
              "        (() => {\n",
              "          let quickchartButtonEl =\n",
              "            document.querySelector('#df-60521151-2a44-4680-aa12-32528b1ca269 button');\n",
              "          quickchartButtonEl.style.display =\n",
              "            google.colab.kernel.accessAllowed ? 'block' : 'none';\n",
              "        })();\n",
              "      </script>\n",
              "    </div>\n",
              "\n",
              "    </div>\n",
              "  </div>\n"
            ],
            "application/vnd.google.colaboratory.intrinsic+json": {
              "type": "dataframe",
              "summary": "{\n  \"name\": \"train_csv\",\n  \"rows\": 5,\n  \"fields\": [\n    {\n      \"column\": \"url\",\n      \"properties\": {\n        \"dtype\": \"string\",\n        \"num_unique_values\": 5,\n        \"samples\": [\n          \"http://www.klinikum-esslingen.de/kliniken-und-zentren/gefaess-und-thoraxchirurgie/unser-profil/?l=984%22\",\n          \"http://www.kk-bochum.de/de/kliniken_zentren_bereiche/kliniken/mund_kiefer_und_plastische_gesichtschirurgie/?no=1&z_highmain=0&z_highsub=0&z_highsubsub=0\",\n          \"http://www.malteser-kliniken-rhein-ruhr.de/medizinische-fachbereiche/zentren-und-institute/darmzentrum-duisburg.html/?type=%23%23%23typenum%23%23%23%27a%3D0%27a%3D0\"\n        ],\n        \"semantic_type\": \"\",\n        \"description\": \"\"\n      }\n    },\n    {\n      \"column\": \"doc_id\",\n      \"properties\": {\n        \"dtype\": \"number\",\n        \"std\": 23,\n        \"min\": 72,\n        \"max\": 125,\n        \"num_unique_values\": 5,\n        \"samples\": [\n          85,\n          72,\n          107\n        ],\n        \"semantic_type\": \"\",\n        \"description\": \"\"\n      }\n    },\n    {\n      \"column\": \"label\",\n      \"properties\": {\n        \"dtype\": \"number\",\n        \"std\": 0,\n        \"min\": 1,\n        \"max\": 2,\n        \"num_unique_values\": 2,\n        \"samples\": [\n          2,\n          1\n        ],\n        \"semantic_type\": \"\",\n        \"description\": \"\"\n      }\n    },\n    {\n      \"column\": \"html\",\n      \"properties\": {\n        \"dtype\": \"string\",\n        \"num_unique_values\": 5,\n        \"samples\": [\n          \"<!DOCTYPE html>\\n<html xmlns=\\\"http://www.w3.org/1999/xhtml\\\" xml:lang=\\\"de\\\" lang=\\\"de\\\">\\n<head>\\n\\n<meta charset=\\\"utf-8\\\">\\n<!-- \\n\\tThis website is powered by TYPO3 - inspiring people to share!\\n\\tTYPO3 is a free open source Content Management Framework initially created by Kasper Skaarhoj and licensed under GNU/GPL.\\n\\tTYPO3 is copyright 1998-2018 of Kasper Skaarhoj. Extensions are copyright of their respective owners.\\n\\tInformation and contribution at https://typo3.org/\\n-->\\n\\n\\n\\n\\n<meta name=\\\"generator\\\" content=\\\"TYPO3 CMS\\\">\\n<meta name=\\\"robots\\\" content=\\\"INDEX,FOLLOW\\\">\\n<meta name=\\\"viewport\\\" content=\\\"width=device-width, initial-scale=1.0\\\">\\n<meta name=\\\"X-UA-Compatible\\\" content=\\\"IE=edge,chrome=1\\\">\\n\\n\\n<link rel=\\\"stylesheet\\\" type=\\\"text/css\\\" href=\\\"/typo3temp/Assets/7fcf40d426.css?1457011804\\\" media=\\\"all\\\">\\n<link rel=\\\"stylesheet\\\" type=\\\"text/css\\\" href=\\\"/typo3conf/ext/as_template/Resources/Public/Vendor/bootstrap/css/bootstrap.min.css?1554366461\\\" media=\\\"all\\\">\\n<link rel=\\\"stylesheet\\\" type=\\\"text/css\\\" href=\\\"/typo3conf/ext/as_template/Resources/Public/Vendor/lightbox/css/lightbox.min.css?1554366461\\\" media=\\\"all\\\">\\n<link rel=\\\"stylesheet\\\" type=\\\"text/css\\\" href=\\\"/typo3conf/ext/as_template/Resources/Public/Stylesheets/ie10-viewport-bug-workaround.css?1554366461\\\" media=\\\"all\\\">\\n<link rel=\\\"stylesheet\\\" type=\\\"text/css\\\" href=\\\"/typo3conf/ext/as_template/Resources/Public/Vendor/prettyPhoto/css/prettyPhoto.css?1554366461\\\" media=\\\"all\\\">\\n<link rel=\\\"stylesheet\\\" type=\\\"text/css\\\" href=\\\"/typo3conf/ext/as_template/Resources/Public/Vendor/jquery-ui/jquery-ui-1.11.3/jquery-ui.css?1554366461\\\" media=\\\"all\\\">\\n<link rel=\\\"stylesheet\\\" type=\\\"text/css\\\" href=\\\"/typo3conf/ext/as_template/Resources/Public/Stylesheets/jquery-ui.theme.css?1554366461\\\" media=\\\"all\\\">\\n<link rel=\\\"stylesheet\\\" type=\\\"text/css\\\" href=\\\"/typo3conf/ext/as_template/Resources/Public/Stylesheets/index.css?1554366461\\\" media=\\\"all\\\">\\n<link rel=\\\"stylesheet\\\" type=\\\"text/css\\\" href=\\\"/typo3conf/ext/as_template/Resources/Public/Stylesheets/slideshow.css?1554366461\\\" media=\\\"all\\\">\\n<link rel=\\\"stylesheet\\\" type=\\\"text/css\\\" href=\\\"/typo3conf/ext/as_template/Resources/Public/Stylesheets/unterseite.css?1554366461\\\" media=\\\"all\\\">\\n<link rel=\\\"stylesheet\\\" type=\\\"text/css\\\" href=\\\"/typo3conf/ext/as_template/Resources/Public/Stylesheets/waspassiert.css?1554366461\\\" media=\\\"all\\\">\\n<link rel=\\\"stylesheet\\\" type=\\\"text/css\\\" href=\\\"/typo3conf/ext/as_template/Resources/Public/Stylesheets/styles.css?1554366461\\\" media=\\\"all\\\">\\n<link rel=\\\"stylesheet\\\" type=\\\"text/css\\\" href=\\\"/typo3conf/ext/as_template/Resources/Public/Stylesheets/responsive.css?1554366461\\\" media=\\\"all\\\">\\n<link rel=\\\"stylesheet\\\" type=\\\"text/css\\\" href=\\\"/typo3conf/ext/as_cookieconsent/Resources/Public/JavaScript/cookieconsent-3.0.3/cookieconsent.min.css?1527084029\\\" media=\\\"all\\\">\\n<link rel=\\\"stylesheet\\\" type=\\\"text/css\\\" href=\\\"/typo3temp/Assets/a077d45e47.css?1518164316\\\" media=\\\"all\\\">\\n\\n\\n\\n\\n<!--[if lt IE 9]><script src=\\\"//oss.maxcdn.com/html5shiv/3.7.2/html5shiv.min.js\\\" type=\\\"text/javascript\\\"></script><![endif]-->\\n<!--[if lt IE 9]><script src=\\\"//oss.maxcdn.com/respond/1.4.2/respond.min.js\\\" type=\\\"text/javascript\\\"></script><![endif]-->\\n<script src=\\\"/typo3temp/Assets/9a38f34785.js?1456165291\\\" type=\\\"text/javascript\\\"></script>\\n\\n\\n\\n<title>Unser Profil&nbsp;&#124;&nbsp;Gef\\u00c3\\u00a4\\u00c3\\u009f- und Thoraxchirurgie &#124; Klinikum Esslingen</title><meta name=\\\"google-site-verification\\\" content=\\\"jCvVoz3eBvfGqBoiI4A5kguVqsQIc_LENaX9tYxsQ1U\\\" /><meta name=\\\"google-site-verification\\\" content=\\\"HMTmtj49uI-5wR-Ss4GRDB9d-Peinbi1tZ2M5M9VfQ4\\\" />  <link rel=\\\"shortcut icon\\\" href=\\\"/fileadmin/medienpool/favicon.ico\\\" type=\\\"image/x-ico; charset=binary\\\" />\\n  <link rel=\\\"icon\\\" href=\\\"/fileadmin/medienpool/favicon.ico\\\" type=\\\"image/x-ico; charset=binary\\\" />\\n  \\n\\n</head>\\n<body class=\\\"lila\\\" oncontextmenu=\\\"return false\\\">\\n\\n<nav class=\\\"navbar navbar-default kopf\\\">\\n\\t<div class=\\\"container-fluid\\\">\\n\\t\\t<div class=\\\"navbar-header\\\">\\n\\t\\t\\t\\t\\t<button type=\\\"button\\\" class=\\\"navbar-toggle collapsed\\\" data-toggle=\\\"collapse\\\" data-target=\\\"#navbar\\\" aria-expanded=\\\"false\\\" aria-controls=\\\"navbar\\\">\\n\\t\\t\\t<span class=\\\"sr-only\\\">Toggle navigation</span>\\n\\t\\t\\t<span class=\\\"icon-bar\\\"></span>\\n\\t\\t\\t<span class=\\\"icon-bar\\\"></span>\\n\\t\\t\\t<span class=\\\"icon-bar\\\"></span>\\n\\t\\t</button>\\n\\t\\t\\t\\t\\t<form class=\\\"navbar-form visible-xs-block\\\">\\n\\t\\t\\t<div class=\\\"form-group\\\">\\n\\t\\t\\t\\t<input type=\\\"text\\\" placeholder=\\\"Suche\\\" class=\\\"form-control\\\">\\n\\t\\t\\t</div>\\n\\t\\t\\t<button type=\\\"submit\\\" class=\\\"btn btn-success\\\"></button>\\n\\t\\t</form>\\n\\t\\t\\t<a href=\\\"/?L=724\\\" title=\\\"zur Startseite\\\" class=\\\"navbar-brand\\\"><img src=\\\"/typo3conf/ext/as_template/Resources/Public/Images/logo.png\\\" alt=\\\"Klinikum Esslingen\\\"/></a>\\n\\t\\t</div>\\n\\t\\t<div id=\\\"navbar\\\" class=\\\"navbar-collapse collapse\\\">\\n\\t\\t\\t<ul class=\\\"nav navbar-nav\\\"><li class=\\\"dropdown kliniken\\\"><a href=\\\"/kliniken-und-zentren/?L=724\\\" role=\\\"button\\\" aria-haspopup=\\\"true\\\" aria-expanded=\\\"false\\\">Kliniken &amp; Zentren</a><ul class=\\\"dropdown-menu hidden-xs\\\"><li><div class=\\\"row\\\"><div class=\\\"col-sm-4\\\">\\n<div id=\\\"c27\\\">\\n\\t\\n\\n\\t\\n\\n\\n\\t\\n\\t<div class=\\\"tx-typoscript2ce\\\">\\n\\t\\n\\t\\n\\t\\t<ul><li class=\\\"dropdown-header\\\">Kliniken</li><li><a href=\\\"/kliniken-und-zentren/allgemein-und-viszeralchirurgie/unser-profil/?L=724\\\">Allgemein- und Viszeralchirurgie</a></li><li><a href=\\\"/kliniken-und-zentren/allgemeine-innere-medizin-onkologiehaematologie-gastroenterologie-und-infektiologie/unser-profil/?L=724\\\">Allgemeine Innere Medizin, Onkologie/H\\u00c3\\u00a4matologie, Gastroenterologie und Infektiologie</a></li><li><a href=\\\"/kliniken-und-zentren/anaesthesiologie-und-operative-intensivmedizin/unser-profil/?L=724\\\">An\\u00c3\\u00a4sthesiologie und operative Intensivmedizin</a></li><li><a href=\\\"/kliniken-und-zentren/frauenheilkunde-und-geburtshilfe/unser-profil/?L=724\\\">Frauenheilkunde und Geburtshilfe</a></li><li class=\\\"active\\\"><a href=\\\"/kliniken-und-zentren/gefaess-und-thoraxchirurgie/unser-profil/?L=724\\\">Gef\\u00c3\\u00a4\\u00c3\\u009f- und Thoraxchirurgie</a></li><li><a href=\\\"/kliniken-und-zentren/kardiologie-angiologie-und-pneumologie/unser-profil/?L=724\\\">Kardiologie, Angiologie und Pneumologie</a></li><li><a href=\\\"/kliniken-und-zentren/kinder-und-jugendliche/unser-profil/?L=724\\\">Kinder und Jugendliche</a></li><li><a href=\\\"/kliniken-und-zentren/kinder-und-jugendpsychiatrie-psychosomatik-und-psychotherapie/unser-profil/?L=724\\\">Kinder- und Jugendpsychiatrie, Psychosomatik und Psychotherapie</a></li><li><a href=\\\"/kliniken-und-zentren/neurologie-und-klinische-neurophysiologie/unser-profil/?L=724\\\">Neurologie und klinische Neurophysiologie</a></li><li><a href=\\\"/kliniken-und-zentren/psychosomatische-medizin-und-psychotherapie/unser-profil/?L=724\\\">Psychosomatische Medizin und Psychotherapie</a></li><li><a href=\\\"/kliniken-und-zentren/diagnostische-und-interventionelle-radiologie-und-nuklearmedizin/unser-profil/?L=724\\\">Diagnostische und interventionelle Radiologie und Nuklearmedizin</a></li><li><a href=\\\"http://www.mvz-ke.de/fachabteilungen/mvz-strahlentherapie-und-radioonkologie/startseite/?L=724\\\">Strahlentherapie und Radioonkologie</a></li><li><a href=\\\"/kliniken-und-zentren/unfallchirurgie-und-orthopaedie/unser-profil/?L=724\\\">Unfallchirurgie und Orthop\\u00c3\\u00a4die</a></li><li id=\\\"trenner60\\\" class=\\\"trenner\\\">&nbsp;</li><li><a href=\\\"/kliniken-und-zentren/belegklinik-augen/unser-profil/?L=724\\\">Belegklinik Augen</a></li><li><a href=\\\"/kliniken-und-zentren/belegklinik-hno/unser-profil/?L=724\\\">Belegklinik HNO</a></li></ul>\\n\\t\\n\\n</div>\\n\\n\\t\\n\\n\\n</div>\\n</div><div class=\\\"col-sm-4\\\">\\n<div id=\\\"c28\\\">\\n\\t\\n\\n\\t\\n\\n\\n\\t\\n\\t<div class=\\\"tx-typoscript2ce\\\">\\n\\t\\n\\t\\n\\t\\t<ul><li class=\\\"dropdown-header\\\">Zentren</li><li class=\\\"active\\\"><a href=\\\"/kliniken-und-zentren/onkologisches-zentrum/unser-profil/?L=724\\\">Cancer Center Esslingen CCE</a><ul><li class=\\\"active\\\"><a href=\\\"/kliniken-und-zentren/onkologisches-zentrum/darmzentrum/unser-profil/?L=724\\\">Darmzentrum Esslingen DZE</a></li><li class=\\\"active\\\"><a href=\\\"/kliniken-und-zentren/onkologisches-zentrum/interdisziplinaeres-brustzentrum/unser-profil/?L=724\\\">Brustzentrum Esslingen BZE</a></li><li class=\\\"active\\\"><a href=\\\"/kliniken-und-zentren/onkologisches-zentrum/lungenkrebszentrum-tess/unser-profil/?L=724\\\">Lungenkrebszentrum (TESS)</a></li><li class=\\\"active\\\"><a href=\\\"/kliniken-und-zentren/onkologisches-zentrum/zentrum-fuer-gynaekologische-tumorerkrankungen/unser-profil/?L=724\\\">Gyn\\u00c3\\u00a4kologisches Tumorzentrum Esslingen GTZE</a></li><li class=\\\"active\\\"><a href=\\\"/kliniken-und-zentren/onkologisches-zentrum/pankreaskarzinom-zentrum/unser-profil/?L=724\\\">Pankreaszentrum PZE</a></li><li class=\\\"active\\\"><a href=\\\"/kliniken-und-zentren/leberzentrum/unser-profil/?L=724\\\">Leberzentrum Esslingen LZE</a></li><li class=\\\"active\\\"><a href=\\\"/kliniken-und-zentren/onkologisches-zentrum/ambulantes-onkologiezentrum/unser-profil/?L=724\\\">Ambulantes Onkologiezentrum</a></li></ul></li><li class=\\\"active\\\"><a href=\\\"/kliniken-und-zentren/adipositaszentrum/unser-profil/?L=724\\\">Adipositaszentrum</a></li><li class=\\\"active\\\"><a href=\\\"/kliniken-und-zentren/ambulantes-op-zentrum/unser-profil/?L=724\\\">Ambulantes OP-Zentrum</a></li><li class=\\\"active\\\"><a href=\\\"/kliniken-und-zentren/beckenbodenzentrum/unser-profil/?L=724\\\">Beckenbodenzentrum</a></li><li class=\\\"active\\\"><a href=\\\"/kliniken-und-zentren/endometriose-und-myom-zentrum/unser-profil/?L=724\\\">Endometriose- und Myom-Zentrum</a></li><li class=\\\"active\\\"><a href=\\\"/kliniken-und-zentren/endoprothetikzentrum/unser-profil/?L=724\\\">Endoprothetikzentrum</a></li><li class=\\\"active\\\"><a href=\\\"/kliniken-und-zentren/endoskopiezentrum/unser-profil/?L=724\\\">Endoskopiezentrum</a></li><li class=\\\"active\\\"><a href=\\\"/kliniken-und-zentren/gefaesszentrum/unser-profil/?L=724\\\">Gef\\u00c3\\u00a4\\u00c3\\u009fzentrum</a></li><li><a href=\\\"http://mkz.klinikum-esslingen.de\\\" target=\\\"_blank\\\">Mutter-Kind-Zentrum</a></li><li class=\\\"active\\\"><a href=\\\"/kliniken-und-zentren/perinatalzentrum/unser-profil/?L=724\\\">Perinatalzentrum</a></li><li class=\\\"active\\\"><a href=\\\"/kliniken-und-zentren/regionales-traumazentrum/unser-profil/?L=724\\\">Regionales Traumazentrum</a></li><li><a href=\\\"/kliniken-und-zentren/kinder-und-jugendliche/medizinische-schwerpunkte/sozialpaediatrisches-zentrum/?L=724\\\">Sozialp\\u00c3\\u00a4diatrisches Zentrum</a></li><li class=\\\"active\\\"><a href=\\\"/kliniken-und-zentren/zentrum-fuer-wirbelsaeulentherapie/unser-profil/?L=724\\\">Zentrum f\\u00c3\\u00bcr Wirbels\\u00c3\\u00a4ulentherapie</a></li></ul>\\n\\t\\n\\n</div>\\n\\n\\t\\n\\n\\n</div>\\n</div><div class=\\\"col-sm-4\\\">\\n<div id=\\\"c29\\\">\\n\\t\\n\\n\\t\\n\\n\\n\\t\\n\\t<div class=\\\"tx-typoscript2ce\\\">\\n\\t\\n\\t\\n\\t\\t<ul><li class=\\\"dropdown-header\\\">Weitere Einrichtungen</li><li class=\\\"active\\\"><a href=\\\"/kliniken-und-zentren/zentrale-notaufnahme/unser-profil/?L=724\\\">Zentrale Notaufnahme</a></li><li class=\\\"active\\\"><a href=\\\"http://www.mvz-ke.de/?L=724\\\">Praxen im Medizinischen Versorgungszentrum (MVZ)</a><ul><li><a href=\\\"http://www.mvz-ke.de/fachabteilungen/mvz-strahlentherapie-und-radioonkologie/startseite/?L=724\\\">MVZ Strahlentherapie und Radioonkologie</a></li><li><a href=\\\"http://www.mvz-ke.de/fachabteilungen/mvz-gastroenterologie/startseite/?L=724\\\">MVZ Gastroenterologie</a></li><li><a href=\\\"http://www.mvz-ke.de/fachabteilungen/mvz-hno-praxis/startseite/?L=724\\\">MVZ HNO-Praxis</a></li><li><a href=\\\"http://www.mvz-ke.de/fachabteilungen/mvz-kinder-und-jugendpsychiatrie/startseite/?L=724\\\">MVZ Kinder- und Jugendpsychiatrie</a></li><li><a href=\\\"http://www.mvz-ke.de/fachabteilungen/mvz-neurologie/startseite/?L=724\\\">MVZ Neurologie</a></li><li><a href=\\\"http://www.mvz-ke.de/fachabteilungen/mvz-nuklearmedizin/startseite/?L=724\\\">MVZ Nuklearmedizin</a></li></ul></li><li class=\\\"active\\\"><a href=\\\"/kliniken-und-zentren/therapieabteilung/unser-profil/?L=724\\\">Therapieabteilung</a></li><li class=\\\"active\\\"><a href=\\\"/kliniken-und-zentren/team-fuer-notfalltraining-tnt/unser-profilaktuelles/?L=724\\\">Team f\\u00c3\\u00bcr Notfalltraining (TNT)</a></li><li class=\\\"active\\\"><a href=\\\"/kliniken-und-zentren/apotheke/unser-profil/?L=724\\\">Apotheke</a></li><li class=\\\"active\\\"><a href=\\\"/kliniken-und-zentren/dialyse/profil/?L=724\\\">Dialyse</a></li><li class=\\\"active\\\"><a href=\\\"/kliniken-und-zentren/zentrallabor/unser-profil/?L=724\\\">Zentrallabor</a></li><li class=\\\"active\\\"><a href=\\\"/kliniken-und-zentren/institut-fuer-pathologie/unser-profil/?L=724\\\">Institut f\\u00c3\\u00bcr Pathologie</a></li></ul>\\n\\t\\n\\n</div>\\n\\n\\t\\n\\n\\n</div>\\n<div class=\\\"babygalerie\\\"><div class=\\\"header\\\"><a href=\\\"http://www.babygalerie24.de/esslingen/\\\" title=\\\"Zur Babygalerie\\\"><strong>Babygalerie</strong></a></div><div class=\\\"fotos\\\"><a href=\\\"http://www.babygalerie24.de/esslingen/\\\" class=\\\"visible-lg-block\\\"><img src=\\\"/fileadmin/user_upload/ribbon-babygalerie_1_mod.jpg\\\" width=\\\"250\\\" height=\\\"120\\\"   alt=\\\"G\\u00c3\\u00a4hnendes Baby\\\" ></a><a href=\\\"http://www.babygalerie24.de/esslingen/\\\"><img src=\\\"/fileadmin/user_upload/ribbon-babygalerie_2.jpg\\\" width=\\\"120\\\" height=\\\"120\\\"  class=\\\"klein\\\"  alt=\\\"\\\" ></a><a href=\\\"http://www.babygalerie24.de/esslingen/\\\"></a></div><div class=\\\"text\\\"><p>Frisch geschl\\u00c3\\u00bcpft: werfen Sie einen Blick auf unsere Neuank\\u00c3\\u00b6mmlinge in der <a href=\\\"http://www.babygalerie24.de/esslingen/\\\" target=\\\" _blank\\\">Babygalerie </a></p></div></div></div></div></li></ul></li><li class=\\\"dropdown \\\"><a href=\\\"/pflege-beratung/pflegedienst/?L=724\\\" role=\\\"button\\\" aria-haspopup=\\\"true\\\" aria-expanded=\\\"false\\\">Pflege & Beratung</a><ul class=\\\"dropdown-menu hidden-xs\\\"><li class=\\\"dropdown-submenu\\\"><a href=\\\"/pflege-beratung/pflegedienst/?L=724\\\">Pflegedienst</a></li><li class=\\\"\\\"><a href=\\\"/pflege-beratung/hygiene/?L=724\\\">Hygiene</a></li><li class=\\\"dropdown-submenu\\\"><a href=\\\"/pflege-beratung/demenzsensibles-krankenhaus/?L=724\\\">Demenzsensibles Krankenhaus</a></li><li class=\\\"\\\"><a href=\\\"/pflege-beratung/sozialdienst/?L=724\\\">Sozialdienst</a></li><li class=\\\"\\\"><a href=\\\"/pflege-beratung/seelsorge/?L=724\\\">Seelsorge</a></li><li class=\\\"\\\"><a href=\\\"/pflege-beratung/patientenfuersprecher/?L=724\\\">Patientenf\\u00c3\\u00bcrsprecher</a></li><li class=\\\"\\\"><a href=\\\"/pflege-beratung/ethik-kommitee/?L=724\\\">Ethik-Kommitee</a></li><li class=\\\"\\\"><a href=\\\"/pflege-beratung/ke-im-dialog/?L=724\\\">KE im Dialog</a></li><li class=\\\"\\\"><a href=\\\"/pflege-beratung/elternschule/?L=724\\\">Elternschule</a></li><li class=\\\"\\\"><a href=\\\"/pflege-beratung/ohne-kippe/?L=724\\\">Ohne Kippe</a></li><li class=\\\"\\\"><a href=\\\"/pflege-beratung/selbsthilfegruppen/?L=724\\\">Selbsthilfegruppen</a></li><li class=\\\"\\\"><a href=\\\"/pflege-beratung/sterilgut-und-service-gmbh/?L=724\\\">Sterilgut und Service GmbH</a></li></ul></li><li class=\\\"dropdown \\\"><a href=\\\"/ihr-aufenthalt/vor-dem-aufenthalt/?L=724\\\" role=\\\"button\\\" aria-haspopup=\\\"true\\\" aria-expanded=\\\"false\\\">Ihr Aufenthalt</a><ul class=\\\"dropdown-menu hidden-xs\\\"><li class=\\\"\\\"><a href=\\\"/ihr-aufenthalt/vor-dem-aufenthalt/?L=724\\\">Vor dem Aufenthalt</a></li><li class=\\\"\\\"><a href=\\\"/ihr-aufenthalt/auf-der-station/?L=724\\\">Auf der Station</a></li><li class=\\\"\\\"><a href=\\\"/ihr-aufenthalt/nach-dem-aufenthalt/?L=724\\\">Nach dem Aufenthalt</a></li><li class=\\\"\\\"><a href=\\\"/ihr-aufenthalt/wahlleistungen/?L=724\\\">Wahlleistungen</a></li><li class=\\\"\\\"><a href=\\\"/ihr-aufenthalt/gaestehaus/?L=724\\\">G\\u00c3\\u00a4stehaus</a></li><li class=\\\"\\\"><a href=\\\"/ihr-aufenthalt/serviceangebote-von-a-z/?L=724\\\">Serviceangebote von A - Z</a></li><li class=\\\"\\\"><a href=\\\"/ihr-aufenthalt/ihre-meinung/?L=724\\\">Ihre Meinung</a></li><li class=\\\"\\\"><a href=\\\"/ihr-aufenthalt/notfall/?L=724\\\">Notfall</a></li></ul></li><li class=\\\"dropdown \\\"><a href=\\\"/beruf-karriere/arbeitgeber-klinikum/?L=724\\\" role=\\\"button\\\" aria-haspopup=\\\"true\\\" aria-expanded=\\\"false\\\">Beruf & Karriere</a><ul class=\\\"dropdown-menu hidden-xs\\\"><li class=\\\"\\\"><a href=\\\"/beruf-karriere/arbeitgeber-klinikum/?L=724\\\">Arbeitgeber Klinikum</a></li><li class=\\\"dropdown-submenu\\\"><a href=\\\"/beruf-karriere/beruf-und-familie/?L=724\\\">Beruf und Familie</a></li><li class=\\\"\\\"><a href=\\\"/beruf-karriere/gesundheit-am-arbeitsplatz/?L=724\\\">Gesundheit am Arbeitsplatz</a></li><li class=\\\"dropdown-submenu\\\"><a href=\\\"/beruf-karriere/schule-fuer-pflegeberufe/?L=724\\\">Schule f\\u00c3\\u00bcr Pflegeberufe</a></li><li class=\\\"dropdown-submenu\\\"><a href=\\\"/beruf-karriere/ausbildung/?L=724\\\">Ausbildung</a></li><li class=\\\"dropdown-submenu\\\"><a href=\\\"/beruf-karriere/fsj-bufdi-praktika/freiwilliges-soziales-jahr-fsj/?L=724\\\">FSJ / BUFDI / Praktika</a></li><li class=\\\"\\\"><a href=\\\"/beruf-karriere/akademisches-lehrkrankenhaus/?L=724\\\">Akademisches Lehrkrankenhaus</a></li><li class=\\\"dropdown-submenu\\\"><a href=\\\"/beruf-karriere/pj-studenten/?L=724\\\">PJ-Studenten</a></li><li class=\\\"dropdown-submenu\\\"><a href=\\\"/beruf-karriere/fort-und-weiterbildung/?L=724\\\">Fort- und Weiterbildung</a></li><li class=\\\"\\\"><a href=\\\"/beruf-karriere/betriebsrat/?L=724\\\">Betriebsrat</a></li><li class=\\\"\\\"><a href=\\\"/beruf-karriere/schwerbehindertenvertretung/?L=724\\\">Schwerbehindertenvertretung</a></li><li class=\\\"dropdown-submenu\\\"><a href=\\\"/beruf-karriere/stellenboerse/?L=724\\\">Stellenb\\u00c3\\u00b6rse</a></li></ul></li><li class=\\\"dropdown \\\"><a href=\\\"/ueber-uns/das-klinikum-esslingen/?L=724\\\" role=\\\"button\\\" aria-haspopup=\\\"true\\\" aria-expanded=\\\"false\\\">\\u00c3\\u009cber uns</a><ul class=\\\"dropdown-menu hidden-xs\\\"><li class=\\\"\\\"><a href=\\\"/ueber-uns/das-klinikum-esslingen/?L=724\\\">Das Klinikum Esslingen</a></li><li class=\\\"\\\"><a href=\\\"/ueber-uns/daten-und-fakten/?L=724\\\">Daten und Fakten</a></li><li class=\\\"\\\"><a href=\\\"/ueber-uns/geschaeftsfuehrung/?L=724\\\">Gesch\\u00c3\\u00a4ftsf\\u00c3\\u00bchrung</a></li><li class=\\\"dropdown-submenu\\\"><a href=\\\"/ueber-uns/ansprechpartner/geschaeftsfuehrung/?L=724\\\">Ansprechpartner</a></li><li class=\\\"dropdown-submenu\\\"><a href=\\\"/ueber-uns/presse-und-publikationen/pressemeldungen/?L=724\\\">Presse und Publikationen</a></li><li class=\\\"\\\"><a href=\\\"/ueber-uns/geschichte/?L=724\\\">Geschichte</a></li><li class=\\\"\\\"><a href=\\\"/ueber-uns/foerdervereine/?L=724\\\">F\\u00c3\\u00b6rdervereine</a></li><li class=\\\"\\\"><a href=\\\"/ueber-uns/unsere-spenden/?L=724\\\">Unsere Spenden</a></li><li class=\\\"\\\"><a href=\\\"/ueber-uns/lageplan-wegweiser/?L=724\\\">Lageplan / Wegweiser</a></li></ul></li><li class=\\\"dropdown last\\\"><a href=\\\"/infos-fuer-kids/ein-tag-im-krankenhaus/?L=724\\\" role=\\\"button\\\" aria-haspopup=\\\"true\\\" aria-expanded=\\\"false\\\">Infos f\\u00c3\\u00bcr Kids</a><ul class=\\\"dropdown-menu hidden-xs\\\"><li class=\\\"last\\\"><a href=\\\"/infos-fuer-kids/ein-tag-im-krankenhaus/?L=724\\\">Ein Tag im Krankenhaus</a></li><li class=\\\"\\\"><a href=\\\"/infos-fuer-kids/meine-oma-muss-ins-krankenhaus/?L=724\\\">Meine Oma muss ins Krankenhaus</a></li><li class=\\\"dropdown-submenu\\\"><a href=\\\"/infos-fuer-kids/was-passiert-im-krankenhaus/?L=724\\\">Was passiert im Krankenhaus?</a></li><li class=\\\"dropdown-submenu\\\"><a href=\\\"/infos-fuer-kids/wissensecke/?L=724\\\">Wissensecke</a></li><li class=\\\"\\\"><a href=\\\"/infos-fuer-kids/videos-fuer-kids/?L=724\\\">Videos f\\u00c3\\u00bcr Kids</a></li></ul></li><li class=\\\"notfall\\\"><a href=\\\"/ihr-aufenthalt/notfall/?L=724\\\">Notfall</a></li><li class=\\\"loginLink\\\"><a href=\\\"/login/?L=724\\\">Login Dienstleister</a></li></ul>\\n\\t\\t\\t<form name=\\\"form_suche\\\" id=\\\"form_suche\\\" action=\\\"/suchergebnisse/?L=724\\\" method=\\\"post\\\" class=\\\"navbar-form navbar-right hidden-xs searchbox\\\"><div class=\\\"form-group\\\"><input type=\\\"text\\\" name=\\\"tx_indexedsearch[sword]\\\" value=\\\"\\\" placeholder=\\\"Suche\\\" class=\\\"form-control\\\" /></div><button type=\\\"submit\\\" class=\\\"btn btn-success\\\"></button></form>\\n\\t\\t</div>\\n\\t</div>\\n</nav>\\n\\n\\t<!--TYPO3SEARCH_begin--><div class=\\\"container-fluid header klinik \\\"><div class=\\\"bild\\\"><img src=\\\"/fileadmin/_processed_/csm_header-allgemeinchirurgie_b6150407f1.jpg\\\" width=\\\"1600\\\" height=\\\"379\\\"   alt=\\\"Chirurgen im OP\\\" ><div class=\\\"blatt\\\"></div><div class=\\\"titel\\\"><h1><span>Klinik f\\u00c3\\u00bcr</span><br />Gef\\u00c3\\u00a4\\u00c3\\u009f- und Thoraxchirurgie</h1></div></div></div><!--TYPO3SEARCH_end-->\\n\\t<div class=\\\"container-fluid inhalt\\\">\\n\\t\\t<div class=\\\"row\\\">\\n\\t\\t\\t<div class=\\\"col-sm-4 col-xs-12 kontextnavigation\\\">\\n\\t\\t\\t\\t<div class=\\\"row\\\">\\n\\t\\t\\t\\t\\t<div class=\\\"col-md-1\\\"></div>\\n\\t\\t\\t\\t\\t<div class=\\\"col-sm-11 col-md-9 col-lg-8\\\">\\n\\t\\t\\t\\t\\t\\t<button type=\\\"button\\\" class=\\\"navbar-toggle collapsed\\\" data-toggle=\\\"collapse\\\" data-target=\\\"#kontextnavigation\\\" aria-expanded=\\\"false\\\">\\n\\t\\t\\t\\t\\t\\t\\t<span class=\\\"sr-only\\\">Toggle navigation</span>\\n\\t\\t\\t\\t\\t\\t\\t<span class=\\\"icon-bar\\\"></span>\\n\\t\\t\\t\\t\\t\\t\\t<span class=\\\"icon-bar\\\"></span>\\n\\t\\t\\t\\t\\t\\t\\t<span class=\\\"icon-bar\\\"></span>\\n\\t\\t\\t\\t\\t\\t</button>\\n\\t\\t\\t\\t\\t\\t<div class=\\\"collapse navbar-collapse\\\" id=\\\"kontextnavigation\\\">\\n\\t\\t\\t\\t\\t\\t\\t<ul class=\\\"nav\\\"><li class=\\\"active\\\"><a href=\\\"/kliniken-und-zentren/gefaess-und-thoraxchirurgie/unser-profil/?L=724\\\">Unser Profil</a></li><li><a href=\\\"/kliniken-und-zentren/gefaess-und-thoraxchirurgie/team/?L=724\\\">Team</a></li><li><a href=\\\"/kliniken-und-zentren/gefaess-und-thoraxchirurgie/ambulanzen-sprechstunden/?L=724\\\">Ambulanzen & Sprechstunden</a></li><li><a href=\\\"/kliniken-und-zentren/gefaess-und-thoraxchirurgie/medizinische-schwerpunkte/?L=724\\\">Medizinische Schwerpunkte</a></li><li><a href=\\\"/kliniken-und-zentren/gefaess-und-thoraxchirurgie/patienteninformationen/?L=724\\\">Patienteninformationen</a></li><li><a href=\\\"/kliniken-und-zentren/gefaess-und-thoraxchirurgie/pflege-und-stationen/?L=724\\\">Pflege und Stationen</a></li><li><a href=\\\"/kliniken-und-zentren/gefaess-und-thoraxchirurgie/fortbildungen/?L=724\\\">Fortbildungen</a></li><li><a href=\\\"/kliniken-und-zentren/gefaess-und-thoraxchirurgie/klinische-studien-forschung/?L=724\\\">Klinische Studien / Forschung</a></li><li><a href=\\\"/kliniken-und-zentren/gefaess-und-thoraxchirurgie/kooperationen/?L=724\\\">Kooperationen</a></li><li><a href=\\\"/kliniken-und-zentren/gefaess-und-thoraxchirurgie/zertifikate-und-auszeichnungen/?L=724\\\">Zertifikate und Auszeichnungen</a></li><li><a href=\\\"/kliniken-und-zentren/gefaess-und-thoraxchirurgie/selbsthilfegruppen/?L=724\\\">Selbsthilfegruppen</a></li></ul>\\n\\t\\t\\t\\t\\t\\t\\t<!--TYPO3SEARCH_begin--><div class=\\\"kontakt\\\"><p><b>Sekretariat</b><br />Christina Prawatschke<br />Telefon: 0711 3103-2700, -2701<br />Telefax: 0711 3103-2704<br />E-Mail: <a href=\\\"javascript:linkTo_UnCryptMailto('ocknvq,h0nkgycnfBmnkpkmwo\\\\/guunkpigp0fg');\\\" title=\\\"Opens internal link in current window\\\" class=\\\"mail\\\">f.liewald<span>&#064;</span>klinikum-esslingen.de</a></p></div><!--TYPO3SEARCH_end-->\\n\\t\\t\\t\\t\\t\\t</div>\\n\\t\\t\\t\\t\\t</div>\\n\\t\\t\\t\\t\\t<div class=\\\"col-sm-1 col-md-2 col-lg-3\\\"></div>\\n\\t\\t\\t\\t</div>\\n\\t\\t\\t</div>\\n\\t\\t\\t<div class=\\\"col-sm-8 col-xs-12 texte\\\">\\n\\t\\t\\t\\t<!--TYPO3SEARCH_begin--><div class=\\\"lead\\\">\\n<div class=\\\"row\\\" id=\\\"c415\\\">\\n\\t<div class=\\\"col-sm-11 col-md-10\\\">\\n\\n\\t\\t\\n\\n\\t<div class=\\\"row\\\">\\n\\t\\t<div class=\\\"col-xs-12\\\">\\n\\t\\t\\t\\n\\t\\t\\t\\t\\n\\n\\t\\n\\n\\n\\t\\t\\t\\n\\t\\t\\t\\n\\t\\t\\t\\t\\n\\t\\t\\t\\t\\t\\t<div class=\\\"row ce-textpic ce-intext \\\">\\n\\t\\t\\t\\t\\t\\n\\n\\t\\t\\t\\t\\t\\n\\t\\t\\t\\t\\t\\t\\n\\n\\n\\n\\n\\n\\n\\n\\n\\n\\n\\n\\t\\t\\t\\t\\t\\n\\t\\t\\t\\t\\t<div class=\\\"ce-bodytext col-xs-9\\\">\\n\\t\\t\\t\\t\\t\\t\\n\\n\\t\\t\\t\\t\\t\\t\\n\\t\\t\\t\\t\\t\\t\\t\\n\\t\\t\\t\\t\\t\\t\\t\\t<div class=\\\"lead\\\">\\n\\t\\t\\t\\t\\t\\t\\t\\t\\t<p>Die Klinik f\\u00c3\\u00bcr Gef\\u00c3\\u00a4\\u00c3\\u009f- und Thoraxchirurgie ist von der Deutschen Gesellschaft f\\u00c3\\u00bcr Gef\\u00c3\\u00a4\\u00c3\\u009fchirurgie als Zentrum f\\u00c3\\u00bcr Gef\\u00c3\\u00a4\\u00c3\\u009fkrankheiten am Klinikum Esslingen zertifiziert.</p>\\n\\t\\t\\t\\t\\t\\t\\t\\t</div>\\n\\t\\t\\t\\t\\t\\t\\t\\n\\t\\t\\t\\t\\t\\t\\t\\n\\t\\t\\t\\t\\t\\t\\n\\t\\t\\t\\t\\t</div>\\n\\t\\t\\t\\t</div>\\n\\t\\t\\t\\n\\t\\t\\t\\n\\t\\t</div>\\n\\t</div>\\n\\n\\n\\n\\t</div>\\n\\t<div class=\\\"col-sm-1 col-md-2\\\"></div>\\n\\n\\t\\t\\n\\t\\n\\n\\n\\n\\n</div>\\n</div><div class=\\\"row zitat\\\"><div class=\\\"col-xs-8 col-sm-8 col-md-9 col-lg-10\\\"><div class=\\\"row\\\"><div class=\\\"col-xs-9 text\\\"><p>\\u00e2\\u0080\\u009eUnser Motto lautet: <br />Keine F\\u00c3\\u00a4lle, sondern Patienten, <br />keine Leistungszahlen, sondern Leistung, <br />keine Werbung, sondern Vertrauen durch gute Arbeit.\\u00e2\\u0080\\u009d </p><p class=\\\"autor\\\"><strong>Chefarzt Prof. Dr. Florian Liewald</strong></p></div><div class=\\\"col-xs-3 bild\\\"><img src=\\\"/fileadmin/user_upload/liewald-frei.png\\\" width=\\\"254\\\" height=\\\"240\\\"   alt=\\\"Chefarzt Prof. Dr. Florian Liewald\\\" title=\\\"Chefarzt Prof. Dr. Florian Liewald\\\" ></div></div></div><div class=\\\"col-xs-4 col-sm-4 col-md-3 col-lg-2\\\"></div></div>\\n<div class=\\\"row\\\" id=\\\"c416\\\">\\n\\t<div class=\\\"col-sm-11 col-md-10\\\">\\n\\n\\t\\t\\n\\n\\t<div class=\\\"row\\\">\\n\\t\\t<div class=\\\"col-xs-12\\\">\\n\\t\\t\\t\\n\\t\\t\\t\\t\\n\\n\\t\\n\\n\\n\\t\\t\\t\\n\\t\\t\\t\\n\\t\\t\\t\\t\\n\\t\\t\\t\\t\\t\\t<div class=\\\"row ce-textpic ce-intext \\\">\\n\\t\\t\\t\\t\\t\\n\\n\\t\\t\\t\\t\\t\\n\\t\\t\\t\\t\\t\\t\\n\\n\\n\\n\\n\\n\\n\\n\\n\\n\\n\\n\\t\\t\\t\\t\\t\\n\\t\\t\\t\\t\\t<div class=\\\"ce-bodytext col-xs-9\\\">\\n\\t\\t\\t\\t\\t\\t\\n\\n\\t\\t\\t\\t\\t\\t\\n\\t\\t\\t\\t\\t\\t\\t\\n\\t\\t\\t\\t\\t\\t\\t\\n\\t\\t\\t\\t\\t\\t\\t\\t<p>Die <b>Gef\\u00c3\\u00a4\\u00c3\\u009fchirurgie </b>umfasst die Chirurgie von Schlagadern (Arterien) und Venen.&nbsp;Schwerpunkte unserer T\\u00c3\\u00a4tigkeit sind die Behandlung von Erweiterungen der Hauptschlagader (Aortenaneurysmen), Verengungen der Halsschlagader (Carotisstenosen), Verschlussprozesse im Bereich der Becken- und Beingef\\u00c3\\u00a4\\u00c3\\u009fe (arterielle Verschlusskrankheit) sowie die operative Behandlung von Krampfadern (Varikosis). Besonderen Wert legen wir auf eine intensive interdisziplin\\u00c3\\u00a4re Zusammenarbeit. Im Bereich der Gef\\u00c3\\u00a4\\u00c3\\u009fchirurgie arbeiten wir zum Wohle unserer Patienten eng mit Spezialisten der Angiologie, Radiologie, Kardiologie, An\\u00c3\\u00a4sthesie, Neurologie und Intensivmedizin zusammen.\\n</p>\\n<p>Die <b>Thoraxchirurgie </b>ist die Chirurgie aller Erkrankungen des Brustkorbes mit Ausnahme des Herzens. Im Bereich der Thoraxchirurgie sind wir die f\\u00c3\\u00bcnftgr\\u00c3\\u00b6\\u00c3\\u009fte Klinik in Baden-W\\u00c3\\u00bcrttemberg und sind spezialisiert auf die Behandlung b\\u00c3\\u00b6sartiger Lungentumore (Bronchialkarzinom), Tumore des Mittelfells (Mediastinum),&nbsp; Einri\\u00c3\\u009f und Kollaps der Lunge (Pneumothorax) sowie alle tumor\\u00c3\\u00b6sen und entz\\u00c3\\u00bcndlichen Ver\\u00c3\\u00a4nderungen des Brustfells (Pleura). In einer Tumorkonferenz werden w\\u00c3\\u00b6chentlich interdisziplin\\u00c3\\u00a4r alle onkologischen Thoraxpatienten besprochen und das Therapiekonzept f\\u00c3\\u00bcr jeden einzelnen Patienten speziell festgelegt. Gro\\u00c3\\u009fe Erfahrungen liegen auch bei unfallbedingten Verletzungen der Lunge und des Brustkorbes (Thoraxtrauma) vor. \\n</p>\\n<p>Die Thoraxchirurgie ist Teil des <a href=\\\"/kliniken-und-zentren/onkologisches-zentrum/lungenkrebszentrum-tess/?L=724\\\" title=\\\"Opens internal link in current window\\\" class=\\\"internal-link\\\">Thoraxzentrums Esslingen-Stuttgart (TESS)</a> und in diesem Rahmen eines von deutschlandweit nur 38 zertifizierten Zentren f\\u00c3\\u00bcr die Behandlung von Lungenkrebspatienten. Hierbei sind Pneumologen, Onkologen, Thoraxchirurgen, Strahlentherapeuten, Thoraxan\\u00c3\\u00a4sthesisten und Intensivmediziner sowie Schlafmediziner und Psychologen eng in ein gemeinsames Therapiekonzept eingebunden. Die Klinik f\\u00c3\\u00bcr Gef\\u00c3\\u00a4\\u00c3\\u009f- und Thoraxchirurgie wurde als Teil des Thoraxzentrums Esslingen-Stuttgart in die <b>FOCUS-Liste der Top-Kliniken zur Behandlung des Lungenkrebses</b> aufgenommen.\\n</p>\\n<p>F\\u00c3\\u00bcr die medizinische und menschliche Betreuung steht Ihnen ein Team aus zw\\u00c3\\u00b6lf \\u00c3\\u0084rzten und 24 Pflegekr\\u00c3\\u00a4ften zur Verf\\u00c3\\u00bcgung. \\n</p>\\n<p>Die Patienten werden in 50 modernen Krankenhausbetten versorgt. Die intensivmedizinische Betreuung schwerstkranker Patienten erfolgt auf der an\\u00c3\\u00a4sthesiologischen Intensivstation, wo durch die gemeinsamen t\\u00c3\\u00a4glichen Visiten von Intensivmedizinern und Chirurgen die Therapiekonzepte festgelegt werden. Die Klinik ist zertifiziertes Zentrum f\\u00c3\\u00bcr die Behandlung von Lungenkrebspatienten sowie zertifiziertes Gef\\u00c3\\u00a4\\u00c3\\u009fzentrum. Diese Doppelzertifizierung ist deutschlandweit nahezu einzigartig und unterstreicht unsere hohe Kompetenz in der Behandlung unserer Patienten. Oberstes Ziel aller Mitarbeiter der Klinik f\\u00c3\\u00bcr Gef\\u00c3\\u00a4\\u00c3\\u009f- und Thoraxchirurgie ist die optimale Behandlung der Patienten auf fachlich modernstem Niveau unter Ber\\u00c3\\u00bccksichtigung der Maxime der Menschlichkeit.</p>\\n\\t\\t\\t\\t\\t\\t\\t\\n\\t\\t\\t\\t\\t\\t\\n\\t\\t\\t\\t\\t</div>\\n\\t\\t\\t\\t</div>\\n\\t\\t\\t\\n\\t\\t\\t\\n\\t\\t</div>\\n\\t</div>\\n\\n\\n\\n\\t</div>\\n\\t<div class=\\\"col-sm-1 col-md-2\\\"></div>\\n\\n\\t\\t\\n\\t\\n\\n\\n\\n\\n</div>\\n\\n<div id=\\\"c2294\\\">\\n\\t\\n\\n\\t\\n\\t\\t\\n\\t\\t\\t\\t\\n\\t\\t\\t\\n\\n\\t\\t\\n\\n\\t\\n\\t\\n\\t\\t<h2>Schwerpunkte der Klinik</h2>\\n\\t\\n\\t\\n\\t\\n\\t\\n\\t\\n\\t\\n\\t\\n\\n\\n\\n\\t\\t\\n\\n\\t\\t\\n\\n\\n\\n\\n\\t\\t\\n\\t\\t\\t\\t\\n\\t\\t\\t\\n\\t\\n\\n\\n\\t\\n\\t\\n\\n\\t\\n\\t<div class=\\\"row\\\">\\n\\t\\t<div class=\\\"col-sm-11 col-md-10\\\">\\n\\t\\t\\t<ul class=\\\"ce-menu ce-menu-1\\\">\\n\\t\\t\\t\\t\\n\\t\\t\\t\\t\\t<li>\\n\\t\\t\\t\\t\\t\\t<a href=\\\"/kliniken-und-zentren/gefaess-und-thoraxchirurgie/medizinische-schwerpunkte/gefaesschirurgie/?L=724\\\">\\n\\t\\t\\t\\t\\t\\t\\tGef\\u00c3\\u00a4\\u00c3\\u009fchirurgie\\n\\t\\t\\t\\t\\t\\t</a>\\n\\t\\t\\t\\t\\t</li>\\n\\t\\t\\t\\t\\n\\t\\t\\t\\t\\t<li>\\n\\t\\t\\t\\t\\t\\t<a href=\\\"/kliniken-und-zentren/gefaess-und-thoraxchirurgie/medizinische-schwerpunkte/thoraxchirurgie/?L=724\\\">\\n\\t\\t\\t\\t\\t\\t\\tThoraxchirurgie\\n\\t\\t\\t\\t\\t\\t</a>\\n\\t\\t\\t\\t\\t</li>\\n\\t\\t\\t\\t\\n\\t\\t\\t</ul>\\n\\t\\t</div>\\n\\t\\t<div class=\\\"col-sm-1 col-md-2\\\"></div>\\n\\t</div>\\n\\t\\n\\n\\n\\n\\n\\t\\n\\n\\n</div>\\n<!--TYPO3SEARCH_end-->\\n\\t\\t\\t\\t<div class=\\\"visible-xs-block\\\">\\n\\t\\t\\t\\t\\t<!--TYPO3SEARCH_begin--><div class=\\\"kontakt\\\"><p><b>Sekretariat</b><br />Christina Prawatschke<br />Telefon: 0711 3103-2700, -2701<br />Telefax: 0711 3103-2704<br />E-Mail: <a href=\\\"javascript:linkTo_UnCryptMailto('ocknvq,h0nkgycnfBmnkpkmwo\\\\/guunkpigp0fg');\\\" title=\\\"Opens internal link in current window\\\" class=\\\"mail\\\">f.liewald<span>&#064;</span>klinikum-esslingen.de</a></p></div><!--TYPO3SEARCH_end-->\\n\\t\\t\\t\\t</div>\\n\\t\\t\\t</div>\\n\\t\\t</div>\\n\\t</div>\\n\\t<footer class=\\\"footer\\\">\\n\\t\\t<div class=\\\"container-fluid\\\"><div class=\\\"row\\\"><div class=\\\"col-sm-6 pull-left\\\"><p>&copy;&nbsp;2019&nbsp;Klinikum Esslingen<a href=\\\"/datenschutz/?L=724\\\" title=\\\"Datenschutz\\\">Datenschutz</a><a href=\\\"/impressum/?L=724\\\" title=\\\"Impressum\\\">Impressum</a></p></div><div class=\\\"col-sm-6 pull-right\\\"><p class=\\\"text-right\\\"><a href=\\\"/beruf-karriere/stellenboerse/?L=724\\\" title=\\\"Jobs\\\">Jobs</a><a href=\\\"/kontakt/?L=724\\\" title=\\\"Kontakt\\\">Kontakt</a><a href=\\\"/veranstaltungen/?L=724\\\" title=\\\"Veranstaltungen\\\">Veranstaltungen</a></p></div></div></div>\\n\\t</footer>\\n\\n<noscript><p><img src=\\\"http://analyzer.amedick-sommer.de/piwik.php?idsite=68\\\" style=\\\"border:0\\\" alt=\\\"\\\"/></p></noscript>\\n<script src=\\\"//analyzer.amedick-sommer.de/piwik.js\\\" type=\\\"text/javascript\\\"></script>\\n<script src=\\\"/typo3conf/ext/as_template/Resources/Public/Vendor/jquery/jquery_1.11.3.js?1554366461\\\" type=\\\"text/javascript\\\"></script>\\n<script src=\\\"/typo3conf/ext/as_template/Resources/Public/Vendor/jquery-ui/jquery-ui-1.11.3/jquery-ui.js?1554366461\\\" type=\\\"text/javascript\\\"></script>\\n<script src=\\\"/typo3conf/ext/as_template/Resources/Public/Vendor/jquery-ui-i18n/datepicker-de.js?1554366461\\\" type=\\\"text/javascript\\\"></script>\\n<script src=\\\"/typo3conf/ext/as_template/Resources/Public/JavaScript/jquery.equalizeHeight.js?1554366461\\\" type=\\\"text/javascript\\\"></script>\\n<script src=\\\"/typo3conf/ext/as_template/Resources/Public/Vendor/rwdImageMaps/jquery.rwdImageMaps.min.js?1554366461\\\" type=\\\"text/javascript\\\"></script>\\n<script src=\\\"/typo3conf/ext/as_template/Resources/Public/Vendor/prettyPhoto/js/jquery.prettyPhoto.js?1554366461\\\" type=\\\"text/javascript\\\"></script>\\n<script src=\\\"/typo3conf/ext/as_cookieconsent/Resources/Public/JavaScript/cookieconsent-3.0.3/cookieconsent.min.js?1527084029\\\" type=\\\"text/javascript\\\"></script>\\n\\n<script src=\\\"/typo3conf/ext/powermail/Resources/Public/JavaScripts/Libraries/jquery.datetimepicker.min.js?1467036214\\\" type=\\\"text/javascript\\\"></script>\\n<script src=\\\"/typo3conf/ext/powermail/Resources/Public/JavaScripts/Libraries/parsley.min.js?1467036214\\\" type=\\\"text/javascript\\\"></script>\\n<script src=\\\"/typo3conf/ext/powermail/Resources/Public/JavaScripts/Powermail/Tabs.min.js?1467036214\\\" type=\\\"text/javascript\\\"></script>\\n<script src=\\\"/typo3conf/ext/powermail/Resources/Public/JavaScripts/Powermail/Form.min.js?1467036214\\\" type=\\\"text/javascript\\\"></script>\\n<script src=\\\"/typo3conf/ext/as_template/Resources/Public/Vendor/bootstrap/js/bootstrap.min.js?1554366461\\\" type=\\\"text/javascript\\\"></script>\\n<script src=\\\"/typo3conf/ext/as_template/Resources/Public/Vendor/lightbox/js/lightbox.min.js?1554366461\\\" type=\\\"text/javascript\\\"></script>\\n<script src=\\\"/typo3conf/ext/as_template/Resources/Public/Vendor/jquery-matchHeight/jquery.matchHeight-min.js?1554366461\\\" type=\\\"text/javascript\\\"></script>\\n<script src=\\\"/typo3conf/ext/as_template/Resources/Public/JavaScript/functions.js?1554366461\\\" type=\\\"text/javascript\\\"></script>\\n<script src=\\\"/typo3conf/ext/as_template/Resources/Public/JavaScript/slideshow.js?1554366461\\\" type=\\\"text/javascript\\\"></script>\\n<script src=\\\"/typo3temp/Assets/1c63d9f1eb.js?1549029573\\\" type=\\\"text/javascript\\\"></script>\\n\\n\\n\\n</body>\\n</html>\",\n          \"<!DOCTYPE html PUBLIC \\\"-//W3C//DTD HTML 4.01 Transitional//EN\\\" \\\"http://www.w3.org/TR/html4/loose.dtd\\\"><html>\\n<head>\\n<META http-equiv=\\\"Content-Type\\\" content=\\\"text/html; charset=iso-8859-1\\\">\\n<meta http-equiv=\\\"X-UA-Compatible\\\" content=\\\"IE=edge,chrome=1\\\">\\n<meta name=\\\"viewport\\\" content=\\\"width=device-width, initial-scale=1, minimum-scale= .2\\\">\\n<meta name=\\\"DC.Generator\\\" content=\\\"this content is managed by PANSITE (TM)\\\">\\n<meta name=\\\"DC.type\\\" content=\\\"webPage\\\">\\n<meta http-equiv=\\\"content-language\\\" content=\\\"de\\\">\\n<meta name=\\\"author\\\" content=\\\"Universit\\u00e4tsklinikum Knappschaftskrankenhaus Bochum, kontakt@kk-bochum.de\\\">\\n<meta name=\\\"revisit-after\\\" content=\\\"7 days\\\">\\n<meta name=\\\"publisher\\\" content=\\\"Universit\\u00e4tsklinikum Knappschaftskrankenhaus Bochum, kontakt@kk-bochum.de\\\">\\n<meta name=\\\"owner\\\" content=\\\"Universit\\u00e4tsklinikum Knappschaftskrankenhaus Bochum, kontakt@kk-bochum.de\\\">\\n<meta name=\\\"distribution\\\" content=\\\"global\\\">\\n<meta name=\\\"uniqueid\\\" content=\\\"9554\\\">\\n<meta name=\\\"robots\\\" content=\\\"index,follow\\\">\\n<meta name=\\\"description\\\" content=\\\"Das Universit\\u00e4tsklinikum Knappschaftskrankenhaus Bochum liefert Spitzenmedizin im Herzen des Ruhrgebiets und ist mit seinen 485 Betten und neun Fachabteilungen ein Haus der Maximalversorgung.\\\">\\n<link rel=\\\"canonical\\\" href=\\\"https://www.kk-bochum.de/de/Kliniken_Zentren_Bereiche/Kliniken/Mund_Kiefer_und_Plastische_Gesichtschirurgie/index.php\\\"><!--header Skript von Template \\\"Google analytics\\\"\\n--><script>(function(i,s,o,g,r,a,m){i['GoogleAnalyticsObject']=r;i[r]=i[r]||function(){(i[r].q=i[r].q||[]).push(arguments)},i[r].l=1*new Date();a=s.createElement(o),m=s.getElementsByTagName(o)[0];a.async=1;a.src=g;m.parentNode.insertBefore(a,m)})(window,document,'script','//www.google-analytics.com/analytics.js','ga');ga('create','UA-28649736-1','auto');ga('send','pageview');</script><!--header Skript von Template \\\"highslide\\\"\\n--><!-- highslide-with-gallery.js   -->\\n<script language=\\\"JavaScript\\\" src=\\\"https://www.kk-bochum.de/0_Technik/highslide/highslide-full.min.js.pagespeed.jm.ciexsdxrIp.js\\\"></script>\\n<!-- highslide init   -->\\n<!-- page identification:  0ef68a4a65ee15b61c2a5b3eabc23918   -->\\n<script type=\\\"text/javascript\\\">hs_js_file='../../../../0_Technik/highslide/highslide-full.min.js';if(hs_js_file!='#'){hs.graphicsDir=hs_js_file.substring(0,hs_js_file.lastIndexOf(\\\"/\\\"))+'/graphics/';hs.wrapperClassName='wide-border';hs.showCredits=true;hs.creditsText='';hs.creditsHref='';hs.creditsTitle='';hs.align='center';hs.transitions=['expand','crossfade'];hs.wrapperClassName='dark borderless floating-caption';hs.fadeInOut=true;hs.dimmingOpacity=.75;hs.marginBottom=105;if(hs.addSlideshow)hs.addSlideshow({interval:5000,repeat:false,useControls:true,overlayOptions:{className:'text-controls',position:'bottom center',relativeTo:'viewport',offsetY:-60},thumbstrip:{position:'bottom center',mode:'horizontal',relativeTo:'viewport'}});}else{top.status='highslide.js not found';}window.onload=function(){if(hs_js_file!='#')hs.preloadImages(5);}</script>\\n<!-- highslide.css   -->\\n<link rel=\\\"stylesheet\\\" href=\\\"https://www.kk-bochum.de/0_Technik/A.highslide,,_highslide.css+css,,_Master.css,Mcc.YMhgxEoH_Y.css.pagespeed.cf.3uPvKrcY2U.css\\\" type=\\\"text/css\\\">\\n<!--header Skript von Template \\\"Design Knappschaftskrankenhaus_Bochum de\\\"\\n--> <link type=\\\"text/css\\\" href=\\\"https://fonts.googleapis.com/css?family=Open+Sans:Condensed\\\">\\n<!-- Master.css -->\\n\\n<!-- unterseite_print.css -->\\n<link type=\\\"text/css\\\" href=\\\"https://www.kk-bochum.de/0_Technik/css/A.unterseite_print.css.pagespeed.cf.zDgnL59s__.css\\\" media=\\\"print\\\" rel=\\\"stylesheet\\\">\\n<!-- jquery-1.10.1.min.js -->\\n<script type=\\\"text/javascript\\\" src=\\\"https://www.kk-bochum.de/0_Technik/js/jquery-1.10.1.min.js.pagespeed.jm.hJPIhFzu5k.js\\\"></script>\\n<script type=\\\"text/javascript\\\">$(function(){var pull=$('#pull');menu=$('.NavLD ul');menuHeight=menu.height();$(pull).on('click',function(e){e.preventDefault();menu.slideToggle();$(pull).toggleClass('active');$('.NavLDO ul:visible').slideToggle();$('#pull2').removeClass('active');});$(window).resize(function(){var w=$(window).width();if(w>320&&menu.is(':hidden')){menu.removeAttr('style');}});});</script>\\n<!-- jquery.searchMeme.js-->\\n<script type=\\\"text/javascript\\\" src=\\\"https://www.kk-bochum.de/0_Technik/js/jquery.searchMeme.js.pagespeed.jm.itWWHW38w2.js\\\"></script>\\n    <script type=\\\"text/javascript\\\">$(document).ready(function(){var searchGreen=$('#yinssearch').searchMeme({onSearch:function(searchText){setTimeout(function(){searchGreen.searchMeme({searchComplete:true});$('#yinssearch-results').html(\\\"You searched for \\\"+searchGreen.val()+\\\"\\\");$('.panel').addClass('go-').animate({'height':200},300);},10000);},buttonPlacement:'right',button:''});});</script><!--header Skript von Template \\\"Footer Knappschaftskrankenhaus_Bochum de\\\"\\n--><!--header Skript von Template \\\"Head Knappschaftskrankenhaus_Bochum de\\\"\\n--> \\n<!-- searchconfig.js -->\\n<script type=\\\"text/javascript\\\">var config={'L10N':{'SYS_rating':'INTERNAL','SYS_score':'score','SYS_quicklinkstart':'Eintr\\u00e4ge gefunden in','SYS_count':'Treffer','SYS_countsingle':'Treffer','SYS_accessed':'last scanned','SYS_words':'words','SYS_lastmodified':'last modification seen','SYS_moreresults':'weitere Ergebnisse','SYS_noresults':'Leider gibt es f\\u00fcr Ihre Anfrage keinen Treffer. (kein Ergebnis)','SYS_morepages':'additional resource(s)','SYS_SEITEN_HEADER':'Suchergebnisse','SYS_DOKUMENTE_HEADER':'Dokumente','SYS_simmilarkeywords':'\\u00c4hnliche Suchbegriffe: ','SYS_SITES':'Seiten','SYS_noinputstr':'Sie haben keinen g\\u00fcltigen Suchbegriff eingegeben','SYS_DOCUMENTS':'Dokumente'},'Server':'/0_technik/suche/restproxy.php/pansite/rest','NoResultsText':'SYS_noresults','NumbersPerPage':10,'OnSymSearchEvent':'','ShowSymKeywords':true,'ShowQuickLinks':true,'SearchKey':'YST','SortType':'RATING','LinkTarget':{'Default':null,'application/pdf':'targetFrame'},'Parts':[{'Header':\\\"SYS_SITES\\\",'OnPagerEvent':'','Navigation':true,'OnClickEvent':null,'ContentDisplayHints':{1:'Hidden'},'SearchExact':false,'SearchAll':false,'NumbersPerPage':7,'NoResultsText':null,'AreaStyling':true,'ContentID':[0,1],'Name':'cw','SortType':'RATING','Base':'KK-Bochum','FileTypes':['html'],'HighlightSize':200},{'Header':\\\"SYS_DOCUMENTS\\\",'OnPagerEvent':'','Navigation':true,'OnClickEvent':null,'ContentDisplayHints':{1:'Hidden'},'SearchExact':false,'SearchAll':false,'NumbersPerPage':7,'NoResultsText':null,'AreaStyling':true,'ContentID':[0,1],'Name':'Dokumente','Base':'KK-Bochum','FileTypes':['document']}]}</script>\\n<script type=\\\"text/javascript\\\">function redirectToSomePageExample(searchText){window.location.href='/de/Suche/index.php?yinssearch='+encodeURIComponent(searchText);}</script>\\n<link rel=\\\"stylesheet\\\" href=\\\"https://www.kk-bochum.de/0_Technik/A.suche,,_crawlclient.css+css,,_style_css.css,Mcc.Ci2BtaRPSk.css.pagespeed.cf.vOwwTmlSVb.css\\\" type=\\\"text/css\\\">\\n<script src=\\\"https://www.kk-bochum.de/0_Technik/suche,_crawllib.js+js,_jquery.flexslider.js.pagespeed.jc.WXnEvboyR9.js\\\"></script><script>eval(mod_pagespeed_ErHR6vm$or);</script>\\n<!--header Skript von Template \\\"linke Navigation Mund-, Kiefer- und Plastische Gesichtschirurgie de\\\"\\n--><!-- style_css.php -->\\n<!--header Skript von Template \\\"Schnellkontakt Knappschaftskrankenhaus_Bochum_GmbH de\\\"\\n--><!-- unterseite.css -->\\n<link rel=\\\"stylesheet\\\" href=\\\"https://www.kk-bochum.de/0_Technik/css/A.unterseite.css.pagespeed.cf.gZpgQdgsCy.css\\\" type=\\\"text/css\\\" media=\\\"screen, projection\\\"><title>Mund-, Kiefer- und Plastische Gesichtschirurgie</title>\\n</head>\\n<body class=\\\"cbp-spmenu-push\\\"><!--nxid=1-->         <div id=\\\"containerR\\\">\\n<div id=\\\"container\\\">\\n<div id=\\\"header\\\">\\n<div id=\\\"id28507\\\" class=\\\"pansiteelement logo\\\"><A href=\\\"../../../../index.php\\\" target=_self><IMG border=0 alt=\\\"Universit&auml;tsklinikum Knappschaftskrankenhaus Bochum GmbH\\\" src=\\\"https://www.kk-bochum.de/0_Technik/img/xlogo_kk_bochum.png.pagespeed.ic.r4_RzmhOVQ.png\\\"></A></div>\\n<ul class=\\\"lanNavigation\\\">\\n<li class=\\\"de selected\\\">de\\n\\t\\t\\t\\t\\t\\t\\t\\t\\t</li>\\n<li class=\\\"en\\\"><a href=\\\"https://www.kk-bochum.de/en/Clinics-Centers-Departments/Clinics/Oral_Maxillofacial_and_Facial_Plastic_Surgery/index.php\\\">en</a></li>\\n</ul>\\n<div id=\\\"id56586\\\" class=\\\"pansiteelement servicebox2\\\"><div id=\\\"yinssearch-search-container\\\" class=\\\"SearchB\\\">\\n  <input onkeyup=\\\"return processInputKeyUp(event,this,document.getElementById('yinssearch-suggestions'));\\\" onblur=\\\"fillLookup(document.getElementById('yinssearch-suggestions'));\\\" actionFunction=\\\"redirectToSomePageExample\\\" autocomplete=\\\"off\\\" id=\\\"yinssearch\\\" type=\\\"text\\\" size=\\\"50\\\"/>\\n  \\n  <div id=\\\"yinssearch-suggestions\\\" class=\\\"yinssearch-suggestionsBox\\\" actionFunction=\\\"openPage\\\" style=\\\"display: none;\\\">\\n   <div id=\\\"yinssearch-autoSuggestionsList\\\" class=\\\"yinssearch-suggestionList\\\"></div>\\n  </div>\\n </div></div>\\n<div id=\\\"id83368\\\" class=\\\"pansiteelement\\\">\\n<div class=\\\"menu-container\\\">\\n<div class=\\\"menu\\\">\\n<ul class=\\\"KWN\\\">\\n<li class=\\\"home\\\"><span class=\\\"emptylink\\\"><a href=\\\"../../../../index.php\\\">Home</a></span></li>\\n<li class=\\\"mainli1\\\"><span class=\\\"emptylinkmain\\\">Patienten & Besucher</span>\\n<ul class=\\\"Navul\\\">\\n<li><a href=\\\"/de/Patienten_Besucher/index.php\\\" target=\\\"_self\\\">Patienten & Besucher</a>\\n<li><a href=\\\"/de/Patienten_Besucher/Bibliothek/index.php\\\" target=\\\"_self\\\">Bibliothek</a>\\n<li><a href=\\\"/de/Patienten_Besucher/Cafeteria_und_K\\u00fcche/index.php\\\" target=\\\"_self\\\">Cafeteria und K\\u00fcche</a>\\n<li><a href=\\\"/de/Patienten_Besucher/Downloadbereich/index.php\\\" target=\\\"_self\\\">Downloadbereich</a>\\n<li><a href=\\\"/de/Patienten_Besucher/Ernaehrungsmedizin/index.php\\\" target=\\\"_self\\\">Ern\\u00e4hrungsmedizin</a>\\n<li><a href=\\\"/de/Patienten_Besucher/Friseur/index.php\\\" target=\\\"_self\\\">Friseur</a>\\n<li><a href=\\\"/de/Patienten_Besucher/Gaestehaus/index.php\\\" target=\\\"_self\\\">G\\u00e4stehaus</a>\\n<li><a href=\\\"/de/Patienten_Besucher/Klinik_ABC/index.php\\\" target=\\\"_self\\\">Klinik ABC</a>\\n<li><a href=\\\"/de/Patienten_Besucher/Komfortstationen/index.php\\\" target=\\\"_self\\\">Komfortstationen</a>\\n<li><a href=\\\"/de/Patienten_Besucher/Medizintipps/index.php\\\" target=\\\"_self\\\">Medizin-Tipps</a>\\n<li><a href=\\\"/de/Patienten_Besucher/Patientenmanagement/index.php\\\" target=\\\"_self\\\">Patientenmanagement</a>\\n<li><a href=\\\"/de/Patienten_Besucher/Pflege_Zuhause/index.php\\\" target=\\\"_self\\\">Pflege Zuhause</a>\\n<li><a href=\\\"/de/Patienten_Besucher/Psychoonkologie/index.php\\\" target=\\\"_self\\\">Psychoonkologie</a>\\n<li><a href=\\\"/de/Patienten_Besucher/Seelsorge/index.php\\\" target=\\\"_self\\\">Seelsorge</a>\\n<li><a href=\\\"/de/Patienten_Besucher/Sozialdienst/index.php\\\" target=\\\"_self\\\">Sozialdienst</a>\\n</ul>\\n</li>\\n<li class=\\\"mainli2\\\"><span class=\\\"emptylinkmain\\\">Kliniken</span>\\n<ul class=\\\"Navul\\\">\\n<li><a href=\\\"/de/Kliniken_Zentren_Bereiche/Kliniken/Anaesthesiologie_Intensivmedizin_und_Schmerztherapie/index.php\\\" target=\\\"_self\\\">An\\u00e4sthesiologie, Intensivmedizin und Schmerztherapie</a>\\n<li><a href=\\\"/de/Kliniken_Zentren_Bereiche/Kliniken/Augenheilkunde/index.php\\\" target=\\\"_self\\\">Augenheilkunde</a>\\n<li><a href=\\\"/de/Kliniken_Zentren_Bereiche/Kliniken/Chirurgie/index.php\\\" target=\\\"_self\\\">Chirurgie</a>\\n<li><a href=\\\"/de/Kliniken_Zentren_Bereiche/Kliniken/Medizinische_Klinik/index.php\\\" target=\\\"_self\\\">Medizinische Klinik</a>\\n<li><a href=\\\"/de/Kliniken_Zentren_Bereiche/Kliniken/Mund_Kiefer_und_Plastische_Gesichtschirurgie/index.php\\\" target=\\\"_self\\\">Mund-, Kiefer- und Plastische Gesichtschirurgie</a>\\n<li><a href=\\\"/de/Kliniken_Zentren_Bereiche/Kliniken/Neurochirurgie/index.php\\\" target=\\\"_self\\\">Neurochirurgie</a>\\n<li><a href=\\\"/de/Kliniken_Zentren_Bereiche/Kliniken/Neurologie/index.php\\\" target=\\\"_self\\\">Neurologie</a>\\n<li><a href=\\\"/de/Kliniken_Zentren_Bereiche/Kliniken/Radiologie_und_Nuklearmedizin/index.php\\\" target=\\\"_self\\\">Radiologie, Neuroradiologie und Nuklearmedizin</a>\\n<li><a href=\\\"/de/Kliniken_Zentren_Bereiche/Kliniken/Unfallchirurgie_und_Orthopaedie/index.php\\\" target=\\\"_self\\\">Unfallchirurgie und Orthop\\u00e4die</a>\\n<li><a href=\\\"/de/Kliniken_Zentren_Bereiche/Abteilung/Physikalische_Therapie_und_Physiotherapie/index.php\\\" target=\\\"_self\\\">Physikalische Therapie und Physiotherapie</a>\\n<li><a href=\\\"/de/Kliniken_Zentren_Bereiche/Abteilung/Sprachdiagnostik_und_Sprachtherapie/index.php\\\" target=\\\"_self\\\">Sprachdiagnostik und Sprachtherapie</a>\\n</ul>\\n</li>\\n<li class=\\\"mainli3\\\"><span class=\\\"emptylinkmain\\\">Zentren</span>\\n<ul class=\\\"Navul\\\">\\n<li><a href=\\\"/de/Kliniken_Zentren_Bereiche/Medizinische_Zentren/Darmkrebszentrum/index.php\\\" target=\\\"_self\\\">Darmzentrum</a>\\n<li><a href=\\\"/de/Kliniken_Zentren_Bereiche/Medizinische_Zentren/Epilepsiezentrum/index.php\\\" target=\\\"_self\\\">Epilepsiezentrum</a>\\n<li><a href=\\\"/de/Kliniken_Zentren_Bereiche/Kliniken/Mund_Kiefer_und_Plastische_Gesichtschirurgie/index.php\\\" target=\\\"_self\\\">Kopf-Hals-Tumorzentrum</a>\\n<li><a href=\\\"/de/Kliniken_Zentren_Bereiche/Medizinische_Zentren/Onkologisches_Zentrum/index.php\\\" target=\\\"_self\\\">Onkologisches Zentrum</a>\\n<li><a href=\\\"/de/Kliniken_Zentren_Bereiche/Medizinische_Zentren/Stroke_Unit/index.php\\\" target=\\\"_self\\\">Stroke Unit</a>\\n<li><a href=\\\"/de/Kliniken_Zentren_Bereiche/Medizinische_Zentren/Transplantationszentrum/index.php\\\" target=\\\"_self\\\">Transplantationszentrum</a>\\n<li><a href=\\\"/de/Kliniken_Zentren_Bereiche/Medizinische_Zentren/Traumazentrum/index.php\\\" target=\\\"_self\\\">Traumazentrum</a>\\n</ul>\\n</li>\\n<li class=\\\"mainli4\\\"><span class=\\\"emptylinkmain\\\">Pflege</span>\\n<ul class=\\\"Navul\\\">\\n<li><a href=\\\"/de/Pflege/Pflegedirektion/index..php\\\" target=\\\"_self\\\">Pflegedirektion</a>\\n<li><a href=\\\"/de/Pflege/Hygiene/index.php\\\" target=\\\"_self\\\">Hygiene</a>\\n<li><a href=\\\"/de/Pflege/Intensivstationen/index.php\\\" target=\\\"_self\\\">Intensivstationen</a>\\n<li><a href=\\\"/de/Pflege/Krankenpflege/index.php\\\" target=\\\"_self\\\">Krankenpflege</a>\\n<li><a href=\\\"/de/Pflege/Operationsbereiche/index.php\\\" target=\\\"_self\\\">Operationsbereiche</a>\\n<li><a href=\\\"/de/Pflege/Sozialdienst/index.php\\\" target=\\\"_self\\\">Sozialdienst</a>\\n<li><a href=\\\"/de/Pflege/Stationsleitungen/index.php\\\" target=\\\"_self\\\">Stationsleitungen</a>\\n<li><a href=\\\"/de/Pflege/Zentrale_Notaufnahme/index.php\\\" target=\\\"_self\\\">Zentrale Notaufnahme</a>\\n<li><a href=\\\"/de/Pflege/ZSVA/index.php\\\" target=\\\"_self\\\">ZSVA</a>\\n</ul>\\n</li>\\n<li class=\\\"mainli5\\\"><span class=\\\"emptylinkmain\\\">Karriere</span>\\n<ul class=\\\"Navul\\\">\\n<li><a href=\\\"/de/Karriere/index.php\\\" target=\\\"_self\\\">Karriere</a>\\n<li><a href=\\\"/de/Karriere/Stellenangebote/index.php\\\" target=\\\"_self\\\">Stellenangebote</a>\\n<li><a href=\\\"/de/Karriere/Kaufleute_im_Gesundheitswesen/index.php\\\" target=\\\"_self\\\">Kaufleute im Gesundheitswesen</a>\\n<li><a href=\\\"/de/Karriere/Gesundheits_und_Krankenpflegeassistenz/index.php\\\" target=\\\"_self\\\">Gesundheits- und Krankenpflegeassistenz</a>\\n<li><a href=\\\"/de/Karriere/MTA-Schule/index.php\\\" target=\\\"_self\\\">MTA-Schule</a>\\n<li><a href=\\\"/de/Karriere/Gesundheits_und_Krankenpflege/index.php\\\" target=\\\"_self\\\">Gesundheits- und Krankenpflege</a>\\n<li><a href=\\\"/de/Karriere/Notfallpflege/index.php\\\" target=\\\"_self\\\">Intensivpflege und An\\u00e4sthesie</a>\\n<li><a href=\\\"/de/Karriere/Notfallpflege/index.php\\\" target=\\\"_self\\\">Notfallpflege</a>\\n<li><a href=\\\"/de/Karriere/Palliative_Care/index.php\\\" target=\\\"_self\\\">Palliative Care</a>\\n<li><a href=\\\"/de/Karriere/Studium/index.php\\\" target=\\\"_self\\\">Studium</a>\\n</ul>\\n</li>\\n<li class=\\\"mainli6\\\"><span class=\\\"emptylinkmain\\\">Aktuelles </span>\\n<ul class=\\\"Navul\\\">\\n<li><a href=\\\"/de/Aktuelles_und_Presse/index.php\\\" target=\\\"_self\\\">Aktuelles</a>\\n<li><a href=\\\"/de/Aktuelles_und_Presse/Ansprechpartner/index.php\\\" target=\\\"_self\\\">Ansprechpartner</a>\\n<li><a href=\\\"/de/Aktuelles_und_Presse/PresseArchiv/index.php\\\" target=\\\"_self\\\">Presse-Archiv</a>\\n<li><a href=\\\"/de/Aktuelles_und_Presse/Veranstaltungen/index.php\\\" target=\\\"_self\\\">Veranstaltungen</a>\\n<li><a href=\\\"/de/Aktuelles_und_Presse/Downloadbereich/index.php\\\" target=\\\"_self\\\">Downloadbereich</a>\\n<li><a href=\\\"/de/Aktuelles_und_Presse/Bildergalerie/index.php\\\" target=\\\"_self\\\">Bildergalerie</a>\\n</ul>\\n</li>\\n<li class=\\\"mainli7\\\"><span class=\\\"emptylinkmain\\\">Unternehmen</span>\\n<ul class=\\\"Navul\\\">\\n<li><a href=\\\"/de/Unternehmen/index.php\\\" target=\\\"_self\\\">Unternehmen</a>\\n<li><a href=\\\"/de/Unternehmen/Geschaeftsfuehrung_und_Gremien/index.php\\\" target=\\\"_self\\\">Gesch\\u00e4ftsf\\u00fchrung und Gremien</a>\\n<li><a href=\\\"/de/Unternehmen/Lob_und_Kritik/index.php\\\" target=\\\"_self\\\">Lob und Kritik</a>\\n<li><a href=\\\"/de/Unternehmen/Personalvertretung/index.php\\\" target=\\\"_self\\\">Personalvertretung</a>\\n<li><a href=\\\"/de/Unternehmen/Qualitaetsmanagement/index.php\\\" target=\\\"_self\\\">Qualit\\u00e4tsmanagement</a>\\n<li><a href=\\\"/de/Unternehmen/Verwaltung/index.php\\\" target=\\\"_self\\\">Verwaltung</a>\\n<li><a href=\\\"/de/Unternehmen/Leitbild/index.php\\\" target=\\\"_self\\\">Leitbild</a>\\n<li><a href=\\\"/de/Unternehmen/Daten_und_Fakten/index.php\\\" target=\\\"_self\\\">Daten und Fakten</a>\\n<li><a href=\\\"/de/Unternehmen/Historie/index.php\\\" target=\\\"_self\\\">Historie</a>\\n<li><a href=\\\"/de/Unternehmen/Bildergalerie/index.php\\\" target=\\\"_self\\\">Bildergalerie</a>\\n<li><a href=\\\"/de/Unternehmen/Kooperationen/index.php\\\" target=\\\"_self\\\">Kooperationen</a>\\n<li><a href=\\\"/de/Unternehmen/Das_Medizinische_Netz_der_Knappschaft/index.php\\\" target=\\\"_self\\\">Das Medizinische Netz der Knappschaft</a>\\n<li><a href=\\\"/de/Unternehmen/Compliance/index.php\\\" target=\\\"_self\\\">Compliance</a>\\n<li><a href=\\\"/de/Kliniken_Zentren_Bereiche/Zentralapotheke/index.php\\\" target=\\\"_self\\\">Zentralapotheke</a>\\n<li><a href=\\\"/de/Unternehmen/Anfahrt/index.php\\\" target=\\\"_self\\\">Anfahrt</a>\\n</ul>\\n</li>\\n<li class=\\\"Verbund\\\"><span class=\\\"emptylink\\\"><a href=\\\"../../../../Verbund.php\\\">Verbund</a></span></li>\\n</ul>\\n</div>\\n</div></div>\\n<div id=\\\"BreadCrumb\\\" class=\\\"pansiteelement Pfadnavigation\\\">\\n<ul>\\n<li class=\\\"start\\\"><a href=\\\"../../../../index.php\\\">Startseite &gt;&gt; </a></li><li class=\\\"lvl0\\\"><a href=\\\"https://www.kk-bochum.de/de/Kliniken_Zentren_Bereiche/index.php\\\">Kliniken, Zentren, Bereiche</a></li><li class=\\\"lvl1\\\">Kliniken</li><li class=\\\"lvl3\\\"><a href=\\\"https://www.kk-bochum.de/de/Kliniken_Zentren_Bereiche/Kliniken/Mund_Kiefer_und_Plastische_Gesichtschirurgie/index.php\\\">Mund-, Kiefer- und Plastische Gesichtschirurgie</a></li></ul>\\n</div>\\n</div>\\n<div id=\\\"sidebarLeft\\\">\\n<div id=\\\"id2904\\\" class=\\\"pansiteelement NavLD\\\"><a href=\\\"#\\\" id=\\\"pull\\\">Men&uuml;</a>\\n  <div class=\\\"rahmenA\\\">\\n  <div class=\\\"rahmenI\\\">\\n<div class=\\\"navh4\\\"><a href=\\\"./index.php\\\" target=_self>Mund-, Kiefer- und Plastische Gesichtschirurgie</a></div>\\n<ul class='divcss'><li class='divcss'><div class=\\\"mainpasempty\\\"><a accesskey=\\\"t\\\" tabindex=\\\"1\\\" href=\\\"/de/Kliniken_Zentren_Bereiche/Kliniken/Mund_Kiefer_und_Plastische_Gesichtschirurgie/Team.php\\\" target=\\\"_self\\\">Team</a></div></li>\\n\\n<li class='divcss'><div class=\\\"footdiv\\\">&nbsp;</div></li>\\n\\n</ul>\\n</div>\\n</div>\\n<div class=\\\"schatten\\\"></div></div>\\n</div><!--nxid=1--><!--contentid=1-->\\n<div id=\\\"mainContent\\\">\\n<div id=\\\"id89509\\\" class=\\\"pansiteelement\\\">\\n<div class=\\\"schnellkontakt2018\\\">\\n\\n<a href=\\\"../../../_Schnellkontakt.php\\\" target=\\\"_self\\\" title=\\\"Schnellkontakt\\\"><IMG class=\\\"sk2018\\\" border=0 alt='Schnellkontakt' src='/images/xschnellkontakt_42021.png.pagespeed.ic.6yrsviSoXZ.png' title=\\\"Schnellkontakt\\\"></a>\\n\\n<a href=\\\"../../../Im_Notfall.php\\\" target=\\\"_self\\\" title=\\\"Im Notfall\\\"><IMG class=\\\"sk2018\\\" border=0 alt='Im Notfall' src='/images/ximNotfall_42020.png.pagespeed.ic.FcCn1rCq51.png' title=\\\"Im Notfall\\\"></a>\\n\\n<a href=\\\"../../../Unternehmen/Anfahrt/index.php\\\" target=\\\"_self\\\" title=\\\"Anfahrt\\\"><IMG class=\\\"sk2018\\\" border=0 alt='Anfahrt' src='/images/xanfahrt_42022.png.pagespeed.ic.UD2RJriQB8.png' title=\\\"Anfahrt\\\"></a>\\n\\n<a href=\\\"../../../Unternehmen/Lob_und_Kritik/index.php\\\" target=\\\"_blank\\\" title=\\\"Lob und Kritik\\\"><IMG class=\\\"sk2018\\\" border=0 alt='Lob und Kritik' src='/images/xlobundkritik_42026.png.pagespeed.ic.aAVu173RcI.png' title=\\\"Lob und Kritik\\\"></a>\\n\\n<a href=\\\"../../../Aktuelles_und_Presse/Veranstaltungen/index.php\\\" target=\\\"_self\\\" title=\\\"Veranstaltungen\\\"><IMG class=\\\"sk2018\\\" border=0 alt='Veranstaltungen' src='/images/xveranstaltungen_42028.png.pagespeed.ic.7hg8NBkMAI.png' title=\\\"Veranstaltungen\\\"></a>\\n\\n<a href=\\\"../../../Patienten_Besucher/Gaestehaus/index.php\\\" target=\\\"_self\\\" title=\\\"G&auml;stehaus\\\"><IMG class=\\\"sk2018\\\" border=0 alt='G&auml;stehaus' src='/images/xgaestehaus_42281.png.pagespeed.ic.xClN9UM2DI.png' title=\\\"G&auml;stehaus\\\"></a>\\n\\n<a href=\\\"../../../Aktuelles_und_Presse/index.php\\\" target=\\\"_self\\\" title=\\\"Aktuelles\\\"><IMG class=\\\"sk2018\\\" border=0 alt='Aktuelles' src='/images/xaktuelles_42283.png.pagespeed.ic.DixyBlJJbJ.png' title=\\\"Aktuelles\\\"></a>\\n\\n<a href=\\\"https://www.knappschaft.de/cae/servlet/path/common/LoginPages?view=renderLogin\\\" target=\\\"_blank\\\" title=\\\"Mitglied werden\\\"><IMG class=\\\"sk2018\\\" border=0 alt='Mitglied werden' src='/images/xmitgliedwerden_42282.png.pagespeed.ic.1TG6_BRZr6.png' title=\\\"Mitglied werden\\\"></a>\\n\\n</div>\\n\\n\\t\\t</div>\\n<div id=\\\"id2962\\\" class=\\\"pansiteelement\\\">\\n\\t\\t<link rel=\\\"stylesheet\\\" href=\\\"/0_Technik/css/A.flexslider.css.pagespeed.cf.4r7M9BXdQt.css\\\" type=\\\"text/css\\\">\\n\\t\\t<div class=\\\"rahmenA\\\">\\n\\t\\t<div class=\\\"rahmenI\\\">\\n\\t\\t<div class=\\\"flexslider\\\">\\n          \\t\\t<ul class=\\\"slides\\\">\\n\\t\\t\\n\\t\\t\\t<li>\\n  \\t    \\t   \\t <div class=\\\"SlidrInhalt\\\"><img src=\\\"/images/x275C3382_29042.jpg.pagespeed.ic.bJpboBvdW9.jpg\\\" border=0 alt=\\\"Klinik f&uuml;r Mund-, Kiefer- und Plastische Gesichtschirurgie\\\" title=\\\"Klinik f&uuml;r Mund-, Kiefer- und Plastische Gesichtschirurgie\\\"></div>\\n  \\t    \\t\\t</li>\\n\\n\\t\\t\\n\\t\\t\\t<li>\\n  \\t    \\t   \\t <div class=\\\"SlidrInhalt\\\"><img src=\\\"/images/xMKG_AB_06b_30381.jpg.pagespeed.ic.7WQMAa1WZn.jpg\\\" border=0 alt=\\\"Klinik f&uuml;r Mund-, Kiefer- und Plastische Gesichtschirurgie\\\" title=\\\"Klinik f&uuml;r Mund-, Kiefer- und Plastische Gesichtschirurgie\\\"></div>\\n  \\t    \\t\\t</li>\\n\\n\\t\\t\\n\\t\\t\\t<li>\\n  \\t    \\t   \\t <div class=\\\"SlidrInhalt\\\"><img src=\\\"/images/xMKG_AB_02_30380.jpg.pagespeed.ic.nIgc4k-1KI.jpg\\\" border=0 alt=\\\"Klinik f&uuml;r Mund-, Kiefer- und Plastische Gesichtschirurgie\\\" title=\\\"Klinik f&uuml;r Mund-, Kiefer- und Plastische Gesichtschirurgie\\\"></div>\\n  \\t    \\t\\t</li>\\n\\n\\t\\t\\n\\t\\t</ul>\\n\\t\\t</div>\\n\\t\\t</div>\\n\\t\\t</div>\\n\\t\\t<div class=\\\"schatten\\\"></div>\\n<!-- jquery.flexslider.js -->\\n<script>eval(mod_pagespeed_LeNfIV0mLY);</script>\\n  <script type=\\\"text/javascript\\\">$(function(){});$(window).load(function(){$('.flexslider').flexslider({animation:\\\"slide\\\",start:function(slider){$('body').removeClass('loading');}});});</script>\\n\\t\\t</div>\\n<div id=\\\"id62426\\\" class=\\\"pansiteelement\\\">\\n\\t\\t<h1>Klinik f&uuml;r Mund-, Kiefer- und Plastische Gesichtschirurgie</h1>\\n\\t</div>\\n<div id=\\\"id64182\\\" class=\\\"pansiteelement\\\">\\n\\t\\t<DIV class=fliesstext>Die Klinik f&uuml;r Mund-, Kiefer- und Plastische Gesichtschirurgie am Knappschaftskrankenhaus Bochum-Langendreer unter der Leitung von Prof. Dr. Dr. Martin Kunkel ist eine universit&auml;re Einrichtung der Maximalversorgung. Unsere Klinik betreut das gesamte Spektrum s&auml;mtlicher Erkrankungen in der Mundh&ouml;hle sowie der Gesichts- und Kieferregion. <p><strong>Ambulante und station&auml;re Versorgung<br></strong>Neben derzeit 43 Betten f&uuml;r die station&auml;re operative Patientenversorgung verf&uuml;gt die Klinik &uuml;ber einen eigenst&auml;ndigen Ambulanzbereich mit der M&ouml;glichkeit, kleinere operative Eingriffe flexibel durchzuf&uuml;hren. Auch eine kurzzeitige, tagesklinische Betreuung im Rahmen des ambulanten Operierens ist auf der interdisziplin&auml;ren Therapiestation unseres Hauses jederzeit gew&auml;hrleistet. Der entscheidende Vorteil dieses verzahnten Versorgungskonzeptes liegt in der M&ouml;glichkeit, bei Bedarf innerhalb der Klinik jederzeit von den ambulanten zur station&auml;re Betreuung oder umgekehrt &uuml;berzuleiten. F&uuml;r die ambulante Behandlung, die wir gerne auf &Uuml;berweisung sowohl von &auml;rztlichen als auch von zahn&auml;rztlichen Kollegen vornehmen, steht Ihnen eine durchgehende allgemeine Sprechstunde zur Untersuchung und Beratung offen. Daneben bieten wir f&uuml;r einige Krankheitsbilder Spezialsprechstunden an, beispielsweise f&uuml;r die spezielle Beratung und Behandlung bei Gesichtsfehlbildungen (Lippen-Kiefer-Gaumenspalten), bei wachstumsbedingten Fehlbissen (Dysgnathien) und bei Tumorerkrankungen, aber auch f&uuml;r die Behandlung von Zahnverlusten und schlechtem Prothesenhalt wegen der R&uuml;ckbildung oder Erkrankung des Kieferknochens. </p><p>An dieser Stelle haben wir Ihnen&nbsp;<a href=\\\"_doc/2017_05_17_Checkliste_ambulante_Behandlung_MKG.pdf\\\" target=\\\"_blank\\\">hier</a> einige Hinweise f&uuml;r Ihren Untersuchungs- bzw. Behandlungstermin in unserer Ambulanz zusammengestellt.</p></DIV>\\n\\t\\t\\n\\t\\t</div>\\n<div id=\\\"id64183\\\" class=\\\"pansiteelement\\\">\\n\\t\\t<h2>Therapeutische Schwerpunkte</h2>\\n\\t</div>\\n<div id=\\\"id64181\\\" class=\\\"pansiteelement\\\">\\n\\t<script type=\\\"text/javascript\\\">$(document).ready(function(){$('.acc_container').hide();$('.acc_trigger').click(function(){if($(this).next().is(':hidden')){$('.acc_trigger').removeClass('active').next().slideUp();$(this).toggleClass('active').next().slideDown();}else{$('.acc_trigger').removeClass('active').next().slideUp();}return false;});});</script>\\n\\n\\n\\t  <div class=\\\"container\\\">\\n\\t\\t\\n\\t<h2 class=\\\"acc_trigger\\\"><a href=\\\"#\\\">Behandlung mit Zahnimplantaten</a></h2>\\n\\t<div class=\\\"acc_container\\\">\\n\\t\\t<div class=\\\"block\\\">\\n\\t\\t\\t<p>Die Behandlung der Folgen des Zahnverlustes stellt einen weiteren Schwerpunkt unseres Leistungsspektrums dar. Gerade bei einem fortgeschrittenen Abbau des Kieferknochens ist es h&auml;ufig erforderlich, zahn&auml;rztliche Behandlungen auf der Basis von k&uuml;nstlichen Zahnwurzeln (Implantaten) vorzunehmen. In einigen F&auml;llen muss zuvor noch der Kieferknochen aufgebaut oder erweitert werden. Hierzu stehen uns heute zahlreiche Behandlungsmethoden zur Verf&uuml;gung, mit denen, h&auml;ufig in recht schonenden, ambulanten Eingriffen, ein gutes Fundament f&uuml;r eine sp&auml;tere zahn&auml;rztliche Versorgung gelegt werden kann.</p>\\n\\t\\t</div>\\n\\t</div>\\n\\t\\t\\n\\t\\t\\n\\t<h2 class=\\\"acc_trigger\\\"><a href=\\\"#\\\">Behandlung von Wachstumsst&ouml;rungen und Fehlbissen</a></h2>\\n\\t<div class=\\\"acc_container\\\">\\n\\t\\t<div class=\\\"block\\\">\\n\\t\\t\\t<p>Die operative Behandlung von Wachstumsst&ouml;rungen und Fehlbissen (sog. Dysgnathie-Chirurgie) erfolgt in enger Zusammenarbeit mit den kieferorthop&auml;dischen Spezialisten der Region. Bei diesen Operationen korrigieren wir Wachstums- und Formst&ouml;rungen der Kiefer mit langj&auml;hrig bew&auml;hrten Operationsmethoden unter Einbeziehung moderner Planungs- und Simulationstechniken, um optimale Voraussetzungen f&uuml;r die Gesundheit des Kausystems zu schaffen. Dar&uuml;ber hinaus wird die Harmonie der Proportionen des Gesichtes verbessert oder wieder hergestellt.</p>\\n\\t\\t</div>\\n\\t</div>\\n\\t\\t\\n\\t\\t\\n\\t<h2 class=\\\"acc_trigger\\\"><a href=\\\"#\\\">Behandlung von angeborenen Gesichtsfehlbildungen</a></h2>\\n\\t<div class=\\\"acc_container\\\">\\n\\t\\t<div class=\\\"block\\\">\\n\\t\\t\\t<p>Die Behandlung der angeborenen Gesichtsfehlbildungen stellt einen besonderen Schwerpunkt der Klinik dar. In Zusammenarbeit mit den kinderheilkundlichen Zentren der Region werden die kleinen Patienten vom ersten Tag an kontinuierlich und individuell betreut. Auch &uuml;ber die operative Korrektur hinaus gew&auml;hrleistet unsere Klinik eine interdisziplin&auml;re Behandlung bis in das Erwachsenenalter, in die wir beispielsweise die Abteilung f&uuml;r Sprachdiagnostik und Sprachtherapie unseres Hauses aber auch andere Fachdisziplinen wie die Kieferorthop&auml;die kontinuierlich einbeziehen.</p>\\n\\t\\t</div>\\n\\t</div>\\n\\t\\t\\n\\t\\t\\n\\t<h2 class=\\\"acc_trigger\\\"><a href=\\\"#\\\">Behandlung von Tumorerkrankungen</a></h2>\\n\\t<div class=\\\"acc_container\\\">\\n\\t\\t<div class=\\\"block\\\">\\n\\t\\t\\t<p>Unsere Klinik betreut in gro&szlig;em Umfang Patienten mit gutartigen und b&ouml;sartigen Tumoren in der Mundh&ouml;hle, der Kiefer-Gesichtsregion aber auch der Hals- Gesichts- und Kopfhaut. <br>In diesem sensiblen und sichtbaren Bereich gilt unser Bestreben einer bestm&ouml;glichen Wiederherstellung der Sprech-, Kau- und Schluckfunktion und vor allem auch der Erhaltung oder Wiederherstellung der Harmonie, Ausdrucksweise und &Auml;sthetik des individuellen Gesichtes. <br>Hierzu ber&uuml;cksichtigen wir aktuelle Therapieleitlinien und ethische Gesichtspunkte und wenden modernste Operationsverfahren an, die, wenn erforderlich, beispielsweise auch die Transplantation k&ouml;rpereigenen Gewebes einbeziehen. F&uuml;r die interdisziplin&auml;re Abstimmung und Optimierung der Krebstherapie finden w&ouml;chentliche Tumorkonferenzen unter Beteiligung aller Spezialdisziplinen der modernen Krebsbehandlung statt (Innere Medizin und Onkologie, Strahlentherapie, Chirurgie, diagnostische Radiologie/Nuklearmedizin). Unsere Klinik &uuml;bernimmt, in Abstimmung mit den niedergelassenen Kollegen, auch die regelm&auml;&szlig;ige onkologische Nachkontrolle. </p>\\n\\t\\t</div>\\n\\t</div>\\n\\t\\t\\n\\t\\t\\n\\t<h2 class=\\\"acc_trigger\\\"><a href=\\\"#\\\">Akutbehandlung und Sekund&auml;rversorgung von Verletzungen</a></h2>\\n\\t<div class=\\\"acc_container\\\">\\n\\t\\t<div class=\\\"block\\\">\\n\\t\\t\\t<p>Die Akutbehandlung von Verletzungen im Gesichts-, Hals- und Kieferbereich, insbesondere von Knochenbr&uuml;chen aber auch von Weichgewebsverletzungen z&auml;hlt zu unseren sehr h&auml;ufigen Aufgaben. Durch den Einsatz moderner Osteosyntheseverfahren (Knochen-Stabilisierungs-Techniken) sowie mit Hilfe plastisch-rekonstruktiver Verfahren k&ouml;nnen selbst schwerste Verletzungen oftmals ohne nennenswerte Folgeerscheinungen behandelt werden. Die bew&auml;hrte enge Zusammenarbeit mit den direkten Nachbardisziplinen Neurochirurgie und Augenheilkunde sowie mit der Radiologie erlaubt bei der Versorgung von Gesichtsverletzungen aber auch bei der chirurgischen Therapie von Tumorerkrankungen und Fehlbildungen f&auml;cher&uuml;bergreifende Behandlungen mit hoher interdisziplin&auml;rer Fachkompetenz.</p>\\n\\t\\t</div>\\n\\t</div>\\n\\t\\t\\n\\t\\t\\n\\t<h2 class=\\\"acc_trigger\\\"><a href=\\\"#\\\">Wissenschaft und Forschung</a></h2>\\n\\t<div class=\\\"acc_container\\\">\\n\\t\\t<div class=\\\"block\\\">\\n\\t\\t\\t<p><p>Neben unserem Lehrauftrag in der Ausbildung von Studierenden der Medizin liegen die wissenschaftlichen Schwerpunkte unserer Klinik auf dem Gebiet der Grundlagen- und Prognoseforschung beim Mundh&ouml;hlenkarzinom. Dar&uuml;ber hinaus besch&auml;ftigen wir uns intensiv mit Aspekten von Knochenerkrankungen und Mechanismen der Knochenheilung und Knochenregeneration. </p><p>Weitere Arbeitsgebiete in der klinischen Forschung stellen die unterschiedlichen Methoden der skelettalen Verankerung in der Kieferorthop&auml;die aber auch Untersuchungen zur Lebensqualit&auml;t nach unterschiedlichen chirurgischen Ma&szlig;nahmen dar. Unter dem Gesichtpunkt der Qualit&auml;tssicherung beteiligen wir uns auf &uuml;berregionaler Ebene aktiv an der Erstellung und Weiterentwicklung von Leitlinien auf dem Fachgebiet der Mund-, Kiefer- und Gesichtschirurgie. </p></p>\\n\\t\\t</div>\\n\\t</div>\\n\\t\\t\\n\\t\\t\\n\\t   </div>\\n\\t\\t</div>\\n</div><!--contentid=1--><!--nxid=1-->\\n<div id=\\\"sidebarRight\\\">\\n<div id=\\\"id4786\\\" class=\\\"pansiteelement Ansprechpartner\\\">\\n\\t\\t\\n\\t\\t\\t<div class=\\\"rahmenA\\\">\\n\\t\\t\\t\\t<div class=\\\"rahmenI\\\">\\n\\t\\t\\t\\t\\t<div class=\\\"navh4\\\">Klinikdirektor</div>\\n\\t\\t\\t\\t\\t<div class=\\\"TeaserBild\\\"><img src=\\\"/images/xkunkel_martin2_29045.jpg.pagespeed.ic.Cej5gj2Kuw.jpg\\\" class=\\\"teaserhombild\\\" border=0 alt=\\\"Univ.-Prof. Dr. med. Dr. med. dent. Martin Kunkel\\\" title=\\\"Univ.-Prof. Dr. med. Dr. med. dent. Martin Kunkel\\\"></div>\\n\\t\\t\\t\\t\\t<div class=\\\"TeaserText\\\"><strong>Univ.-Prof. Dr. med. Dr. med. dent. Martin Kunkel</strong><br></div>\\n\\t\\t\\t\\t\\t<div class=\\\"Email\\\"><a href=\\\"/Inhalt/Kontakt/Kontakt_Formular.php?u=79\\\" target=\\\"_self\\\" title=\\\"E-Mail versenden\\\"><IMG border=0 alt=\\\"E-Mail\\\" src='/0_Technik/img/xEMail.png.pagespeed.ic.e0O6Z8TEGN.png' class=\\\"E-MAIL versenden\\\"></a></div>\\n\\t\\t\\t\\t\\t\\t\\t\\n\\t\\t\\t\\t</div>\\n\\t\\t\\t</div>\\n\\t\\t\\t<div class=\\\"schatten\\\"></div>\\n\\n\\t\\t</div>\\n<div id=\\\"id4786\\\" class=\\\"pansiteelement Ansprechpartner\\\">\\n\\t\\t\\n\\t\\t\\t<div class=\\\"rahmenA\\\">\\n\\t\\t\\t\\t<div class=\\\"rahmenI\\\">\\n\\t\\t\\t\\t\\t<div class=\\\"navh4\\\">Sekretariat</div>\\n\\t\\t\\t\\t\\t<div class=\\\"TeaserText\\\"><strong>Melanie Winderlich</strong><br>Tel.: <a href=\\\"tel:02342993501\\\">0234 / 299-3501</a><br>Fax: 0234 / 299-3509</div>\\n\\t\\t\\t\\t\\t<div class=\\\"Email\\\"><a href=\\\"/Inhalt/Kontakt/Kontakt_Formular.php?u=84\\\" target=\\\"_self\\\" title=\\\"E-Mail versenden\\\"><IMG border=0 alt=\\\"E-Mail\\\" src='/0_Technik/img/xEMail.png.pagespeed.ic.e0O6Z8TEGN.png' class=\\\"E-MAIL versenden\\\" title=\\\"E-MAIL versenden\\\"></a></div>\\n\\t\\t\\t\\t\\t\\t\\t\\n\\t\\t\\t\\t</div>\\n\\t\\t\\t</div>\\n\\t\\t\\t<div class=\\\"schatten\\\"></div>\\n\\n\\t\\t</div>\\n<div id=\\\"id64316\\\" class=\\\"pansiteelement TeaserRahmen\\\">\\n\\t\\t<div class=\\\"TeaserEinstieg\\\">\\n\\t\\t\\t<div class=\\\"rahmenA\\\">\\n\\t\\t\\t\\t<div class=\\\"rahmenI\\\">\\n\\t\\t\\t\\t\\t<h4>Sprechstunden</h4>\\n\\t\\t\\t\\t\\t<div class=\\\"TeaserBild\\\"><a href=\\\"./_Sprechstunden.php\\\" target=\\\"_self\\\" title=\\\"Sprechstunden\\\"><img src=\\\"/images/xSprechstunde_AB_01_30481.jpg.pagespeed.ic.tZy30sAm4Z.jpg\\\" class=\\\"teaserhombild\\\" border=0 alt=\\\"Sprechstunden\\\" title=\\\"Sprechstunden\\\"></a></div>\\n\\t\\t\\t\\t\\t<div class=\\\"TeaserLink\\\"><a href=\\\"./_Sprechstunden.php\\\" target=\\\"_self\\\" title=\\\"Sprechstunden\\\"><IMG border=0 alt='weiter' src='/images/xPfeil_Teaser_21417.png.pagespeed.ic.77iBgK3hI_.png' title=\\\"Sprechstunden\\\"></a></div>\\n\\t\\t\\t\\t\\t\\t\\t\\n\\t\\t\\t\\t</div>\\n\\t\\t\\t</div>\\n\\t\\t\\t<div class=\\\"schatten\\\"></div>\\n\\t\\t</div>\\n\\n\\t\\t</div>\\n<div id=\\\"id5420\\\" class=\\\"pansiteelement Ansprechpartner\\\">\\n\\t\\t\\n\\t\\t\\t<div class=\\\"rahmenA\\\">\\n\\t\\t\\t\\t<div class=\\\"rahmenI\\\">\\n\\t\\t\\t\\t\\t<div class=\\\"navh4\\\">Weitere Info</div>\\n\\t\\t\\t\\t\\t<div class=\\\"TeaserText\\\"><a href=\\\"http://www.ruhr-uni-bochum.de/mkg/\\\" target=\\\"_blank\\\">externe Klinikhomepage</a></div>\\n\\t\\t\\t\\t\\t\\t\\t\\t\\t\\t\\n\\t\\t\\t\\t</div>\\n\\t\\t\\t</div>\\n\\t\\t\\t<div class=\\\"schatten\\\"></div>\\n\\n\\t\\t</div>\\n<div id=\\\"id5420\\\" class=\\\"pansiteelement Ansprechpartner\\\">\\n\\t\\t\\n\\t\\t\\t<div class=\\\"rahmenA\\\">\\n\\t\\t\\t\\t<div class=\\\"rahmenI\\\">\\n\\t\\t\\t\\t\\t<div class=\\\"navh4\\\">Flyer</div>\\n\\t\\t\\t\\t\\t<div class=\\\"TeaserText\\\"><a href=\\\"../../../Patienten_Besucher/Downloadbereich/_doc/FL_MKG_2018.pdf\\\" target=\\\"_blank\\\">MKG-Chirurgie</a></div>\\n\\t\\t\\t\\t\\t\\t\\t\\t\\t\\t\\n\\t\\t\\t\\t</div>\\n\\t\\t\\t</div>\\n\\t\\t\\t<div class=\\\"schatten\\\"></div>\\n\\n\\t\\t</div>\\n<div id=\\\"id56939\\\" class=\\\"pansiteelement Ansprechpartner kompas\\\">\\n\\t\\t\\n\\t\\t\\t<div class=\\\"rahmenA\\\">\\n\\t\\t\\t\\t<div class=\\\"rahmenI\\\">\\n\\t\\t\\t\\t\\t<div class=\\\"navh4\\\">Focus &#8222;&Auml;rzteliste 2019&#8220; </div>\\n\\t\\t\\t\\t\\t<div class=\\\"TeaserBild\\\"><a href=\\\"https://focus-arztsuche.de/ueber-uns/siegel/top-mediziner \\\" target=\\\"_blank\\\"><img src=\\\"/images/x2019_Focus_Aerzte_Implantologie_44685.jpg.pagespeed.ic.vleCMDFeFn.jpg\\\" class=\\\"teaserhombild\\\" border=0 alt=\\\"Focus Siegel Implantologie\\\" title=\\\"Focus Siegel Implantologie\\\"></a></div>\\n\\t\\t\\t\\t\\t\\t\\t\\t\\t\\t\\t\\t\\n\\t\\t\\t\\t</div>\\n\\t\\t\\t</div>\\n\\t\\t\\t<div class=\\\"schatten\\\"></div>\\n\\n\\t\\t</div>\\n<div id=\\\"id56939\\\" class=\\\"pansiteelement Ansprechpartner kompas\\\">\\n\\t\\t\\n\\t\\t\\t<div class=\\\"rahmenA\\\">\\n\\t\\t\\t\\t<div class=\\\"rahmenI\\\">\\n\\t\\t\\t\\t\\t<div class=\\\"navh4\\\">Direktlink zum Arztprofil</div>\\n\\t\\t\\t\\t\\t<div class=\\\"TeaserBild\\\"><a href=\\\"https://focus-arztsuche.de/arzt/prof-dr-med-dr-med-dent-martin-kunkel-3419003\\\" target=\\\"_blank\\\"><img src=\\\"/images/x2019_Backlink-Top-Mediziner_44687.png.pagespeed.ic.7wXecA79cE.png\\\" class=\\\"teaserhombild\\\" border=0 alt=\\\"\\\" title=\\\"\\\"></a></div>\\n\\t\\t\\t\\t\\t\\t\\t\\t\\t\\t\\t\\t\\n\\t\\t\\t\\t</div>\\n\\t\\t\\t</div>\\n\\t\\t\\t<div class=\\\"schatten\\\"></div>\\n\\n\\t\\t</div>\\n</div>\\n<div class=\\\"clearfloat\\\">\\n</div>\\n</div>\\n<div id=\\\"FotterR\\\">\\n<div id=\\\"footer\\\">\\n<div id=\\\"id28789\\\" class=\\\"pansiteelement Fnav\\\">\\n\\t\\t<div class=\\\"rahmenA\\\">\\n\\t\\t<div class=\\\"rahmenI\\\">\\n\\t\\t<div class=\\\"navh4\\\"></div>\\n\\t\\t<ul>\\n\\t\\t\\n\\t\\t\\t<li class=\\\"Datenschutz\\\"><a href=\\\"../../../Datenschutz.php\\\" target=\\\"_self\\\">Datenschutz</a></li>\\n\\t\\t\\n\\t\\t\\t<li class=\\\"Impressum\\\"><a href=\\\"../../../Impressum.php\\\" target=\\\"_self\\\">Impressum</a></li>\\n\\t\\t\\n\\t\\t\\t<li class=\\\"Kontakt\\\"><a href=\\\"../../../Kontakt.php\\\" target=\\\"_self\\\">Kontakt</a></li>\\n\\t\\t\\n\\t\\t\\t<li class=\\\"Print\\\"><a href=\\\"javascript:self.print()\\\" target=\\\"_self\\\">Drucken</a></li>\\n\\t\\t\\n\\t\\t</ul>\\n\\t\\t</div>\\n\\t\\t</div>\\n\\t\\t<div class=\\\"schatten\\\"></div>\\n\\t\\t</div>\\n<div id=\\\"id89514\\\" class=\\\"pansiteelement\\\">\\n<div class=\\\"service2018\\\">\\n\\n<a href=\\\"../../../../index.php\\\" target=\\\"_self\\\" title=\\\"Home\\\"><IMG class=\\\"sk2018s\\\" border=0 alt='Home' src='/images/xfooterhome_42039.png.pagespeed.ic.XzgMw-RhhG.png' title=\\\"Home\\\"></a>\\n\\n<a href=\\\"../../../../Sitemap.php\\\" target=\\\"_self\\\" title=\\\"Sitemap\\\"><IMG class=\\\"sk2018s\\\" border=0 alt='Sitemap' src='/images/xfootersitemap_42034.png.pagespeed.ic.mYUcUvQ_LV.png' title=\\\"Sitemap\\\"></a>\\n\\n</div>\\n\\n\\t\\t</div>\\n</div>\\n<div id=\\\"footer2\\\">\\n<div id=\\\"id83336\\\" class=\\\"pansiteelement SitemapA\\\"><h6 class=\\\"sitemap\\\">Kliniken</h6>\\n\\n<ul class=\\\"sitemap\\\">\\n<li class=\\\"mainliu1\\\"><a href=\\\"/de/Kliniken_Zentren_Bereiche/Kliniken/Anaesthesiologie_Intensivmedizin_und_Schmerztherapie/index.php\\\" target=\\\"_self\\\">An\\u00e4sthesiologie, Intensivmedizin und Schmerztherapie</a></li>\\n<li class=\\\"mainliu2\\\"><a href=\\\"/de/Kliniken_Zentren_Bereiche/Kliniken/Augenheilkunde/index.php\\\" target=\\\"_self\\\">Augenheilkunde</a></li>\\n<li class=\\\"mainliu3\\\"><a href=\\\"/de/Kliniken_Zentren_Bereiche/Kliniken/Chirurgie/index.php\\\" target=\\\"_self\\\">Chirurgie</a></li>\\n<li class=\\\"mainliu4\\\"><a href=\\\"/de/Kliniken_Zentren_Bereiche/Kliniken/Medizinische_Klinik/index.php\\\" target=\\\"_self\\\">Medizinische Klinik</a></li>\\n<li class=\\\"mainliu5\\\"><a href=\\\"/de/Kliniken_Zentren_Bereiche/Kliniken/Mund_Kiefer_und_Plastische_Gesichtschirurgie/index.php\\\" target=\\\"_self\\\">Mund-, Kiefer- und Plastische Gesichtschirurgie</a></li>\\n<li class=\\\"mainliu6\\\"><a href=\\\"/de/Kliniken_Zentren_Bereiche/Kliniken/Neurochirurgie/index.php\\\" target=\\\"_self\\\">Neurochirurgie</a></li>\\n<li class=\\\"mainliu7\\\"><a href=\\\"/de/Kliniken_Zentren_Bereiche/Kliniken/Neurologie/index.php\\\" target=\\\"_self\\\">Neurologie</a></li>\\n<li class=\\\"mainliu8\\\"><a href=\\\"/de/Kliniken_Zentren_Bereiche/Kliniken/Radiologie_und_Nuklearmedizin/index.php\\\" target=\\\"_self\\\">Radiologie, Neuroradiologie und Nuklearmedizin</a></li>\\n<li class=\\\"mainliu9\\\"><a href=\\\"/de/Kliniken_Zentren_Bereiche/Kliniken/Unfallchirurgie_und_Orthopaedie/index.php\\\" target=\\\"_self\\\">Unfallchirurgie und Orthop\\u00e4die</a></li>\\n<li class=\\\"mainliu10\\\"><a href=\\\"/de/Kliniken_Zentren_Bereiche/Abteilung/Physikalische_Therapie_und_Physiotherapie/index.php\\\" target=\\\"_self\\\">Physikalische Therapie und Physiotherapie</a></li>\\n<li class=\\\"mainliu11\\\"><a href=\\\"/de/Kliniken_Zentren_Bereiche/Abteilung/Sprachdiagnostik_und_Sprachtherapie/index.php\\\" target=\\\"_self\\\">Sprachdiagnostik und Sprachtherapie</a></li>\\n</ul></div>\\n<div id=\\\"id83335\\\" class=\\\"pansiteelement SitemapB\\\"><h6 class=\\\"sitemap\\\">Zentren</h6>\\n\\n<ul class=\\\"sitemap\\\">\\n<li class=\\\"mainliu1\\\"><a href=\\\"/de/Kliniken_Zentren_Bereiche/Medizinische_Zentren/Darmkrebszentrum/index.php\\\" target=\\\"_self\\\">Darmzentrum</a></li>\\n<li class=\\\"mainliu2\\\"><a href=\\\"/de/Kliniken_Zentren_Bereiche/Medizinische_Zentren/Epilepsiezentrum/index.php\\\" target=\\\"_self\\\">Epilepsiezentrum</a></li>\\n<li class=\\\"mainliu3\\\"><a href=\\\"/de/Kliniken_Zentren_Bereiche/Kliniken/Mund_Kiefer_und_Plastische_Gesichtschirurgie/index.php\\\" target=\\\"_self\\\">Kopf-Hals-Tumorzentrum</a></li>\\n<li class=\\\"mainliu4\\\"><a href=\\\"/de/Kliniken_Zentren_Bereiche/Medizinische_Zentren/Onkologisches_Zentrum/index.php\\\" target=\\\"_self\\\">Onkologisches Zentrum</a></li>\\n<li class=\\\"mainliu5\\\"><a href=\\\"/de/Kliniken_Zentren_Bereiche/Medizinische_Zentren/Stroke_Unit/index.php\\\" target=\\\"_self\\\">Stroke Unit</a></li>\\n<li class=\\\"mainliu6\\\"><a href=\\\"/de/Kliniken_Zentren_Bereiche/Medizinische_Zentren/Transplantationszentrum/index.php\\\" target=\\\"_self\\\">Transplantationszentrum</a></li>\\n<li class=\\\"mainliu7\\\"><a href=\\\"/de/Kliniken_Zentren_Bereiche/Medizinische_Zentren/Traumazentrum/index.php\\\" target=\\\"_self\\\">Traumazentrum</a></li>\\n</ul></div>\\n</div>\\n<div id=\\\"footer3\\\">\\n<div id=\\\"id83333\\\" class=\\\"pansiteelement Zertifikat\\\"><IMG alt='Focus' src='/images/x2018_Focus_Klinikliste_website_42186.png.pagespeed.ic.LTpAzHTLbf.png' class=\\\"focus\\\"><IMG border=0 alt=\\\"KTQ Log\\\" src=\\\"https://www.kk-bochum.de/0_Technik/img/2018/xktq_2018.png.pagespeed.ic.kdck5Qs19z.png\\\"></div>\\n</div>\\n</div>\\n</div>  <!-- jquery.searchMeme.js-->\\n<script type=\\\"text/javascript\\\" src=\\\"https://www.kk-bochum.de/0_Technik/js/datenschutz.js.pagespeed.jm.ew1kieE3dZ.js\\\"></script>     <a href=\\\"#0\\\" class=\\\"cd-top\\\">Top</a>\\n<script type=\\\"text/javascript\\\">$(\\\"a\\\").each(function(){if($(this).attr(\\\"target\\\")==\\\"_blank\\\"){$(this).attr(\\\"title\\\",\\\"Externer Link, \\u00f6ffnet in neuem Fenster\\\");}});jQuery(document).ready(function($){var offset=300,offset_opacity=1200,scroll_top_duration=700,$back_to_top=$('.cd-top');$(window).scroll(function(){($(this).scrollTop()>offset)?$back_to_top.addClass('cd-is-visible'):$back_to_top.removeClass('cd-is-visible cd-fade-out');if($(this).scrollTop()>offset_opacity){$back_to_top.addClass('cd-fade-out');}});$back_to_top.on('click',function(event){event.preventDefault();$('body,html').animate({scrollTop:0,},scroll_top_duration);});});</script>  <script type=\\\"text/javascript\\\">$(document).ready(function(){\\\"use strict\\\";$('.menu > ul > li:has( > ul)').addClass('menu-dropdown-icon');$('.menu > ul > li > ul:not(:has(ul))').addClass('normal-sub');$(\\\".menu > ul\\\").before(\\\"<a href=\\\\\\\"#\\\\\\\" class=\\\\\\\"menu-mobile\\\\\\\">Men\\u00fc</a>\\\");$(\\\".menu > ul > li\\\").hover(function(e){if($(window).width()>943){$(this).children(\\\"ul\\\").stop(true,false).fadeToggle(150);e.preventDefault();}});$(\\\".menu > ul > li\\\").click(function(){if($(window).width()<=943){$(this).children(\\\"ul\\\").fadeToggle(150);}});$(\\\".menu-mobile\\\").click(function(e){$(\\\".menu > ul\\\").toggleClass('show-on-mobile');e.preventDefault();});});</script>\\n <!--nxid=1--></body></html>\\n\"\n        ],\n        \"semantic_type\": \"\",\n        \"description\": \"\"\n      }\n    }\n  ]\n}"
            }
          },
          "metadata": {},
          "execution_count": 12
        }
      ]
    },
    {
      "cell_type": "code",
      "source": [
        "import warnings\n",
        "\n",
        "from bs4 import BeautifulSoup\n",
        "\n",
        "warnings.filterwarnings(action=\"ignore\")\n",
        "\n",
        "\n",
        "def extract_html_text(html):\n",
        "    bs = BeautifulSoup(markup=html, features=\"lxml\")\n",
        "    for script in bs(name=[\"script\", \"style\"]):\n",
        "        script.decompose()\n",
        "    return bs.get_text(separator=\" \")\n",
        "\n",
        "\n",
        "train_csv[\"html_text\"] = train_csv[\"html\"].apply(extract_html_text)"
      ],
      "metadata": {
        "id": "JesJFcjth6wV"
      },
      "execution_count": 15,
      "outputs": []
    },
    {
      "cell_type": "code",
      "source": [
        "train_csv.sample(n=5, random_state=42)"
      ],
      "metadata": {
        "colab": {
          "base_uri": "https://localhost:8080/",
          "height": 483
        },
        "id": "2mEyDX5Ciga2",
        "outputId": "7e15e0e1-4e8d-4db8-80c5-1bb4626b30a4"
      },
      "execution_count": 16,
      "outputs": [
        {
          "output_type": "execute_result",
          "data": {
            "text/plain": [
              "                                                  url  doc_id  label  \\\n",
              "83  http://www.sbk-vs.de/de/medizin/leistungen-und...     125      1   \n",
              "53  http://www.klinikum-esslingen.de/kliniken-und-...      85      2   \n",
              "70  http://www.malteser-kliniken-rhein-ruhr.de/med...     107      2   \n",
              "45  http://www.klilu.de/medizin__pflege/kliniken_u...      73      2   \n",
              "44  http://www.kk-bochum.de/de/kliniken_zentren_be...      72      1   \n",
              "\n",
              "                                                 html  \\\n",
              "83  \\n\\n<!DOCTYPE HTML>\\n<html dir=\"ltr\" lang=\"de_...   \n",
              "53  <!DOCTYPE html>\\n<html xmlns=\"http://www.w3.or...   \n",
              "70  <!DOCTYPE html>\\n<html lang=\"de\">\\n<head>\\n\\n<...   \n",
              "45  <!DOCTYPE html>\\n<html lang=\"de\"><head>\\n\\t<me...   \n",
              "44  <!DOCTYPE html PUBLIC \"-//W3C//DTD HTML 4.01 T...   \n",
              "\n",
              "                                            html_text  \n",
              "83  \\n \\n \\n \\n \\n Prostata-Karzinom-Zentrum - Sch...  \n",
              "53  \\n \\n \\n \\n \\n \\n \\n \\n \\n \\n \\n \\n \\n \\n \\n \\...  \n",
              "70  \\n \\n \\n \\n \\n \\n \\n \\n \\n \\n \\n \\n \\n \\n \\n \\...  \n",
              "45  \\n \\n \\n \\n Darmzentrum Rheinpfalz » Zentren A...  \n",
              "44  \\n \\n \\n \\n \\n \\n \\n \\n \\n \\n \\n \\n \\n \\n \\n \\...  "
            ],
            "text/html": [
              "\n",
              "  <div id=\"df-67b7fb94-68af-492d-9dd7-12bc57a006f7\" class=\"colab-df-container\">\n",
              "    <div>\n",
              "<style scoped>\n",
              "    .dataframe tbody tr th:only-of-type {\n",
              "        vertical-align: middle;\n",
              "    }\n",
              "\n",
              "    .dataframe tbody tr th {\n",
              "        vertical-align: top;\n",
              "    }\n",
              "\n",
              "    .dataframe thead th {\n",
              "        text-align: right;\n",
              "    }\n",
              "</style>\n",
              "<table border=\"1\" class=\"dataframe\">\n",
              "  <thead>\n",
              "    <tr style=\"text-align: right;\">\n",
              "      <th></th>\n",
              "      <th>url</th>\n",
              "      <th>doc_id</th>\n",
              "      <th>label</th>\n",
              "      <th>html</th>\n",
              "      <th>html_text</th>\n",
              "    </tr>\n",
              "  </thead>\n",
              "  <tbody>\n",
              "    <tr>\n",
              "      <th>83</th>\n",
              "      <td>http://www.sbk-vs.de/de/medizin/leistungen-und...</td>\n",
              "      <td>125</td>\n",
              "      <td>1</td>\n",
              "      <td>\\n\\n&lt;!DOCTYPE HTML&gt;\\n&lt;html dir=\"ltr\" lang=\"de_...</td>\n",
              "      <td>\\n \\n \\n \\n \\n Prostata-Karzinom-Zentrum - Sch...</td>\n",
              "    </tr>\n",
              "    <tr>\n",
              "      <th>53</th>\n",
              "      <td>http://www.klinikum-esslingen.de/kliniken-und-...</td>\n",
              "      <td>85</td>\n",
              "      <td>2</td>\n",
              "      <td>&lt;!DOCTYPE html&gt;\\n&lt;html xmlns=\"http://www.w3.or...</td>\n",
              "      <td>\\n \\n \\n \\n \\n \\n \\n \\n \\n \\n \\n \\n \\n \\n \\n \\...</td>\n",
              "    </tr>\n",
              "    <tr>\n",
              "      <th>70</th>\n",
              "      <td>http://www.malteser-kliniken-rhein-ruhr.de/med...</td>\n",
              "      <td>107</td>\n",
              "      <td>2</td>\n",
              "      <td>&lt;!DOCTYPE html&gt;\\n&lt;html lang=\"de\"&gt;\\n&lt;head&gt;\\n\\n&lt;...</td>\n",
              "      <td>\\n \\n \\n \\n \\n \\n \\n \\n \\n \\n \\n \\n \\n \\n \\n \\...</td>\n",
              "    </tr>\n",
              "    <tr>\n",
              "      <th>45</th>\n",
              "      <td>http://www.klilu.de/medizin__pflege/kliniken_u...</td>\n",
              "      <td>73</td>\n",
              "      <td>2</td>\n",
              "      <td>&lt;!DOCTYPE html&gt;\\n&lt;html lang=\"de\"&gt;&lt;head&gt;\\n\\t&lt;me...</td>\n",
              "      <td>\\n \\n \\n \\n Darmzentrum Rheinpfalz » Zentren A...</td>\n",
              "    </tr>\n",
              "    <tr>\n",
              "      <th>44</th>\n",
              "      <td>http://www.kk-bochum.de/de/kliniken_zentren_be...</td>\n",
              "      <td>72</td>\n",
              "      <td>1</td>\n",
              "      <td>&lt;!DOCTYPE html PUBLIC \"-//W3C//DTD HTML 4.01 T...</td>\n",
              "      <td>\\n \\n \\n \\n \\n \\n \\n \\n \\n \\n \\n \\n \\n \\n \\n \\...</td>\n",
              "    </tr>\n",
              "  </tbody>\n",
              "</table>\n",
              "</div>\n",
              "    <div class=\"colab-df-buttons\">\n",
              "\n",
              "  <div class=\"colab-df-container\">\n",
              "    <button class=\"colab-df-convert\" onclick=\"convertToInteractive('df-67b7fb94-68af-492d-9dd7-12bc57a006f7')\"\n",
              "            title=\"Convert this dataframe to an interactive table.\"\n",
              "            style=\"display:none;\">\n",
              "\n",
              "  <svg xmlns=\"http://www.w3.org/2000/svg\" height=\"24px\" viewBox=\"0 -960 960 960\">\n",
              "    <path d=\"M120-120v-720h720v720H120Zm60-500h600v-160H180v160Zm220 220h160v-160H400v160Zm0 220h160v-160H400v160ZM180-400h160v-160H180v160Zm440 0h160v-160H620v160ZM180-180h160v-160H180v160Zm440 0h160v-160H620v160Z\"/>\n",
              "  </svg>\n",
              "    </button>\n",
              "\n",
              "  <style>\n",
              "    .colab-df-container {\n",
              "      display:flex;\n",
              "      gap: 12px;\n",
              "    }\n",
              "\n",
              "    .colab-df-convert {\n",
              "      background-color: #E8F0FE;\n",
              "      border: none;\n",
              "      border-radius: 50%;\n",
              "      cursor: pointer;\n",
              "      display: none;\n",
              "      fill: #1967D2;\n",
              "      height: 32px;\n",
              "      padding: 0 0 0 0;\n",
              "      width: 32px;\n",
              "    }\n",
              "\n",
              "    .colab-df-convert:hover {\n",
              "      background-color: #E2EBFA;\n",
              "      box-shadow: 0px 1px 2px rgba(60, 64, 67, 0.3), 0px 1px 3px 1px rgba(60, 64, 67, 0.15);\n",
              "      fill: #174EA6;\n",
              "    }\n",
              "\n",
              "    .colab-df-buttons div {\n",
              "      margin-bottom: 4px;\n",
              "    }\n",
              "\n",
              "    [theme=dark] .colab-df-convert {\n",
              "      background-color: #3B4455;\n",
              "      fill: #D2E3FC;\n",
              "    }\n",
              "\n",
              "    [theme=dark] .colab-df-convert:hover {\n",
              "      background-color: #434B5C;\n",
              "      box-shadow: 0px 1px 3px 1px rgba(0, 0, 0, 0.15);\n",
              "      filter: drop-shadow(0px 1px 2px rgba(0, 0, 0, 0.3));\n",
              "      fill: #FFFFFF;\n",
              "    }\n",
              "  </style>\n",
              "\n",
              "    <script>\n",
              "      const buttonEl =\n",
              "        document.querySelector('#df-67b7fb94-68af-492d-9dd7-12bc57a006f7 button.colab-df-convert');\n",
              "      buttonEl.style.display =\n",
              "        google.colab.kernel.accessAllowed ? 'block' : 'none';\n",
              "\n",
              "      async function convertToInteractive(key) {\n",
              "        const element = document.querySelector('#df-67b7fb94-68af-492d-9dd7-12bc57a006f7');\n",
              "        const dataTable =\n",
              "          await google.colab.kernel.invokeFunction('convertToInteractive',\n",
              "                                                    [key], {});\n",
              "        if (!dataTable) return;\n",
              "\n",
              "        const docLinkHtml = 'Like what you see? Visit the ' +\n",
              "          '<a target=\"_blank\" href=https://colab.research.google.com/notebooks/data_table.ipynb>data table notebook</a>'\n",
              "          + ' to learn more about interactive tables.';\n",
              "        element.innerHTML = '';\n",
              "        dataTable['output_type'] = 'display_data';\n",
              "        await google.colab.output.renderOutput(dataTable, element);\n",
              "        const docLink = document.createElement('div');\n",
              "        docLink.innerHTML = docLinkHtml;\n",
              "        element.appendChild(docLink);\n",
              "      }\n",
              "    </script>\n",
              "  </div>\n",
              "\n",
              "\n",
              "    <div id=\"df-9672f0d8-8eec-4215-aed2-2e08fa801a10\">\n",
              "      <button class=\"colab-df-quickchart\" onclick=\"quickchart('df-9672f0d8-8eec-4215-aed2-2e08fa801a10')\"\n",
              "                title=\"Suggest charts\"\n",
              "                style=\"display:none;\">\n",
              "\n",
              "<svg xmlns=\"http://www.w3.org/2000/svg\" height=\"24px\"viewBox=\"0 0 24 24\"\n",
              "     width=\"24px\">\n",
              "    <g>\n",
              "        <path d=\"M19 3H5c-1.1 0-2 .9-2 2v14c0 1.1.9 2 2 2h14c1.1 0 2-.9 2-2V5c0-1.1-.9-2-2-2zM9 17H7v-7h2v7zm4 0h-2V7h2v10zm4 0h-2v-4h2v4z\"/>\n",
              "    </g>\n",
              "</svg>\n",
              "      </button>\n",
              "\n",
              "<style>\n",
              "  .colab-df-quickchart {\n",
              "      --bg-color: #E8F0FE;\n",
              "      --fill-color: #1967D2;\n",
              "      --hover-bg-color: #E2EBFA;\n",
              "      --hover-fill-color: #174EA6;\n",
              "      --disabled-fill-color: #AAA;\n",
              "      --disabled-bg-color: #DDD;\n",
              "  }\n",
              "\n",
              "  [theme=dark] .colab-df-quickchart {\n",
              "      --bg-color: #3B4455;\n",
              "      --fill-color: #D2E3FC;\n",
              "      --hover-bg-color: #434B5C;\n",
              "      --hover-fill-color: #FFFFFF;\n",
              "      --disabled-bg-color: #3B4455;\n",
              "      --disabled-fill-color: #666;\n",
              "  }\n",
              "\n",
              "  .colab-df-quickchart {\n",
              "    background-color: var(--bg-color);\n",
              "    border: none;\n",
              "    border-radius: 50%;\n",
              "    cursor: pointer;\n",
              "    display: none;\n",
              "    fill: var(--fill-color);\n",
              "    height: 32px;\n",
              "    padding: 0;\n",
              "    width: 32px;\n",
              "  }\n",
              "\n",
              "  .colab-df-quickchart:hover {\n",
              "    background-color: var(--hover-bg-color);\n",
              "    box-shadow: 0 1px 2px rgba(60, 64, 67, 0.3), 0 1px 3px 1px rgba(60, 64, 67, 0.15);\n",
              "    fill: var(--button-hover-fill-color);\n",
              "  }\n",
              "\n",
              "  .colab-df-quickchart-complete:disabled,\n",
              "  .colab-df-quickchart-complete:disabled:hover {\n",
              "    background-color: var(--disabled-bg-color);\n",
              "    fill: var(--disabled-fill-color);\n",
              "    box-shadow: none;\n",
              "  }\n",
              "\n",
              "  .colab-df-spinner {\n",
              "    border: 2px solid var(--fill-color);\n",
              "    border-color: transparent;\n",
              "    border-bottom-color: var(--fill-color);\n",
              "    animation:\n",
              "      spin 1s steps(1) infinite;\n",
              "  }\n",
              "\n",
              "  @keyframes spin {\n",
              "    0% {\n",
              "      border-color: transparent;\n",
              "      border-bottom-color: var(--fill-color);\n",
              "      border-left-color: var(--fill-color);\n",
              "    }\n",
              "    20% {\n",
              "      border-color: transparent;\n",
              "      border-left-color: var(--fill-color);\n",
              "      border-top-color: var(--fill-color);\n",
              "    }\n",
              "    30% {\n",
              "      border-color: transparent;\n",
              "      border-left-color: var(--fill-color);\n",
              "      border-top-color: var(--fill-color);\n",
              "      border-right-color: var(--fill-color);\n",
              "    }\n",
              "    40% {\n",
              "      border-color: transparent;\n",
              "      border-right-color: var(--fill-color);\n",
              "      border-top-color: var(--fill-color);\n",
              "    }\n",
              "    60% {\n",
              "      border-color: transparent;\n",
              "      border-right-color: var(--fill-color);\n",
              "    }\n",
              "    80% {\n",
              "      border-color: transparent;\n",
              "      border-right-color: var(--fill-color);\n",
              "      border-bottom-color: var(--fill-color);\n",
              "    }\n",
              "    90% {\n",
              "      border-color: transparent;\n",
              "      border-bottom-color: var(--fill-color);\n",
              "    }\n",
              "  }\n",
              "</style>\n",
              "\n",
              "      <script>\n",
              "        async function quickchart(key) {\n",
              "          const quickchartButtonEl =\n",
              "            document.querySelector('#' + key + ' button');\n",
              "          quickchartButtonEl.disabled = true;  // To prevent multiple clicks.\n",
              "          quickchartButtonEl.classList.add('colab-df-spinner');\n",
              "          try {\n",
              "            const charts = await google.colab.kernel.invokeFunction(\n",
              "                'suggestCharts', [key], {});\n",
              "          } catch (error) {\n",
              "            console.error('Error during call to suggestCharts:', error);\n",
              "          }\n",
              "          quickchartButtonEl.classList.remove('colab-df-spinner');\n",
              "          quickchartButtonEl.classList.add('colab-df-quickchart-complete');\n",
              "        }\n",
              "        (() => {\n",
              "          let quickchartButtonEl =\n",
              "            document.querySelector('#df-9672f0d8-8eec-4215-aed2-2e08fa801a10 button');\n",
              "          quickchartButtonEl.style.display =\n",
              "            google.colab.kernel.accessAllowed ? 'block' : 'none';\n",
              "        })();\n",
              "      </script>\n",
              "    </div>\n",
              "\n",
              "    </div>\n",
              "  </div>\n"
            ],
            "application/vnd.google.colaboratory.intrinsic+json": {
              "type": "dataframe",
              "summary": "{\n  \"name\": \"train_csv\",\n  \"rows\": 5,\n  \"fields\": [\n    {\n      \"column\": \"url\",\n      \"properties\": {\n        \"dtype\": \"string\",\n        \"num_unique_values\": 5,\n        \"samples\": [\n          \"http://www.klinikum-esslingen.de/kliniken-und-zentren/gefaess-und-thoraxchirurgie/unser-profil/?l=984%22\",\n          \"http://www.kk-bochum.de/de/kliniken_zentren_bereiche/kliniken/mund_kiefer_und_plastische_gesichtschirurgie/?no=1&z_highmain=0&z_highsub=0&z_highsubsub=0\",\n          \"http://www.malteser-kliniken-rhein-ruhr.de/medizinische-fachbereiche/zentren-und-institute/darmzentrum-duisburg.html/?type=%23%23%23typenum%23%23%23%27a%3D0%27a%3D0\"\n        ],\n        \"semantic_type\": \"\",\n        \"description\": \"\"\n      }\n    },\n    {\n      \"column\": \"doc_id\",\n      \"properties\": {\n        \"dtype\": \"number\",\n        \"std\": 23,\n        \"min\": 72,\n        \"max\": 125,\n        \"num_unique_values\": 5,\n        \"samples\": [\n          85,\n          72,\n          107\n        ],\n        \"semantic_type\": \"\",\n        \"description\": \"\"\n      }\n    },\n    {\n      \"column\": \"label\",\n      \"properties\": {\n        \"dtype\": \"number\",\n        \"std\": 0,\n        \"min\": 1,\n        \"max\": 2,\n        \"num_unique_values\": 2,\n        \"samples\": [\n          2,\n          1\n        ],\n        \"semantic_type\": \"\",\n        \"description\": \"\"\n      }\n    },\n    {\n      \"column\": \"html\",\n      \"properties\": {\n        \"dtype\": \"string\",\n        \"num_unique_values\": 5,\n        \"samples\": [\n          \"<!DOCTYPE html>\\n<html xmlns=\\\"http://www.w3.org/1999/xhtml\\\" xml:lang=\\\"de\\\" lang=\\\"de\\\">\\n<head>\\n\\n<meta charset=\\\"utf-8\\\">\\n<!-- \\n\\tThis website is powered by TYPO3 - inspiring people to share!\\n\\tTYPO3 is a free open source Content Management Framework initially created by Kasper Skaarhoj and licensed under GNU/GPL.\\n\\tTYPO3 is copyright 1998-2018 of Kasper Skaarhoj. Extensions are copyright of their respective owners.\\n\\tInformation and contribution at https://typo3.org/\\n-->\\n\\n\\n\\n\\n<meta name=\\\"generator\\\" content=\\\"TYPO3 CMS\\\">\\n<meta name=\\\"robots\\\" content=\\\"INDEX,FOLLOW\\\">\\n<meta name=\\\"viewport\\\" content=\\\"width=device-width, initial-scale=1.0\\\">\\n<meta name=\\\"X-UA-Compatible\\\" content=\\\"IE=edge,chrome=1\\\">\\n\\n\\n<link rel=\\\"stylesheet\\\" type=\\\"text/css\\\" href=\\\"/typo3temp/Assets/7fcf40d426.css?1457011804\\\" media=\\\"all\\\">\\n<link rel=\\\"stylesheet\\\" type=\\\"text/css\\\" href=\\\"/typo3conf/ext/as_template/Resources/Public/Vendor/bootstrap/css/bootstrap.min.css?1554366461\\\" media=\\\"all\\\">\\n<link rel=\\\"stylesheet\\\" type=\\\"text/css\\\" href=\\\"/typo3conf/ext/as_template/Resources/Public/Vendor/lightbox/css/lightbox.min.css?1554366461\\\" media=\\\"all\\\">\\n<link rel=\\\"stylesheet\\\" type=\\\"text/css\\\" href=\\\"/typo3conf/ext/as_template/Resources/Public/Stylesheets/ie10-viewport-bug-workaround.css?1554366461\\\" media=\\\"all\\\">\\n<link rel=\\\"stylesheet\\\" type=\\\"text/css\\\" href=\\\"/typo3conf/ext/as_template/Resources/Public/Vendor/prettyPhoto/css/prettyPhoto.css?1554366461\\\" media=\\\"all\\\">\\n<link rel=\\\"stylesheet\\\" type=\\\"text/css\\\" href=\\\"/typo3conf/ext/as_template/Resources/Public/Vendor/jquery-ui/jquery-ui-1.11.3/jquery-ui.css?1554366461\\\" media=\\\"all\\\">\\n<link rel=\\\"stylesheet\\\" type=\\\"text/css\\\" href=\\\"/typo3conf/ext/as_template/Resources/Public/Stylesheets/jquery-ui.theme.css?1554366461\\\" media=\\\"all\\\">\\n<link rel=\\\"stylesheet\\\" type=\\\"text/css\\\" href=\\\"/typo3conf/ext/as_template/Resources/Public/Stylesheets/index.css?1554366461\\\" media=\\\"all\\\">\\n<link rel=\\\"stylesheet\\\" type=\\\"text/css\\\" href=\\\"/typo3conf/ext/as_template/Resources/Public/Stylesheets/slideshow.css?1554366461\\\" media=\\\"all\\\">\\n<link rel=\\\"stylesheet\\\" type=\\\"text/css\\\" href=\\\"/typo3conf/ext/as_template/Resources/Public/Stylesheets/unterseite.css?1554366461\\\" media=\\\"all\\\">\\n<link rel=\\\"stylesheet\\\" type=\\\"text/css\\\" href=\\\"/typo3conf/ext/as_template/Resources/Public/Stylesheets/waspassiert.css?1554366461\\\" media=\\\"all\\\">\\n<link rel=\\\"stylesheet\\\" type=\\\"text/css\\\" href=\\\"/typo3conf/ext/as_template/Resources/Public/Stylesheets/styles.css?1554366461\\\" media=\\\"all\\\">\\n<link rel=\\\"stylesheet\\\" type=\\\"text/css\\\" href=\\\"/typo3conf/ext/as_template/Resources/Public/Stylesheets/responsive.css?1554366461\\\" media=\\\"all\\\">\\n<link rel=\\\"stylesheet\\\" type=\\\"text/css\\\" href=\\\"/typo3conf/ext/as_cookieconsent/Resources/Public/JavaScript/cookieconsent-3.0.3/cookieconsent.min.css?1527084029\\\" media=\\\"all\\\">\\n<link rel=\\\"stylesheet\\\" type=\\\"text/css\\\" href=\\\"/typo3temp/Assets/a077d45e47.css?1518164316\\\" media=\\\"all\\\">\\n\\n\\n\\n\\n<!--[if lt IE 9]><script src=\\\"//oss.maxcdn.com/html5shiv/3.7.2/html5shiv.min.js\\\" type=\\\"text/javascript\\\"></script><![endif]-->\\n<!--[if lt IE 9]><script src=\\\"//oss.maxcdn.com/respond/1.4.2/respond.min.js\\\" type=\\\"text/javascript\\\"></script><![endif]-->\\n<script src=\\\"/typo3temp/Assets/9a38f34785.js?1456165291\\\" type=\\\"text/javascript\\\"></script>\\n\\n\\n\\n<title>Unser Profil&nbsp;&#124;&nbsp;Gef\\u00c3\\u00a4\\u00c3\\u009f- und Thoraxchirurgie &#124; Klinikum Esslingen</title><meta name=\\\"google-site-verification\\\" content=\\\"jCvVoz3eBvfGqBoiI4A5kguVqsQIc_LENaX9tYxsQ1U\\\" /><meta name=\\\"google-site-verification\\\" content=\\\"HMTmtj49uI-5wR-Ss4GRDB9d-Peinbi1tZ2M5M9VfQ4\\\" />  <link rel=\\\"shortcut icon\\\" href=\\\"/fileadmin/medienpool/favicon.ico\\\" type=\\\"image/x-ico; charset=binary\\\" />\\n  <link rel=\\\"icon\\\" href=\\\"/fileadmin/medienpool/favicon.ico\\\" type=\\\"image/x-ico; charset=binary\\\" />\\n  \\n\\n</head>\\n<body class=\\\"lila\\\" oncontextmenu=\\\"return false\\\">\\n\\n<nav class=\\\"navbar navbar-default kopf\\\">\\n\\t<div class=\\\"container-fluid\\\">\\n\\t\\t<div class=\\\"navbar-header\\\">\\n\\t\\t\\t\\t\\t<button type=\\\"button\\\" class=\\\"navbar-toggle collapsed\\\" data-toggle=\\\"collapse\\\" data-target=\\\"#navbar\\\" aria-expanded=\\\"false\\\" aria-controls=\\\"navbar\\\">\\n\\t\\t\\t<span class=\\\"sr-only\\\">Toggle navigation</span>\\n\\t\\t\\t<span class=\\\"icon-bar\\\"></span>\\n\\t\\t\\t<span class=\\\"icon-bar\\\"></span>\\n\\t\\t\\t<span class=\\\"icon-bar\\\"></span>\\n\\t\\t</button>\\n\\t\\t\\t\\t\\t<form class=\\\"navbar-form visible-xs-block\\\">\\n\\t\\t\\t<div class=\\\"form-group\\\">\\n\\t\\t\\t\\t<input type=\\\"text\\\" placeholder=\\\"Suche\\\" class=\\\"form-control\\\">\\n\\t\\t\\t</div>\\n\\t\\t\\t<button type=\\\"submit\\\" class=\\\"btn btn-success\\\"></button>\\n\\t\\t</form>\\n\\t\\t\\t<a href=\\\"/?L=724\\\" title=\\\"zur Startseite\\\" class=\\\"navbar-brand\\\"><img src=\\\"/typo3conf/ext/as_template/Resources/Public/Images/logo.png\\\" alt=\\\"Klinikum Esslingen\\\"/></a>\\n\\t\\t</div>\\n\\t\\t<div id=\\\"navbar\\\" class=\\\"navbar-collapse collapse\\\">\\n\\t\\t\\t<ul class=\\\"nav navbar-nav\\\"><li class=\\\"dropdown kliniken\\\"><a href=\\\"/kliniken-und-zentren/?L=724\\\" role=\\\"button\\\" aria-haspopup=\\\"true\\\" aria-expanded=\\\"false\\\">Kliniken &amp; Zentren</a><ul class=\\\"dropdown-menu hidden-xs\\\"><li><div class=\\\"row\\\"><div class=\\\"col-sm-4\\\">\\n<div id=\\\"c27\\\">\\n\\t\\n\\n\\t\\n\\n\\n\\t\\n\\t<div class=\\\"tx-typoscript2ce\\\">\\n\\t\\n\\t\\n\\t\\t<ul><li class=\\\"dropdown-header\\\">Kliniken</li><li><a href=\\\"/kliniken-und-zentren/allgemein-und-viszeralchirurgie/unser-profil/?L=724\\\">Allgemein- und Viszeralchirurgie</a></li><li><a href=\\\"/kliniken-und-zentren/allgemeine-innere-medizin-onkologiehaematologie-gastroenterologie-und-infektiologie/unser-profil/?L=724\\\">Allgemeine Innere Medizin, Onkologie/H\\u00c3\\u00a4matologie, Gastroenterologie und Infektiologie</a></li><li><a href=\\\"/kliniken-und-zentren/anaesthesiologie-und-operative-intensivmedizin/unser-profil/?L=724\\\">An\\u00c3\\u00a4sthesiologie und operative Intensivmedizin</a></li><li><a href=\\\"/kliniken-und-zentren/frauenheilkunde-und-geburtshilfe/unser-profil/?L=724\\\">Frauenheilkunde und Geburtshilfe</a></li><li class=\\\"active\\\"><a href=\\\"/kliniken-und-zentren/gefaess-und-thoraxchirurgie/unser-profil/?L=724\\\">Gef\\u00c3\\u00a4\\u00c3\\u009f- und Thoraxchirurgie</a></li><li><a href=\\\"/kliniken-und-zentren/kardiologie-angiologie-und-pneumologie/unser-profil/?L=724\\\">Kardiologie, Angiologie und Pneumologie</a></li><li><a href=\\\"/kliniken-und-zentren/kinder-und-jugendliche/unser-profil/?L=724\\\">Kinder und Jugendliche</a></li><li><a href=\\\"/kliniken-und-zentren/kinder-und-jugendpsychiatrie-psychosomatik-und-psychotherapie/unser-profil/?L=724\\\">Kinder- und Jugendpsychiatrie, Psychosomatik und Psychotherapie</a></li><li><a href=\\\"/kliniken-und-zentren/neurologie-und-klinische-neurophysiologie/unser-profil/?L=724\\\">Neurologie und klinische Neurophysiologie</a></li><li><a href=\\\"/kliniken-und-zentren/psychosomatische-medizin-und-psychotherapie/unser-profil/?L=724\\\">Psychosomatische Medizin und Psychotherapie</a></li><li><a href=\\\"/kliniken-und-zentren/diagnostische-und-interventionelle-radiologie-und-nuklearmedizin/unser-profil/?L=724\\\">Diagnostische und interventionelle Radiologie und Nuklearmedizin</a></li><li><a href=\\\"http://www.mvz-ke.de/fachabteilungen/mvz-strahlentherapie-und-radioonkologie/startseite/?L=724\\\">Strahlentherapie und Radioonkologie</a></li><li><a href=\\\"/kliniken-und-zentren/unfallchirurgie-und-orthopaedie/unser-profil/?L=724\\\">Unfallchirurgie und Orthop\\u00c3\\u00a4die</a></li><li id=\\\"trenner60\\\" class=\\\"trenner\\\">&nbsp;</li><li><a href=\\\"/kliniken-und-zentren/belegklinik-augen/unser-profil/?L=724\\\">Belegklinik Augen</a></li><li><a href=\\\"/kliniken-und-zentren/belegklinik-hno/unser-profil/?L=724\\\">Belegklinik HNO</a></li></ul>\\n\\t\\n\\n</div>\\n\\n\\t\\n\\n\\n</div>\\n</div><div class=\\\"col-sm-4\\\">\\n<div id=\\\"c28\\\">\\n\\t\\n\\n\\t\\n\\n\\n\\t\\n\\t<div class=\\\"tx-typoscript2ce\\\">\\n\\t\\n\\t\\n\\t\\t<ul><li class=\\\"dropdown-header\\\">Zentren</li><li class=\\\"active\\\"><a href=\\\"/kliniken-und-zentren/onkologisches-zentrum/unser-profil/?L=724\\\">Cancer Center Esslingen CCE</a><ul><li class=\\\"active\\\"><a href=\\\"/kliniken-und-zentren/onkologisches-zentrum/darmzentrum/unser-profil/?L=724\\\">Darmzentrum Esslingen DZE</a></li><li class=\\\"active\\\"><a href=\\\"/kliniken-und-zentren/onkologisches-zentrum/interdisziplinaeres-brustzentrum/unser-profil/?L=724\\\">Brustzentrum Esslingen BZE</a></li><li class=\\\"active\\\"><a href=\\\"/kliniken-und-zentren/onkologisches-zentrum/lungenkrebszentrum-tess/unser-profil/?L=724\\\">Lungenkrebszentrum (TESS)</a></li><li class=\\\"active\\\"><a href=\\\"/kliniken-und-zentren/onkologisches-zentrum/zentrum-fuer-gynaekologische-tumorerkrankungen/unser-profil/?L=724\\\">Gyn\\u00c3\\u00a4kologisches Tumorzentrum Esslingen GTZE</a></li><li class=\\\"active\\\"><a href=\\\"/kliniken-und-zentren/onkologisches-zentrum/pankreaskarzinom-zentrum/unser-profil/?L=724\\\">Pankreaszentrum PZE</a></li><li class=\\\"active\\\"><a href=\\\"/kliniken-und-zentren/leberzentrum/unser-profil/?L=724\\\">Leberzentrum Esslingen LZE</a></li><li class=\\\"active\\\"><a href=\\\"/kliniken-und-zentren/onkologisches-zentrum/ambulantes-onkologiezentrum/unser-profil/?L=724\\\">Ambulantes Onkologiezentrum</a></li></ul></li><li class=\\\"active\\\"><a href=\\\"/kliniken-und-zentren/adipositaszentrum/unser-profil/?L=724\\\">Adipositaszentrum</a></li><li class=\\\"active\\\"><a href=\\\"/kliniken-und-zentren/ambulantes-op-zentrum/unser-profil/?L=724\\\">Ambulantes OP-Zentrum</a></li><li class=\\\"active\\\"><a href=\\\"/kliniken-und-zentren/beckenbodenzentrum/unser-profil/?L=724\\\">Beckenbodenzentrum</a></li><li class=\\\"active\\\"><a href=\\\"/kliniken-und-zentren/endometriose-und-myom-zentrum/unser-profil/?L=724\\\">Endometriose- und Myom-Zentrum</a></li><li class=\\\"active\\\"><a href=\\\"/kliniken-und-zentren/endoprothetikzentrum/unser-profil/?L=724\\\">Endoprothetikzentrum</a></li><li class=\\\"active\\\"><a href=\\\"/kliniken-und-zentren/endoskopiezentrum/unser-profil/?L=724\\\">Endoskopiezentrum</a></li><li class=\\\"active\\\"><a href=\\\"/kliniken-und-zentren/gefaesszentrum/unser-profil/?L=724\\\">Gef\\u00c3\\u00a4\\u00c3\\u009fzentrum</a></li><li><a href=\\\"http://mkz.klinikum-esslingen.de\\\" target=\\\"_blank\\\">Mutter-Kind-Zentrum</a></li><li class=\\\"active\\\"><a href=\\\"/kliniken-und-zentren/perinatalzentrum/unser-profil/?L=724\\\">Perinatalzentrum</a></li><li class=\\\"active\\\"><a href=\\\"/kliniken-und-zentren/regionales-traumazentrum/unser-profil/?L=724\\\">Regionales Traumazentrum</a></li><li><a href=\\\"/kliniken-und-zentren/kinder-und-jugendliche/medizinische-schwerpunkte/sozialpaediatrisches-zentrum/?L=724\\\">Sozialp\\u00c3\\u00a4diatrisches Zentrum</a></li><li class=\\\"active\\\"><a href=\\\"/kliniken-und-zentren/zentrum-fuer-wirbelsaeulentherapie/unser-profil/?L=724\\\">Zentrum f\\u00c3\\u00bcr Wirbels\\u00c3\\u00a4ulentherapie</a></li></ul>\\n\\t\\n\\n</div>\\n\\n\\t\\n\\n\\n</div>\\n</div><div class=\\\"col-sm-4\\\">\\n<div id=\\\"c29\\\">\\n\\t\\n\\n\\t\\n\\n\\n\\t\\n\\t<div class=\\\"tx-typoscript2ce\\\">\\n\\t\\n\\t\\n\\t\\t<ul><li class=\\\"dropdown-header\\\">Weitere Einrichtungen</li><li class=\\\"active\\\"><a href=\\\"/kliniken-und-zentren/zentrale-notaufnahme/unser-profil/?L=724\\\">Zentrale Notaufnahme</a></li><li class=\\\"active\\\"><a href=\\\"http://www.mvz-ke.de/?L=724\\\">Praxen im Medizinischen Versorgungszentrum (MVZ)</a><ul><li><a href=\\\"http://www.mvz-ke.de/fachabteilungen/mvz-strahlentherapie-und-radioonkologie/startseite/?L=724\\\">MVZ Strahlentherapie und Radioonkologie</a></li><li><a href=\\\"http://www.mvz-ke.de/fachabteilungen/mvz-gastroenterologie/startseite/?L=724\\\">MVZ Gastroenterologie</a></li><li><a href=\\\"http://www.mvz-ke.de/fachabteilungen/mvz-hno-praxis/startseite/?L=724\\\">MVZ HNO-Praxis</a></li><li><a href=\\\"http://www.mvz-ke.de/fachabteilungen/mvz-kinder-und-jugendpsychiatrie/startseite/?L=724\\\">MVZ Kinder- und Jugendpsychiatrie</a></li><li><a href=\\\"http://www.mvz-ke.de/fachabteilungen/mvz-neurologie/startseite/?L=724\\\">MVZ Neurologie</a></li><li><a href=\\\"http://www.mvz-ke.de/fachabteilungen/mvz-nuklearmedizin/startseite/?L=724\\\">MVZ Nuklearmedizin</a></li></ul></li><li class=\\\"active\\\"><a href=\\\"/kliniken-und-zentren/therapieabteilung/unser-profil/?L=724\\\">Therapieabteilung</a></li><li class=\\\"active\\\"><a href=\\\"/kliniken-und-zentren/team-fuer-notfalltraining-tnt/unser-profilaktuelles/?L=724\\\">Team f\\u00c3\\u00bcr Notfalltraining (TNT)</a></li><li class=\\\"active\\\"><a href=\\\"/kliniken-und-zentren/apotheke/unser-profil/?L=724\\\">Apotheke</a></li><li class=\\\"active\\\"><a href=\\\"/kliniken-und-zentren/dialyse/profil/?L=724\\\">Dialyse</a></li><li class=\\\"active\\\"><a href=\\\"/kliniken-und-zentren/zentrallabor/unser-profil/?L=724\\\">Zentrallabor</a></li><li class=\\\"active\\\"><a href=\\\"/kliniken-und-zentren/institut-fuer-pathologie/unser-profil/?L=724\\\">Institut f\\u00c3\\u00bcr Pathologie</a></li></ul>\\n\\t\\n\\n</div>\\n\\n\\t\\n\\n\\n</div>\\n<div class=\\\"babygalerie\\\"><div class=\\\"header\\\"><a href=\\\"http://www.babygalerie24.de/esslingen/\\\" title=\\\"Zur Babygalerie\\\"><strong>Babygalerie</strong></a></div><div class=\\\"fotos\\\"><a href=\\\"http://www.babygalerie24.de/esslingen/\\\" class=\\\"visible-lg-block\\\"><img src=\\\"/fileadmin/user_upload/ribbon-babygalerie_1_mod.jpg\\\" width=\\\"250\\\" height=\\\"120\\\"   alt=\\\"G\\u00c3\\u00a4hnendes Baby\\\" ></a><a href=\\\"http://www.babygalerie24.de/esslingen/\\\"><img src=\\\"/fileadmin/user_upload/ribbon-babygalerie_2.jpg\\\" width=\\\"120\\\" height=\\\"120\\\"  class=\\\"klein\\\"  alt=\\\"\\\" ></a><a href=\\\"http://www.babygalerie24.de/esslingen/\\\"></a></div><div class=\\\"text\\\"><p>Frisch geschl\\u00c3\\u00bcpft: werfen Sie einen Blick auf unsere Neuank\\u00c3\\u00b6mmlinge in der <a href=\\\"http://www.babygalerie24.de/esslingen/\\\" target=\\\" _blank\\\">Babygalerie </a></p></div></div></div></div></li></ul></li><li class=\\\"dropdown \\\"><a href=\\\"/pflege-beratung/pflegedienst/?L=724\\\" role=\\\"button\\\" aria-haspopup=\\\"true\\\" aria-expanded=\\\"false\\\">Pflege & Beratung</a><ul class=\\\"dropdown-menu hidden-xs\\\"><li class=\\\"dropdown-submenu\\\"><a href=\\\"/pflege-beratung/pflegedienst/?L=724\\\">Pflegedienst</a></li><li class=\\\"\\\"><a href=\\\"/pflege-beratung/hygiene/?L=724\\\">Hygiene</a></li><li class=\\\"dropdown-submenu\\\"><a href=\\\"/pflege-beratung/demenzsensibles-krankenhaus/?L=724\\\">Demenzsensibles Krankenhaus</a></li><li class=\\\"\\\"><a href=\\\"/pflege-beratung/sozialdienst/?L=724\\\">Sozialdienst</a></li><li class=\\\"\\\"><a href=\\\"/pflege-beratung/seelsorge/?L=724\\\">Seelsorge</a></li><li class=\\\"\\\"><a href=\\\"/pflege-beratung/patientenfuersprecher/?L=724\\\">Patientenf\\u00c3\\u00bcrsprecher</a></li><li class=\\\"\\\"><a href=\\\"/pflege-beratung/ethik-kommitee/?L=724\\\">Ethik-Kommitee</a></li><li class=\\\"\\\"><a href=\\\"/pflege-beratung/ke-im-dialog/?L=724\\\">KE im Dialog</a></li><li class=\\\"\\\"><a href=\\\"/pflege-beratung/elternschule/?L=724\\\">Elternschule</a></li><li class=\\\"\\\"><a href=\\\"/pflege-beratung/ohne-kippe/?L=724\\\">Ohne Kippe</a></li><li class=\\\"\\\"><a href=\\\"/pflege-beratung/selbsthilfegruppen/?L=724\\\">Selbsthilfegruppen</a></li><li class=\\\"\\\"><a href=\\\"/pflege-beratung/sterilgut-und-service-gmbh/?L=724\\\">Sterilgut und Service GmbH</a></li></ul></li><li class=\\\"dropdown \\\"><a href=\\\"/ihr-aufenthalt/vor-dem-aufenthalt/?L=724\\\" role=\\\"button\\\" aria-haspopup=\\\"true\\\" aria-expanded=\\\"false\\\">Ihr Aufenthalt</a><ul class=\\\"dropdown-menu hidden-xs\\\"><li class=\\\"\\\"><a href=\\\"/ihr-aufenthalt/vor-dem-aufenthalt/?L=724\\\">Vor dem Aufenthalt</a></li><li class=\\\"\\\"><a href=\\\"/ihr-aufenthalt/auf-der-station/?L=724\\\">Auf der Station</a></li><li class=\\\"\\\"><a href=\\\"/ihr-aufenthalt/nach-dem-aufenthalt/?L=724\\\">Nach dem Aufenthalt</a></li><li class=\\\"\\\"><a href=\\\"/ihr-aufenthalt/wahlleistungen/?L=724\\\">Wahlleistungen</a></li><li class=\\\"\\\"><a href=\\\"/ihr-aufenthalt/gaestehaus/?L=724\\\">G\\u00c3\\u00a4stehaus</a></li><li class=\\\"\\\"><a href=\\\"/ihr-aufenthalt/serviceangebote-von-a-z/?L=724\\\">Serviceangebote von A - Z</a></li><li class=\\\"\\\"><a href=\\\"/ihr-aufenthalt/ihre-meinung/?L=724\\\">Ihre Meinung</a></li><li class=\\\"\\\"><a href=\\\"/ihr-aufenthalt/notfall/?L=724\\\">Notfall</a></li></ul></li><li class=\\\"dropdown \\\"><a href=\\\"/beruf-karriere/arbeitgeber-klinikum/?L=724\\\" role=\\\"button\\\" aria-haspopup=\\\"true\\\" aria-expanded=\\\"false\\\">Beruf & Karriere</a><ul class=\\\"dropdown-menu hidden-xs\\\"><li class=\\\"\\\"><a href=\\\"/beruf-karriere/arbeitgeber-klinikum/?L=724\\\">Arbeitgeber Klinikum</a></li><li class=\\\"dropdown-submenu\\\"><a href=\\\"/beruf-karriere/beruf-und-familie/?L=724\\\">Beruf und Familie</a></li><li class=\\\"\\\"><a href=\\\"/beruf-karriere/gesundheit-am-arbeitsplatz/?L=724\\\">Gesundheit am Arbeitsplatz</a></li><li class=\\\"dropdown-submenu\\\"><a href=\\\"/beruf-karriere/schule-fuer-pflegeberufe/?L=724\\\">Schule f\\u00c3\\u00bcr Pflegeberufe</a></li><li class=\\\"dropdown-submenu\\\"><a href=\\\"/beruf-karriere/ausbildung/?L=724\\\">Ausbildung</a></li><li class=\\\"dropdown-submenu\\\"><a href=\\\"/beruf-karriere/fsj-bufdi-praktika/freiwilliges-soziales-jahr-fsj/?L=724\\\">FSJ / BUFDI / Praktika</a></li><li class=\\\"\\\"><a href=\\\"/beruf-karriere/akademisches-lehrkrankenhaus/?L=724\\\">Akademisches Lehrkrankenhaus</a></li><li class=\\\"dropdown-submenu\\\"><a href=\\\"/beruf-karriere/pj-studenten/?L=724\\\">PJ-Studenten</a></li><li class=\\\"dropdown-submenu\\\"><a href=\\\"/beruf-karriere/fort-und-weiterbildung/?L=724\\\">Fort- und Weiterbildung</a></li><li class=\\\"\\\"><a href=\\\"/beruf-karriere/betriebsrat/?L=724\\\">Betriebsrat</a></li><li class=\\\"\\\"><a href=\\\"/beruf-karriere/schwerbehindertenvertretung/?L=724\\\">Schwerbehindertenvertretung</a></li><li class=\\\"dropdown-submenu\\\"><a href=\\\"/beruf-karriere/stellenboerse/?L=724\\\">Stellenb\\u00c3\\u00b6rse</a></li></ul></li><li class=\\\"dropdown \\\"><a href=\\\"/ueber-uns/das-klinikum-esslingen/?L=724\\\" role=\\\"button\\\" aria-haspopup=\\\"true\\\" aria-expanded=\\\"false\\\">\\u00c3\\u009cber uns</a><ul class=\\\"dropdown-menu hidden-xs\\\"><li class=\\\"\\\"><a href=\\\"/ueber-uns/das-klinikum-esslingen/?L=724\\\">Das Klinikum Esslingen</a></li><li class=\\\"\\\"><a href=\\\"/ueber-uns/daten-und-fakten/?L=724\\\">Daten und Fakten</a></li><li class=\\\"\\\"><a href=\\\"/ueber-uns/geschaeftsfuehrung/?L=724\\\">Gesch\\u00c3\\u00a4ftsf\\u00c3\\u00bchrung</a></li><li class=\\\"dropdown-submenu\\\"><a href=\\\"/ueber-uns/ansprechpartner/geschaeftsfuehrung/?L=724\\\">Ansprechpartner</a></li><li class=\\\"dropdown-submenu\\\"><a href=\\\"/ueber-uns/presse-und-publikationen/pressemeldungen/?L=724\\\">Presse und Publikationen</a></li><li class=\\\"\\\"><a href=\\\"/ueber-uns/geschichte/?L=724\\\">Geschichte</a></li><li class=\\\"\\\"><a href=\\\"/ueber-uns/foerdervereine/?L=724\\\">F\\u00c3\\u00b6rdervereine</a></li><li class=\\\"\\\"><a href=\\\"/ueber-uns/unsere-spenden/?L=724\\\">Unsere Spenden</a></li><li class=\\\"\\\"><a href=\\\"/ueber-uns/lageplan-wegweiser/?L=724\\\">Lageplan / Wegweiser</a></li></ul></li><li class=\\\"dropdown last\\\"><a href=\\\"/infos-fuer-kids/ein-tag-im-krankenhaus/?L=724\\\" role=\\\"button\\\" aria-haspopup=\\\"true\\\" aria-expanded=\\\"false\\\">Infos f\\u00c3\\u00bcr Kids</a><ul class=\\\"dropdown-menu hidden-xs\\\"><li class=\\\"last\\\"><a href=\\\"/infos-fuer-kids/ein-tag-im-krankenhaus/?L=724\\\">Ein Tag im Krankenhaus</a></li><li class=\\\"\\\"><a href=\\\"/infos-fuer-kids/meine-oma-muss-ins-krankenhaus/?L=724\\\">Meine Oma muss ins Krankenhaus</a></li><li class=\\\"dropdown-submenu\\\"><a href=\\\"/infos-fuer-kids/was-passiert-im-krankenhaus/?L=724\\\">Was passiert im Krankenhaus?</a></li><li class=\\\"dropdown-submenu\\\"><a href=\\\"/infos-fuer-kids/wissensecke/?L=724\\\">Wissensecke</a></li><li class=\\\"\\\"><a href=\\\"/infos-fuer-kids/videos-fuer-kids/?L=724\\\">Videos f\\u00c3\\u00bcr Kids</a></li></ul></li><li class=\\\"notfall\\\"><a href=\\\"/ihr-aufenthalt/notfall/?L=724\\\">Notfall</a></li><li class=\\\"loginLink\\\"><a href=\\\"/login/?L=724\\\">Login Dienstleister</a></li></ul>\\n\\t\\t\\t<form name=\\\"form_suche\\\" id=\\\"form_suche\\\" action=\\\"/suchergebnisse/?L=724\\\" method=\\\"post\\\" class=\\\"navbar-form navbar-right hidden-xs searchbox\\\"><div class=\\\"form-group\\\"><input type=\\\"text\\\" name=\\\"tx_indexedsearch[sword]\\\" value=\\\"\\\" placeholder=\\\"Suche\\\" class=\\\"form-control\\\" /></div><button type=\\\"submit\\\" class=\\\"btn btn-success\\\"></button></form>\\n\\t\\t</div>\\n\\t</div>\\n</nav>\\n\\n\\t<!--TYPO3SEARCH_begin--><div class=\\\"container-fluid header klinik \\\"><div class=\\\"bild\\\"><img src=\\\"/fileadmin/_processed_/csm_header-allgemeinchirurgie_b6150407f1.jpg\\\" width=\\\"1600\\\" height=\\\"379\\\"   alt=\\\"Chirurgen im OP\\\" ><div class=\\\"blatt\\\"></div><div class=\\\"titel\\\"><h1><span>Klinik f\\u00c3\\u00bcr</span><br />Gef\\u00c3\\u00a4\\u00c3\\u009f- und Thoraxchirurgie</h1></div></div></div><!--TYPO3SEARCH_end-->\\n\\t<div class=\\\"container-fluid inhalt\\\">\\n\\t\\t<div class=\\\"row\\\">\\n\\t\\t\\t<div class=\\\"col-sm-4 col-xs-12 kontextnavigation\\\">\\n\\t\\t\\t\\t<div class=\\\"row\\\">\\n\\t\\t\\t\\t\\t<div class=\\\"col-md-1\\\"></div>\\n\\t\\t\\t\\t\\t<div class=\\\"col-sm-11 col-md-9 col-lg-8\\\">\\n\\t\\t\\t\\t\\t\\t<button type=\\\"button\\\" class=\\\"navbar-toggle collapsed\\\" data-toggle=\\\"collapse\\\" data-target=\\\"#kontextnavigation\\\" aria-expanded=\\\"false\\\">\\n\\t\\t\\t\\t\\t\\t\\t<span class=\\\"sr-only\\\">Toggle navigation</span>\\n\\t\\t\\t\\t\\t\\t\\t<span class=\\\"icon-bar\\\"></span>\\n\\t\\t\\t\\t\\t\\t\\t<span class=\\\"icon-bar\\\"></span>\\n\\t\\t\\t\\t\\t\\t\\t<span class=\\\"icon-bar\\\"></span>\\n\\t\\t\\t\\t\\t\\t</button>\\n\\t\\t\\t\\t\\t\\t<div class=\\\"collapse navbar-collapse\\\" id=\\\"kontextnavigation\\\">\\n\\t\\t\\t\\t\\t\\t\\t<ul class=\\\"nav\\\"><li class=\\\"active\\\"><a href=\\\"/kliniken-und-zentren/gefaess-und-thoraxchirurgie/unser-profil/?L=724\\\">Unser Profil</a></li><li><a href=\\\"/kliniken-und-zentren/gefaess-und-thoraxchirurgie/team/?L=724\\\">Team</a></li><li><a href=\\\"/kliniken-und-zentren/gefaess-und-thoraxchirurgie/ambulanzen-sprechstunden/?L=724\\\">Ambulanzen & Sprechstunden</a></li><li><a href=\\\"/kliniken-und-zentren/gefaess-und-thoraxchirurgie/medizinische-schwerpunkte/?L=724\\\">Medizinische Schwerpunkte</a></li><li><a href=\\\"/kliniken-und-zentren/gefaess-und-thoraxchirurgie/patienteninformationen/?L=724\\\">Patienteninformationen</a></li><li><a href=\\\"/kliniken-und-zentren/gefaess-und-thoraxchirurgie/pflege-und-stationen/?L=724\\\">Pflege und Stationen</a></li><li><a href=\\\"/kliniken-und-zentren/gefaess-und-thoraxchirurgie/fortbildungen/?L=724\\\">Fortbildungen</a></li><li><a href=\\\"/kliniken-und-zentren/gefaess-und-thoraxchirurgie/klinische-studien-forschung/?L=724\\\">Klinische Studien / Forschung</a></li><li><a href=\\\"/kliniken-und-zentren/gefaess-und-thoraxchirurgie/kooperationen/?L=724\\\">Kooperationen</a></li><li><a href=\\\"/kliniken-und-zentren/gefaess-und-thoraxchirurgie/zertifikate-und-auszeichnungen/?L=724\\\">Zertifikate und Auszeichnungen</a></li><li><a href=\\\"/kliniken-und-zentren/gefaess-und-thoraxchirurgie/selbsthilfegruppen/?L=724\\\">Selbsthilfegruppen</a></li></ul>\\n\\t\\t\\t\\t\\t\\t\\t<!--TYPO3SEARCH_begin--><div class=\\\"kontakt\\\"><p><b>Sekretariat</b><br />Christina Prawatschke<br />Telefon: 0711 3103-2700, -2701<br />Telefax: 0711 3103-2704<br />E-Mail: <a href=\\\"javascript:linkTo_UnCryptMailto('ocknvq,h0nkgycnfBmnkpkmwo\\\\/guunkpigp0fg');\\\" title=\\\"Opens internal link in current window\\\" class=\\\"mail\\\">f.liewald<span>&#064;</span>klinikum-esslingen.de</a></p></div><!--TYPO3SEARCH_end-->\\n\\t\\t\\t\\t\\t\\t</div>\\n\\t\\t\\t\\t\\t</div>\\n\\t\\t\\t\\t\\t<div class=\\\"col-sm-1 col-md-2 col-lg-3\\\"></div>\\n\\t\\t\\t\\t</div>\\n\\t\\t\\t</div>\\n\\t\\t\\t<div class=\\\"col-sm-8 col-xs-12 texte\\\">\\n\\t\\t\\t\\t<!--TYPO3SEARCH_begin--><div class=\\\"lead\\\">\\n<div class=\\\"row\\\" id=\\\"c415\\\">\\n\\t<div class=\\\"col-sm-11 col-md-10\\\">\\n\\n\\t\\t\\n\\n\\t<div class=\\\"row\\\">\\n\\t\\t<div class=\\\"col-xs-12\\\">\\n\\t\\t\\t\\n\\t\\t\\t\\t\\n\\n\\t\\n\\n\\n\\t\\t\\t\\n\\t\\t\\t\\n\\t\\t\\t\\t\\n\\t\\t\\t\\t\\t\\t<div class=\\\"row ce-textpic ce-intext \\\">\\n\\t\\t\\t\\t\\t\\n\\n\\t\\t\\t\\t\\t\\n\\t\\t\\t\\t\\t\\t\\n\\n\\n\\n\\n\\n\\n\\n\\n\\n\\n\\n\\t\\t\\t\\t\\t\\n\\t\\t\\t\\t\\t<div class=\\\"ce-bodytext col-xs-9\\\">\\n\\t\\t\\t\\t\\t\\t\\n\\n\\t\\t\\t\\t\\t\\t\\n\\t\\t\\t\\t\\t\\t\\t\\n\\t\\t\\t\\t\\t\\t\\t\\t<div class=\\\"lead\\\">\\n\\t\\t\\t\\t\\t\\t\\t\\t\\t<p>Die Klinik f\\u00c3\\u00bcr Gef\\u00c3\\u00a4\\u00c3\\u009f- und Thoraxchirurgie ist von der Deutschen Gesellschaft f\\u00c3\\u00bcr Gef\\u00c3\\u00a4\\u00c3\\u009fchirurgie als Zentrum f\\u00c3\\u00bcr Gef\\u00c3\\u00a4\\u00c3\\u009fkrankheiten am Klinikum Esslingen zertifiziert.</p>\\n\\t\\t\\t\\t\\t\\t\\t\\t</div>\\n\\t\\t\\t\\t\\t\\t\\t\\n\\t\\t\\t\\t\\t\\t\\t\\n\\t\\t\\t\\t\\t\\t\\n\\t\\t\\t\\t\\t</div>\\n\\t\\t\\t\\t</div>\\n\\t\\t\\t\\n\\t\\t\\t\\n\\t\\t</div>\\n\\t</div>\\n\\n\\n\\n\\t</div>\\n\\t<div class=\\\"col-sm-1 col-md-2\\\"></div>\\n\\n\\t\\t\\n\\t\\n\\n\\n\\n\\n</div>\\n</div><div class=\\\"row zitat\\\"><div class=\\\"col-xs-8 col-sm-8 col-md-9 col-lg-10\\\"><div class=\\\"row\\\"><div class=\\\"col-xs-9 text\\\"><p>\\u00e2\\u0080\\u009eUnser Motto lautet: <br />Keine F\\u00c3\\u00a4lle, sondern Patienten, <br />keine Leistungszahlen, sondern Leistung, <br />keine Werbung, sondern Vertrauen durch gute Arbeit.\\u00e2\\u0080\\u009d </p><p class=\\\"autor\\\"><strong>Chefarzt Prof. Dr. Florian Liewald</strong></p></div><div class=\\\"col-xs-3 bild\\\"><img src=\\\"/fileadmin/user_upload/liewald-frei.png\\\" width=\\\"254\\\" height=\\\"240\\\"   alt=\\\"Chefarzt Prof. Dr. Florian Liewald\\\" title=\\\"Chefarzt Prof. Dr. Florian Liewald\\\" ></div></div></div><div class=\\\"col-xs-4 col-sm-4 col-md-3 col-lg-2\\\"></div></div>\\n<div class=\\\"row\\\" id=\\\"c416\\\">\\n\\t<div class=\\\"col-sm-11 col-md-10\\\">\\n\\n\\t\\t\\n\\n\\t<div class=\\\"row\\\">\\n\\t\\t<div class=\\\"col-xs-12\\\">\\n\\t\\t\\t\\n\\t\\t\\t\\t\\n\\n\\t\\n\\n\\n\\t\\t\\t\\n\\t\\t\\t\\n\\t\\t\\t\\t\\n\\t\\t\\t\\t\\t\\t<div class=\\\"row ce-textpic ce-intext \\\">\\n\\t\\t\\t\\t\\t\\n\\n\\t\\t\\t\\t\\t\\n\\t\\t\\t\\t\\t\\t\\n\\n\\n\\n\\n\\n\\n\\n\\n\\n\\n\\n\\t\\t\\t\\t\\t\\n\\t\\t\\t\\t\\t<div class=\\\"ce-bodytext col-xs-9\\\">\\n\\t\\t\\t\\t\\t\\t\\n\\n\\t\\t\\t\\t\\t\\t\\n\\t\\t\\t\\t\\t\\t\\t\\n\\t\\t\\t\\t\\t\\t\\t\\n\\t\\t\\t\\t\\t\\t\\t\\t<p>Die <b>Gef\\u00c3\\u00a4\\u00c3\\u009fchirurgie </b>umfasst die Chirurgie von Schlagadern (Arterien) und Venen.&nbsp;Schwerpunkte unserer T\\u00c3\\u00a4tigkeit sind die Behandlung von Erweiterungen der Hauptschlagader (Aortenaneurysmen), Verengungen der Halsschlagader (Carotisstenosen), Verschlussprozesse im Bereich der Becken- und Beingef\\u00c3\\u00a4\\u00c3\\u009fe (arterielle Verschlusskrankheit) sowie die operative Behandlung von Krampfadern (Varikosis). Besonderen Wert legen wir auf eine intensive interdisziplin\\u00c3\\u00a4re Zusammenarbeit. Im Bereich der Gef\\u00c3\\u00a4\\u00c3\\u009fchirurgie arbeiten wir zum Wohle unserer Patienten eng mit Spezialisten der Angiologie, Radiologie, Kardiologie, An\\u00c3\\u00a4sthesie, Neurologie und Intensivmedizin zusammen.\\n</p>\\n<p>Die <b>Thoraxchirurgie </b>ist die Chirurgie aller Erkrankungen des Brustkorbes mit Ausnahme des Herzens. Im Bereich der Thoraxchirurgie sind wir die f\\u00c3\\u00bcnftgr\\u00c3\\u00b6\\u00c3\\u009fte Klinik in Baden-W\\u00c3\\u00bcrttemberg und sind spezialisiert auf die Behandlung b\\u00c3\\u00b6sartiger Lungentumore (Bronchialkarzinom), Tumore des Mittelfells (Mediastinum),&nbsp; Einri\\u00c3\\u009f und Kollaps der Lunge (Pneumothorax) sowie alle tumor\\u00c3\\u00b6sen und entz\\u00c3\\u00bcndlichen Ver\\u00c3\\u00a4nderungen des Brustfells (Pleura). In einer Tumorkonferenz werden w\\u00c3\\u00b6chentlich interdisziplin\\u00c3\\u00a4r alle onkologischen Thoraxpatienten besprochen und das Therapiekonzept f\\u00c3\\u00bcr jeden einzelnen Patienten speziell festgelegt. Gro\\u00c3\\u009fe Erfahrungen liegen auch bei unfallbedingten Verletzungen der Lunge und des Brustkorbes (Thoraxtrauma) vor. \\n</p>\\n<p>Die Thoraxchirurgie ist Teil des <a href=\\\"/kliniken-und-zentren/onkologisches-zentrum/lungenkrebszentrum-tess/?L=724\\\" title=\\\"Opens internal link in current window\\\" class=\\\"internal-link\\\">Thoraxzentrums Esslingen-Stuttgart (TESS)</a> und in diesem Rahmen eines von deutschlandweit nur 38 zertifizierten Zentren f\\u00c3\\u00bcr die Behandlung von Lungenkrebspatienten. Hierbei sind Pneumologen, Onkologen, Thoraxchirurgen, Strahlentherapeuten, Thoraxan\\u00c3\\u00a4sthesisten und Intensivmediziner sowie Schlafmediziner und Psychologen eng in ein gemeinsames Therapiekonzept eingebunden. Die Klinik f\\u00c3\\u00bcr Gef\\u00c3\\u00a4\\u00c3\\u009f- und Thoraxchirurgie wurde als Teil des Thoraxzentrums Esslingen-Stuttgart in die <b>FOCUS-Liste der Top-Kliniken zur Behandlung des Lungenkrebses</b> aufgenommen.\\n</p>\\n<p>F\\u00c3\\u00bcr die medizinische und menschliche Betreuung steht Ihnen ein Team aus zw\\u00c3\\u00b6lf \\u00c3\\u0084rzten und 24 Pflegekr\\u00c3\\u00a4ften zur Verf\\u00c3\\u00bcgung. \\n</p>\\n<p>Die Patienten werden in 50 modernen Krankenhausbetten versorgt. Die intensivmedizinische Betreuung schwerstkranker Patienten erfolgt auf der an\\u00c3\\u00a4sthesiologischen Intensivstation, wo durch die gemeinsamen t\\u00c3\\u00a4glichen Visiten von Intensivmedizinern und Chirurgen die Therapiekonzepte festgelegt werden. Die Klinik ist zertifiziertes Zentrum f\\u00c3\\u00bcr die Behandlung von Lungenkrebspatienten sowie zertifiziertes Gef\\u00c3\\u00a4\\u00c3\\u009fzentrum. Diese Doppelzertifizierung ist deutschlandweit nahezu einzigartig und unterstreicht unsere hohe Kompetenz in der Behandlung unserer Patienten. Oberstes Ziel aller Mitarbeiter der Klinik f\\u00c3\\u00bcr Gef\\u00c3\\u00a4\\u00c3\\u009f- und Thoraxchirurgie ist die optimale Behandlung der Patienten auf fachlich modernstem Niveau unter Ber\\u00c3\\u00bccksichtigung der Maxime der Menschlichkeit.</p>\\n\\t\\t\\t\\t\\t\\t\\t\\n\\t\\t\\t\\t\\t\\t\\n\\t\\t\\t\\t\\t</div>\\n\\t\\t\\t\\t</div>\\n\\t\\t\\t\\n\\t\\t\\t\\n\\t\\t</div>\\n\\t</div>\\n\\n\\n\\n\\t</div>\\n\\t<div class=\\\"col-sm-1 col-md-2\\\"></div>\\n\\n\\t\\t\\n\\t\\n\\n\\n\\n\\n</div>\\n\\n<div id=\\\"c2294\\\">\\n\\t\\n\\n\\t\\n\\t\\t\\n\\t\\t\\t\\t\\n\\t\\t\\t\\n\\n\\t\\t\\n\\n\\t\\n\\t\\n\\t\\t<h2>Schwerpunkte der Klinik</h2>\\n\\t\\n\\t\\n\\t\\n\\t\\n\\t\\n\\t\\n\\t\\n\\n\\n\\n\\t\\t\\n\\n\\t\\t\\n\\n\\n\\n\\n\\t\\t\\n\\t\\t\\t\\t\\n\\t\\t\\t\\n\\t\\n\\n\\n\\t\\n\\t\\n\\n\\t\\n\\t<div class=\\\"row\\\">\\n\\t\\t<div class=\\\"col-sm-11 col-md-10\\\">\\n\\t\\t\\t<ul class=\\\"ce-menu ce-menu-1\\\">\\n\\t\\t\\t\\t\\n\\t\\t\\t\\t\\t<li>\\n\\t\\t\\t\\t\\t\\t<a href=\\\"/kliniken-und-zentren/gefaess-und-thoraxchirurgie/medizinische-schwerpunkte/gefaesschirurgie/?L=724\\\">\\n\\t\\t\\t\\t\\t\\t\\tGef\\u00c3\\u00a4\\u00c3\\u009fchirurgie\\n\\t\\t\\t\\t\\t\\t</a>\\n\\t\\t\\t\\t\\t</li>\\n\\t\\t\\t\\t\\n\\t\\t\\t\\t\\t<li>\\n\\t\\t\\t\\t\\t\\t<a href=\\\"/kliniken-und-zentren/gefaess-und-thoraxchirurgie/medizinische-schwerpunkte/thoraxchirurgie/?L=724\\\">\\n\\t\\t\\t\\t\\t\\t\\tThoraxchirurgie\\n\\t\\t\\t\\t\\t\\t</a>\\n\\t\\t\\t\\t\\t</li>\\n\\t\\t\\t\\t\\n\\t\\t\\t</ul>\\n\\t\\t</div>\\n\\t\\t<div class=\\\"col-sm-1 col-md-2\\\"></div>\\n\\t</div>\\n\\t\\n\\n\\n\\n\\n\\t\\n\\n\\n</div>\\n<!--TYPO3SEARCH_end-->\\n\\t\\t\\t\\t<div class=\\\"visible-xs-block\\\">\\n\\t\\t\\t\\t\\t<!--TYPO3SEARCH_begin--><div class=\\\"kontakt\\\"><p><b>Sekretariat</b><br />Christina Prawatschke<br />Telefon: 0711 3103-2700, -2701<br />Telefax: 0711 3103-2704<br />E-Mail: <a href=\\\"javascript:linkTo_UnCryptMailto('ocknvq,h0nkgycnfBmnkpkmwo\\\\/guunkpigp0fg');\\\" title=\\\"Opens internal link in current window\\\" class=\\\"mail\\\">f.liewald<span>&#064;</span>klinikum-esslingen.de</a></p></div><!--TYPO3SEARCH_end-->\\n\\t\\t\\t\\t</div>\\n\\t\\t\\t</div>\\n\\t\\t</div>\\n\\t</div>\\n\\t<footer class=\\\"footer\\\">\\n\\t\\t<div class=\\\"container-fluid\\\"><div class=\\\"row\\\"><div class=\\\"col-sm-6 pull-left\\\"><p>&copy;&nbsp;2019&nbsp;Klinikum Esslingen<a href=\\\"/datenschutz/?L=724\\\" title=\\\"Datenschutz\\\">Datenschutz</a><a href=\\\"/impressum/?L=724\\\" title=\\\"Impressum\\\">Impressum</a></p></div><div class=\\\"col-sm-6 pull-right\\\"><p class=\\\"text-right\\\"><a href=\\\"/beruf-karriere/stellenboerse/?L=724\\\" title=\\\"Jobs\\\">Jobs</a><a href=\\\"/kontakt/?L=724\\\" title=\\\"Kontakt\\\">Kontakt</a><a href=\\\"/veranstaltungen/?L=724\\\" title=\\\"Veranstaltungen\\\">Veranstaltungen</a></p></div></div></div>\\n\\t</footer>\\n\\n<noscript><p><img src=\\\"http://analyzer.amedick-sommer.de/piwik.php?idsite=68\\\" style=\\\"border:0\\\" alt=\\\"\\\"/></p></noscript>\\n<script src=\\\"//analyzer.amedick-sommer.de/piwik.js\\\" type=\\\"text/javascript\\\"></script>\\n<script src=\\\"/typo3conf/ext/as_template/Resources/Public/Vendor/jquery/jquery_1.11.3.js?1554366461\\\" type=\\\"text/javascript\\\"></script>\\n<script src=\\\"/typo3conf/ext/as_template/Resources/Public/Vendor/jquery-ui/jquery-ui-1.11.3/jquery-ui.js?1554366461\\\" type=\\\"text/javascript\\\"></script>\\n<script src=\\\"/typo3conf/ext/as_template/Resources/Public/Vendor/jquery-ui-i18n/datepicker-de.js?1554366461\\\" type=\\\"text/javascript\\\"></script>\\n<script src=\\\"/typo3conf/ext/as_template/Resources/Public/JavaScript/jquery.equalizeHeight.js?1554366461\\\" type=\\\"text/javascript\\\"></script>\\n<script src=\\\"/typo3conf/ext/as_template/Resources/Public/Vendor/rwdImageMaps/jquery.rwdImageMaps.min.js?1554366461\\\" type=\\\"text/javascript\\\"></script>\\n<script src=\\\"/typo3conf/ext/as_template/Resources/Public/Vendor/prettyPhoto/js/jquery.prettyPhoto.js?1554366461\\\" type=\\\"text/javascript\\\"></script>\\n<script src=\\\"/typo3conf/ext/as_cookieconsent/Resources/Public/JavaScript/cookieconsent-3.0.3/cookieconsent.min.js?1527084029\\\" type=\\\"text/javascript\\\"></script>\\n\\n<script src=\\\"/typo3conf/ext/powermail/Resources/Public/JavaScripts/Libraries/jquery.datetimepicker.min.js?1467036214\\\" type=\\\"text/javascript\\\"></script>\\n<script src=\\\"/typo3conf/ext/powermail/Resources/Public/JavaScripts/Libraries/parsley.min.js?1467036214\\\" type=\\\"text/javascript\\\"></script>\\n<script src=\\\"/typo3conf/ext/powermail/Resources/Public/JavaScripts/Powermail/Tabs.min.js?1467036214\\\" type=\\\"text/javascript\\\"></script>\\n<script src=\\\"/typo3conf/ext/powermail/Resources/Public/JavaScripts/Powermail/Form.min.js?1467036214\\\" type=\\\"text/javascript\\\"></script>\\n<script src=\\\"/typo3conf/ext/as_template/Resources/Public/Vendor/bootstrap/js/bootstrap.min.js?1554366461\\\" type=\\\"text/javascript\\\"></script>\\n<script src=\\\"/typo3conf/ext/as_template/Resources/Public/Vendor/lightbox/js/lightbox.min.js?1554366461\\\" type=\\\"text/javascript\\\"></script>\\n<script src=\\\"/typo3conf/ext/as_template/Resources/Public/Vendor/jquery-matchHeight/jquery.matchHeight-min.js?1554366461\\\" type=\\\"text/javascript\\\"></script>\\n<script src=\\\"/typo3conf/ext/as_template/Resources/Public/JavaScript/functions.js?1554366461\\\" type=\\\"text/javascript\\\"></script>\\n<script src=\\\"/typo3conf/ext/as_template/Resources/Public/JavaScript/slideshow.js?1554366461\\\" type=\\\"text/javascript\\\"></script>\\n<script src=\\\"/typo3temp/Assets/1c63d9f1eb.js?1549029573\\\" type=\\\"text/javascript\\\"></script>\\n\\n\\n\\n</body>\\n</html>\",\n          \"<!DOCTYPE html PUBLIC \\\"-//W3C//DTD HTML 4.01 Transitional//EN\\\" \\\"http://www.w3.org/TR/html4/loose.dtd\\\"><html>\\n<head>\\n<META http-equiv=\\\"Content-Type\\\" content=\\\"text/html; charset=iso-8859-1\\\">\\n<meta http-equiv=\\\"X-UA-Compatible\\\" content=\\\"IE=edge,chrome=1\\\">\\n<meta name=\\\"viewport\\\" content=\\\"width=device-width, initial-scale=1, minimum-scale= .2\\\">\\n<meta name=\\\"DC.Generator\\\" content=\\\"this content is managed by PANSITE (TM)\\\">\\n<meta name=\\\"DC.type\\\" content=\\\"webPage\\\">\\n<meta http-equiv=\\\"content-language\\\" content=\\\"de\\\">\\n<meta name=\\\"author\\\" content=\\\"Universit\\u00e4tsklinikum Knappschaftskrankenhaus Bochum, kontakt@kk-bochum.de\\\">\\n<meta name=\\\"revisit-after\\\" content=\\\"7 days\\\">\\n<meta name=\\\"publisher\\\" content=\\\"Universit\\u00e4tsklinikum Knappschaftskrankenhaus Bochum, kontakt@kk-bochum.de\\\">\\n<meta name=\\\"owner\\\" content=\\\"Universit\\u00e4tsklinikum Knappschaftskrankenhaus Bochum, kontakt@kk-bochum.de\\\">\\n<meta name=\\\"distribution\\\" content=\\\"global\\\">\\n<meta name=\\\"uniqueid\\\" content=\\\"9554\\\">\\n<meta name=\\\"robots\\\" content=\\\"index,follow\\\">\\n<meta name=\\\"description\\\" content=\\\"Das Universit\\u00e4tsklinikum Knappschaftskrankenhaus Bochum liefert Spitzenmedizin im Herzen des Ruhrgebiets und ist mit seinen 485 Betten und neun Fachabteilungen ein Haus der Maximalversorgung.\\\">\\n<link rel=\\\"canonical\\\" href=\\\"https://www.kk-bochum.de/de/Kliniken_Zentren_Bereiche/Kliniken/Mund_Kiefer_und_Plastische_Gesichtschirurgie/index.php\\\"><!--header Skript von Template \\\"Google analytics\\\"\\n--><script>(function(i,s,o,g,r,a,m){i['GoogleAnalyticsObject']=r;i[r]=i[r]||function(){(i[r].q=i[r].q||[]).push(arguments)},i[r].l=1*new Date();a=s.createElement(o),m=s.getElementsByTagName(o)[0];a.async=1;a.src=g;m.parentNode.insertBefore(a,m)})(window,document,'script','//www.google-analytics.com/analytics.js','ga');ga('create','UA-28649736-1','auto');ga('send','pageview');</script><!--header Skript von Template \\\"highslide\\\"\\n--><!-- highslide-with-gallery.js   -->\\n<script language=\\\"JavaScript\\\" src=\\\"https://www.kk-bochum.de/0_Technik/highslide/highslide-full.min.js.pagespeed.jm.ciexsdxrIp.js\\\"></script>\\n<!-- highslide init   -->\\n<!-- page identification:  0ef68a4a65ee15b61c2a5b3eabc23918   -->\\n<script type=\\\"text/javascript\\\">hs_js_file='../../../../0_Technik/highslide/highslide-full.min.js';if(hs_js_file!='#'){hs.graphicsDir=hs_js_file.substring(0,hs_js_file.lastIndexOf(\\\"/\\\"))+'/graphics/';hs.wrapperClassName='wide-border';hs.showCredits=true;hs.creditsText='';hs.creditsHref='';hs.creditsTitle='';hs.align='center';hs.transitions=['expand','crossfade'];hs.wrapperClassName='dark borderless floating-caption';hs.fadeInOut=true;hs.dimmingOpacity=.75;hs.marginBottom=105;if(hs.addSlideshow)hs.addSlideshow({interval:5000,repeat:false,useControls:true,overlayOptions:{className:'text-controls',position:'bottom center',relativeTo:'viewport',offsetY:-60},thumbstrip:{position:'bottom center',mode:'horizontal',relativeTo:'viewport'}});}else{top.status='highslide.js not found';}window.onload=function(){if(hs_js_file!='#')hs.preloadImages(5);}</script>\\n<!-- highslide.css   -->\\n<link rel=\\\"stylesheet\\\" href=\\\"https://www.kk-bochum.de/0_Technik/A.highslide,,_highslide.css+css,,_Master.css,Mcc.YMhgxEoH_Y.css.pagespeed.cf.3uPvKrcY2U.css\\\" type=\\\"text/css\\\">\\n<!--header Skript von Template \\\"Design Knappschaftskrankenhaus_Bochum de\\\"\\n--> <link type=\\\"text/css\\\" href=\\\"https://fonts.googleapis.com/css?family=Open+Sans:Condensed\\\">\\n<!-- Master.css -->\\n\\n<!-- unterseite_print.css -->\\n<link type=\\\"text/css\\\" href=\\\"https://www.kk-bochum.de/0_Technik/css/A.unterseite_print.css.pagespeed.cf.zDgnL59s__.css\\\" media=\\\"print\\\" rel=\\\"stylesheet\\\">\\n<!-- jquery-1.10.1.min.js -->\\n<script type=\\\"text/javascript\\\" src=\\\"https://www.kk-bochum.de/0_Technik/js/jquery-1.10.1.min.js.pagespeed.jm.hJPIhFzu5k.js\\\"></script>\\n<script type=\\\"text/javascript\\\">$(function(){var pull=$('#pull');menu=$('.NavLD ul');menuHeight=menu.height();$(pull).on('click',function(e){e.preventDefault();menu.slideToggle();$(pull).toggleClass('active');$('.NavLDO ul:visible').slideToggle();$('#pull2').removeClass('active');});$(window).resize(function(){var w=$(window).width();if(w>320&&menu.is(':hidden')){menu.removeAttr('style');}});});</script>\\n<!-- jquery.searchMeme.js-->\\n<script type=\\\"text/javascript\\\" src=\\\"https://www.kk-bochum.de/0_Technik/js/jquery.searchMeme.js.pagespeed.jm.itWWHW38w2.js\\\"></script>\\n    <script type=\\\"text/javascript\\\">$(document).ready(function(){var searchGreen=$('#yinssearch').searchMeme({onSearch:function(searchText){setTimeout(function(){searchGreen.searchMeme({searchComplete:true});$('#yinssearch-results').html(\\\"You searched for \\\"+searchGreen.val()+\\\"\\\");$('.panel').addClass('go-').animate({'height':200},300);},10000);},buttonPlacement:'right',button:''});});</script><!--header Skript von Template \\\"Footer Knappschaftskrankenhaus_Bochum de\\\"\\n--><!--header Skript von Template \\\"Head Knappschaftskrankenhaus_Bochum de\\\"\\n--> \\n<!-- searchconfig.js -->\\n<script type=\\\"text/javascript\\\">var config={'L10N':{'SYS_rating':'INTERNAL','SYS_score':'score','SYS_quicklinkstart':'Eintr\\u00e4ge gefunden in','SYS_count':'Treffer','SYS_countsingle':'Treffer','SYS_accessed':'last scanned','SYS_words':'words','SYS_lastmodified':'last modification seen','SYS_moreresults':'weitere Ergebnisse','SYS_noresults':'Leider gibt es f\\u00fcr Ihre Anfrage keinen Treffer. (kein Ergebnis)','SYS_morepages':'additional resource(s)','SYS_SEITEN_HEADER':'Suchergebnisse','SYS_DOKUMENTE_HEADER':'Dokumente','SYS_simmilarkeywords':'\\u00c4hnliche Suchbegriffe: ','SYS_SITES':'Seiten','SYS_noinputstr':'Sie haben keinen g\\u00fcltigen Suchbegriff eingegeben','SYS_DOCUMENTS':'Dokumente'},'Server':'/0_technik/suche/restproxy.php/pansite/rest','NoResultsText':'SYS_noresults','NumbersPerPage':10,'OnSymSearchEvent':'','ShowSymKeywords':true,'ShowQuickLinks':true,'SearchKey':'YST','SortType':'RATING','LinkTarget':{'Default':null,'application/pdf':'targetFrame'},'Parts':[{'Header':\\\"SYS_SITES\\\",'OnPagerEvent':'','Navigation':true,'OnClickEvent':null,'ContentDisplayHints':{1:'Hidden'},'SearchExact':false,'SearchAll':false,'NumbersPerPage':7,'NoResultsText':null,'AreaStyling':true,'ContentID':[0,1],'Name':'cw','SortType':'RATING','Base':'KK-Bochum','FileTypes':['html'],'HighlightSize':200},{'Header':\\\"SYS_DOCUMENTS\\\",'OnPagerEvent':'','Navigation':true,'OnClickEvent':null,'ContentDisplayHints':{1:'Hidden'},'SearchExact':false,'SearchAll':false,'NumbersPerPage':7,'NoResultsText':null,'AreaStyling':true,'ContentID':[0,1],'Name':'Dokumente','Base':'KK-Bochum','FileTypes':['document']}]}</script>\\n<script type=\\\"text/javascript\\\">function redirectToSomePageExample(searchText){window.location.href='/de/Suche/index.php?yinssearch='+encodeURIComponent(searchText);}</script>\\n<link rel=\\\"stylesheet\\\" href=\\\"https://www.kk-bochum.de/0_Technik/A.suche,,_crawlclient.css+css,,_style_css.css,Mcc.Ci2BtaRPSk.css.pagespeed.cf.vOwwTmlSVb.css\\\" type=\\\"text/css\\\">\\n<script src=\\\"https://www.kk-bochum.de/0_Technik/suche,_crawllib.js+js,_jquery.flexslider.js.pagespeed.jc.WXnEvboyR9.js\\\"></script><script>eval(mod_pagespeed_ErHR6vm$or);</script>\\n<!--header Skript von Template \\\"linke Navigation Mund-, Kiefer- und Plastische Gesichtschirurgie de\\\"\\n--><!-- style_css.php -->\\n<!--header Skript von Template \\\"Schnellkontakt Knappschaftskrankenhaus_Bochum_GmbH de\\\"\\n--><!-- unterseite.css -->\\n<link rel=\\\"stylesheet\\\" href=\\\"https://www.kk-bochum.de/0_Technik/css/A.unterseite.css.pagespeed.cf.gZpgQdgsCy.css\\\" type=\\\"text/css\\\" media=\\\"screen, projection\\\"><title>Mund-, Kiefer- und Plastische Gesichtschirurgie</title>\\n</head>\\n<body class=\\\"cbp-spmenu-push\\\"><!--nxid=1-->         <div id=\\\"containerR\\\">\\n<div id=\\\"container\\\">\\n<div id=\\\"header\\\">\\n<div id=\\\"id28507\\\" class=\\\"pansiteelement logo\\\"><A href=\\\"../../../../index.php\\\" target=_self><IMG border=0 alt=\\\"Universit&auml;tsklinikum Knappschaftskrankenhaus Bochum GmbH\\\" src=\\\"https://www.kk-bochum.de/0_Technik/img/xlogo_kk_bochum.png.pagespeed.ic.r4_RzmhOVQ.png\\\"></A></div>\\n<ul class=\\\"lanNavigation\\\">\\n<li class=\\\"de selected\\\">de\\n\\t\\t\\t\\t\\t\\t\\t\\t\\t</li>\\n<li class=\\\"en\\\"><a href=\\\"https://www.kk-bochum.de/en/Clinics-Centers-Departments/Clinics/Oral_Maxillofacial_and_Facial_Plastic_Surgery/index.php\\\">en</a></li>\\n</ul>\\n<div id=\\\"id56586\\\" class=\\\"pansiteelement servicebox2\\\"><div id=\\\"yinssearch-search-container\\\" class=\\\"SearchB\\\">\\n  <input onkeyup=\\\"return processInputKeyUp(event,this,document.getElementById('yinssearch-suggestions'));\\\" onblur=\\\"fillLookup(document.getElementById('yinssearch-suggestions'));\\\" actionFunction=\\\"redirectToSomePageExample\\\" autocomplete=\\\"off\\\" id=\\\"yinssearch\\\" type=\\\"text\\\" size=\\\"50\\\"/>\\n  \\n  <div id=\\\"yinssearch-suggestions\\\" class=\\\"yinssearch-suggestionsBox\\\" actionFunction=\\\"openPage\\\" style=\\\"display: none;\\\">\\n   <div id=\\\"yinssearch-autoSuggestionsList\\\" class=\\\"yinssearch-suggestionList\\\"></div>\\n  </div>\\n </div></div>\\n<div id=\\\"id83368\\\" class=\\\"pansiteelement\\\">\\n<div class=\\\"menu-container\\\">\\n<div class=\\\"menu\\\">\\n<ul class=\\\"KWN\\\">\\n<li class=\\\"home\\\"><span class=\\\"emptylink\\\"><a href=\\\"../../../../index.php\\\">Home</a></span></li>\\n<li class=\\\"mainli1\\\"><span class=\\\"emptylinkmain\\\">Patienten & Besucher</span>\\n<ul class=\\\"Navul\\\">\\n<li><a href=\\\"/de/Patienten_Besucher/index.php\\\" target=\\\"_self\\\">Patienten & Besucher</a>\\n<li><a href=\\\"/de/Patienten_Besucher/Bibliothek/index.php\\\" target=\\\"_self\\\">Bibliothek</a>\\n<li><a href=\\\"/de/Patienten_Besucher/Cafeteria_und_K\\u00fcche/index.php\\\" target=\\\"_self\\\">Cafeteria und K\\u00fcche</a>\\n<li><a href=\\\"/de/Patienten_Besucher/Downloadbereich/index.php\\\" target=\\\"_self\\\">Downloadbereich</a>\\n<li><a href=\\\"/de/Patienten_Besucher/Ernaehrungsmedizin/index.php\\\" target=\\\"_self\\\">Ern\\u00e4hrungsmedizin</a>\\n<li><a href=\\\"/de/Patienten_Besucher/Friseur/index.php\\\" target=\\\"_self\\\">Friseur</a>\\n<li><a href=\\\"/de/Patienten_Besucher/Gaestehaus/index.php\\\" target=\\\"_self\\\">G\\u00e4stehaus</a>\\n<li><a href=\\\"/de/Patienten_Besucher/Klinik_ABC/index.php\\\" target=\\\"_self\\\">Klinik ABC</a>\\n<li><a href=\\\"/de/Patienten_Besucher/Komfortstationen/index.php\\\" target=\\\"_self\\\">Komfortstationen</a>\\n<li><a href=\\\"/de/Patienten_Besucher/Medizintipps/index.php\\\" target=\\\"_self\\\">Medizin-Tipps</a>\\n<li><a href=\\\"/de/Patienten_Besucher/Patientenmanagement/index.php\\\" target=\\\"_self\\\">Patientenmanagement</a>\\n<li><a href=\\\"/de/Patienten_Besucher/Pflege_Zuhause/index.php\\\" target=\\\"_self\\\">Pflege Zuhause</a>\\n<li><a href=\\\"/de/Patienten_Besucher/Psychoonkologie/index.php\\\" target=\\\"_self\\\">Psychoonkologie</a>\\n<li><a href=\\\"/de/Patienten_Besucher/Seelsorge/index.php\\\" target=\\\"_self\\\">Seelsorge</a>\\n<li><a href=\\\"/de/Patienten_Besucher/Sozialdienst/index.php\\\" target=\\\"_self\\\">Sozialdienst</a>\\n</ul>\\n</li>\\n<li class=\\\"mainli2\\\"><span class=\\\"emptylinkmain\\\">Kliniken</span>\\n<ul class=\\\"Navul\\\">\\n<li><a href=\\\"/de/Kliniken_Zentren_Bereiche/Kliniken/Anaesthesiologie_Intensivmedizin_und_Schmerztherapie/index.php\\\" target=\\\"_self\\\">An\\u00e4sthesiologie, Intensivmedizin und Schmerztherapie</a>\\n<li><a href=\\\"/de/Kliniken_Zentren_Bereiche/Kliniken/Augenheilkunde/index.php\\\" target=\\\"_self\\\">Augenheilkunde</a>\\n<li><a href=\\\"/de/Kliniken_Zentren_Bereiche/Kliniken/Chirurgie/index.php\\\" target=\\\"_self\\\">Chirurgie</a>\\n<li><a href=\\\"/de/Kliniken_Zentren_Bereiche/Kliniken/Medizinische_Klinik/index.php\\\" target=\\\"_self\\\">Medizinische Klinik</a>\\n<li><a href=\\\"/de/Kliniken_Zentren_Bereiche/Kliniken/Mund_Kiefer_und_Plastische_Gesichtschirurgie/index.php\\\" target=\\\"_self\\\">Mund-, Kiefer- und Plastische Gesichtschirurgie</a>\\n<li><a href=\\\"/de/Kliniken_Zentren_Bereiche/Kliniken/Neurochirurgie/index.php\\\" target=\\\"_self\\\">Neurochirurgie</a>\\n<li><a href=\\\"/de/Kliniken_Zentren_Bereiche/Kliniken/Neurologie/index.php\\\" target=\\\"_self\\\">Neurologie</a>\\n<li><a href=\\\"/de/Kliniken_Zentren_Bereiche/Kliniken/Radiologie_und_Nuklearmedizin/index.php\\\" target=\\\"_self\\\">Radiologie, Neuroradiologie und Nuklearmedizin</a>\\n<li><a href=\\\"/de/Kliniken_Zentren_Bereiche/Kliniken/Unfallchirurgie_und_Orthopaedie/index.php\\\" target=\\\"_self\\\">Unfallchirurgie und Orthop\\u00e4die</a>\\n<li><a href=\\\"/de/Kliniken_Zentren_Bereiche/Abteilung/Physikalische_Therapie_und_Physiotherapie/index.php\\\" target=\\\"_self\\\">Physikalische Therapie und Physiotherapie</a>\\n<li><a href=\\\"/de/Kliniken_Zentren_Bereiche/Abteilung/Sprachdiagnostik_und_Sprachtherapie/index.php\\\" target=\\\"_self\\\">Sprachdiagnostik und Sprachtherapie</a>\\n</ul>\\n</li>\\n<li class=\\\"mainli3\\\"><span class=\\\"emptylinkmain\\\">Zentren</span>\\n<ul class=\\\"Navul\\\">\\n<li><a href=\\\"/de/Kliniken_Zentren_Bereiche/Medizinische_Zentren/Darmkrebszentrum/index.php\\\" target=\\\"_self\\\">Darmzentrum</a>\\n<li><a href=\\\"/de/Kliniken_Zentren_Bereiche/Medizinische_Zentren/Epilepsiezentrum/index.php\\\" target=\\\"_self\\\">Epilepsiezentrum</a>\\n<li><a href=\\\"/de/Kliniken_Zentren_Bereiche/Kliniken/Mund_Kiefer_und_Plastische_Gesichtschirurgie/index.php\\\" target=\\\"_self\\\">Kopf-Hals-Tumorzentrum</a>\\n<li><a href=\\\"/de/Kliniken_Zentren_Bereiche/Medizinische_Zentren/Onkologisches_Zentrum/index.php\\\" target=\\\"_self\\\">Onkologisches Zentrum</a>\\n<li><a href=\\\"/de/Kliniken_Zentren_Bereiche/Medizinische_Zentren/Stroke_Unit/index.php\\\" target=\\\"_self\\\">Stroke Unit</a>\\n<li><a href=\\\"/de/Kliniken_Zentren_Bereiche/Medizinische_Zentren/Transplantationszentrum/index.php\\\" target=\\\"_self\\\">Transplantationszentrum</a>\\n<li><a href=\\\"/de/Kliniken_Zentren_Bereiche/Medizinische_Zentren/Traumazentrum/index.php\\\" target=\\\"_self\\\">Traumazentrum</a>\\n</ul>\\n</li>\\n<li class=\\\"mainli4\\\"><span class=\\\"emptylinkmain\\\">Pflege</span>\\n<ul class=\\\"Navul\\\">\\n<li><a href=\\\"/de/Pflege/Pflegedirektion/index..php\\\" target=\\\"_self\\\">Pflegedirektion</a>\\n<li><a href=\\\"/de/Pflege/Hygiene/index.php\\\" target=\\\"_self\\\">Hygiene</a>\\n<li><a href=\\\"/de/Pflege/Intensivstationen/index.php\\\" target=\\\"_self\\\">Intensivstationen</a>\\n<li><a href=\\\"/de/Pflege/Krankenpflege/index.php\\\" target=\\\"_self\\\">Krankenpflege</a>\\n<li><a href=\\\"/de/Pflege/Operationsbereiche/index.php\\\" target=\\\"_self\\\">Operationsbereiche</a>\\n<li><a href=\\\"/de/Pflege/Sozialdienst/index.php\\\" target=\\\"_self\\\">Sozialdienst</a>\\n<li><a href=\\\"/de/Pflege/Stationsleitungen/index.php\\\" target=\\\"_self\\\">Stationsleitungen</a>\\n<li><a href=\\\"/de/Pflege/Zentrale_Notaufnahme/index.php\\\" target=\\\"_self\\\">Zentrale Notaufnahme</a>\\n<li><a href=\\\"/de/Pflege/ZSVA/index.php\\\" target=\\\"_self\\\">ZSVA</a>\\n</ul>\\n</li>\\n<li class=\\\"mainli5\\\"><span class=\\\"emptylinkmain\\\">Karriere</span>\\n<ul class=\\\"Navul\\\">\\n<li><a href=\\\"/de/Karriere/index.php\\\" target=\\\"_self\\\">Karriere</a>\\n<li><a href=\\\"/de/Karriere/Stellenangebote/index.php\\\" target=\\\"_self\\\">Stellenangebote</a>\\n<li><a href=\\\"/de/Karriere/Kaufleute_im_Gesundheitswesen/index.php\\\" target=\\\"_self\\\">Kaufleute im Gesundheitswesen</a>\\n<li><a href=\\\"/de/Karriere/Gesundheits_und_Krankenpflegeassistenz/index.php\\\" target=\\\"_self\\\">Gesundheits- und Krankenpflegeassistenz</a>\\n<li><a href=\\\"/de/Karriere/MTA-Schule/index.php\\\" target=\\\"_self\\\">MTA-Schule</a>\\n<li><a href=\\\"/de/Karriere/Gesundheits_und_Krankenpflege/index.php\\\" target=\\\"_self\\\">Gesundheits- und Krankenpflege</a>\\n<li><a href=\\\"/de/Karriere/Notfallpflege/index.php\\\" target=\\\"_self\\\">Intensivpflege und An\\u00e4sthesie</a>\\n<li><a href=\\\"/de/Karriere/Notfallpflege/index.php\\\" target=\\\"_self\\\">Notfallpflege</a>\\n<li><a href=\\\"/de/Karriere/Palliative_Care/index.php\\\" target=\\\"_self\\\">Palliative Care</a>\\n<li><a href=\\\"/de/Karriere/Studium/index.php\\\" target=\\\"_self\\\">Studium</a>\\n</ul>\\n</li>\\n<li class=\\\"mainli6\\\"><span class=\\\"emptylinkmain\\\">Aktuelles </span>\\n<ul class=\\\"Navul\\\">\\n<li><a href=\\\"/de/Aktuelles_und_Presse/index.php\\\" target=\\\"_self\\\">Aktuelles</a>\\n<li><a href=\\\"/de/Aktuelles_und_Presse/Ansprechpartner/index.php\\\" target=\\\"_self\\\">Ansprechpartner</a>\\n<li><a href=\\\"/de/Aktuelles_und_Presse/PresseArchiv/index.php\\\" target=\\\"_self\\\">Presse-Archiv</a>\\n<li><a href=\\\"/de/Aktuelles_und_Presse/Veranstaltungen/index.php\\\" target=\\\"_self\\\">Veranstaltungen</a>\\n<li><a href=\\\"/de/Aktuelles_und_Presse/Downloadbereich/index.php\\\" target=\\\"_self\\\">Downloadbereich</a>\\n<li><a href=\\\"/de/Aktuelles_und_Presse/Bildergalerie/index.php\\\" target=\\\"_self\\\">Bildergalerie</a>\\n</ul>\\n</li>\\n<li class=\\\"mainli7\\\"><span class=\\\"emptylinkmain\\\">Unternehmen</span>\\n<ul class=\\\"Navul\\\">\\n<li><a href=\\\"/de/Unternehmen/index.php\\\" target=\\\"_self\\\">Unternehmen</a>\\n<li><a href=\\\"/de/Unternehmen/Geschaeftsfuehrung_und_Gremien/index.php\\\" target=\\\"_self\\\">Gesch\\u00e4ftsf\\u00fchrung und Gremien</a>\\n<li><a href=\\\"/de/Unternehmen/Lob_und_Kritik/index.php\\\" target=\\\"_self\\\">Lob und Kritik</a>\\n<li><a href=\\\"/de/Unternehmen/Personalvertretung/index.php\\\" target=\\\"_self\\\">Personalvertretung</a>\\n<li><a href=\\\"/de/Unternehmen/Qualitaetsmanagement/index.php\\\" target=\\\"_self\\\">Qualit\\u00e4tsmanagement</a>\\n<li><a href=\\\"/de/Unternehmen/Verwaltung/index.php\\\" target=\\\"_self\\\">Verwaltung</a>\\n<li><a href=\\\"/de/Unternehmen/Leitbild/index.php\\\" target=\\\"_self\\\">Leitbild</a>\\n<li><a href=\\\"/de/Unternehmen/Daten_und_Fakten/index.php\\\" target=\\\"_self\\\">Daten und Fakten</a>\\n<li><a href=\\\"/de/Unternehmen/Historie/index.php\\\" target=\\\"_self\\\">Historie</a>\\n<li><a href=\\\"/de/Unternehmen/Bildergalerie/index.php\\\" target=\\\"_self\\\">Bildergalerie</a>\\n<li><a href=\\\"/de/Unternehmen/Kooperationen/index.php\\\" target=\\\"_self\\\">Kooperationen</a>\\n<li><a href=\\\"/de/Unternehmen/Das_Medizinische_Netz_der_Knappschaft/index.php\\\" target=\\\"_self\\\">Das Medizinische Netz der Knappschaft</a>\\n<li><a href=\\\"/de/Unternehmen/Compliance/index.php\\\" target=\\\"_self\\\">Compliance</a>\\n<li><a href=\\\"/de/Kliniken_Zentren_Bereiche/Zentralapotheke/index.php\\\" target=\\\"_self\\\">Zentralapotheke</a>\\n<li><a href=\\\"/de/Unternehmen/Anfahrt/index.php\\\" target=\\\"_self\\\">Anfahrt</a>\\n</ul>\\n</li>\\n<li class=\\\"Verbund\\\"><span class=\\\"emptylink\\\"><a href=\\\"../../../../Verbund.php\\\">Verbund</a></span></li>\\n</ul>\\n</div>\\n</div></div>\\n<div id=\\\"BreadCrumb\\\" class=\\\"pansiteelement Pfadnavigation\\\">\\n<ul>\\n<li class=\\\"start\\\"><a href=\\\"../../../../index.php\\\">Startseite &gt;&gt; </a></li><li class=\\\"lvl0\\\"><a href=\\\"https://www.kk-bochum.de/de/Kliniken_Zentren_Bereiche/index.php\\\">Kliniken, Zentren, Bereiche</a></li><li class=\\\"lvl1\\\">Kliniken</li><li class=\\\"lvl3\\\"><a href=\\\"https://www.kk-bochum.de/de/Kliniken_Zentren_Bereiche/Kliniken/Mund_Kiefer_und_Plastische_Gesichtschirurgie/index.php\\\">Mund-, Kiefer- und Plastische Gesichtschirurgie</a></li></ul>\\n</div>\\n</div>\\n<div id=\\\"sidebarLeft\\\">\\n<div id=\\\"id2904\\\" class=\\\"pansiteelement NavLD\\\"><a href=\\\"#\\\" id=\\\"pull\\\">Men&uuml;</a>\\n  <div class=\\\"rahmenA\\\">\\n  <div class=\\\"rahmenI\\\">\\n<div class=\\\"navh4\\\"><a href=\\\"./index.php\\\" target=_self>Mund-, Kiefer- und Plastische Gesichtschirurgie</a></div>\\n<ul class='divcss'><li class='divcss'><div class=\\\"mainpasempty\\\"><a accesskey=\\\"t\\\" tabindex=\\\"1\\\" href=\\\"/de/Kliniken_Zentren_Bereiche/Kliniken/Mund_Kiefer_und_Plastische_Gesichtschirurgie/Team.php\\\" target=\\\"_self\\\">Team</a></div></li>\\n\\n<li class='divcss'><div class=\\\"footdiv\\\">&nbsp;</div></li>\\n\\n</ul>\\n</div>\\n</div>\\n<div class=\\\"schatten\\\"></div></div>\\n</div><!--nxid=1--><!--contentid=1-->\\n<div id=\\\"mainContent\\\">\\n<div id=\\\"id89509\\\" class=\\\"pansiteelement\\\">\\n<div class=\\\"schnellkontakt2018\\\">\\n\\n<a href=\\\"../../../_Schnellkontakt.php\\\" target=\\\"_self\\\" title=\\\"Schnellkontakt\\\"><IMG class=\\\"sk2018\\\" border=0 alt='Schnellkontakt' src='/images/xschnellkontakt_42021.png.pagespeed.ic.6yrsviSoXZ.png' title=\\\"Schnellkontakt\\\"></a>\\n\\n<a href=\\\"../../../Im_Notfall.php\\\" target=\\\"_self\\\" title=\\\"Im Notfall\\\"><IMG class=\\\"sk2018\\\" border=0 alt='Im Notfall' src='/images/ximNotfall_42020.png.pagespeed.ic.FcCn1rCq51.png' title=\\\"Im Notfall\\\"></a>\\n\\n<a href=\\\"../../../Unternehmen/Anfahrt/index.php\\\" target=\\\"_self\\\" title=\\\"Anfahrt\\\"><IMG class=\\\"sk2018\\\" border=0 alt='Anfahrt' src='/images/xanfahrt_42022.png.pagespeed.ic.UD2RJriQB8.png' title=\\\"Anfahrt\\\"></a>\\n\\n<a href=\\\"../../../Unternehmen/Lob_und_Kritik/index.php\\\" target=\\\"_blank\\\" title=\\\"Lob und Kritik\\\"><IMG class=\\\"sk2018\\\" border=0 alt='Lob und Kritik' src='/images/xlobundkritik_42026.png.pagespeed.ic.aAVu173RcI.png' title=\\\"Lob und Kritik\\\"></a>\\n\\n<a href=\\\"../../../Aktuelles_und_Presse/Veranstaltungen/index.php\\\" target=\\\"_self\\\" title=\\\"Veranstaltungen\\\"><IMG class=\\\"sk2018\\\" border=0 alt='Veranstaltungen' src='/images/xveranstaltungen_42028.png.pagespeed.ic.7hg8NBkMAI.png' title=\\\"Veranstaltungen\\\"></a>\\n\\n<a href=\\\"../../../Patienten_Besucher/Gaestehaus/index.php\\\" target=\\\"_self\\\" title=\\\"G&auml;stehaus\\\"><IMG class=\\\"sk2018\\\" border=0 alt='G&auml;stehaus' src='/images/xgaestehaus_42281.png.pagespeed.ic.xClN9UM2DI.png' title=\\\"G&auml;stehaus\\\"></a>\\n\\n<a href=\\\"../../../Aktuelles_und_Presse/index.php\\\" target=\\\"_self\\\" title=\\\"Aktuelles\\\"><IMG class=\\\"sk2018\\\" border=0 alt='Aktuelles' src='/images/xaktuelles_42283.png.pagespeed.ic.DixyBlJJbJ.png' title=\\\"Aktuelles\\\"></a>\\n\\n<a href=\\\"https://www.knappschaft.de/cae/servlet/path/common/LoginPages?view=renderLogin\\\" target=\\\"_blank\\\" title=\\\"Mitglied werden\\\"><IMG class=\\\"sk2018\\\" border=0 alt='Mitglied werden' src='/images/xmitgliedwerden_42282.png.pagespeed.ic.1TG6_BRZr6.png' title=\\\"Mitglied werden\\\"></a>\\n\\n</div>\\n\\n\\t\\t</div>\\n<div id=\\\"id2962\\\" class=\\\"pansiteelement\\\">\\n\\t\\t<link rel=\\\"stylesheet\\\" href=\\\"/0_Technik/css/A.flexslider.css.pagespeed.cf.4r7M9BXdQt.css\\\" type=\\\"text/css\\\">\\n\\t\\t<div class=\\\"rahmenA\\\">\\n\\t\\t<div class=\\\"rahmenI\\\">\\n\\t\\t<div class=\\\"flexslider\\\">\\n          \\t\\t<ul class=\\\"slides\\\">\\n\\t\\t\\n\\t\\t\\t<li>\\n  \\t    \\t   \\t <div class=\\\"SlidrInhalt\\\"><img src=\\\"/images/x275C3382_29042.jpg.pagespeed.ic.bJpboBvdW9.jpg\\\" border=0 alt=\\\"Klinik f&uuml;r Mund-, Kiefer- und Plastische Gesichtschirurgie\\\" title=\\\"Klinik f&uuml;r Mund-, Kiefer- und Plastische Gesichtschirurgie\\\"></div>\\n  \\t    \\t\\t</li>\\n\\n\\t\\t\\n\\t\\t\\t<li>\\n  \\t    \\t   \\t <div class=\\\"SlidrInhalt\\\"><img src=\\\"/images/xMKG_AB_06b_30381.jpg.pagespeed.ic.7WQMAa1WZn.jpg\\\" border=0 alt=\\\"Klinik f&uuml;r Mund-, Kiefer- und Plastische Gesichtschirurgie\\\" title=\\\"Klinik f&uuml;r Mund-, Kiefer- und Plastische Gesichtschirurgie\\\"></div>\\n  \\t    \\t\\t</li>\\n\\n\\t\\t\\n\\t\\t\\t<li>\\n  \\t    \\t   \\t <div class=\\\"SlidrInhalt\\\"><img src=\\\"/images/xMKG_AB_02_30380.jpg.pagespeed.ic.nIgc4k-1KI.jpg\\\" border=0 alt=\\\"Klinik f&uuml;r Mund-, Kiefer- und Plastische Gesichtschirurgie\\\" title=\\\"Klinik f&uuml;r Mund-, Kiefer- und Plastische Gesichtschirurgie\\\"></div>\\n  \\t    \\t\\t</li>\\n\\n\\t\\t\\n\\t\\t</ul>\\n\\t\\t</div>\\n\\t\\t</div>\\n\\t\\t</div>\\n\\t\\t<div class=\\\"schatten\\\"></div>\\n<!-- jquery.flexslider.js -->\\n<script>eval(mod_pagespeed_LeNfIV0mLY);</script>\\n  <script type=\\\"text/javascript\\\">$(function(){});$(window).load(function(){$('.flexslider').flexslider({animation:\\\"slide\\\",start:function(slider){$('body').removeClass('loading');}});});</script>\\n\\t\\t</div>\\n<div id=\\\"id62426\\\" class=\\\"pansiteelement\\\">\\n\\t\\t<h1>Klinik f&uuml;r Mund-, Kiefer- und Plastische Gesichtschirurgie</h1>\\n\\t</div>\\n<div id=\\\"id64182\\\" class=\\\"pansiteelement\\\">\\n\\t\\t<DIV class=fliesstext>Die Klinik f&uuml;r Mund-, Kiefer- und Plastische Gesichtschirurgie am Knappschaftskrankenhaus Bochum-Langendreer unter der Leitung von Prof. Dr. Dr. Martin Kunkel ist eine universit&auml;re Einrichtung der Maximalversorgung. Unsere Klinik betreut das gesamte Spektrum s&auml;mtlicher Erkrankungen in der Mundh&ouml;hle sowie der Gesichts- und Kieferregion. <p><strong>Ambulante und station&auml;re Versorgung<br></strong>Neben derzeit 43 Betten f&uuml;r die station&auml;re operative Patientenversorgung verf&uuml;gt die Klinik &uuml;ber einen eigenst&auml;ndigen Ambulanzbereich mit der M&ouml;glichkeit, kleinere operative Eingriffe flexibel durchzuf&uuml;hren. Auch eine kurzzeitige, tagesklinische Betreuung im Rahmen des ambulanten Operierens ist auf der interdisziplin&auml;ren Therapiestation unseres Hauses jederzeit gew&auml;hrleistet. Der entscheidende Vorteil dieses verzahnten Versorgungskonzeptes liegt in der M&ouml;glichkeit, bei Bedarf innerhalb der Klinik jederzeit von den ambulanten zur station&auml;re Betreuung oder umgekehrt &uuml;berzuleiten. F&uuml;r die ambulante Behandlung, die wir gerne auf &Uuml;berweisung sowohl von &auml;rztlichen als auch von zahn&auml;rztlichen Kollegen vornehmen, steht Ihnen eine durchgehende allgemeine Sprechstunde zur Untersuchung und Beratung offen. Daneben bieten wir f&uuml;r einige Krankheitsbilder Spezialsprechstunden an, beispielsweise f&uuml;r die spezielle Beratung und Behandlung bei Gesichtsfehlbildungen (Lippen-Kiefer-Gaumenspalten), bei wachstumsbedingten Fehlbissen (Dysgnathien) und bei Tumorerkrankungen, aber auch f&uuml;r die Behandlung von Zahnverlusten und schlechtem Prothesenhalt wegen der R&uuml;ckbildung oder Erkrankung des Kieferknochens. </p><p>An dieser Stelle haben wir Ihnen&nbsp;<a href=\\\"_doc/2017_05_17_Checkliste_ambulante_Behandlung_MKG.pdf\\\" target=\\\"_blank\\\">hier</a> einige Hinweise f&uuml;r Ihren Untersuchungs- bzw. Behandlungstermin in unserer Ambulanz zusammengestellt.</p></DIV>\\n\\t\\t\\n\\t\\t</div>\\n<div id=\\\"id64183\\\" class=\\\"pansiteelement\\\">\\n\\t\\t<h2>Therapeutische Schwerpunkte</h2>\\n\\t</div>\\n<div id=\\\"id64181\\\" class=\\\"pansiteelement\\\">\\n\\t<script type=\\\"text/javascript\\\">$(document).ready(function(){$('.acc_container').hide();$('.acc_trigger').click(function(){if($(this).next().is(':hidden')){$('.acc_trigger').removeClass('active').next().slideUp();$(this).toggleClass('active').next().slideDown();}else{$('.acc_trigger').removeClass('active').next().slideUp();}return false;});});</script>\\n\\n\\n\\t  <div class=\\\"container\\\">\\n\\t\\t\\n\\t<h2 class=\\\"acc_trigger\\\"><a href=\\\"#\\\">Behandlung mit Zahnimplantaten</a></h2>\\n\\t<div class=\\\"acc_container\\\">\\n\\t\\t<div class=\\\"block\\\">\\n\\t\\t\\t<p>Die Behandlung der Folgen des Zahnverlustes stellt einen weiteren Schwerpunkt unseres Leistungsspektrums dar. Gerade bei einem fortgeschrittenen Abbau des Kieferknochens ist es h&auml;ufig erforderlich, zahn&auml;rztliche Behandlungen auf der Basis von k&uuml;nstlichen Zahnwurzeln (Implantaten) vorzunehmen. In einigen F&auml;llen muss zuvor noch der Kieferknochen aufgebaut oder erweitert werden. Hierzu stehen uns heute zahlreiche Behandlungsmethoden zur Verf&uuml;gung, mit denen, h&auml;ufig in recht schonenden, ambulanten Eingriffen, ein gutes Fundament f&uuml;r eine sp&auml;tere zahn&auml;rztliche Versorgung gelegt werden kann.</p>\\n\\t\\t</div>\\n\\t</div>\\n\\t\\t\\n\\t\\t\\n\\t<h2 class=\\\"acc_trigger\\\"><a href=\\\"#\\\">Behandlung von Wachstumsst&ouml;rungen und Fehlbissen</a></h2>\\n\\t<div class=\\\"acc_container\\\">\\n\\t\\t<div class=\\\"block\\\">\\n\\t\\t\\t<p>Die operative Behandlung von Wachstumsst&ouml;rungen und Fehlbissen (sog. Dysgnathie-Chirurgie) erfolgt in enger Zusammenarbeit mit den kieferorthop&auml;dischen Spezialisten der Region. Bei diesen Operationen korrigieren wir Wachstums- und Formst&ouml;rungen der Kiefer mit langj&auml;hrig bew&auml;hrten Operationsmethoden unter Einbeziehung moderner Planungs- und Simulationstechniken, um optimale Voraussetzungen f&uuml;r die Gesundheit des Kausystems zu schaffen. Dar&uuml;ber hinaus wird die Harmonie der Proportionen des Gesichtes verbessert oder wieder hergestellt.</p>\\n\\t\\t</div>\\n\\t</div>\\n\\t\\t\\n\\t\\t\\n\\t<h2 class=\\\"acc_trigger\\\"><a href=\\\"#\\\">Behandlung von angeborenen Gesichtsfehlbildungen</a></h2>\\n\\t<div class=\\\"acc_container\\\">\\n\\t\\t<div class=\\\"block\\\">\\n\\t\\t\\t<p>Die Behandlung der angeborenen Gesichtsfehlbildungen stellt einen besonderen Schwerpunkt der Klinik dar. In Zusammenarbeit mit den kinderheilkundlichen Zentren der Region werden die kleinen Patienten vom ersten Tag an kontinuierlich und individuell betreut. Auch &uuml;ber die operative Korrektur hinaus gew&auml;hrleistet unsere Klinik eine interdisziplin&auml;re Behandlung bis in das Erwachsenenalter, in die wir beispielsweise die Abteilung f&uuml;r Sprachdiagnostik und Sprachtherapie unseres Hauses aber auch andere Fachdisziplinen wie die Kieferorthop&auml;die kontinuierlich einbeziehen.</p>\\n\\t\\t</div>\\n\\t</div>\\n\\t\\t\\n\\t\\t\\n\\t<h2 class=\\\"acc_trigger\\\"><a href=\\\"#\\\">Behandlung von Tumorerkrankungen</a></h2>\\n\\t<div class=\\\"acc_container\\\">\\n\\t\\t<div class=\\\"block\\\">\\n\\t\\t\\t<p>Unsere Klinik betreut in gro&szlig;em Umfang Patienten mit gutartigen und b&ouml;sartigen Tumoren in der Mundh&ouml;hle, der Kiefer-Gesichtsregion aber auch der Hals- Gesichts- und Kopfhaut. <br>In diesem sensiblen und sichtbaren Bereich gilt unser Bestreben einer bestm&ouml;glichen Wiederherstellung der Sprech-, Kau- und Schluckfunktion und vor allem auch der Erhaltung oder Wiederherstellung der Harmonie, Ausdrucksweise und &Auml;sthetik des individuellen Gesichtes. <br>Hierzu ber&uuml;cksichtigen wir aktuelle Therapieleitlinien und ethische Gesichtspunkte und wenden modernste Operationsverfahren an, die, wenn erforderlich, beispielsweise auch die Transplantation k&ouml;rpereigenen Gewebes einbeziehen. F&uuml;r die interdisziplin&auml;re Abstimmung und Optimierung der Krebstherapie finden w&ouml;chentliche Tumorkonferenzen unter Beteiligung aller Spezialdisziplinen der modernen Krebsbehandlung statt (Innere Medizin und Onkologie, Strahlentherapie, Chirurgie, diagnostische Radiologie/Nuklearmedizin). Unsere Klinik &uuml;bernimmt, in Abstimmung mit den niedergelassenen Kollegen, auch die regelm&auml;&szlig;ige onkologische Nachkontrolle. </p>\\n\\t\\t</div>\\n\\t</div>\\n\\t\\t\\n\\t\\t\\n\\t<h2 class=\\\"acc_trigger\\\"><a href=\\\"#\\\">Akutbehandlung und Sekund&auml;rversorgung von Verletzungen</a></h2>\\n\\t<div class=\\\"acc_container\\\">\\n\\t\\t<div class=\\\"block\\\">\\n\\t\\t\\t<p>Die Akutbehandlung von Verletzungen im Gesichts-, Hals- und Kieferbereich, insbesondere von Knochenbr&uuml;chen aber auch von Weichgewebsverletzungen z&auml;hlt zu unseren sehr h&auml;ufigen Aufgaben. Durch den Einsatz moderner Osteosyntheseverfahren (Knochen-Stabilisierungs-Techniken) sowie mit Hilfe plastisch-rekonstruktiver Verfahren k&ouml;nnen selbst schwerste Verletzungen oftmals ohne nennenswerte Folgeerscheinungen behandelt werden. Die bew&auml;hrte enge Zusammenarbeit mit den direkten Nachbardisziplinen Neurochirurgie und Augenheilkunde sowie mit der Radiologie erlaubt bei der Versorgung von Gesichtsverletzungen aber auch bei der chirurgischen Therapie von Tumorerkrankungen und Fehlbildungen f&auml;cher&uuml;bergreifende Behandlungen mit hoher interdisziplin&auml;rer Fachkompetenz.</p>\\n\\t\\t</div>\\n\\t</div>\\n\\t\\t\\n\\t\\t\\n\\t<h2 class=\\\"acc_trigger\\\"><a href=\\\"#\\\">Wissenschaft und Forschung</a></h2>\\n\\t<div class=\\\"acc_container\\\">\\n\\t\\t<div class=\\\"block\\\">\\n\\t\\t\\t<p><p>Neben unserem Lehrauftrag in der Ausbildung von Studierenden der Medizin liegen die wissenschaftlichen Schwerpunkte unserer Klinik auf dem Gebiet der Grundlagen- und Prognoseforschung beim Mundh&ouml;hlenkarzinom. Dar&uuml;ber hinaus besch&auml;ftigen wir uns intensiv mit Aspekten von Knochenerkrankungen und Mechanismen der Knochenheilung und Knochenregeneration. </p><p>Weitere Arbeitsgebiete in der klinischen Forschung stellen die unterschiedlichen Methoden der skelettalen Verankerung in der Kieferorthop&auml;die aber auch Untersuchungen zur Lebensqualit&auml;t nach unterschiedlichen chirurgischen Ma&szlig;nahmen dar. Unter dem Gesichtpunkt der Qualit&auml;tssicherung beteiligen wir uns auf &uuml;berregionaler Ebene aktiv an der Erstellung und Weiterentwicklung von Leitlinien auf dem Fachgebiet der Mund-, Kiefer- und Gesichtschirurgie. </p></p>\\n\\t\\t</div>\\n\\t</div>\\n\\t\\t\\n\\t\\t\\n\\t   </div>\\n\\t\\t</div>\\n</div><!--contentid=1--><!--nxid=1-->\\n<div id=\\\"sidebarRight\\\">\\n<div id=\\\"id4786\\\" class=\\\"pansiteelement Ansprechpartner\\\">\\n\\t\\t\\n\\t\\t\\t<div class=\\\"rahmenA\\\">\\n\\t\\t\\t\\t<div class=\\\"rahmenI\\\">\\n\\t\\t\\t\\t\\t<div class=\\\"navh4\\\">Klinikdirektor</div>\\n\\t\\t\\t\\t\\t<div class=\\\"TeaserBild\\\"><img src=\\\"/images/xkunkel_martin2_29045.jpg.pagespeed.ic.Cej5gj2Kuw.jpg\\\" class=\\\"teaserhombild\\\" border=0 alt=\\\"Univ.-Prof. Dr. med. Dr. med. dent. Martin Kunkel\\\" title=\\\"Univ.-Prof. Dr. med. Dr. med. dent. Martin Kunkel\\\"></div>\\n\\t\\t\\t\\t\\t<div class=\\\"TeaserText\\\"><strong>Univ.-Prof. Dr. med. Dr. med. dent. Martin Kunkel</strong><br></div>\\n\\t\\t\\t\\t\\t<div class=\\\"Email\\\"><a href=\\\"/Inhalt/Kontakt/Kontakt_Formular.php?u=79\\\" target=\\\"_self\\\" title=\\\"E-Mail versenden\\\"><IMG border=0 alt=\\\"E-Mail\\\" src='/0_Technik/img/xEMail.png.pagespeed.ic.e0O6Z8TEGN.png' class=\\\"E-MAIL versenden\\\"></a></div>\\n\\t\\t\\t\\t\\t\\t\\t\\n\\t\\t\\t\\t</div>\\n\\t\\t\\t</div>\\n\\t\\t\\t<div class=\\\"schatten\\\"></div>\\n\\n\\t\\t</div>\\n<div id=\\\"id4786\\\" class=\\\"pansiteelement Ansprechpartner\\\">\\n\\t\\t\\n\\t\\t\\t<div class=\\\"rahmenA\\\">\\n\\t\\t\\t\\t<div class=\\\"rahmenI\\\">\\n\\t\\t\\t\\t\\t<div class=\\\"navh4\\\">Sekretariat</div>\\n\\t\\t\\t\\t\\t<div class=\\\"TeaserText\\\"><strong>Melanie Winderlich</strong><br>Tel.: <a href=\\\"tel:02342993501\\\">0234 / 299-3501</a><br>Fax: 0234 / 299-3509</div>\\n\\t\\t\\t\\t\\t<div class=\\\"Email\\\"><a href=\\\"/Inhalt/Kontakt/Kontakt_Formular.php?u=84\\\" target=\\\"_self\\\" title=\\\"E-Mail versenden\\\"><IMG border=0 alt=\\\"E-Mail\\\" src='/0_Technik/img/xEMail.png.pagespeed.ic.e0O6Z8TEGN.png' class=\\\"E-MAIL versenden\\\" title=\\\"E-MAIL versenden\\\"></a></div>\\n\\t\\t\\t\\t\\t\\t\\t\\n\\t\\t\\t\\t</div>\\n\\t\\t\\t</div>\\n\\t\\t\\t<div class=\\\"schatten\\\"></div>\\n\\n\\t\\t</div>\\n<div id=\\\"id64316\\\" class=\\\"pansiteelement TeaserRahmen\\\">\\n\\t\\t<div class=\\\"TeaserEinstieg\\\">\\n\\t\\t\\t<div class=\\\"rahmenA\\\">\\n\\t\\t\\t\\t<div class=\\\"rahmenI\\\">\\n\\t\\t\\t\\t\\t<h4>Sprechstunden</h4>\\n\\t\\t\\t\\t\\t<div class=\\\"TeaserBild\\\"><a href=\\\"./_Sprechstunden.php\\\" target=\\\"_self\\\" title=\\\"Sprechstunden\\\"><img src=\\\"/images/xSprechstunde_AB_01_30481.jpg.pagespeed.ic.tZy30sAm4Z.jpg\\\" class=\\\"teaserhombild\\\" border=0 alt=\\\"Sprechstunden\\\" title=\\\"Sprechstunden\\\"></a></div>\\n\\t\\t\\t\\t\\t<div class=\\\"TeaserLink\\\"><a href=\\\"./_Sprechstunden.php\\\" target=\\\"_self\\\" title=\\\"Sprechstunden\\\"><IMG border=0 alt='weiter' src='/images/xPfeil_Teaser_21417.png.pagespeed.ic.77iBgK3hI_.png' title=\\\"Sprechstunden\\\"></a></div>\\n\\t\\t\\t\\t\\t\\t\\t\\n\\t\\t\\t\\t</div>\\n\\t\\t\\t</div>\\n\\t\\t\\t<div class=\\\"schatten\\\"></div>\\n\\t\\t</div>\\n\\n\\t\\t</div>\\n<div id=\\\"id5420\\\" class=\\\"pansiteelement Ansprechpartner\\\">\\n\\t\\t\\n\\t\\t\\t<div class=\\\"rahmenA\\\">\\n\\t\\t\\t\\t<div class=\\\"rahmenI\\\">\\n\\t\\t\\t\\t\\t<div class=\\\"navh4\\\">Weitere Info</div>\\n\\t\\t\\t\\t\\t<div class=\\\"TeaserText\\\"><a href=\\\"http://www.ruhr-uni-bochum.de/mkg/\\\" target=\\\"_blank\\\">externe Klinikhomepage</a></div>\\n\\t\\t\\t\\t\\t\\t\\t\\t\\t\\t\\n\\t\\t\\t\\t</div>\\n\\t\\t\\t</div>\\n\\t\\t\\t<div class=\\\"schatten\\\"></div>\\n\\n\\t\\t</div>\\n<div id=\\\"id5420\\\" class=\\\"pansiteelement Ansprechpartner\\\">\\n\\t\\t\\n\\t\\t\\t<div class=\\\"rahmenA\\\">\\n\\t\\t\\t\\t<div class=\\\"rahmenI\\\">\\n\\t\\t\\t\\t\\t<div class=\\\"navh4\\\">Flyer</div>\\n\\t\\t\\t\\t\\t<div class=\\\"TeaserText\\\"><a href=\\\"../../../Patienten_Besucher/Downloadbereich/_doc/FL_MKG_2018.pdf\\\" target=\\\"_blank\\\">MKG-Chirurgie</a></div>\\n\\t\\t\\t\\t\\t\\t\\t\\t\\t\\t\\n\\t\\t\\t\\t</div>\\n\\t\\t\\t</div>\\n\\t\\t\\t<div class=\\\"schatten\\\"></div>\\n\\n\\t\\t</div>\\n<div id=\\\"id56939\\\" class=\\\"pansiteelement Ansprechpartner kompas\\\">\\n\\t\\t\\n\\t\\t\\t<div class=\\\"rahmenA\\\">\\n\\t\\t\\t\\t<div class=\\\"rahmenI\\\">\\n\\t\\t\\t\\t\\t<div class=\\\"navh4\\\">Focus &#8222;&Auml;rzteliste 2019&#8220; </div>\\n\\t\\t\\t\\t\\t<div class=\\\"TeaserBild\\\"><a href=\\\"https://focus-arztsuche.de/ueber-uns/siegel/top-mediziner \\\" target=\\\"_blank\\\"><img src=\\\"/images/x2019_Focus_Aerzte_Implantologie_44685.jpg.pagespeed.ic.vleCMDFeFn.jpg\\\" class=\\\"teaserhombild\\\" border=0 alt=\\\"Focus Siegel Implantologie\\\" title=\\\"Focus Siegel Implantologie\\\"></a></div>\\n\\t\\t\\t\\t\\t\\t\\t\\t\\t\\t\\t\\t\\n\\t\\t\\t\\t</div>\\n\\t\\t\\t</div>\\n\\t\\t\\t<div class=\\\"schatten\\\"></div>\\n\\n\\t\\t</div>\\n<div id=\\\"id56939\\\" class=\\\"pansiteelement Ansprechpartner kompas\\\">\\n\\t\\t\\n\\t\\t\\t<div class=\\\"rahmenA\\\">\\n\\t\\t\\t\\t<div class=\\\"rahmenI\\\">\\n\\t\\t\\t\\t\\t<div class=\\\"navh4\\\">Direktlink zum Arztprofil</div>\\n\\t\\t\\t\\t\\t<div class=\\\"TeaserBild\\\"><a href=\\\"https://focus-arztsuche.de/arzt/prof-dr-med-dr-med-dent-martin-kunkel-3419003\\\" target=\\\"_blank\\\"><img src=\\\"/images/x2019_Backlink-Top-Mediziner_44687.png.pagespeed.ic.7wXecA79cE.png\\\" class=\\\"teaserhombild\\\" border=0 alt=\\\"\\\" title=\\\"\\\"></a></div>\\n\\t\\t\\t\\t\\t\\t\\t\\t\\t\\t\\t\\t\\n\\t\\t\\t\\t</div>\\n\\t\\t\\t</div>\\n\\t\\t\\t<div class=\\\"schatten\\\"></div>\\n\\n\\t\\t</div>\\n</div>\\n<div class=\\\"clearfloat\\\">\\n</div>\\n</div>\\n<div id=\\\"FotterR\\\">\\n<div id=\\\"footer\\\">\\n<div id=\\\"id28789\\\" class=\\\"pansiteelement Fnav\\\">\\n\\t\\t<div class=\\\"rahmenA\\\">\\n\\t\\t<div class=\\\"rahmenI\\\">\\n\\t\\t<div class=\\\"navh4\\\"></div>\\n\\t\\t<ul>\\n\\t\\t\\n\\t\\t\\t<li class=\\\"Datenschutz\\\"><a href=\\\"../../../Datenschutz.php\\\" target=\\\"_self\\\">Datenschutz</a></li>\\n\\t\\t\\n\\t\\t\\t<li class=\\\"Impressum\\\"><a href=\\\"../../../Impressum.php\\\" target=\\\"_self\\\">Impressum</a></li>\\n\\t\\t\\n\\t\\t\\t<li class=\\\"Kontakt\\\"><a href=\\\"../../../Kontakt.php\\\" target=\\\"_self\\\">Kontakt</a></li>\\n\\t\\t\\n\\t\\t\\t<li class=\\\"Print\\\"><a href=\\\"javascript:self.print()\\\" target=\\\"_self\\\">Drucken</a></li>\\n\\t\\t\\n\\t\\t</ul>\\n\\t\\t</div>\\n\\t\\t</div>\\n\\t\\t<div class=\\\"schatten\\\"></div>\\n\\t\\t</div>\\n<div id=\\\"id89514\\\" class=\\\"pansiteelement\\\">\\n<div class=\\\"service2018\\\">\\n\\n<a href=\\\"../../../../index.php\\\" target=\\\"_self\\\" title=\\\"Home\\\"><IMG class=\\\"sk2018s\\\" border=0 alt='Home' src='/images/xfooterhome_42039.png.pagespeed.ic.XzgMw-RhhG.png' title=\\\"Home\\\"></a>\\n\\n<a href=\\\"../../../../Sitemap.php\\\" target=\\\"_self\\\" title=\\\"Sitemap\\\"><IMG class=\\\"sk2018s\\\" border=0 alt='Sitemap' src='/images/xfootersitemap_42034.png.pagespeed.ic.mYUcUvQ_LV.png' title=\\\"Sitemap\\\"></a>\\n\\n</div>\\n\\n\\t\\t</div>\\n</div>\\n<div id=\\\"footer2\\\">\\n<div id=\\\"id83336\\\" class=\\\"pansiteelement SitemapA\\\"><h6 class=\\\"sitemap\\\">Kliniken</h6>\\n\\n<ul class=\\\"sitemap\\\">\\n<li class=\\\"mainliu1\\\"><a href=\\\"/de/Kliniken_Zentren_Bereiche/Kliniken/Anaesthesiologie_Intensivmedizin_und_Schmerztherapie/index.php\\\" target=\\\"_self\\\">An\\u00e4sthesiologie, Intensivmedizin und Schmerztherapie</a></li>\\n<li class=\\\"mainliu2\\\"><a href=\\\"/de/Kliniken_Zentren_Bereiche/Kliniken/Augenheilkunde/index.php\\\" target=\\\"_self\\\">Augenheilkunde</a></li>\\n<li class=\\\"mainliu3\\\"><a href=\\\"/de/Kliniken_Zentren_Bereiche/Kliniken/Chirurgie/index.php\\\" target=\\\"_self\\\">Chirurgie</a></li>\\n<li class=\\\"mainliu4\\\"><a href=\\\"/de/Kliniken_Zentren_Bereiche/Kliniken/Medizinische_Klinik/index.php\\\" target=\\\"_self\\\">Medizinische Klinik</a></li>\\n<li class=\\\"mainliu5\\\"><a href=\\\"/de/Kliniken_Zentren_Bereiche/Kliniken/Mund_Kiefer_und_Plastische_Gesichtschirurgie/index.php\\\" target=\\\"_self\\\">Mund-, Kiefer- und Plastische Gesichtschirurgie</a></li>\\n<li class=\\\"mainliu6\\\"><a href=\\\"/de/Kliniken_Zentren_Bereiche/Kliniken/Neurochirurgie/index.php\\\" target=\\\"_self\\\">Neurochirurgie</a></li>\\n<li class=\\\"mainliu7\\\"><a href=\\\"/de/Kliniken_Zentren_Bereiche/Kliniken/Neurologie/index.php\\\" target=\\\"_self\\\">Neurologie</a></li>\\n<li class=\\\"mainliu8\\\"><a href=\\\"/de/Kliniken_Zentren_Bereiche/Kliniken/Radiologie_und_Nuklearmedizin/index.php\\\" target=\\\"_self\\\">Radiologie, Neuroradiologie und Nuklearmedizin</a></li>\\n<li class=\\\"mainliu9\\\"><a href=\\\"/de/Kliniken_Zentren_Bereiche/Kliniken/Unfallchirurgie_und_Orthopaedie/index.php\\\" target=\\\"_self\\\">Unfallchirurgie und Orthop\\u00e4die</a></li>\\n<li class=\\\"mainliu10\\\"><a href=\\\"/de/Kliniken_Zentren_Bereiche/Abteilung/Physikalische_Therapie_und_Physiotherapie/index.php\\\" target=\\\"_self\\\">Physikalische Therapie und Physiotherapie</a></li>\\n<li class=\\\"mainliu11\\\"><a href=\\\"/de/Kliniken_Zentren_Bereiche/Abteilung/Sprachdiagnostik_und_Sprachtherapie/index.php\\\" target=\\\"_self\\\">Sprachdiagnostik und Sprachtherapie</a></li>\\n</ul></div>\\n<div id=\\\"id83335\\\" class=\\\"pansiteelement SitemapB\\\"><h6 class=\\\"sitemap\\\">Zentren</h6>\\n\\n<ul class=\\\"sitemap\\\">\\n<li class=\\\"mainliu1\\\"><a href=\\\"/de/Kliniken_Zentren_Bereiche/Medizinische_Zentren/Darmkrebszentrum/index.php\\\" target=\\\"_self\\\">Darmzentrum</a></li>\\n<li class=\\\"mainliu2\\\"><a href=\\\"/de/Kliniken_Zentren_Bereiche/Medizinische_Zentren/Epilepsiezentrum/index.php\\\" target=\\\"_self\\\">Epilepsiezentrum</a></li>\\n<li class=\\\"mainliu3\\\"><a href=\\\"/de/Kliniken_Zentren_Bereiche/Kliniken/Mund_Kiefer_und_Plastische_Gesichtschirurgie/index.php\\\" target=\\\"_self\\\">Kopf-Hals-Tumorzentrum</a></li>\\n<li class=\\\"mainliu4\\\"><a href=\\\"/de/Kliniken_Zentren_Bereiche/Medizinische_Zentren/Onkologisches_Zentrum/index.php\\\" target=\\\"_self\\\">Onkologisches Zentrum</a></li>\\n<li class=\\\"mainliu5\\\"><a href=\\\"/de/Kliniken_Zentren_Bereiche/Medizinische_Zentren/Stroke_Unit/index.php\\\" target=\\\"_self\\\">Stroke Unit</a></li>\\n<li class=\\\"mainliu6\\\"><a href=\\\"/de/Kliniken_Zentren_Bereiche/Medizinische_Zentren/Transplantationszentrum/index.php\\\" target=\\\"_self\\\">Transplantationszentrum</a></li>\\n<li class=\\\"mainliu7\\\"><a href=\\\"/de/Kliniken_Zentren_Bereiche/Medizinische_Zentren/Traumazentrum/index.php\\\" target=\\\"_self\\\">Traumazentrum</a></li>\\n</ul></div>\\n</div>\\n<div id=\\\"footer3\\\">\\n<div id=\\\"id83333\\\" class=\\\"pansiteelement Zertifikat\\\"><IMG alt='Focus' src='/images/x2018_Focus_Klinikliste_website_42186.png.pagespeed.ic.LTpAzHTLbf.png' class=\\\"focus\\\"><IMG border=0 alt=\\\"KTQ Log\\\" src=\\\"https://www.kk-bochum.de/0_Technik/img/2018/xktq_2018.png.pagespeed.ic.kdck5Qs19z.png\\\"></div>\\n</div>\\n</div>\\n</div>  <!-- jquery.searchMeme.js-->\\n<script type=\\\"text/javascript\\\" src=\\\"https://www.kk-bochum.de/0_Technik/js/datenschutz.js.pagespeed.jm.ew1kieE3dZ.js\\\"></script>     <a href=\\\"#0\\\" class=\\\"cd-top\\\">Top</a>\\n<script type=\\\"text/javascript\\\">$(\\\"a\\\").each(function(){if($(this).attr(\\\"target\\\")==\\\"_blank\\\"){$(this).attr(\\\"title\\\",\\\"Externer Link, \\u00f6ffnet in neuem Fenster\\\");}});jQuery(document).ready(function($){var offset=300,offset_opacity=1200,scroll_top_duration=700,$back_to_top=$('.cd-top');$(window).scroll(function(){($(this).scrollTop()>offset)?$back_to_top.addClass('cd-is-visible'):$back_to_top.removeClass('cd-is-visible cd-fade-out');if($(this).scrollTop()>offset_opacity){$back_to_top.addClass('cd-fade-out');}});$back_to_top.on('click',function(event){event.preventDefault();$('body,html').animate({scrollTop:0,},scroll_top_duration);});});</script>  <script type=\\\"text/javascript\\\">$(document).ready(function(){\\\"use strict\\\";$('.menu > ul > li:has( > ul)').addClass('menu-dropdown-icon');$('.menu > ul > li > ul:not(:has(ul))').addClass('normal-sub');$(\\\".menu > ul\\\").before(\\\"<a href=\\\\\\\"#\\\\\\\" class=\\\\\\\"menu-mobile\\\\\\\">Men\\u00fc</a>\\\");$(\\\".menu > ul > li\\\").hover(function(e){if($(window).width()>943){$(this).children(\\\"ul\\\").stop(true,false).fadeToggle(150);e.preventDefault();}});$(\\\".menu > ul > li\\\").click(function(){if($(window).width()<=943){$(this).children(\\\"ul\\\").fadeToggle(150);}});$(\\\".menu-mobile\\\").click(function(e){$(\\\".menu > ul\\\").toggleClass('show-on-mobile');e.preventDefault();});});</script>\\n <!--nxid=1--></body></html>\\n\"\n        ],\n        \"semantic_type\": \"\",\n        \"description\": \"\"\n      }\n    },\n    {\n      \"column\": \"html_text\",\n      \"properties\": {\n        \"dtype\": \"string\",\n        \"num_unique_values\": 5,\n        \"samples\": [\n          \"\\n \\n \\n \\n \\n \\n \\n \\n \\n \\n \\n \\n \\n \\n \\n \\n \\n \\n \\n \\n \\n \\n \\n \\n \\n \\n Unser Profil\\u00a0|\\u00a0Gef\\u00c3\\u00a4\\u00c3\\u009f- und Thoraxchirurgie | Klinikum Esslingen   \\n \\n \\n \\n \\n \\n \\n \\n Toggle navigation \\n \\n \\n \\n \\n \\n \\n \\n \\n \\n \\n \\n \\n \\n Kliniken & Zentren \\n \\n \\n Kliniken Allgemein- und Viszeralchirurgie Allgemeine Innere Medizin, Onkologie/H\\u00c3\\u00a4matologie, Gastroenterologie und Infektiologie An\\u00c3\\u00a4sthesiologie und operative Intensivmedizin Frauenheilkunde und Geburtshilfe Gef\\u00c3\\u00a4\\u00c3\\u009f- und Thoraxchirurgie Kardiologie, Angiologie und Pneumologie Kinder und Jugendliche Kinder- und Jugendpsychiatrie, Psychosomatik und Psychotherapie Neurologie und klinische Neurophysiologie Psychosomatische Medizin und Psychotherapie Diagnostische und interventionelle Radiologie und Nuklearmedizin Strahlentherapie und Radioonkologie Unfallchirurgie und Orthop\\u00c3\\u00a4die \\u00a0 Belegklinik Augen Belegklinik HNO \\n \\n \\n \\n \\n \\n Zentren Cancer Center Esslingen CCE Darmzentrum Esslingen DZE Brustzentrum Esslingen BZE Lungenkrebszentrum (TESS) Gyn\\u00c3\\u00a4kologisches Tumorzentrum Esslingen GTZE Pankreaszentrum PZE Leberzentrum Esslingen LZE Ambulantes Onkologiezentrum Adipositaszentrum Ambulantes OP-Zentrum Beckenbodenzentrum Endometriose- und Myom-Zentrum Endoprothetikzentrum Endoskopiezentrum Gef\\u00c3\\u00a4\\u00c3\\u009fzentrum Mutter-Kind-Zentrum Perinatalzentrum Regionales Traumazentrum Sozialp\\u00c3\\u00a4diatrisches Zentrum Zentrum f\\u00c3\\u00bcr Wirbels\\u00c3\\u00a4ulentherapie \\n \\n \\n \\n \\n \\n Weitere Einrichtungen Zentrale Notaufnahme Praxen im Medizinischen Versorgungszentrum (MVZ) MVZ Strahlentherapie und Radioonkologie MVZ Gastroenterologie MVZ HNO-Praxis MVZ Kinder- und Jugendpsychiatrie MVZ Neurologie MVZ Nuklearmedizin Therapieabteilung Team f\\u00c3\\u00bcr Notfalltraining (TNT) Apotheke Dialyse Zentrallabor Institut f\\u00c3\\u00bcr Pathologie \\n \\n \\n Babygalerie Frisch geschl\\u00c3\\u00bcpft: werfen Sie einen Blick auf unsere Neuank\\u00c3\\u00b6mmlinge in der  Babygalerie  Pflege & Beratung Pflegedienst Hygiene Demenzsensibles Krankenhaus Sozialdienst Seelsorge Patientenf\\u00c3\\u00bcrsprecher Ethik-Kommitee KE im Dialog Elternschule Ohne Kippe Selbsthilfegruppen Sterilgut und Service GmbH Ihr Aufenthalt Vor dem Aufenthalt Auf der Station Nach dem Aufenthalt Wahlleistungen G\\u00c3\\u00a4stehaus Serviceangebote von A - Z Ihre Meinung Notfall Beruf & Karriere Arbeitgeber Klinikum Beruf und Familie Gesundheit am Arbeitsplatz Schule f\\u00c3\\u00bcr Pflegeberufe Ausbildung FSJ / BUFDI / Praktika Akademisches Lehrkrankenhaus PJ-Studenten Fort- und Weiterbildung Betriebsrat Schwerbehindertenvertretung Stellenb\\u00c3\\u00b6rse \\u00c3\\u009cber uns Das Klinikum Esslingen Daten und Fakten Gesch\\u00c3\\u00a4ftsf\\u00c3\\u00bchrung Ansprechpartner Presse und Publikationen Geschichte F\\u00c3\\u00b6rdervereine Unsere Spenden Lageplan / Wegweiser Infos f\\u00c3\\u00bcr Kids Ein Tag im Krankenhaus Meine Oma muss ins Krankenhaus Was passiert im Krankenhaus? Wissensecke Videos f\\u00c3\\u00bcr Kids Notfall Login Dienstleister \\n \\n \\n \\n \\n Klinik f\\u00c3\\u00bcr Gef\\u00c3\\u00a4\\u00c3\\u009f- und Thoraxchirurgie \\n \\n \\n \\n \\n \\n \\n \\n Toggle navigation \\n \\n \\n \\n \\n \\n Unser Profil Team Ambulanzen & Sprechstunden Medizinische Schwerpunkte Patienteninformationen Pflege und Stationen Fortbildungen Klinische Studien / Forschung Kooperationen Zertifikate und Auszeichnungen Selbsthilfegruppen \\n Sekretariat Christina Prawatschke Telefon: 0711 3103-2700, -2701 Telefax: 0711 3103-2704 E-Mail:  f.liewald @ klinikum-esslingen.de \\n \\n \\n \\n \\n \\n \\n \\n \\n \\n \\n \\n \\n \\n \\n Die Klinik f\\u00c3\\u00bcr Gef\\u00c3\\u00a4\\u00c3\\u009f- und Thoraxchirurgie ist von der Deutschen Gesellschaft f\\u00c3\\u00bcr Gef\\u00c3\\u00a4\\u00c3\\u009fchirurgie als Zentrum f\\u00c3\\u00bcr Gef\\u00c3\\u00a4\\u00c3\\u009fkrankheiten am Klinikum Esslingen zertifiziert. \\n \\n \\n \\n \\n \\n \\n \\n \\n \\u00e2\\u0080\\u009eUnser Motto lautet:  Keine F\\u00c3\\u00a4lle, sondern Patienten,  keine Leistungszahlen, sondern Leistung,  keine Werbung, sondern Vertrauen durch gute Arbeit.\\u00e2\\u0080\\u009d  Chefarzt Prof. Dr. Florian Liewald \\n \\n \\n \\n \\n \\n \\n Die  Gef\\u00c3\\u00a4\\u00c3\\u009fchirurgie  umfasst die Chirurgie von Schlagadern (Arterien) und Venen.\\u00a0Schwerpunkte unserer T\\u00c3\\u00a4tigkeit sind die Behandlung von Erweiterungen der Hauptschlagader (Aortenaneurysmen), Verengungen der Halsschlagader (Carotisstenosen), Verschlussprozesse im Bereich der Becken- und Beingef\\u00c3\\u00a4\\u00c3\\u009fe (arterielle Verschlusskrankheit) sowie die operative Behandlung von Krampfadern (Varikosis). Besonderen Wert legen wir auf eine intensive interdisziplin\\u00c3\\u00a4re Zusammenarbeit. Im Bereich der Gef\\u00c3\\u00a4\\u00c3\\u009fchirurgie arbeiten wir zum Wohle unserer Patienten eng mit Spezialisten der Angiologie, Radiologie, Kardiologie, An\\u00c3\\u00a4sthesie, Neurologie und Intensivmedizin zusammen.\\n \\n Die  Thoraxchirurgie  ist die Chirurgie aller Erkrankungen des Brustkorbes mit Ausnahme des Herzens. Im Bereich der Thoraxchirurgie sind wir die f\\u00c3\\u00bcnftgr\\u00c3\\u00b6\\u00c3\\u009fte Klinik in Baden-W\\u00c3\\u00bcrttemberg und sind spezialisiert auf die Behandlung b\\u00c3\\u00b6sartiger Lungentumore (Bronchialkarzinom), Tumore des Mittelfells (Mediastinum),\\u00a0 Einri\\u00c3\\u009f und Kollaps der Lunge (Pneumothorax) sowie alle tumor\\u00c3\\u00b6sen und entz\\u00c3\\u00bcndlichen Ver\\u00c3\\u00a4nderungen des Brustfells (Pleura). In einer Tumorkonferenz werden w\\u00c3\\u00b6chentlich interdisziplin\\u00c3\\u00a4r alle onkologischen Thoraxpatienten besprochen und das Therapiekonzept f\\u00c3\\u00bcr jeden einzelnen Patienten speziell festgelegt. Gro\\u00c3\\u009fe Erfahrungen liegen auch bei unfallbedingten Verletzungen der Lunge und des Brustkorbes (Thoraxtrauma) vor. \\n \\n Die Thoraxchirurgie ist Teil des  Thoraxzentrums Esslingen-Stuttgart (TESS)  und in diesem Rahmen eines von deutschlandweit nur 38 zertifizierten Zentren f\\u00c3\\u00bcr die Behandlung von Lungenkrebspatienten. Hierbei sind Pneumologen, Onkologen, Thoraxchirurgen, Strahlentherapeuten, Thoraxan\\u00c3\\u00a4sthesisten und Intensivmediziner sowie Schlafmediziner und Psychologen eng in ein gemeinsames Therapiekonzept eingebunden. Die Klinik f\\u00c3\\u00bcr Gef\\u00c3\\u00a4\\u00c3\\u009f- und Thoraxchirurgie wurde als Teil des Thoraxzentrums Esslingen-Stuttgart in die  FOCUS-Liste der Top-Kliniken zur Behandlung des Lungenkrebses  aufgenommen.\\n \\n F\\u00c3\\u00bcr die medizinische und menschliche Betreuung steht Ihnen ein Team aus zw\\u00c3\\u00b6lf \\u00c3\\u0084rzten und 24 Pflegekr\\u00c3\\u00a4ften zur Verf\\u00c3\\u00bcgung. \\n \\n Die Patienten werden in 50 modernen Krankenhausbetten versorgt. Die intensivmedizinische Betreuung schwerstkranker Patienten erfolgt auf der an\\u00c3\\u00a4sthesiologischen Intensivstation, wo durch die gemeinsamen t\\u00c3\\u00a4glichen Visiten von Intensivmedizinern und Chirurgen die Therapiekonzepte festgelegt werden. Die Klinik ist zertifiziertes Zentrum f\\u00c3\\u00bcr die Behandlung von Lungenkrebspatienten sowie zertifiziertes Gef\\u00c3\\u00a4\\u00c3\\u009fzentrum. Diese Doppelzertifizierung ist deutschlandweit nahezu einzigartig und unterstreicht unsere hohe Kompetenz in der Behandlung unserer Patienten. Oberstes Ziel aller Mitarbeiter der Klinik f\\u00c3\\u00bcr Gef\\u00c3\\u00a4\\u00c3\\u009f- und Thoraxchirurgie ist die optimale Behandlung der Patienten auf fachlich modernstem Niveau unter Ber\\u00c3\\u00bccksichtigung der Maxime der Menschlichkeit. \\n \\n \\n \\n \\n \\n \\n \\n \\n Schwerpunkte der Klinik \\n \\n \\n \\n \\n \\n\\t\\t\\t\\t\\t\\t\\tGef\\u00c3\\u00a4\\u00c3\\u009fchirurgie\\n\\t\\t\\t\\t\\t\\t \\n \\n \\n \\n\\t\\t\\t\\t\\t\\t\\tThoraxchirurgie\\n\\t\\t\\t\\t\\t\\t \\n \\n \\n \\n \\n \\n \\n \\n \\n Sekretariat Christina Prawatschke Telefon: 0711 3103-2700, -2701 Telefax: 0711 3103-2704 E-Mail:  f.liewald @ klinikum-esslingen.de \\n \\n \\n \\n \\n \\n \\u00a9\\u00a02019\\u00a0Klinikum Esslingen Datenschutz Impressum Jobs Kontakt Veranstaltungen \\n \\n \\n \\n \\n \\n \\n \\n \\n \\n \\n \\n \\n \\n \\n \\n \\n \\n \\n \\n \\n \\n\",\n          \"\\n \\n \\n \\n \\n \\n \\n \\n \\n \\n \\n \\n \\n \\n \\n \\n \\n \\n \\n \\n \\n \\n \\n   \\n \\n \\n \\n \\n \\n \\n \\n \\n \\n \\n \\n \\n \\n \\n \\n \\n Mund-, Kiefer- und Plastische Gesichtschirurgie \\n \\n   \\n \\n \\n \\n \\n de\\n\\t\\t\\t\\t\\t\\t\\t\\t\\t \\n en \\n \\n \\n \\n \\n \\n \\n \\n \\n \\n \\n \\n Home \\n Patienten & Besucher \\n \\n Patienten & Besucher \\n Bibliothek \\n Cafeteria und K\\u00fcche \\n Downloadbereich \\n Ern\\u00e4hrungsmedizin \\n Friseur \\n G\\u00e4stehaus \\n Klinik ABC \\n Komfortstationen \\n Medizin-Tipps \\n Patientenmanagement \\n Pflege Zuhause \\n Psychoonkologie \\n Seelsorge \\n Sozialdienst \\n \\n \\n Kliniken \\n \\n An\\u00e4sthesiologie, Intensivmedizin und Schmerztherapie \\n Augenheilkunde \\n Chirurgie \\n Medizinische Klinik \\n Mund-, Kiefer- und Plastische Gesichtschirurgie \\n Neurochirurgie \\n Neurologie \\n Radiologie, Neuroradiologie und Nuklearmedizin \\n Unfallchirurgie und Orthop\\u00e4die \\n Physikalische Therapie und Physiotherapie \\n Sprachdiagnostik und Sprachtherapie \\n \\n \\n Zentren \\n \\n Darmzentrum \\n Epilepsiezentrum \\n Kopf-Hals-Tumorzentrum \\n Onkologisches Zentrum \\n Stroke Unit \\n Transplantationszentrum \\n Traumazentrum \\n \\n \\n Pflege \\n \\n Pflegedirektion \\n Hygiene \\n Intensivstationen \\n Krankenpflege \\n Operationsbereiche \\n Sozialdienst \\n Stationsleitungen \\n Zentrale Notaufnahme \\n ZSVA \\n \\n \\n Karriere \\n \\n Karriere \\n Stellenangebote \\n Kaufleute im Gesundheitswesen \\n Gesundheits- und Krankenpflegeassistenz \\n MTA-Schule \\n Gesundheits- und Krankenpflege \\n Intensivpflege und An\\u00e4sthesie \\n Notfallpflege \\n Palliative Care \\n Studium \\n \\n \\n Aktuelles  \\n \\n Aktuelles \\n Ansprechpartner \\n Presse-Archiv \\n Veranstaltungen \\n Downloadbereich \\n Bildergalerie \\n \\n \\n Unternehmen \\n \\n Unternehmen \\n Gesch\\u00e4ftsf\\u00fchrung und Gremien \\n Lob und Kritik \\n Personalvertretung \\n Qualit\\u00e4tsmanagement \\n Verwaltung \\n Leitbild \\n Daten und Fakten \\n Historie \\n Bildergalerie \\n Kooperationen \\n Das Medizinische Netz der Knappschaft \\n Compliance \\n Zentralapotheke \\n Anfahrt \\n \\n \\n Verbund \\n \\n \\n \\n \\n \\n Startseite >>  Kliniken, Zentren, Bereiche Kliniken Mund-, Kiefer- und Plastische Gesichtschirurgie \\n \\n \\n \\n Men\\u00fc \\n \\n \\n Mund-, Kiefer- und Plastische Gesichtschirurgie \\n Team \\n \\u00a0 \\n \\n \\n \\n \\n \\n \\n \\n \\n \\n \\n \\n \\n \\n \\n \\n \\n \\n \\n \\n \\n \\n \\n \\n \\n \\n \\n \\n \\n \\n \\n \\n \\n \\n \\n \\n \\n \\n \\n \\n \\n \\n \\n \\n Klinik f\\u00fcr Mund-, Kiefer- und Plastische Gesichtschirurgie \\n \\n \\n Die Klinik f\\u00fcr Mund-, Kiefer- und Plastische Gesichtschirurgie am Knappschaftskrankenhaus Bochum-Langendreer unter der Leitung von Prof. Dr. Dr. Martin Kunkel ist eine universit\\u00e4re Einrichtung der Maximalversorgung. Unsere Klinik betreut das gesamte Spektrum s\\u00e4mtlicher Erkrankungen in der Mundh\\u00f6hle sowie der Gesichts- und Kieferregion.  Ambulante und station\\u00e4re Versorgung Neben derzeit 43 Betten f\\u00fcr die station\\u00e4re operative Patientenversorgung verf\\u00fcgt die Klinik \\u00fcber einen eigenst\\u00e4ndigen Ambulanzbereich mit der M\\u00f6glichkeit, kleinere operative Eingriffe flexibel durchzuf\\u00fchren. Auch eine kurzzeitige, tagesklinische Betreuung im Rahmen des ambulanten Operierens ist auf der interdisziplin\\u00e4ren Therapiestation unseres Hauses jederzeit gew\\u00e4hrleistet. Der entscheidende Vorteil dieses verzahnten Versorgungskonzeptes liegt in der M\\u00f6glichkeit, bei Bedarf innerhalb der Klinik jederzeit von den ambulanten zur station\\u00e4re Betreuung oder umgekehrt \\u00fcberzuleiten. F\\u00fcr die ambulante Behandlung, die wir gerne auf \\u00dcberweisung sowohl von \\u00e4rztlichen als auch von zahn\\u00e4rztlichen Kollegen vornehmen, steht Ihnen eine durchgehende allgemeine Sprechstunde zur Untersuchung und Beratung offen. Daneben bieten wir f\\u00fcr einige Krankheitsbilder Spezialsprechstunden an, beispielsweise f\\u00fcr die spezielle Beratung und Behandlung bei Gesichtsfehlbildungen (Lippen-Kiefer-Gaumenspalten), bei wachstumsbedingten Fehlbissen (Dysgnathien) und bei Tumorerkrankungen, aber auch f\\u00fcr die Behandlung von Zahnverlusten und schlechtem Prothesenhalt wegen der R\\u00fcckbildung oder Erkrankung des Kieferknochens.  An dieser Stelle haben wir Ihnen\\u00a0 hier  einige Hinweise f\\u00fcr Ihren Untersuchungs- bzw. Behandlungstermin in unserer Ambulanz zusammengestellt. \\n \\n \\n Therapeutische Schwerpunkte \\n \\n \\n \\n \\n Behandlung mit Zahnimplantaten \\n \\n \\n Die Behandlung der Folgen des Zahnverlustes stellt einen weiteren Schwerpunkt unseres Leistungsspektrums dar. Gerade bei einem fortgeschrittenen Abbau des Kieferknochens ist es h\\u00e4ufig erforderlich, zahn\\u00e4rztliche Behandlungen auf der Basis von k\\u00fcnstlichen Zahnwurzeln (Implantaten) vorzunehmen. In einigen F\\u00e4llen muss zuvor noch der Kieferknochen aufgebaut oder erweitert werden. Hierzu stehen uns heute zahlreiche Behandlungsmethoden zur Verf\\u00fcgung, mit denen, h\\u00e4ufig in recht schonenden, ambulanten Eingriffen, ein gutes Fundament f\\u00fcr eine sp\\u00e4tere zahn\\u00e4rztliche Versorgung gelegt werden kann. \\n \\n \\n Behandlung von Wachstumsst\\u00f6rungen und Fehlbissen \\n \\n \\n Die operative Behandlung von Wachstumsst\\u00f6rungen und Fehlbissen (sog. Dysgnathie-Chirurgie) erfolgt in enger Zusammenarbeit mit den kieferorthop\\u00e4dischen Spezialisten der Region. Bei diesen Operationen korrigieren wir Wachstums- und Formst\\u00f6rungen der Kiefer mit langj\\u00e4hrig bew\\u00e4hrten Operationsmethoden unter Einbeziehung moderner Planungs- und Simulationstechniken, um optimale Voraussetzungen f\\u00fcr die Gesundheit des Kausystems zu schaffen. Dar\\u00fcber hinaus wird die Harmonie der Proportionen des Gesichtes verbessert oder wieder hergestellt. \\n \\n \\n Behandlung von angeborenen Gesichtsfehlbildungen \\n \\n \\n Die Behandlung der angeborenen Gesichtsfehlbildungen stellt einen besonderen Schwerpunkt der Klinik dar. In Zusammenarbeit mit den kinderheilkundlichen Zentren der Region werden die kleinen Patienten vom ersten Tag an kontinuierlich und individuell betreut. Auch \\u00fcber die operative Korrektur hinaus gew\\u00e4hrleistet unsere Klinik eine interdisziplin\\u00e4re Behandlung bis in das Erwachsenenalter, in die wir beispielsweise die Abteilung f\\u00fcr Sprachdiagnostik und Sprachtherapie unseres Hauses aber auch andere Fachdisziplinen wie die Kieferorthop\\u00e4die kontinuierlich einbeziehen. \\n \\n \\n Behandlung von Tumorerkrankungen \\n \\n \\n Unsere Klinik betreut in gro\\u00dfem Umfang Patienten mit gutartigen und b\\u00f6sartigen Tumoren in der Mundh\\u00f6hle, der Kiefer-Gesichtsregion aber auch der Hals- Gesichts- und Kopfhaut.  In diesem sensiblen und sichtbaren Bereich gilt unser Bestreben einer bestm\\u00f6glichen Wiederherstellung der Sprech-, Kau- und Schluckfunktion und vor allem auch der Erhaltung oder Wiederherstellung der Harmonie, Ausdrucksweise und \\u00c4sthetik des individuellen Gesichtes.  Hierzu ber\\u00fccksichtigen wir aktuelle Therapieleitlinien und ethische Gesichtspunkte und wenden modernste Operationsverfahren an, die, wenn erforderlich, beispielsweise auch die Transplantation k\\u00f6rpereigenen Gewebes einbeziehen. F\\u00fcr die interdisziplin\\u00e4re Abstimmung und Optimierung der Krebstherapie finden w\\u00f6chentliche Tumorkonferenzen unter Beteiligung aller Spezialdisziplinen der modernen Krebsbehandlung statt (Innere Medizin und Onkologie, Strahlentherapie, Chirurgie, diagnostische Radiologie/Nuklearmedizin). Unsere Klinik \\u00fcbernimmt, in Abstimmung mit den niedergelassenen Kollegen, auch die regelm\\u00e4\\u00dfige onkologische Nachkontrolle.  \\n \\n \\n Akutbehandlung und Sekund\\u00e4rversorgung von Verletzungen \\n \\n \\n Die Akutbehandlung von Verletzungen im Gesichts-, Hals- und Kieferbereich, insbesondere von Knochenbr\\u00fcchen aber auch von Weichgewebsverletzungen z\\u00e4hlt zu unseren sehr h\\u00e4ufigen Aufgaben. Durch den Einsatz moderner Osteosyntheseverfahren (Knochen-Stabilisierungs-Techniken) sowie mit Hilfe plastisch-rekonstruktiver Verfahren k\\u00f6nnen selbst schwerste Verletzungen oftmals ohne nennenswerte Folgeerscheinungen behandelt werden. Die bew\\u00e4hrte enge Zusammenarbeit mit den direkten Nachbardisziplinen Neurochirurgie und Augenheilkunde sowie mit der Radiologie erlaubt bei der Versorgung von Gesichtsverletzungen aber auch bei der chirurgischen Therapie von Tumorerkrankungen und Fehlbildungen f\\u00e4cher\\u00fcbergreifende Behandlungen mit hoher interdisziplin\\u00e4rer Fachkompetenz. \\n \\n \\n Wissenschaft und Forschung \\n \\n \\n Neben unserem Lehrauftrag in der Ausbildung von Studierenden der Medizin liegen die wissenschaftlichen Schwerpunkte unserer Klinik auf dem Gebiet der Grundlagen- und Prognoseforschung beim Mundh\\u00f6hlenkarzinom. Dar\\u00fcber hinaus besch\\u00e4ftigen wir uns intensiv mit Aspekten von Knochenerkrankungen und Mechanismen der Knochenheilung und Knochenregeneration.  Weitere Arbeitsgebiete in der klinischen Forschung stellen die unterschiedlichen Methoden der skelettalen Verankerung in der Kieferorthop\\u00e4die aber auch Untersuchungen zur Lebensqualit\\u00e4t nach unterschiedlichen chirurgischen Ma\\u00dfnahmen dar. Unter dem Gesichtpunkt der Qualit\\u00e4tssicherung beteiligen wir uns auf \\u00fcberregionaler Ebene aktiv an der Erstellung und Weiterentwicklung von Leitlinien auf dem Fachgebiet der Mund-, Kiefer- und Gesichtschirurgie.  \\n \\n \\n \\n \\n \\n \\n \\n \\n \\n Klinikdirektor \\n \\n Univ.-Prof. Dr. med. Dr. med. dent. Martin Kunkel \\n \\n \\n \\n \\n \\n \\n \\n \\n Sekretariat \\n Melanie Winderlich Tel.:  0234 / 299-3501 Fax: 0234 / 299-3509 \\n \\n \\n \\n \\n \\n \\n \\n \\n \\n Sprechstunden \\n \\n \\n \\n \\n \\n \\n \\n \\n \\n \\n Weitere Info \\n externe Klinikhomepage \\n \\n \\n \\n \\n \\n \\n \\n Flyer \\n MKG-Chirurgie \\n \\n \\n \\n \\n \\n \\n \\n Focus \\u201e\\u00c4rzteliste 2019\\u201c  \\n \\n \\n \\n \\n \\n \\n \\n \\n Direktlink zum Arztprofil \\n \\n \\n \\n \\n \\n \\n \\n \\n \\n \\n \\n \\n \\n \\n \\n \\n Datenschutz \\n Impressum \\n Kontakt \\n Drucken \\n \\n \\n \\n \\n \\n \\n \\n \\n \\n \\n \\n \\n \\n Kliniken \\n \\n An\\u00e4sthesiologie, Intensivmedizin und Schmerztherapie \\n Augenheilkunde \\n Chirurgie \\n Medizinische Klinik \\n Mund-, Kiefer- und Plastische Gesichtschirurgie \\n Neurochirurgie \\n Neurologie \\n Radiologie, Neuroradiologie und Nuklearmedizin \\n Unfallchirurgie und Orthop\\u00e4die \\n Physikalische Therapie und Physiotherapie \\n Sprachdiagnostik und Sprachtherapie \\n \\n Zentren \\n \\n Darmzentrum \\n Epilepsiezentrum \\n Kopf-Hals-Tumorzentrum \\n Onkologisches Zentrum \\n Stroke Unit \\n Transplantationszentrum \\n Traumazentrum \\n \\n \\n \\n \\n \\n \\n   \\n   Top \\n   \\n \\n\"\n        ],\n        \"semantic_type\": \"\",\n        \"description\": \"\"\n      }\n    }\n  ]\n}"
            }
          },
          "metadata": {},
          "execution_count": 16
        }
      ]
    },
    {
      "cell_type": "markdown",
      "source": [
        "So far we are making some progress, but we immediately observe an issue, and that is the large number of new line symbols \\n at the beginning of each document. Ideally, we would want to provide clear text, with no special characters and in a proper, human-readable format."
      ],
      "metadata": {
        "id": "aF4JQJT9k5Sr"
      }
    },
    {
      "cell_type": "code",
      "source": [
        "import re\n",
        "from bs4 import BeautifulSoup\n",
        "\n",
        "def preprocessed_html_text(html_text: str) -> str:\n",
        "    text = BeautifulSoup(html_text, \"html.parser\").get_text()\n",
        "    text = re.sub(r'[^A-Za-z0-9\\s]', '', text)  # Remove non-alphanumeric\n",
        "    text = re.sub(r'\\s+', ' ', text)  # Remove multiple whitespaces\n",
        "    text = text.strip().lower()\n",
        "    return text\n"
      ],
      "metadata": {
        "id": "Y73SPs-CopOx"
      },
      "execution_count": 34,
      "outputs": []
    },
    {
      "cell_type": "code",
      "source": [
        "train_csv.sample(n=5, random_state=42)"
      ],
      "metadata": {
        "colab": {
          "base_uri": "https://localhost:8080/",
          "height": 483
        },
        "id": "-ZvnDT0covtd",
        "outputId": "c00aa690-73a3-45d1-9db6-8e4d2c212f6b"
      },
      "execution_count": 35,
      "outputs": [
        {
          "output_type": "execute_result",
          "data": {
            "text/plain": [
              "                                                  url  doc_id  label  \\\n",
              "83  http://www.sbk-vs.de/de/medizin/leistungen-und...     125      1   \n",
              "53  http://www.klinikum-esslingen.de/kliniken-und-...      85      2   \n",
              "70  http://www.malteser-kliniken-rhein-ruhr.de/med...     107      2   \n",
              "45  http://www.klilu.de/medizin__pflege/kliniken_u...      73      2   \n",
              "44  http://www.kk-bochum.de/de/kliniken_zentren_be...      72      1   \n",
              "\n",
              "                                                 html  \\\n",
              "83  \\n\\n<!DOCTYPE HTML>\\n<html dir=\"ltr\" lang=\"de_...   \n",
              "53  <!DOCTYPE html>\\n<html xmlns=\"http://www.w3.or...   \n",
              "70  <!DOCTYPE html>\\n<html lang=\"de\">\\n<head>\\n\\n<...   \n",
              "45  <!DOCTYPE html>\\n<html lang=\"de\"><head>\\n\\t<me...   \n",
              "44  <!DOCTYPE html PUBLIC \"-//W3C//DTD HTML 4.01 T...   \n",
              "\n",
              "                                            html_text  \n",
              "83  \\n \\n \\n \\n \\n Prostata-Karzinom-Zentrum - Sch...  \n",
              "53  \\n \\n \\n \\n \\n \\n \\n \\n \\n \\n \\n \\n \\n \\n \\n \\...  \n",
              "70  \\n \\n \\n \\n \\n \\n \\n \\n \\n \\n \\n \\n \\n \\n \\n \\...  \n",
              "45  \\n \\n \\n \\n Darmzentrum Rheinpfalz » Zentren A...  \n",
              "44  \\n \\n \\n \\n \\n \\n \\n \\n \\n \\n \\n \\n \\n \\n \\n \\...  "
            ],
            "text/html": [
              "\n",
              "  <div id=\"df-1978941b-7121-4cea-ab7c-185a5050243e\" class=\"colab-df-container\">\n",
              "    <div>\n",
              "<style scoped>\n",
              "    .dataframe tbody tr th:only-of-type {\n",
              "        vertical-align: middle;\n",
              "    }\n",
              "\n",
              "    .dataframe tbody tr th {\n",
              "        vertical-align: top;\n",
              "    }\n",
              "\n",
              "    .dataframe thead th {\n",
              "        text-align: right;\n",
              "    }\n",
              "</style>\n",
              "<table border=\"1\" class=\"dataframe\">\n",
              "  <thead>\n",
              "    <tr style=\"text-align: right;\">\n",
              "      <th></th>\n",
              "      <th>url</th>\n",
              "      <th>doc_id</th>\n",
              "      <th>label</th>\n",
              "      <th>html</th>\n",
              "      <th>html_text</th>\n",
              "    </tr>\n",
              "  </thead>\n",
              "  <tbody>\n",
              "    <tr>\n",
              "      <th>83</th>\n",
              "      <td>http://www.sbk-vs.de/de/medizin/leistungen-und...</td>\n",
              "      <td>125</td>\n",
              "      <td>1</td>\n",
              "      <td>\\n\\n&lt;!DOCTYPE HTML&gt;\\n&lt;html dir=\"ltr\" lang=\"de_...</td>\n",
              "      <td>\\n \\n \\n \\n \\n Prostata-Karzinom-Zentrum - Sch...</td>\n",
              "    </tr>\n",
              "    <tr>\n",
              "      <th>53</th>\n",
              "      <td>http://www.klinikum-esslingen.de/kliniken-und-...</td>\n",
              "      <td>85</td>\n",
              "      <td>2</td>\n",
              "      <td>&lt;!DOCTYPE html&gt;\\n&lt;html xmlns=\"http://www.w3.or...</td>\n",
              "      <td>\\n \\n \\n \\n \\n \\n \\n \\n \\n \\n \\n \\n \\n \\n \\n \\...</td>\n",
              "    </tr>\n",
              "    <tr>\n",
              "      <th>70</th>\n",
              "      <td>http://www.malteser-kliniken-rhein-ruhr.de/med...</td>\n",
              "      <td>107</td>\n",
              "      <td>2</td>\n",
              "      <td>&lt;!DOCTYPE html&gt;\\n&lt;html lang=\"de\"&gt;\\n&lt;head&gt;\\n\\n&lt;...</td>\n",
              "      <td>\\n \\n \\n \\n \\n \\n \\n \\n \\n \\n \\n \\n \\n \\n \\n \\...</td>\n",
              "    </tr>\n",
              "    <tr>\n",
              "      <th>45</th>\n",
              "      <td>http://www.klilu.de/medizin__pflege/kliniken_u...</td>\n",
              "      <td>73</td>\n",
              "      <td>2</td>\n",
              "      <td>&lt;!DOCTYPE html&gt;\\n&lt;html lang=\"de\"&gt;&lt;head&gt;\\n\\t&lt;me...</td>\n",
              "      <td>\\n \\n \\n \\n Darmzentrum Rheinpfalz » Zentren A...</td>\n",
              "    </tr>\n",
              "    <tr>\n",
              "      <th>44</th>\n",
              "      <td>http://www.kk-bochum.de/de/kliniken_zentren_be...</td>\n",
              "      <td>72</td>\n",
              "      <td>1</td>\n",
              "      <td>&lt;!DOCTYPE html PUBLIC \"-//W3C//DTD HTML 4.01 T...</td>\n",
              "      <td>\\n \\n \\n \\n \\n \\n \\n \\n \\n \\n \\n \\n \\n \\n \\n \\...</td>\n",
              "    </tr>\n",
              "  </tbody>\n",
              "</table>\n",
              "</div>\n",
              "    <div class=\"colab-df-buttons\">\n",
              "\n",
              "  <div class=\"colab-df-container\">\n",
              "    <button class=\"colab-df-convert\" onclick=\"convertToInteractive('df-1978941b-7121-4cea-ab7c-185a5050243e')\"\n",
              "            title=\"Convert this dataframe to an interactive table.\"\n",
              "            style=\"display:none;\">\n",
              "\n",
              "  <svg xmlns=\"http://www.w3.org/2000/svg\" height=\"24px\" viewBox=\"0 -960 960 960\">\n",
              "    <path d=\"M120-120v-720h720v720H120Zm60-500h600v-160H180v160Zm220 220h160v-160H400v160Zm0 220h160v-160H400v160ZM180-400h160v-160H180v160Zm440 0h160v-160H620v160ZM180-180h160v-160H180v160Zm440 0h160v-160H620v160Z\"/>\n",
              "  </svg>\n",
              "    </button>\n",
              "\n",
              "  <style>\n",
              "    .colab-df-container {\n",
              "      display:flex;\n",
              "      gap: 12px;\n",
              "    }\n",
              "\n",
              "    .colab-df-convert {\n",
              "      background-color: #E8F0FE;\n",
              "      border: none;\n",
              "      border-radius: 50%;\n",
              "      cursor: pointer;\n",
              "      display: none;\n",
              "      fill: #1967D2;\n",
              "      height: 32px;\n",
              "      padding: 0 0 0 0;\n",
              "      width: 32px;\n",
              "    }\n",
              "\n",
              "    .colab-df-convert:hover {\n",
              "      background-color: #E2EBFA;\n",
              "      box-shadow: 0px 1px 2px rgba(60, 64, 67, 0.3), 0px 1px 3px 1px rgba(60, 64, 67, 0.15);\n",
              "      fill: #174EA6;\n",
              "    }\n",
              "\n",
              "    .colab-df-buttons div {\n",
              "      margin-bottom: 4px;\n",
              "    }\n",
              "\n",
              "    [theme=dark] .colab-df-convert {\n",
              "      background-color: #3B4455;\n",
              "      fill: #D2E3FC;\n",
              "    }\n",
              "\n",
              "    [theme=dark] .colab-df-convert:hover {\n",
              "      background-color: #434B5C;\n",
              "      box-shadow: 0px 1px 3px 1px rgba(0, 0, 0, 0.15);\n",
              "      filter: drop-shadow(0px 1px 2px rgba(0, 0, 0, 0.3));\n",
              "      fill: #FFFFFF;\n",
              "    }\n",
              "  </style>\n",
              "\n",
              "    <script>\n",
              "      const buttonEl =\n",
              "        document.querySelector('#df-1978941b-7121-4cea-ab7c-185a5050243e button.colab-df-convert');\n",
              "      buttonEl.style.display =\n",
              "        google.colab.kernel.accessAllowed ? 'block' : 'none';\n",
              "\n",
              "      async function convertToInteractive(key) {\n",
              "        const element = document.querySelector('#df-1978941b-7121-4cea-ab7c-185a5050243e');\n",
              "        const dataTable =\n",
              "          await google.colab.kernel.invokeFunction('convertToInteractive',\n",
              "                                                    [key], {});\n",
              "        if (!dataTable) return;\n",
              "\n",
              "        const docLinkHtml = 'Like what you see? Visit the ' +\n",
              "          '<a target=\"_blank\" href=https://colab.research.google.com/notebooks/data_table.ipynb>data table notebook</a>'\n",
              "          + ' to learn more about interactive tables.';\n",
              "        element.innerHTML = '';\n",
              "        dataTable['output_type'] = 'display_data';\n",
              "        await google.colab.output.renderOutput(dataTable, element);\n",
              "        const docLink = document.createElement('div');\n",
              "        docLink.innerHTML = docLinkHtml;\n",
              "        element.appendChild(docLink);\n",
              "      }\n",
              "    </script>\n",
              "  </div>\n",
              "\n",
              "\n",
              "    <div id=\"df-34014fab-c109-4c66-9199-55a45118fbdb\">\n",
              "      <button class=\"colab-df-quickchart\" onclick=\"quickchart('df-34014fab-c109-4c66-9199-55a45118fbdb')\"\n",
              "                title=\"Suggest charts\"\n",
              "                style=\"display:none;\">\n",
              "\n",
              "<svg xmlns=\"http://www.w3.org/2000/svg\" height=\"24px\"viewBox=\"0 0 24 24\"\n",
              "     width=\"24px\">\n",
              "    <g>\n",
              "        <path d=\"M19 3H5c-1.1 0-2 .9-2 2v14c0 1.1.9 2 2 2h14c1.1 0 2-.9 2-2V5c0-1.1-.9-2-2-2zM9 17H7v-7h2v7zm4 0h-2V7h2v10zm4 0h-2v-4h2v4z\"/>\n",
              "    </g>\n",
              "</svg>\n",
              "      </button>\n",
              "\n",
              "<style>\n",
              "  .colab-df-quickchart {\n",
              "      --bg-color: #E8F0FE;\n",
              "      --fill-color: #1967D2;\n",
              "      --hover-bg-color: #E2EBFA;\n",
              "      --hover-fill-color: #174EA6;\n",
              "      --disabled-fill-color: #AAA;\n",
              "      --disabled-bg-color: #DDD;\n",
              "  }\n",
              "\n",
              "  [theme=dark] .colab-df-quickchart {\n",
              "      --bg-color: #3B4455;\n",
              "      --fill-color: #D2E3FC;\n",
              "      --hover-bg-color: #434B5C;\n",
              "      --hover-fill-color: #FFFFFF;\n",
              "      --disabled-bg-color: #3B4455;\n",
              "      --disabled-fill-color: #666;\n",
              "  }\n",
              "\n",
              "  .colab-df-quickchart {\n",
              "    background-color: var(--bg-color);\n",
              "    border: none;\n",
              "    border-radius: 50%;\n",
              "    cursor: pointer;\n",
              "    display: none;\n",
              "    fill: var(--fill-color);\n",
              "    height: 32px;\n",
              "    padding: 0;\n",
              "    width: 32px;\n",
              "  }\n",
              "\n",
              "  .colab-df-quickchart:hover {\n",
              "    background-color: var(--hover-bg-color);\n",
              "    box-shadow: 0 1px 2px rgba(60, 64, 67, 0.3), 0 1px 3px 1px rgba(60, 64, 67, 0.15);\n",
              "    fill: var(--button-hover-fill-color);\n",
              "  }\n",
              "\n",
              "  .colab-df-quickchart-complete:disabled,\n",
              "  .colab-df-quickchart-complete:disabled:hover {\n",
              "    background-color: var(--disabled-bg-color);\n",
              "    fill: var(--disabled-fill-color);\n",
              "    box-shadow: none;\n",
              "  }\n",
              "\n",
              "  .colab-df-spinner {\n",
              "    border: 2px solid var(--fill-color);\n",
              "    border-color: transparent;\n",
              "    border-bottom-color: var(--fill-color);\n",
              "    animation:\n",
              "      spin 1s steps(1) infinite;\n",
              "  }\n",
              "\n",
              "  @keyframes spin {\n",
              "    0% {\n",
              "      border-color: transparent;\n",
              "      border-bottom-color: var(--fill-color);\n",
              "      border-left-color: var(--fill-color);\n",
              "    }\n",
              "    20% {\n",
              "      border-color: transparent;\n",
              "      border-left-color: var(--fill-color);\n",
              "      border-top-color: var(--fill-color);\n",
              "    }\n",
              "    30% {\n",
              "      border-color: transparent;\n",
              "      border-left-color: var(--fill-color);\n",
              "      border-top-color: var(--fill-color);\n",
              "      border-right-color: var(--fill-color);\n",
              "    }\n",
              "    40% {\n",
              "      border-color: transparent;\n",
              "      border-right-color: var(--fill-color);\n",
              "      border-top-color: var(--fill-color);\n",
              "    }\n",
              "    60% {\n",
              "      border-color: transparent;\n",
              "      border-right-color: var(--fill-color);\n",
              "    }\n",
              "    80% {\n",
              "      border-color: transparent;\n",
              "      border-right-color: var(--fill-color);\n",
              "      border-bottom-color: var(--fill-color);\n",
              "    }\n",
              "    90% {\n",
              "      border-color: transparent;\n",
              "      border-bottom-color: var(--fill-color);\n",
              "    }\n",
              "  }\n",
              "</style>\n",
              "\n",
              "      <script>\n",
              "        async function quickchart(key) {\n",
              "          const quickchartButtonEl =\n",
              "            document.querySelector('#' + key + ' button');\n",
              "          quickchartButtonEl.disabled = true;  // To prevent multiple clicks.\n",
              "          quickchartButtonEl.classList.add('colab-df-spinner');\n",
              "          try {\n",
              "            const charts = await google.colab.kernel.invokeFunction(\n",
              "                'suggestCharts', [key], {});\n",
              "          } catch (error) {\n",
              "            console.error('Error during call to suggestCharts:', error);\n",
              "          }\n",
              "          quickchartButtonEl.classList.remove('colab-df-spinner');\n",
              "          quickchartButtonEl.classList.add('colab-df-quickchart-complete');\n",
              "        }\n",
              "        (() => {\n",
              "          let quickchartButtonEl =\n",
              "            document.querySelector('#df-34014fab-c109-4c66-9199-55a45118fbdb button');\n",
              "          quickchartButtonEl.style.display =\n",
              "            google.colab.kernel.accessAllowed ? 'block' : 'none';\n",
              "        })();\n",
              "      </script>\n",
              "    </div>\n",
              "\n",
              "    </div>\n",
              "  </div>\n"
            ],
            "application/vnd.google.colaboratory.intrinsic+json": {
              "type": "dataframe",
              "summary": "{\n  \"name\": \"train_csv\",\n  \"rows\": 5,\n  \"fields\": [\n    {\n      \"column\": \"url\",\n      \"properties\": {\n        \"dtype\": \"string\",\n        \"num_unique_values\": 5,\n        \"samples\": [\n          \"http://www.klinikum-esslingen.de/kliniken-und-zentren/gefaess-und-thoraxchirurgie/unser-profil/?l=984%22\",\n          \"http://www.kk-bochum.de/de/kliniken_zentren_bereiche/kliniken/mund_kiefer_und_plastische_gesichtschirurgie/?no=1&z_highmain=0&z_highsub=0&z_highsubsub=0\",\n          \"http://www.malteser-kliniken-rhein-ruhr.de/medizinische-fachbereiche/zentren-und-institute/darmzentrum-duisburg.html/?type=%23%23%23typenum%23%23%23%27a%3D0%27a%3D0\"\n        ],\n        \"semantic_type\": \"\",\n        \"description\": \"\"\n      }\n    },\n    {\n      \"column\": \"doc_id\",\n      \"properties\": {\n        \"dtype\": \"number\",\n        \"std\": 23,\n        \"min\": 72,\n        \"max\": 125,\n        \"num_unique_values\": 5,\n        \"samples\": [\n          85,\n          72,\n          107\n        ],\n        \"semantic_type\": \"\",\n        \"description\": \"\"\n      }\n    },\n    {\n      \"column\": \"label\",\n      \"properties\": {\n        \"dtype\": \"number\",\n        \"std\": 0,\n        \"min\": 1,\n        \"max\": 2,\n        \"num_unique_values\": 2,\n        \"samples\": [\n          2,\n          1\n        ],\n        \"semantic_type\": \"\",\n        \"description\": \"\"\n      }\n    },\n    {\n      \"column\": \"html\",\n      \"properties\": {\n        \"dtype\": \"string\",\n        \"num_unique_values\": 5,\n        \"samples\": [\n          \"<!DOCTYPE html>\\n<html xmlns=\\\"http://www.w3.org/1999/xhtml\\\" xml:lang=\\\"de\\\" lang=\\\"de\\\">\\n<head>\\n\\n<meta charset=\\\"utf-8\\\">\\n<!-- \\n\\tThis website is powered by TYPO3 - inspiring people to share!\\n\\tTYPO3 is a free open source Content Management Framework initially created by Kasper Skaarhoj and licensed under GNU/GPL.\\n\\tTYPO3 is copyright 1998-2018 of Kasper Skaarhoj. Extensions are copyright of their respective owners.\\n\\tInformation and contribution at https://typo3.org/\\n-->\\n\\n\\n\\n\\n<meta name=\\\"generator\\\" content=\\\"TYPO3 CMS\\\">\\n<meta name=\\\"robots\\\" content=\\\"INDEX,FOLLOW\\\">\\n<meta name=\\\"viewport\\\" content=\\\"width=device-width, initial-scale=1.0\\\">\\n<meta name=\\\"X-UA-Compatible\\\" content=\\\"IE=edge,chrome=1\\\">\\n\\n\\n<link rel=\\\"stylesheet\\\" type=\\\"text/css\\\" href=\\\"/typo3temp/Assets/7fcf40d426.css?1457011804\\\" media=\\\"all\\\">\\n<link rel=\\\"stylesheet\\\" type=\\\"text/css\\\" href=\\\"/typo3conf/ext/as_template/Resources/Public/Vendor/bootstrap/css/bootstrap.min.css?1554366461\\\" media=\\\"all\\\">\\n<link rel=\\\"stylesheet\\\" type=\\\"text/css\\\" href=\\\"/typo3conf/ext/as_template/Resources/Public/Vendor/lightbox/css/lightbox.min.css?1554366461\\\" media=\\\"all\\\">\\n<link rel=\\\"stylesheet\\\" type=\\\"text/css\\\" href=\\\"/typo3conf/ext/as_template/Resources/Public/Stylesheets/ie10-viewport-bug-workaround.css?1554366461\\\" media=\\\"all\\\">\\n<link rel=\\\"stylesheet\\\" type=\\\"text/css\\\" href=\\\"/typo3conf/ext/as_template/Resources/Public/Vendor/prettyPhoto/css/prettyPhoto.css?1554366461\\\" media=\\\"all\\\">\\n<link rel=\\\"stylesheet\\\" type=\\\"text/css\\\" href=\\\"/typo3conf/ext/as_template/Resources/Public/Vendor/jquery-ui/jquery-ui-1.11.3/jquery-ui.css?1554366461\\\" media=\\\"all\\\">\\n<link rel=\\\"stylesheet\\\" type=\\\"text/css\\\" href=\\\"/typo3conf/ext/as_template/Resources/Public/Stylesheets/jquery-ui.theme.css?1554366461\\\" media=\\\"all\\\">\\n<link rel=\\\"stylesheet\\\" type=\\\"text/css\\\" href=\\\"/typo3conf/ext/as_template/Resources/Public/Stylesheets/index.css?1554366461\\\" media=\\\"all\\\">\\n<link rel=\\\"stylesheet\\\" type=\\\"text/css\\\" href=\\\"/typo3conf/ext/as_template/Resources/Public/Stylesheets/slideshow.css?1554366461\\\" media=\\\"all\\\">\\n<link rel=\\\"stylesheet\\\" type=\\\"text/css\\\" href=\\\"/typo3conf/ext/as_template/Resources/Public/Stylesheets/unterseite.css?1554366461\\\" media=\\\"all\\\">\\n<link rel=\\\"stylesheet\\\" type=\\\"text/css\\\" href=\\\"/typo3conf/ext/as_template/Resources/Public/Stylesheets/waspassiert.css?1554366461\\\" media=\\\"all\\\">\\n<link rel=\\\"stylesheet\\\" type=\\\"text/css\\\" href=\\\"/typo3conf/ext/as_template/Resources/Public/Stylesheets/styles.css?1554366461\\\" media=\\\"all\\\">\\n<link rel=\\\"stylesheet\\\" type=\\\"text/css\\\" href=\\\"/typo3conf/ext/as_template/Resources/Public/Stylesheets/responsive.css?1554366461\\\" media=\\\"all\\\">\\n<link rel=\\\"stylesheet\\\" type=\\\"text/css\\\" href=\\\"/typo3conf/ext/as_cookieconsent/Resources/Public/JavaScript/cookieconsent-3.0.3/cookieconsent.min.css?1527084029\\\" media=\\\"all\\\">\\n<link rel=\\\"stylesheet\\\" type=\\\"text/css\\\" href=\\\"/typo3temp/Assets/a077d45e47.css?1518164316\\\" media=\\\"all\\\">\\n\\n\\n\\n\\n<!--[if lt IE 9]><script src=\\\"//oss.maxcdn.com/html5shiv/3.7.2/html5shiv.min.js\\\" type=\\\"text/javascript\\\"></script><![endif]-->\\n<!--[if lt IE 9]><script src=\\\"//oss.maxcdn.com/respond/1.4.2/respond.min.js\\\" type=\\\"text/javascript\\\"></script><![endif]-->\\n<script src=\\\"/typo3temp/Assets/9a38f34785.js?1456165291\\\" type=\\\"text/javascript\\\"></script>\\n\\n\\n\\n<title>Unser Profil&nbsp;&#124;&nbsp;Gef\\u00c3\\u00a4\\u00c3\\u009f- und Thoraxchirurgie &#124; Klinikum Esslingen</title><meta name=\\\"google-site-verification\\\" content=\\\"jCvVoz3eBvfGqBoiI4A5kguVqsQIc_LENaX9tYxsQ1U\\\" /><meta name=\\\"google-site-verification\\\" content=\\\"HMTmtj49uI-5wR-Ss4GRDB9d-Peinbi1tZ2M5M9VfQ4\\\" />  <link rel=\\\"shortcut icon\\\" href=\\\"/fileadmin/medienpool/favicon.ico\\\" type=\\\"image/x-ico; charset=binary\\\" />\\n  <link rel=\\\"icon\\\" href=\\\"/fileadmin/medienpool/favicon.ico\\\" type=\\\"image/x-ico; charset=binary\\\" />\\n  \\n\\n</head>\\n<body class=\\\"lila\\\" oncontextmenu=\\\"return false\\\">\\n\\n<nav class=\\\"navbar navbar-default kopf\\\">\\n\\t<div class=\\\"container-fluid\\\">\\n\\t\\t<div class=\\\"navbar-header\\\">\\n\\t\\t\\t\\t\\t<button type=\\\"button\\\" class=\\\"navbar-toggle collapsed\\\" data-toggle=\\\"collapse\\\" data-target=\\\"#navbar\\\" aria-expanded=\\\"false\\\" aria-controls=\\\"navbar\\\">\\n\\t\\t\\t<span class=\\\"sr-only\\\">Toggle navigation</span>\\n\\t\\t\\t<span class=\\\"icon-bar\\\"></span>\\n\\t\\t\\t<span class=\\\"icon-bar\\\"></span>\\n\\t\\t\\t<span class=\\\"icon-bar\\\"></span>\\n\\t\\t</button>\\n\\t\\t\\t\\t\\t<form class=\\\"navbar-form visible-xs-block\\\">\\n\\t\\t\\t<div class=\\\"form-group\\\">\\n\\t\\t\\t\\t<input type=\\\"text\\\" placeholder=\\\"Suche\\\" class=\\\"form-control\\\">\\n\\t\\t\\t</div>\\n\\t\\t\\t<button type=\\\"submit\\\" class=\\\"btn btn-success\\\"></button>\\n\\t\\t</form>\\n\\t\\t\\t<a href=\\\"/?L=724\\\" title=\\\"zur Startseite\\\" class=\\\"navbar-brand\\\"><img src=\\\"/typo3conf/ext/as_template/Resources/Public/Images/logo.png\\\" alt=\\\"Klinikum Esslingen\\\"/></a>\\n\\t\\t</div>\\n\\t\\t<div id=\\\"navbar\\\" class=\\\"navbar-collapse collapse\\\">\\n\\t\\t\\t<ul class=\\\"nav navbar-nav\\\"><li class=\\\"dropdown kliniken\\\"><a href=\\\"/kliniken-und-zentren/?L=724\\\" role=\\\"button\\\" aria-haspopup=\\\"true\\\" aria-expanded=\\\"false\\\">Kliniken &amp; Zentren</a><ul class=\\\"dropdown-menu hidden-xs\\\"><li><div class=\\\"row\\\"><div class=\\\"col-sm-4\\\">\\n<div id=\\\"c27\\\">\\n\\t\\n\\n\\t\\n\\n\\n\\t\\n\\t<div class=\\\"tx-typoscript2ce\\\">\\n\\t\\n\\t\\n\\t\\t<ul><li class=\\\"dropdown-header\\\">Kliniken</li><li><a href=\\\"/kliniken-und-zentren/allgemein-und-viszeralchirurgie/unser-profil/?L=724\\\">Allgemein- und Viszeralchirurgie</a></li><li><a href=\\\"/kliniken-und-zentren/allgemeine-innere-medizin-onkologiehaematologie-gastroenterologie-und-infektiologie/unser-profil/?L=724\\\">Allgemeine Innere Medizin, Onkologie/H\\u00c3\\u00a4matologie, Gastroenterologie und Infektiologie</a></li><li><a href=\\\"/kliniken-und-zentren/anaesthesiologie-und-operative-intensivmedizin/unser-profil/?L=724\\\">An\\u00c3\\u00a4sthesiologie und operative Intensivmedizin</a></li><li><a href=\\\"/kliniken-und-zentren/frauenheilkunde-und-geburtshilfe/unser-profil/?L=724\\\">Frauenheilkunde und Geburtshilfe</a></li><li class=\\\"active\\\"><a href=\\\"/kliniken-und-zentren/gefaess-und-thoraxchirurgie/unser-profil/?L=724\\\">Gef\\u00c3\\u00a4\\u00c3\\u009f- und Thoraxchirurgie</a></li><li><a href=\\\"/kliniken-und-zentren/kardiologie-angiologie-und-pneumologie/unser-profil/?L=724\\\">Kardiologie, Angiologie und Pneumologie</a></li><li><a href=\\\"/kliniken-und-zentren/kinder-und-jugendliche/unser-profil/?L=724\\\">Kinder und Jugendliche</a></li><li><a href=\\\"/kliniken-und-zentren/kinder-und-jugendpsychiatrie-psychosomatik-und-psychotherapie/unser-profil/?L=724\\\">Kinder- und Jugendpsychiatrie, Psychosomatik und Psychotherapie</a></li><li><a href=\\\"/kliniken-und-zentren/neurologie-und-klinische-neurophysiologie/unser-profil/?L=724\\\">Neurologie und klinische Neurophysiologie</a></li><li><a href=\\\"/kliniken-und-zentren/psychosomatische-medizin-und-psychotherapie/unser-profil/?L=724\\\">Psychosomatische Medizin und Psychotherapie</a></li><li><a href=\\\"/kliniken-und-zentren/diagnostische-und-interventionelle-radiologie-und-nuklearmedizin/unser-profil/?L=724\\\">Diagnostische und interventionelle Radiologie und Nuklearmedizin</a></li><li><a href=\\\"http://www.mvz-ke.de/fachabteilungen/mvz-strahlentherapie-und-radioonkologie/startseite/?L=724\\\">Strahlentherapie und Radioonkologie</a></li><li><a href=\\\"/kliniken-und-zentren/unfallchirurgie-und-orthopaedie/unser-profil/?L=724\\\">Unfallchirurgie und Orthop\\u00c3\\u00a4die</a></li><li id=\\\"trenner60\\\" class=\\\"trenner\\\">&nbsp;</li><li><a href=\\\"/kliniken-und-zentren/belegklinik-augen/unser-profil/?L=724\\\">Belegklinik Augen</a></li><li><a href=\\\"/kliniken-und-zentren/belegklinik-hno/unser-profil/?L=724\\\">Belegklinik HNO</a></li></ul>\\n\\t\\n\\n</div>\\n\\n\\t\\n\\n\\n</div>\\n</div><div class=\\\"col-sm-4\\\">\\n<div id=\\\"c28\\\">\\n\\t\\n\\n\\t\\n\\n\\n\\t\\n\\t<div class=\\\"tx-typoscript2ce\\\">\\n\\t\\n\\t\\n\\t\\t<ul><li class=\\\"dropdown-header\\\">Zentren</li><li class=\\\"active\\\"><a href=\\\"/kliniken-und-zentren/onkologisches-zentrum/unser-profil/?L=724\\\">Cancer Center Esslingen CCE</a><ul><li class=\\\"active\\\"><a href=\\\"/kliniken-und-zentren/onkologisches-zentrum/darmzentrum/unser-profil/?L=724\\\">Darmzentrum Esslingen DZE</a></li><li class=\\\"active\\\"><a href=\\\"/kliniken-und-zentren/onkologisches-zentrum/interdisziplinaeres-brustzentrum/unser-profil/?L=724\\\">Brustzentrum Esslingen BZE</a></li><li class=\\\"active\\\"><a href=\\\"/kliniken-und-zentren/onkologisches-zentrum/lungenkrebszentrum-tess/unser-profil/?L=724\\\">Lungenkrebszentrum (TESS)</a></li><li class=\\\"active\\\"><a href=\\\"/kliniken-und-zentren/onkologisches-zentrum/zentrum-fuer-gynaekologische-tumorerkrankungen/unser-profil/?L=724\\\">Gyn\\u00c3\\u00a4kologisches Tumorzentrum Esslingen GTZE</a></li><li class=\\\"active\\\"><a href=\\\"/kliniken-und-zentren/onkologisches-zentrum/pankreaskarzinom-zentrum/unser-profil/?L=724\\\">Pankreaszentrum PZE</a></li><li class=\\\"active\\\"><a href=\\\"/kliniken-und-zentren/leberzentrum/unser-profil/?L=724\\\">Leberzentrum Esslingen LZE</a></li><li class=\\\"active\\\"><a href=\\\"/kliniken-und-zentren/onkologisches-zentrum/ambulantes-onkologiezentrum/unser-profil/?L=724\\\">Ambulantes Onkologiezentrum</a></li></ul></li><li class=\\\"active\\\"><a href=\\\"/kliniken-und-zentren/adipositaszentrum/unser-profil/?L=724\\\">Adipositaszentrum</a></li><li class=\\\"active\\\"><a href=\\\"/kliniken-und-zentren/ambulantes-op-zentrum/unser-profil/?L=724\\\">Ambulantes OP-Zentrum</a></li><li class=\\\"active\\\"><a href=\\\"/kliniken-und-zentren/beckenbodenzentrum/unser-profil/?L=724\\\">Beckenbodenzentrum</a></li><li class=\\\"active\\\"><a href=\\\"/kliniken-und-zentren/endometriose-und-myom-zentrum/unser-profil/?L=724\\\">Endometriose- und Myom-Zentrum</a></li><li class=\\\"active\\\"><a href=\\\"/kliniken-und-zentren/endoprothetikzentrum/unser-profil/?L=724\\\">Endoprothetikzentrum</a></li><li class=\\\"active\\\"><a href=\\\"/kliniken-und-zentren/endoskopiezentrum/unser-profil/?L=724\\\">Endoskopiezentrum</a></li><li class=\\\"active\\\"><a href=\\\"/kliniken-und-zentren/gefaesszentrum/unser-profil/?L=724\\\">Gef\\u00c3\\u00a4\\u00c3\\u009fzentrum</a></li><li><a href=\\\"http://mkz.klinikum-esslingen.de\\\" target=\\\"_blank\\\">Mutter-Kind-Zentrum</a></li><li class=\\\"active\\\"><a href=\\\"/kliniken-und-zentren/perinatalzentrum/unser-profil/?L=724\\\">Perinatalzentrum</a></li><li class=\\\"active\\\"><a href=\\\"/kliniken-und-zentren/regionales-traumazentrum/unser-profil/?L=724\\\">Regionales Traumazentrum</a></li><li><a href=\\\"/kliniken-und-zentren/kinder-und-jugendliche/medizinische-schwerpunkte/sozialpaediatrisches-zentrum/?L=724\\\">Sozialp\\u00c3\\u00a4diatrisches Zentrum</a></li><li class=\\\"active\\\"><a href=\\\"/kliniken-und-zentren/zentrum-fuer-wirbelsaeulentherapie/unser-profil/?L=724\\\">Zentrum f\\u00c3\\u00bcr Wirbels\\u00c3\\u00a4ulentherapie</a></li></ul>\\n\\t\\n\\n</div>\\n\\n\\t\\n\\n\\n</div>\\n</div><div class=\\\"col-sm-4\\\">\\n<div id=\\\"c29\\\">\\n\\t\\n\\n\\t\\n\\n\\n\\t\\n\\t<div class=\\\"tx-typoscript2ce\\\">\\n\\t\\n\\t\\n\\t\\t<ul><li class=\\\"dropdown-header\\\">Weitere Einrichtungen</li><li class=\\\"active\\\"><a href=\\\"/kliniken-und-zentren/zentrale-notaufnahme/unser-profil/?L=724\\\">Zentrale Notaufnahme</a></li><li class=\\\"active\\\"><a href=\\\"http://www.mvz-ke.de/?L=724\\\">Praxen im Medizinischen Versorgungszentrum (MVZ)</a><ul><li><a href=\\\"http://www.mvz-ke.de/fachabteilungen/mvz-strahlentherapie-und-radioonkologie/startseite/?L=724\\\">MVZ Strahlentherapie und Radioonkologie</a></li><li><a href=\\\"http://www.mvz-ke.de/fachabteilungen/mvz-gastroenterologie/startseite/?L=724\\\">MVZ Gastroenterologie</a></li><li><a href=\\\"http://www.mvz-ke.de/fachabteilungen/mvz-hno-praxis/startseite/?L=724\\\">MVZ HNO-Praxis</a></li><li><a href=\\\"http://www.mvz-ke.de/fachabteilungen/mvz-kinder-und-jugendpsychiatrie/startseite/?L=724\\\">MVZ Kinder- und Jugendpsychiatrie</a></li><li><a href=\\\"http://www.mvz-ke.de/fachabteilungen/mvz-neurologie/startseite/?L=724\\\">MVZ Neurologie</a></li><li><a href=\\\"http://www.mvz-ke.de/fachabteilungen/mvz-nuklearmedizin/startseite/?L=724\\\">MVZ Nuklearmedizin</a></li></ul></li><li class=\\\"active\\\"><a href=\\\"/kliniken-und-zentren/therapieabteilung/unser-profil/?L=724\\\">Therapieabteilung</a></li><li class=\\\"active\\\"><a href=\\\"/kliniken-und-zentren/team-fuer-notfalltraining-tnt/unser-profilaktuelles/?L=724\\\">Team f\\u00c3\\u00bcr Notfalltraining (TNT)</a></li><li class=\\\"active\\\"><a href=\\\"/kliniken-und-zentren/apotheke/unser-profil/?L=724\\\">Apotheke</a></li><li class=\\\"active\\\"><a href=\\\"/kliniken-und-zentren/dialyse/profil/?L=724\\\">Dialyse</a></li><li class=\\\"active\\\"><a href=\\\"/kliniken-und-zentren/zentrallabor/unser-profil/?L=724\\\">Zentrallabor</a></li><li class=\\\"active\\\"><a href=\\\"/kliniken-und-zentren/institut-fuer-pathologie/unser-profil/?L=724\\\">Institut f\\u00c3\\u00bcr Pathologie</a></li></ul>\\n\\t\\n\\n</div>\\n\\n\\t\\n\\n\\n</div>\\n<div class=\\\"babygalerie\\\"><div class=\\\"header\\\"><a href=\\\"http://www.babygalerie24.de/esslingen/\\\" title=\\\"Zur Babygalerie\\\"><strong>Babygalerie</strong></a></div><div class=\\\"fotos\\\"><a href=\\\"http://www.babygalerie24.de/esslingen/\\\" class=\\\"visible-lg-block\\\"><img src=\\\"/fileadmin/user_upload/ribbon-babygalerie_1_mod.jpg\\\" width=\\\"250\\\" height=\\\"120\\\"   alt=\\\"G\\u00c3\\u00a4hnendes Baby\\\" ></a><a href=\\\"http://www.babygalerie24.de/esslingen/\\\"><img src=\\\"/fileadmin/user_upload/ribbon-babygalerie_2.jpg\\\" width=\\\"120\\\" height=\\\"120\\\"  class=\\\"klein\\\"  alt=\\\"\\\" ></a><a href=\\\"http://www.babygalerie24.de/esslingen/\\\"></a></div><div class=\\\"text\\\"><p>Frisch geschl\\u00c3\\u00bcpft: werfen Sie einen Blick auf unsere Neuank\\u00c3\\u00b6mmlinge in der <a href=\\\"http://www.babygalerie24.de/esslingen/\\\" target=\\\" _blank\\\">Babygalerie </a></p></div></div></div></div></li></ul></li><li class=\\\"dropdown \\\"><a href=\\\"/pflege-beratung/pflegedienst/?L=724\\\" role=\\\"button\\\" aria-haspopup=\\\"true\\\" aria-expanded=\\\"false\\\">Pflege & Beratung</a><ul class=\\\"dropdown-menu hidden-xs\\\"><li class=\\\"dropdown-submenu\\\"><a href=\\\"/pflege-beratung/pflegedienst/?L=724\\\">Pflegedienst</a></li><li class=\\\"\\\"><a href=\\\"/pflege-beratung/hygiene/?L=724\\\">Hygiene</a></li><li class=\\\"dropdown-submenu\\\"><a href=\\\"/pflege-beratung/demenzsensibles-krankenhaus/?L=724\\\">Demenzsensibles Krankenhaus</a></li><li class=\\\"\\\"><a href=\\\"/pflege-beratung/sozialdienst/?L=724\\\">Sozialdienst</a></li><li class=\\\"\\\"><a href=\\\"/pflege-beratung/seelsorge/?L=724\\\">Seelsorge</a></li><li class=\\\"\\\"><a href=\\\"/pflege-beratung/patientenfuersprecher/?L=724\\\">Patientenf\\u00c3\\u00bcrsprecher</a></li><li class=\\\"\\\"><a href=\\\"/pflege-beratung/ethik-kommitee/?L=724\\\">Ethik-Kommitee</a></li><li class=\\\"\\\"><a href=\\\"/pflege-beratung/ke-im-dialog/?L=724\\\">KE im Dialog</a></li><li class=\\\"\\\"><a href=\\\"/pflege-beratung/elternschule/?L=724\\\">Elternschule</a></li><li class=\\\"\\\"><a href=\\\"/pflege-beratung/ohne-kippe/?L=724\\\">Ohne Kippe</a></li><li class=\\\"\\\"><a href=\\\"/pflege-beratung/selbsthilfegruppen/?L=724\\\">Selbsthilfegruppen</a></li><li class=\\\"\\\"><a href=\\\"/pflege-beratung/sterilgut-und-service-gmbh/?L=724\\\">Sterilgut und Service GmbH</a></li></ul></li><li class=\\\"dropdown \\\"><a href=\\\"/ihr-aufenthalt/vor-dem-aufenthalt/?L=724\\\" role=\\\"button\\\" aria-haspopup=\\\"true\\\" aria-expanded=\\\"false\\\">Ihr Aufenthalt</a><ul class=\\\"dropdown-menu hidden-xs\\\"><li class=\\\"\\\"><a href=\\\"/ihr-aufenthalt/vor-dem-aufenthalt/?L=724\\\">Vor dem Aufenthalt</a></li><li class=\\\"\\\"><a href=\\\"/ihr-aufenthalt/auf-der-station/?L=724\\\">Auf der Station</a></li><li class=\\\"\\\"><a href=\\\"/ihr-aufenthalt/nach-dem-aufenthalt/?L=724\\\">Nach dem Aufenthalt</a></li><li class=\\\"\\\"><a href=\\\"/ihr-aufenthalt/wahlleistungen/?L=724\\\">Wahlleistungen</a></li><li class=\\\"\\\"><a href=\\\"/ihr-aufenthalt/gaestehaus/?L=724\\\">G\\u00c3\\u00a4stehaus</a></li><li class=\\\"\\\"><a href=\\\"/ihr-aufenthalt/serviceangebote-von-a-z/?L=724\\\">Serviceangebote von A - Z</a></li><li class=\\\"\\\"><a href=\\\"/ihr-aufenthalt/ihre-meinung/?L=724\\\">Ihre Meinung</a></li><li class=\\\"\\\"><a href=\\\"/ihr-aufenthalt/notfall/?L=724\\\">Notfall</a></li></ul></li><li class=\\\"dropdown \\\"><a href=\\\"/beruf-karriere/arbeitgeber-klinikum/?L=724\\\" role=\\\"button\\\" aria-haspopup=\\\"true\\\" aria-expanded=\\\"false\\\">Beruf & Karriere</a><ul class=\\\"dropdown-menu hidden-xs\\\"><li class=\\\"\\\"><a href=\\\"/beruf-karriere/arbeitgeber-klinikum/?L=724\\\">Arbeitgeber Klinikum</a></li><li class=\\\"dropdown-submenu\\\"><a href=\\\"/beruf-karriere/beruf-und-familie/?L=724\\\">Beruf und Familie</a></li><li class=\\\"\\\"><a href=\\\"/beruf-karriere/gesundheit-am-arbeitsplatz/?L=724\\\">Gesundheit am Arbeitsplatz</a></li><li class=\\\"dropdown-submenu\\\"><a href=\\\"/beruf-karriere/schule-fuer-pflegeberufe/?L=724\\\">Schule f\\u00c3\\u00bcr Pflegeberufe</a></li><li class=\\\"dropdown-submenu\\\"><a href=\\\"/beruf-karriere/ausbildung/?L=724\\\">Ausbildung</a></li><li class=\\\"dropdown-submenu\\\"><a href=\\\"/beruf-karriere/fsj-bufdi-praktika/freiwilliges-soziales-jahr-fsj/?L=724\\\">FSJ / BUFDI / Praktika</a></li><li class=\\\"\\\"><a href=\\\"/beruf-karriere/akademisches-lehrkrankenhaus/?L=724\\\">Akademisches Lehrkrankenhaus</a></li><li class=\\\"dropdown-submenu\\\"><a href=\\\"/beruf-karriere/pj-studenten/?L=724\\\">PJ-Studenten</a></li><li class=\\\"dropdown-submenu\\\"><a href=\\\"/beruf-karriere/fort-und-weiterbildung/?L=724\\\">Fort- und Weiterbildung</a></li><li class=\\\"\\\"><a href=\\\"/beruf-karriere/betriebsrat/?L=724\\\">Betriebsrat</a></li><li class=\\\"\\\"><a href=\\\"/beruf-karriere/schwerbehindertenvertretung/?L=724\\\">Schwerbehindertenvertretung</a></li><li class=\\\"dropdown-submenu\\\"><a href=\\\"/beruf-karriere/stellenboerse/?L=724\\\">Stellenb\\u00c3\\u00b6rse</a></li></ul></li><li class=\\\"dropdown \\\"><a href=\\\"/ueber-uns/das-klinikum-esslingen/?L=724\\\" role=\\\"button\\\" aria-haspopup=\\\"true\\\" aria-expanded=\\\"false\\\">\\u00c3\\u009cber uns</a><ul class=\\\"dropdown-menu hidden-xs\\\"><li class=\\\"\\\"><a href=\\\"/ueber-uns/das-klinikum-esslingen/?L=724\\\">Das Klinikum Esslingen</a></li><li class=\\\"\\\"><a href=\\\"/ueber-uns/daten-und-fakten/?L=724\\\">Daten und Fakten</a></li><li class=\\\"\\\"><a href=\\\"/ueber-uns/geschaeftsfuehrung/?L=724\\\">Gesch\\u00c3\\u00a4ftsf\\u00c3\\u00bchrung</a></li><li class=\\\"dropdown-submenu\\\"><a href=\\\"/ueber-uns/ansprechpartner/geschaeftsfuehrung/?L=724\\\">Ansprechpartner</a></li><li class=\\\"dropdown-submenu\\\"><a href=\\\"/ueber-uns/presse-und-publikationen/pressemeldungen/?L=724\\\">Presse und Publikationen</a></li><li class=\\\"\\\"><a href=\\\"/ueber-uns/geschichte/?L=724\\\">Geschichte</a></li><li class=\\\"\\\"><a href=\\\"/ueber-uns/foerdervereine/?L=724\\\">F\\u00c3\\u00b6rdervereine</a></li><li class=\\\"\\\"><a href=\\\"/ueber-uns/unsere-spenden/?L=724\\\">Unsere Spenden</a></li><li class=\\\"\\\"><a href=\\\"/ueber-uns/lageplan-wegweiser/?L=724\\\">Lageplan / Wegweiser</a></li></ul></li><li class=\\\"dropdown last\\\"><a href=\\\"/infos-fuer-kids/ein-tag-im-krankenhaus/?L=724\\\" role=\\\"button\\\" aria-haspopup=\\\"true\\\" aria-expanded=\\\"false\\\">Infos f\\u00c3\\u00bcr Kids</a><ul class=\\\"dropdown-menu hidden-xs\\\"><li class=\\\"last\\\"><a href=\\\"/infos-fuer-kids/ein-tag-im-krankenhaus/?L=724\\\">Ein Tag im Krankenhaus</a></li><li class=\\\"\\\"><a href=\\\"/infos-fuer-kids/meine-oma-muss-ins-krankenhaus/?L=724\\\">Meine Oma muss ins Krankenhaus</a></li><li class=\\\"dropdown-submenu\\\"><a href=\\\"/infos-fuer-kids/was-passiert-im-krankenhaus/?L=724\\\">Was passiert im Krankenhaus?</a></li><li class=\\\"dropdown-submenu\\\"><a href=\\\"/infos-fuer-kids/wissensecke/?L=724\\\">Wissensecke</a></li><li class=\\\"\\\"><a href=\\\"/infos-fuer-kids/videos-fuer-kids/?L=724\\\">Videos f\\u00c3\\u00bcr Kids</a></li></ul></li><li class=\\\"notfall\\\"><a href=\\\"/ihr-aufenthalt/notfall/?L=724\\\">Notfall</a></li><li class=\\\"loginLink\\\"><a href=\\\"/login/?L=724\\\">Login Dienstleister</a></li></ul>\\n\\t\\t\\t<form name=\\\"form_suche\\\" id=\\\"form_suche\\\" action=\\\"/suchergebnisse/?L=724\\\" method=\\\"post\\\" class=\\\"navbar-form navbar-right hidden-xs searchbox\\\"><div class=\\\"form-group\\\"><input type=\\\"text\\\" name=\\\"tx_indexedsearch[sword]\\\" value=\\\"\\\" placeholder=\\\"Suche\\\" class=\\\"form-control\\\" /></div><button type=\\\"submit\\\" class=\\\"btn btn-success\\\"></button></form>\\n\\t\\t</div>\\n\\t</div>\\n</nav>\\n\\n\\t<!--TYPO3SEARCH_begin--><div class=\\\"container-fluid header klinik \\\"><div class=\\\"bild\\\"><img src=\\\"/fileadmin/_processed_/csm_header-allgemeinchirurgie_b6150407f1.jpg\\\" width=\\\"1600\\\" height=\\\"379\\\"   alt=\\\"Chirurgen im OP\\\" ><div class=\\\"blatt\\\"></div><div class=\\\"titel\\\"><h1><span>Klinik f\\u00c3\\u00bcr</span><br />Gef\\u00c3\\u00a4\\u00c3\\u009f- und Thoraxchirurgie</h1></div></div></div><!--TYPO3SEARCH_end-->\\n\\t<div class=\\\"container-fluid inhalt\\\">\\n\\t\\t<div class=\\\"row\\\">\\n\\t\\t\\t<div class=\\\"col-sm-4 col-xs-12 kontextnavigation\\\">\\n\\t\\t\\t\\t<div class=\\\"row\\\">\\n\\t\\t\\t\\t\\t<div class=\\\"col-md-1\\\"></div>\\n\\t\\t\\t\\t\\t<div class=\\\"col-sm-11 col-md-9 col-lg-8\\\">\\n\\t\\t\\t\\t\\t\\t<button type=\\\"button\\\" class=\\\"navbar-toggle collapsed\\\" data-toggle=\\\"collapse\\\" data-target=\\\"#kontextnavigation\\\" aria-expanded=\\\"false\\\">\\n\\t\\t\\t\\t\\t\\t\\t<span class=\\\"sr-only\\\">Toggle navigation</span>\\n\\t\\t\\t\\t\\t\\t\\t<span class=\\\"icon-bar\\\"></span>\\n\\t\\t\\t\\t\\t\\t\\t<span class=\\\"icon-bar\\\"></span>\\n\\t\\t\\t\\t\\t\\t\\t<span class=\\\"icon-bar\\\"></span>\\n\\t\\t\\t\\t\\t\\t</button>\\n\\t\\t\\t\\t\\t\\t<div class=\\\"collapse navbar-collapse\\\" id=\\\"kontextnavigation\\\">\\n\\t\\t\\t\\t\\t\\t\\t<ul class=\\\"nav\\\"><li class=\\\"active\\\"><a href=\\\"/kliniken-und-zentren/gefaess-und-thoraxchirurgie/unser-profil/?L=724\\\">Unser Profil</a></li><li><a href=\\\"/kliniken-und-zentren/gefaess-und-thoraxchirurgie/team/?L=724\\\">Team</a></li><li><a href=\\\"/kliniken-und-zentren/gefaess-und-thoraxchirurgie/ambulanzen-sprechstunden/?L=724\\\">Ambulanzen & Sprechstunden</a></li><li><a href=\\\"/kliniken-und-zentren/gefaess-und-thoraxchirurgie/medizinische-schwerpunkte/?L=724\\\">Medizinische Schwerpunkte</a></li><li><a href=\\\"/kliniken-und-zentren/gefaess-und-thoraxchirurgie/patienteninformationen/?L=724\\\">Patienteninformationen</a></li><li><a href=\\\"/kliniken-und-zentren/gefaess-und-thoraxchirurgie/pflege-und-stationen/?L=724\\\">Pflege und Stationen</a></li><li><a href=\\\"/kliniken-und-zentren/gefaess-und-thoraxchirurgie/fortbildungen/?L=724\\\">Fortbildungen</a></li><li><a href=\\\"/kliniken-und-zentren/gefaess-und-thoraxchirurgie/klinische-studien-forschung/?L=724\\\">Klinische Studien / Forschung</a></li><li><a href=\\\"/kliniken-und-zentren/gefaess-und-thoraxchirurgie/kooperationen/?L=724\\\">Kooperationen</a></li><li><a href=\\\"/kliniken-und-zentren/gefaess-und-thoraxchirurgie/zertifikate-und-auszeichnungen/?L=724\\\">Zertifikate und Auszeichnungen</a></li><li><a href=\\\"/kliniken-und-zentren/gefaess-und-thoraxchirurgie/selbsthilfegruppen/?L=724\\\">Selbsthilfegruppen</a></li></ul>\\n\\t\\t\\t\\t\\t\\t\\t<!--TYPO3SEARCH_begin--><div class=\\\"kontakt\\\"><p><b>Sekretariat</b><br />Christina Prawatschke<br />Telefon: 0711 3103-2700, -2701<br />Telefax: 0711 3103-2704<br />E-Mail: <a href=\\\"javascript:linkTo_UnCryptMailto('ocknvq,h0nkgycnfBmnkpkmwo\\\\/guunkpigp0fg');\\\" title=\\\"Opens internal link in current window\\\" class=\\\"mail\\\">f.liewald<span>&#064;</span>klinikum-esslingen.de</a></p></div><!--TYPO3SEARCH_end-->\\n\\t\\t\\t\\t\\t\\t</div>\\n\\t\\t\\t\\t\\t</div>\\n\\t\\t\\t\\t\\t<div class=\\\"col-sm-1 col-md-2 col-lg-3\\\"></div>\\n\\t\\t\\t\\t</div>\\n\\t\\t\\t</div>\\n\\t\\t\\t<div class=\\\"col-sm-8 col-xs-12 texte\\\">\\n\\t\\t\\t\\t<!--TYPO3SEARCH_begin--><div class=\\\"lead\\\">\\n<div class=\\\"row\\\" id=\\\"c415\\\">\\n\\t<div class=\\\"col-sm-11 col-md-10\\\">\\n\\n\\t\\t\\n\\n\\t<div class=\\\"row\\\">\\n\\t\\t<div class=\\\"col-xs-12\\\">\\n\\t\\t\\t\\n\\t\\t\\t\\t\\n\\n\\t\\n\\n\\n\\t\\t\\t\\n\\t\\t\\t\\n\\t\\t\\t\\t\\n\\t\\t\\t\\t\\t\\t<div class=\\\"row ce-textpic ce-intext \\\">\\n\\t\\t\\t\\t\\t\\n\\n\\t\\t\\t\\t\\t\\n\\t\\t\\t\\t\\t\\t\\n\\n\\n\\n\\n\\n\\n\\n\\n\\n\\n\\n\\t\\t\\t\\t\\t\\n\\t\\t\\t\\t\\t<div class=\\\"ce-bodytext col-xs-9\\\">\\n\\t\\t\\t\\t\\t\\t\\n\\n\\t\\t\\t\\t\\t\\t\\n\\t\\t\\t\\t\\t\\t\\t\\n\\t\\t\\t\\t\\t\\t\\t\\t<div class=\\\"lead\\\">\\n\\t\\t\\t\\t\\t\\t\\t\\t\\t<p>Die Klinik f\\u00c3\\u00bcr Gef\\u00c3\\u00a4\\u00c3\\u009f- und Thoraxchirurgie ist von der Deutschen Gesellschaft f\\u00c3\\u00bcr Gef\\u00c3\\u00a4\\u00c3\\u009fchirurgie als Zentrum f\\u00c3\\u00bcr Gef\\u00c3\\u00a4\\u00c3\\u009fkrankheiten am Klinikum Esslingen zertifiziert.</p>\\n\\t\\t\\t\\t\\t\\t\\t\\t</div>\\n\\t\\t\\t\\t\\t\\t\\t\\n\\t\\t\\t\\t\\t\\t\\t\\n\\t\\t\\t\\t\\t\\t\\n\\t\\t\\t\\t\\t</div>\\n\\t\\t\\t\\t</div>\\n\\t\\t\\t\\n\\t\\t\\t\\n\\t\\t</div>\\n\\t</div>\\n\\n\\n\\n\\t</div>\\n\\t<div class=\\\"col-sm-1 col-md-2\\\"></div>\\n\\n\\t\\t\\n\\t\\n\\n\\n\\n\\n</div>\\n</div><div class=\\\"row zitat\\\"><div class=\\\"col-xs-8 col-sm-8 col-md-9 col-lg-10\\\"><div class=\\\"row\\\"><div class=\\\"col-xs-9 text\\\"><p>\\u00e2\\u0080\\u009eUnser Motto lautet: <br />Keine F\\u00c3\\u00a4lle, sondern Patienten, <br />keine Leistungszahlen, sondern Leistung, <br />keine Werbung, sondern Vertrauen durch gute Arbeit.\\u00e2\\u0080\\u009d </p><p class=\\\"autor\\\"><strong>Chefarzt Prof. Dr. Florian Liewald</strong></p></div><div class=\\\"col-xs-3 bild\\\"><img src=\\\"/fileadmin/user_upload/liewald-frei.png\\\" width=\\\"254\\\" height=\\\"240\\\"   alt=\\\"Chefarzt Prof. Dr. Florian Liewald\\\" title=\\\"Chefarzt Prof. Dr. Florian Liewald\\\" ></div></div></div><div class=\\\"col-xs-4 col-sm-4 col-md-3 col-lg-2\\\"></div></div>\\n<div class=\\\"row\\\" id=\\\"c416\\\">\\n\\t<div class=\\\"col-sm-11 col-md-10\\\">\\n\\n\\t\\t\\n\\n\\t<div class=\\\"row\\\">\\n\\t\\t<div class=\\\"col-xs-12\\\">\\n\\t\\t\\t\\n\\t\\t\\t\\t\\n\\n\\t\\n\\n\\n\\t\\t\\t\\n\\t\\t\\t\\n\\t\\t\\t\\t\\n\\t\\t\\t\\t\\t\\t<div class=\\\"row ce-textpic ce-intext \\\">\\n\\t\\t\\t\\t\\t\\n\\n\\t\\t\\t\\t\\t\\n\\t\\t\\t\\t\\t\\t\\n\\n\\n\\n\\n\\n\\n\\n\\n\\n\\n\\n\\t\\t\\t\\t\\t\\n\\t\\t\\t\\t\\t<div class=\\\"ce-bodytext col-xs-9\\\">\\n\\t\\t\\t\\t\\t\\t\\n\\n\\t\\t\\t\\t\\t\\t\\n\\t\\t\\t\\t\\t\\t\\t\\n\\t\\t\\t\\t\\t\\t\\t\\n\\t\\t\\t\\t\\t\\t\\t\\t<p>Die <b>Gef\\u00c3\\u00a4\\u00c3\\u009fchirurgie </b>umfasst die Chirurgie von Schlagadern (Arterien) und Venen.&nbsp;Schwerpunkte unserer T\\u00c3\\u00a4tigkeit sind die Behandlung von Erweiterungen der Hauptschlagader (Aortenaneurysmen), Verengungen der Halsschlagader (Carotisstenosen), Verschlussprozesse im Bereich der Becken- und Beingef\\u00c3\\u00a4\\u00c3\\u009fe (arterielle Verschlusskrankheit) sowie die operative Behandlung von Krampfadern (Varikosis). Besonderen Wert legen wir auf eine intensive interdisziplin\\u00c3\\u00a4re Zusammenarbeit. Im Bereich der Gef\\u00c3\\u00a4\\u00c3\\u009fchirurgie arbeiten wir zum Wohle unserer Patienten eng mit Spezialisten der Angiologie, Radiologie, Kardiologie, An\\u00c3\\u00a4sthesie, Neurologie und Intensivmedizin zusammen.\\n</p>\\n<p>Die <b>Thoraxchirurgie </b>ist die Chirurgie aller Erkrankungen des Brustkorbes mit Ausnahme des Herzens. Im Bereich der Thoraxchirurgie sind wir die f\\u00c3\\u00bcnftgr\\u00c3\\u00b6\\u00c3\\u009fte Klinik in Baden-W\\u00c3\\u00bcrttemberg und sind spezialisiert auf die Behandlung b\\u00c3\\u00b6sartiger Lungentumore (Bronchialkarzinom), Tumore des Mittelfells (Mediastinum),&nbsp; Einri\\u00c3\\u009f und Kollaps der Lunge (Pneumothorax) sowie alle tumor\\u00c3\\u00b6sen und entz\\u00c3\\u00bcndlichen Ver\\u00c3\\u00a4nderungen des Brustfells (Pleura). In einer Tumorkonferenz werden w\\u00c3\\u00b6chentlich interdisziplin\\u00c3\\u00a4r alle onkologischen Thoraxpatienten besprochen und das Therapiekonzept f\\u00c3\\u00bcr jeden einzelnen Patienten speziell festgelegt. Gro\\u00c3\\u009fe Erfahrungen liegen auch bei unfallbedingten Verletzungen der Lunge und des Brustkorbes (Thoraxtrauma) vor. \\n</p>\\n<p>Die Thoraxchirurgie ist Teil des <a href=\\\"/kliniken-und-zentren/onkologisches-zentrum/lungenkrebszentrum-tess/?L=724\\\" title=\\\"Opens internal link in current window\\\" class=\\\"internal-link\\\">Thoraxzentrums Esslingen-Stuttgart (TESS)</a> und in diesem Rahmen eines von deutschlandweit nur 38 zertifizierten Zentren f\\u00c3\\u00bcr die Behandlung von Lungenkrebspatienten. Hierbei sind Pneumologen, Onkologen, Thoraxchirurgen, Strahlentherapeuten, Thoraxan\\u00c3\\u00a4sthesisten und Intensivmediziner sowie Schlafmediziner und Psychologen eng in ein gemeinsames Therapiekonzept eingebunden. Die Klinik f\\u00c3\\u00bcr Gef\\u00c3\\u00a4\\u00c3\\u009f- und Thoraxchirurgie wurde als Teil des Thoraxzentrums Esslingen-Stuttgart in die <b>FOCUS-Liste der Top-Kliniken zur Behandlung des Lungenkrebses</b> aufgenommen.\\n</p>\\n<p>F\\u00c3\\u00bcr die medizinische und menschliche Betreuung steht Ihnen ein Team aus zw\\u00c3\\u00b6lf \\u00c3\\u0084rzten und 24 Pflegekr\\u00c3\\u00a4ften zur Verf\\u00c3\\u00bcgung. \\n</p>\\n<p>Die Patienten werden in 50 modernen Krankenhausbetten versorgt. Die intensivmedizinische Betreuung schwerstkranker Patienten erfolgt auf der an\\u00c3\\u00a4sthesiologischen Intensivstation, wo durch die gemeinsamen t\\u00c3\\u00a4glichen Visiten von Intensivmedizinern und Chirurgen die Therapiekonzepte festgelegt werden. Die Klinik ist zertifiziertes Zentrum f\\u00c3\\u00bcr die Behandlung von Lungenkrebspatienten sowie zertifiziertes Gef\\u00c3\\u00a4\\u00c3\\u009fzentrum. Diese Doppelzertifizierung ist deutschlandweit nahezu einzigartig und unterstreicht unsere hohe Kompetenz in der Behandlung unserer Patienten. Oberstes Ziel aller Mitarbeiter der Klinik f\\u00c3\\u00bcr Gef\\u00c3\\u00a4\\u00c3\\u009f- und Thoraxchirurgie ist die optimale Behandlung der Patienten auf fachlich modernstem Niveau unter Ber\\u00c3\\u00bccksichtigung der Maxime der Menschlichkeit.</p>\\n\\t\\t\\t\\t\\t\\t\\t\\n\\t\\t\\t\\t\\t\\t\\n\\t\\t\\t\\t\\t</div>\\n\\t\\t\\t\\t</div>\\n\\t\\t\\t\\n\\t\\t\\t\\n\\t\\t</div>\\n\\t</div>\\n\\n\\n\\n\\t</div>\\n\\t<div class=\\\"col-sm-1 col-md-2\\\"></div>\\n\\n\\t\\t\\n\\t\\n\\n\\n\\n\\n</div>\\n\\n<div id=\\\"c2294\\\">\\n\\t\\n\\n\\t\\n\\t\\t\\n\\t\\t\\t\\t\\n\\t\\t\\t\\n\\n\\t\\t\\n\\n\\t\\n\\t\\n\\t\\t<h2>Schwerpunkte der Klinik</h2>\\n\\t\\n\\t\\n\\t\\n\\t\\n\\t\\n\\t\\n\\t\\n\\n\\n\\n\\t\\t\\n\\n\\t\\t\\n\\n\\n\\n\\n\\t\\t\\n\\t\\t\\t\\t\\n\\t\\t\\t\\n\\t\\n\\n\\n\\t\\n\\t\\n\\n\\t\\n\\t<div class=\\\"row\\\">\\n\\t\\t<div class=\\\"col-sm-11 col-md-10\\\">\\n\\t\\t\\t<ul class=\\\"ce-menu ce-menu-1\\\">\\n\\t\\t\\t\\t\\n\\t\\t\\t\\t\\t<li>\\n\\t\\t\\t\\t\\t\\t<a href=\\\"/kliniken-und-zentren/gefaess-und-thoraxchirurgie/medizinische-schwerpunkte/gefaesschirurgie/?L=724\\\">\\n\\t\\t\\t\\t\\t\\t\\tGef\\u00c3\\u00a4\\u00c3\\u009fchirurgie\\n\\t\\t\\t\\t\\t\\t</a>\\n\\t\\t\\t\\t\\t</li>\\n\\t\\t\\t\\t\\n\\t\\t\\t\\t\\t<li>\\n\\t\\t\\t\\t\\t\\t<a href=\\\"/kliniken-und-zentren/gefaess-und-thoraxchirurgie/medizinische-schwerpunkte/thoraxchirurgie/?L=724\\\">\\n\\t\\t\\t\\t\\t\\t\\tThoraxchirurgie\\n\\t\\t\\t\\t\\t\\t</a>\\n\\t\\t\\t\\t\\t</li>\\n\\t\\t\\t\\t\\n\\t\\t\\t</ul>\\n\\t\\t</div>\\n\\t\\t<div class=\\\"col-sm-1 col-md-2\\\"></div>\\n\\t</div>\\n\\t\\n\\n\\n\\n\\n\\t\\n\\n\\n</div>\\n<!--TYPO3SEARCH_end-->\\n\\t\\t\\t\\t<div class=\\\"visible-xs-block\\\">\\n\\t\\t\\t\\t\\t<!--TYPO3SEARCH_begin--><div class=\\\"kontakt\\\"><p><b>Sekretariat</b><br />Christina Prawatschke<br />Telefon: 0711 3103-2700, -2701<br />Telefax: 0711 3103-2704<br />E-Mail: <a href=\\\"javascript:linkTo_UnCryptMailto('ocknvq,h0nkgycnfBmnkpkmwo\\\\/guunkpigp0fg');\\\" title=\\\"Opens internal link in current window\\\" class=\\\"mail\\\">f.liewald<span>&#064;</span>klinikum-esslingen.de</a></p></div><!--TYPO3SEARCH_end-->\\n\\t\\t\\t\\t</div>\\n\\t\\t\\t</div>\\n\\t\\t</div>\\n\\t</div>\\n\\t<footer class=\\\"footer\\\">\\n\\t\\t<div class=\\\"container-fluid\\\"><div class=\\\"row\\\"><div class=\\\"col-sm-6 pull-left\\\"><p>&copy;&nbsp;2019&nbsp;Klinikum Esslingen<a href=\\\"/datenschutz/?L=724\\\" title=\\\"Datenschutz\\\">Datenschutz</a><a href=\\\"/impressum/?L=724\\\" title=\\\"Impressum\\\">Impressum</a></p></div><div class=\\\"col-sm-6 pull-right\\\"><p class=\\\"text-right\\\"><a href=\\\"/beruf-karriere/stellenboerse/?L=724\\\" title=\\\"Jobs\\\">Jobs</a><a href=\\\"/kontakt/?L=724\\\" title=\\\"Kontakt\\\">Kontakt</a><a href=\\\"/veranstaltungen/?L=724\\\" title=\\\"Veranstaltungen\\\">Veranstaltungen</a></p></div></div></div>\\n\\t</footer>\\n\\n<noscript><p><img src=\\\"http://analyzer.amedick-sommer.de/piwik.php?idsite=68\\\" style=\\\"border:0\\\" alt=\\\"\\\"/></p></noscript>\\n<script src=\\\"//analyzer.amedick-sommer.de/piwik.js\\\" type=\\\"text/javascript\\\"></script>\\n<script src=\\\"/typo3conf/ext/as_template/Resources/Public/Vendor/jquery/jquery_1.11.3.js?1554366461\\\" type=\\\"text/javascript\\\"></script>\\n<script src=\\\"/typo3conf/ext/as_template/Resources/Public/Vendor/jquery-ui/jquery-ui-1.11.3/jquery-ui.js?1554366461\\\" type=\\\"text/javascript\\\"></script>\\n<script src=\\\"/typo3conf/ext/as_template/Resources/Public/Vendor/jquery-ui-i18n/datepicker-de.js?1554366461\\\" type=\\\"text/javascript\\\"></script>\\n<script src=\\\"/typo3conf/ext/as_template/Resources/Public/JavaScript/jquery.equalizeHeight.js?1554366461\\\" type=\\\"text/javascript\\\"></script>\\n<script src=\\\"/typo3conf/ext/as_template/Resources/Public/Vendor/rwdImageMaps/jquery.rwdImageMaps.min.js?1554366461\\\" type=\\\"text/javascript\\\"></script>\\n<script src=\\\"/typo3conf/ext/as_template/Resources/Public/Vendor/prettyPhoto/js/jquery.prettyPhoto.js?1554366461\\\" type=\\\"text/javascript\\\"></script>\\n<script src=\\\"/typo3conf/ext/as_cookieconsent/Resources/Public/JavaScript/cookieconsent-3.0.3/cookieconsent.min.js?1527084029\\\" type=\\\"text/javascript\\\"></script>\\n\\n<script src=\\\"/typo3conf/ext/powermail/Resources/Public/JavaScripts/Libraries/jquery.datetimepicker.min.js?1467036214\\\" type=\\\"text/javascript\\\"></script>\\n<script src=\\\"/typo3conf/ext/powermail/Resources/Public/JavaScripts/Libraries/parsley.min.js?1467036214\\\" type=\\\"text/javascript\\\"></script>\\n<script src=\\\"/typo3conf/ext/powermail/Resources/Public/JavaScripts/Powermail/Tabs.min.js?1467036214\\\" type=\\\"text/javascript\\\"></script>\\n<script src=\\\"/typo3conf/ext/powermail/Resources/Public/JavaScripts/Powermail/Form.min.js?1467036214\\\" type=\\\"text/javascript\\\"></script>\\n<script src=\\\"/typo3conf/ext/as_template/Resources/Public/Vendor/bootstrap/js/bootstrap.min.js?1554366461\\\" type=\\\"text/javascript\\\"></script>\\n<script src=\\\"/typo3conf/ext/as_template/Resources/Public/Vendor/lightbox/js/lightbox.min.js?1554366461\\\" type=\\\"text/javascript\\\"></script>\\n<script src=\\\"/typo3conf/ext/as_template/Resources/Public/Vendor/jquery-matchHeight/jquery.matchHeight-min.js?1554366461\\\" type=\\\"text/javascript\\\"></script>\\n<script src=\\\"/typo3conf/ext/as_template/Resources/Public/JavaScript/functions.js?1554366461\\\" type=\\\"text/javascript\\\"></script>\\n<script src=\\\"/typo3conf/ext/as_template/Resources/Public/JavaScript/slideshow.js?1554366461\\\" type=\\\"text/javascript\\\"></script>\\n<script src=\\\"/typo3temp/Assets/1c63d9f1eb.js?1549029573\\\" type=\\\"text/javascript\\\"></script>\\n\\n\\n\\n</body>\\n</html>\",\n          \"<!DOCTYPE html PUBLIC \\\"-//W3C//DTD HTML 4.01 Transitional//EN\\\" \\\"http://www.w3.org/TR/html4/loose.dtd\\\"><html>\\n<head>\\n<META http-equiv=\\\"Content-Type\\\" content=\\\"text/html; charset=iso-8859-1\\\">\\n<meta http-equiv=\\\"X-UA-Compatible\\\" content=\\\"IE=edge,chrome=1\\\">\\n<meta name=\\\"viewport\\\" content=\\\"width=device-width, initial-scale=1, minimum-scale= .2\\\">\\n<meta name=\\\"DC.Generator\\\" content=\\\"this content is managed by PANSITE (TM)\\\">\\n<meta name=\\\"DC.type\\\" content=\\\"webPage\\\">\\n<meta http-equiv=\\\"content-language\\\" content=\\\"de\\\">\\n<meta name=\\\"author\\\" content=\\\"Universit\\u00e4tsklinikum Knappschaftskrankenhaus Bochum, kontakt@kk-bochum.de\\\">\\n<meta name=\\\"revisit-after\\\" content=\\\"7 days\\\">\\n<meta name=\\\"publisher\\\" content=\\\"Universit\\u00e4tsklinikum Knappschaftskrankenhaus Bochum, kontakt@kk-bochum.de\\\">\\n<meta name=\\\"owner\\\" content=\\\"Universit\\u00e4tsklinikum Knappschaftskrankenhaus Bochum, kontakt@kk-bochum.de\\\">\\n<meta name=\\\"distribution\\\" content=\\\"global\\\">\\n<meta name=\\\"uniqueid\\\" content=\\\"9554\\\">\\n<meta name=\\\"robots\\\" content=\\\"index,follow\\\">\\n<meta name=\\\"description\\\" content=\\\"Das Universit\\u00e4tsklinikum Knappschaftskrankenhaus Bochum liefert Spitzenmedizin im Herzen des Ruhrgebiets und ist mit seinen 485 Betten und neun Fachabteilungen ein Haus der Maximalversorgung.\\\">\\n<link rel=\\\"canonical\\\" href=\\\"https://www.kk-bochum.de/de/Kliniken_Zentren_Bereiche/Kliniken/Mund_Kiefer_und_Plastische_Gesichtschirurgie/index.php\\\"><!--header Skript von Template \\\"Google analytics\\\"\\n--><script>(function(i,s,o,g,r,a,m){i['GoogleAnalyticsObject']=r;i[r]=i[r]||function(){(i[r].q=i[r].q||[]).push(arguments)},i[r].l=1*new Date();a=s.createElement(o),m=s.getElementsByTagName(o)[0];a.async=1;a.src=g;m.parentNode.insertBefore(a,m)})(window,document,'script','//www.google-analytics.com/analytics.js','ga');ga('create','UA-28649736-1','auto');ga('send','pageview');</script><!--header Skript von Template \\\"highslide\\\"\\n--><!-- highslide-with-gallery.js   -->\\n<script language=\\\"JavaScript\\\" src=\\\"https://www.kk-bochum.de/0_Technik/highslide/highslide-full.min.js.pagespeed.jm.ciexsdxrIp.js\\\"></script>\\n<!-- highslide init   -->\\n<!-- page identification:  0ef68a4a65ee15b61c2a5b3eabc23918   -->\\n<script type=\\\"text/javascript\\\">hs_js_file='../../../../0_Technik/highslide/highslide-full.min.js';if(hs_js_file!='#'){hs.graphicsDir=hs_js_file.substring(0,hs_js_file.lastIndexOf(\\\"/\\\"))+'/graphics/';hs.wrapperClassName='wide-border';hs.showCredits=true;hs.creditsText='';hs.creditsHref='';hs.creditsTitle='';hs.align='center';hs.transitions=['expand','crossfade'];hs.wrapperClassName='dark borderless floating-caption';hs.fadeInOut=true;hs.dimmingOpacity=.75;hs.marginBottom=105;if(hs.addSlideshow)hs.addSlideshow({interval:5000,repeat:false,useControls:true,overlayOptions:{className:'text-controls',position:'bottom center',relativeTo:'viewport',offsetY:-60},thumbstrip:{position:'bottom center',mode:'horizontal',relativeTo:'viewport'}});}else{top.status='highslide.js not found';}window.onload=function(){if(hs_js_file!='#')hs.preloadImages(5);}</script>\\n<!-- highslide.css   -->\\n<link rel=\\\"stylesheet\\\" href=\\\"https://www.kk-bochum.de/0_Technik/A.highslide,,_highslide.css+css,,_Master.css,Mcc.YMhgxEoH_Y.css.pagespeed.cf.3uPvKrcY2U.css\\\" type=\\\"text/css\\\">\\n<!--header Skript von Template \\\"Design Knappschaftskrankenhaus_Bochum de\\\"\\n--> <link type=\\\"text/css\\\" href=\\\"https://fonts.googleapis.com/css?family=Open+Sans:Condensed\\\">\\n<!-- Master.css -->\\n\\n<!-- unterseite_print.css -->\\n<link type=\\\"text/css\\\" href=\\\"https://www.kk-bochum.de/0_Technik/css/A.unterseite_print.css.pagespeed.cf.zDgnL59s__.css\\\" media=\\\"print\\\" rel=\\\"stylesheet\\\">\\n<!-- jquery-1.10.1.min.js -->\\n<script type=\\\"text/javascript\\\" src=\\\"https://www.kk-bochum.de/0_Technik/js/jquery-1.10.1.min.js.pagespeed.jm.hJPIhFzu5k.js\\\"></script>\\n<script type=\\\"text/javascript\\\">$(function(){var pull=$('#pull');menu=$('.NavLD ul');menuHeight=menu.height();$(pull).on('click',function(e){e.preventDefault();menu.slideToggle();$(pull).toggleClass('active');$('.NavLDO ul:visible').slideToggle();$('#pull2').removeClass('active');});$(window).resize(function(){var w=$(window).width();if(w>320&&menu.is(':hidden')){menu.removeAttr('style');}});});</script>\\n<!-- jquery.searchMeme.js-->\\n<script type=\\\"text/javascript\\\" src=\\\"https://www.kk-bochum.de/0_Technik/js/jquery.searchMeme.js.pagespeed.jm.itWWHW38w2.js\\\"></script>\\n    <script type=\\\"text/javascript\\\">$(document).ready(function(){var searchGreen=$('#yinssearch').searchMeme({onSearch:function(searchText){setTimeout(function(){searchGreen.searchMeme({searchComplete:true});$('#yinssearch-results').html(\\\"You searched for \\\"+searchGreen.val()+\\\"\\\");$('.panel').addClass('go-').animate({'height':200},300);},10000);},buttonPlacement:'right',button:''});});</script><!--header Skript von Template \\\"Footer Knappschaftskrankenhaus_Bochum de\\\"\\n--><!--header Skript von Template \\\"Head Knappschaftskrankenhaus_Bochum de\\\"\\n--> \\n<!-- searchconfig.js -->\\n<script type=\\\"text/javascript\\\">var config={'L10N':{'SYS_rating':'INTERNAL','SYS_score':'score','SYS_quicklinkstart':'Eintr\\u00e4ge gefunden in','SYS_count':'Treffer','SYS_countsingle':'Treffer','SYS_accessed':'last scanned','SYS_words':'words','SYS_lastmodified':'last modification seen','SYS_moreresults':'weitere Ergebnisse','SYS_noresults':'Leider gibt es f\\u00fcr Ihre Anfrage keinen Treffer. (kein Ergebnis)','SYS_morepages':'additional resource(s)','SYS_SEITEN_HEADER':'Suchergebnisse','SYS_DOKUMENTE_HEADER':'Dokumente','SYS_simmilarkeywords':'\\u00c4hnliche Suchbegriffe: ','SYS_SITES':'Seiten','SYS_noinputstr':'Sie haben keinen g\\u00fcltigen Suchbegriff eingegeben','SYS_DOCUMENTS':'Dokumente'},'Server':'/0_technik/suche/restproxy.php/pansite/rest','NoResultsText':'SYS_noresults','NumbersPerPage':10,'OnSymSearchEvent':'','ShowSymKeywords':true,'ShowQuickLinks':true,'SearchKey':'YST','SortType':'RATING','LinkTarget':{'Default':null,'application/pdf':'targetFrame'},'Parts':[{'Header':\\\"SYS_SITES\\\",'OnPagerEvent':'','Navigation':true,'OnClickEvent':null,'ContentDisplayHints':{1:'Hidden'},'SearchExact':false,'SearchAll':false,'NumbersPerPage':7,'NoResultsText':null,'AreaStyling':true,'ContentID':[0,1],'Name':'cw','SortType':'RATING','Base':'KK-Bochum','FileTypes':['html'],'HighlightSize':200},{'Header':\\\"SYS_DOCUMENTS\\\",'OnPagerEvent':'','Navigation':true,'OnClickEvent':null,'ContentDisplayHints':{1:'Hidden'},'SearchExact':false,'SearchAll':false,'NumbersPerPage':7,'NoResultsText':null,'AreaStyling':true,'ContentID':[0,1],'Name':'Dokumente','Base':'KK-Bochum','FileTypes':['document']}]}</script>\\n<script type=\\\"text/javascript\\\">function redirectToSomePageExample(searchText){window.location.href='/de/Suche/index.php?yinssearch='+encodeURIComponent(searchText);}</script>\\n<link rel=\\\"stylesheet\\\" href=\\\"https://www.kk-bochum.de/0_Technik/A.suche,,_crawlclient.css+css,,_style_css.css,Mcc.Ci2BtaRPSk.css.pagespeed.cf.vOwwTmlSVb.css\\\" type=\\\"text/css\\\">\\n<script src=\\\"https://www.kk-bochum.de/0_Technik/suche,_crawllib.js+js,_jquery.flexslider.js.pagespeed.jc.WXnEvboyR9.js\\\"></script><script>eval(mod_pagespeed_ErHR6vm$or);</script>\\n<!--header Skript von Template \\\"linke Navigation Mund-, Kiefer- und Plastische Gesichtschirurgie de\\\"\\n--><!-- style_css.php -->\\n<!--header Skript von Template \\\"Schnellkontakt Knappschaftskrankenhaus_Bochum_GmbH de\\\"\\n--><!-- unterseite.css -->\\n<link rel=\\\"stylesheet\\\" href=\\\"https://www.kk-bochum.de/0_Technik/css/A.unterseite.css.pagespeed.cf.gZpgQdgsCy.css\\\" type=\\\"text/css\\\" media=\\\"screen, projection\\\"><title>Mund-, Kiefer- und Plastische Gesichtschirurgie</title>\\n</head>\\n<body class=\\\"cbp-spmenu-push\\\"><!--nxid=1-->         <div id=\\\"containerR\\\">\\n<div id=\\\"container\\\">\\n<div id=\\\"header\\\">\\n<div id=\\\"id28507\\\" class=\\\"pansiteelement logo\\\"><A href=\\\"../../../../index.php\\\" target=_self><IMG border=0 alt=\\\"Universit&auml;tsklinikum Knappschaftskrankenhaus Bochum GmbH\\\" src=\\\"https://www.kk-bochum.de/0_Technik/img/xlogo_kk_bochum.png.pagespeed.ic.r4_RzmhOVQ.png\\\"></A></div>\\n<ul class=\\\"lanNavigation\\\">\\n<li class=\\\"de selected\\\">de\\n\\t\\t\\t\\t\\t\\t\\t\\t\\t</li>\\n<li class=\\\"en\\\"><a href=\\\"https://www.kk-bochum.de/en/Clinics-Centers-Departments/Clinics/Oral_Maxillofacial_and_Facial_Plastic_Surgery/index.php\\\">en</a></li>\\n</ul>\\n<div id=\\\"id56586\\\" class=\\\"pansiteelement servicebox2\\\"><div id=\\\"yinssearch-search-container\\\" class=\\\"SearchB\\\">\\n  <input onkeyup=\\\"return processInputKeyUp(event,this,document.getElementById('yinssearch-suggestions'));\\\" onblur=\\\"fillLookup(document.getElementById('yinssearch-suggestions'));\\\" actionFunction=\\\"redirectToSomePageExample\\\" autocomplete=\\\"off\\\" id=\\\"yinssearch\\\" type=\\\"text\\\" size=\\\"50\\\"/>\\n  \\n  <div id=\\\"yinssearch-suggestions\\\" class=\\\"yinssearch-suggestionsBox\\\" actionFunction=\\\"openPage\\\" style=\\\"display: none;\\\">\\n   <div id=\\\"yinssearch-autoSuggestionsList\\\" class=\\\"yinssearch-suggestionList\\\"></div>\\n  </div>\\n </div></div>\\n<div id=\\\"id83368\\\" class=\\\"pansiteelement\\\">\\n<div class=\\\"menu-container\\\">\\n<div class=\\\"menu\\\">\\n<ul class=\\\"KWN\\\">\\n<li class=\\\"home\\\"><span class=\\\"emptylink\\\"><a href=\\\"../../../../index.php\\\">Home</a></span></li>\\n<li class=\\\"mainli1\\\"><span class=\\\"emptylinkmain\\\">Patienten & Besucher</span>\\n<ul class=\\\"Navul\\\">\\n<li><a href=\\\"/de/Patienten_Besucher/index.php\\\" target=\\\"_self\\\">Patienten & Besucher</a>\\n<li><a href=\\\"/de/Patienten_Besucher/Bibliothek/index.php\\\" target=\\\"_self\\\">Bibliothek</a>\\n<li><a href=\\\"/de/Patienten_Besucher/Cafeteria_und_K\\u00fcche/index.php\\\" target=\\\"_self\\\">Cafeteria und K\\u00fcche</a>\\n<li><a href=\\\"/de/Patienten_Besucher/Downloadbereich/index.php\\\" target=\\\"_self\\\">Downloadbereich</a>\\n<li><a href=\\\"/de/Patienten_Besucher/Ernaehrungsmedizin/index.php\\\" target=\\\"_self\\\">Ern\\u00e4hrungsmedizin</a>\\n<li><a href=\\\"/de/Patienten_Besucher/Friseur/index.php\\\" target=\\\"_self\\\">Friseur</a>\\n<li><a href=\\\"/de/Patienten_Besucher/Gaestehaus/index.php\\\" target=\\\"_self\\\">G\\u00e4stehaus</a>\\n<li><a href=\\\"/de/Patienten_Besucher/Klinik_ABC/index.php\\\" target=\\\"_self\\\">Klinik ABC</a>\\n<li><a href=\\\"/de/Patienten_Besucher/Komfortstationen/index.php\\\" target=\\\"_self\\\">Komfortstationen</a>\\n<li><a href=\\\"/de/Patienten_Besucher/Medizintipps/index.php\\\" target=\\\"_self\\\">Medizin-Tipps</a>\\n<li><a href=\\\"/de/Patienten_Besucher/Patientenmanagement/index.php\\\" target=\\\"_self\\\">Patientenmanagement</a>\\n<li><a href=\\\"/de/Patienten_Besucher/Pflege_Zuhause/index.php\\\" target=\\\"_self\\\">Pflege Zuhause</a>\\n<li><a href=\\\"/de/Patienten_Besucher/Psychoonkologie/index.php\\\" target=\\\"_self\\\">Psychoonkologie</a>\\n<li><a href=\\\"/de/Patienten_Besucher/Seelsorge/index.php\\\" target=\\\"_self\\\">Seelsorge</a>\\n<li><a href=\\\"/de/Patienten_Besucher/Sozialdienst/index.php\\\" target=\\\"_self\\\">Sozialdienst</a>\\n</ul>\\n</li>\\n<li class=\\\"mainli2\\\"><span class=\\\"emptylinkmain\\\">Kliniken</span>\\n<ul class=\\\"Navul\\\">\\n<li><a href=\\\"/de/Kliniken_Zentren_Bereiche/Kliniken/Anaesthesiologie_Intensivmedizin_und_Schmerztherapie/index.php\\\" target=\\\"_self\\\">An\\u00e4sthesiologie, Intensivmedizin und Schmerztherapie</a>\\n<li><a href=\\\"/de/Kliniken_Zentren_Bereiche/Kliniken/Augenheilkunde/index.php\\\" target=\\\"_self\\\">Augenheilkunde</a>\\n<li><a href=\\\"/de/Kliniken_Zentren_Bereiche/Kliniken/Chirurgie/index.php\\\" target=\\\"_self\\\">Chirurgie</a>\\n<li><a href=\\\"/de/Kliniken_Zentren_Bereiche/Kliniken/Medizinische_Klinik/index.php\\\" target=\\\"_self\\\">Medizinische Klinik</a>\\n<li><a href=\\\"/de/Kliniken_Zentren_Bereiche/Kliniken/Mund_Kiefer_und_Plastische_Gesichtschirurgie/index.php\\\" target=\\\"_self\\\">Mund-, Kiefer- und Plastische Gesichtschirurgie</a>\\n<li><a href=\\\"/de/Kliniken_Zentren_Bereiche/Kliniken/Neurochirurgie/index.php\\\" target=\\\"_self\\\">Neurochirurgie</a>\\n<li><a href=\\\"/de/Kliniken_Zentren_Bereiche/Kliniken/Neurologie/index.php\\\" target=\\\"_self\\\">Neurologie</a>\\n<li><a href=\\\"/de/Kliniken_Zentren_Bereiche/Kliniken/Radiologie_und_Nuklearmedizin/index.php\\\" target=\\\"_self\\\">Radiologie, Neuroradiologie und Nuklearmedizin</a>\\n<li><a href=\\\"/de/Kliniken_Zentren_Bereiche/Kliniken/Unfallchirurgie_und_Orthopaedie/index.php\\\" target=\\\"_self\\\">Unfallchirurgie und Orthop\\u00e4die</a>\\n<li><a href=\\\"/de/Kliniken_Zentren_Bereiche/Abteilung/Physikalische_Therapie_und_Physiotherapie/index.php\\\" target=\\\"_self\\\">Physikalische Therapie und Physiotherapie</a>\\n<li><a href=\\\"/de/Kliniken_Zentren_Bereiche/Abteilung/Sprachdiagnostik_und_Sprachtherapie/index.php\\\" target=\\\"_self\\\">Sprachdiagnostik und Sprachtherapie</a>\\n</ul>\\n</li>\\n<li class=\\\"mainli3\\\"><span class=\\\"emptylinkmain\\\">Zentren</span>\\n<ul class=\\\"Navul\\\">\\n<li><a href=\\\"/de/Kliniken_Zentren_Bereiche/Medizinische_Zentren/Darmkrebszentrum/index.php\\\" target=\\\"_self\\\">Darmzentrum</a>\\n<li><a href=\\\"/de/Kliniken_Zentren_Bereiche/Medizinische_Zentren/Epilepsiezentrum/index.php\\\" target=\\\"_self\\\">Epilepsiezentrum</a>\\n<li><a href=\\\"/de/Kliniken_Zentren_Bereiche/Kliniken/Mund_Kiefer_und_Plastische_Gesichtschirurgie/index.php\\\" target=\\\"_self\\\">Kopf-Hals-Tumorzentrum</a>\\n<li><a href=\\\"/de/Kliniken_Zentren_Bereiche/Medizinische_Zentren/Onkologisches_Zentrum/index.php\\\" target=\\\"_self\\\">Onkologisches Zentrum</a>\\n<li><a href=\\\"/de/Kliniken_Zentren_Bereiche/Medizinische_Zentren/Stroke_Unit/index.php\\\" target=\\\"_self\\\">Stroke Unit</a>\\n<li><a href=\\\"/de/Kliniken_Zentren_Bereiche/Medizinische_Zentren/Transplantationszentrum/index.php\\\" target=\\\"_self\\\">Transplantationszentrum</a>\\n<li><a href=\\\"/de/Kliniken_Zentren_Bereiche/Medizinische_Zentren/Traumazentrum/index.php\\\" target=\\\"_self\\\">Traumazentrum</a>\\n</ul>\\n</li>\\n<li class=\\\"mainli4\\\"><span class=\\\"emptylinkmain\\\">Pflege</span>\\n<ul class=\\\"Navul\\\">\\n<li><a href=\\\"/de/Pflege/Pflegedirektion/index..php\\\" target=\\\"_self\\\">Pflegedirektion</a>\\n<li><a href=\\\"/de/Pflege/Hygiene/index.php\\\" target=\\\"_self\\\">Hygiene</a>\\n<li><a href=\\\"/de/Pflege/Intensivstationen/index.php\\\" target=\\\"_self\\\">Intensivstationen</a>\\n<li><a href=\\\"/de/Pflege/Krankenpflege/index.php\\\" target=\\\"_self\\\">Krankenpflege</a>\\n<li><a href=\\\"/de/Pflege/Operationsbereiche/index.php\\\" target=\\\"_self\\\">Operationsbereiche</a>\\n<li><a href=\\\"/de/Pflege/Sozialdienst/index.php\\\" target=\\\"_self\\\">Sozialdienst</a>\\n<li><a href=\\\"/de/Pflege/Stationsleitungen/index.php\\\" target=\\\"_self\\\">Stationsleitungen</a>\\n<li><a href=\\\"/de/Pflege/Zentrale_Notaufnahme/index.php\\\" target=\\\"_self\\\">Zentrale Notaufnahme</a>\\n<li><a href=\\\"/de/Pflege/ZSVA/index.php\\\" target=\\\"_self\\\">ZSVA</a>\\n</ul>\\n</li>\\n<li class=\\\"mainli5\\\"><span class=\\\"emptylinkmain\\\">Karriere</span>\\n<ul class=\\\"Navul\\\">\\n<li><a href=\\\"/de/Karriere/index.php\\\" target=\\\"_self\\\">Karriere</a>\\n<li><a href=\\\"/de/Karriere/Stellenangebote/index.php\\\" target=\\\"_self\\\">Stellenangebote</a>\\n<li><a href=\\\"/de/Karriere/Kaufleute_im_Gesundheitswesen/index.php\\\" target=\\\"_self\\\">Kaufleute im Gesundheitswesen</a>\\n<li><a href=\\\"/de/Karriere/Gesundheits_und_Krankenpflegeassistenz/index.php\\\" target=\\\"_self\\\">Gesundheits- und Krankenpflegeassistenz</a>\\n<li><a href=\\\"/de/Karriere/MTA-Schule/index.php\\\" target=\\\"_self\\\">MTA-Schule</a>\\n<li><a href=\\\"/de/Karriere/Gesundheits_und_Krankenpflege/index.php\\\" target=\\\"_self\\\">Gesundheits- und Krankenpflege</a>\\n<li><a href=\\\"/de/Karriere/Notfallpflege/index.php\\\" target=\\\"_self\\\">Intensivpflege und An\\u00e4sthesie</a>\\n<li><a href=\\\"/de/Karriere/Notfallpflege/index.php\\\" target=\\\"_self\\\">Notfallpflege</a>\\n<li><a href=\\\"/de/Karriere/Palliative_Care/index.php\\\" target=\\\"_self\\\">Palliative Care</a>\\n<li><a href=\\\"/de/Karriere/Studium/index.php\\\" target=\\\"_self\\\">Studium</a>\\n</ul>\\n</li>\\n<li class=\\\"mainli6\\\"><span class=\\\"emptylinkmain\\\">Aktuelles </span>\\n<ul class=\\\"Navul\\\">\\n<li><a href=\\\"/de/Aktuelles_und_Presse/index.php\\\" target=\\\"_self\\\">Aktuelles</a>\\n<li><a href=\\\"/de/Aktuelles_und_Presse/Ansprechpartner/index.php\\\" target=\\\"_self\\\">Ansprechpartner</a>\\n<li><a href=\\\"/de/Aktuelles_und_Presse/PresseArchiv/index.php\\\" target=\\\"_self\\\">Presse-Archiv</a>\\n<li><a href=\\\"/de/Aktuelles_und_Presse/Veranstaltungen/index.php\\\" target=\\\"_self\\\">Veranstaltungen</a>\\n<li><a href=\\\"/de/Aktuelles_und_Presse/Downloadbereich/index.php\\\" target=\\\"_self\\\">Downloadbereich</a>\\n<li><a href=\\\"/de/Aktuelles_und_Presse/Bildergalerie/index.php\\\" target=\\\"_self\\\">Bildergalerie</a>\\n</ul>\\n</li>\\n<li class=\\\"mainli7\\\"><span class=\\\"emptylinkmain\\\">Unternehmen</span>\\n<ul class=\\\"Navul\\\">\\n<li><a href=\\\"/de/Unternehmen/index.php\\\" target=\\\"_self\\\">Unternehmen</a>\\n<li><a href=\\\"/de/Unternehmen/Geschaeftsfuehrung_und_Gremien/index.php\\\" target=\\\"_self\\\">Gesch\\u00e4ftsf\\u00fchrung und Gremien</a>\\n<li><a href=\\\"/de/Unternehmen/Lob_und_Kritik/index.php\\\" target=\\\"_self\\\">Lob und Kritik</a>\\n<li><a href=\\\"/de/Unternehmen/Personalvertretung/index.php\\\" target=\\\"_self\\\">Personalvertretung</a>\\n<li><a href=\\\"/de/Unternehmen/Qualitaetsmanagement/index.php\\\" target=\\\"_self\\\">Qualit\\u00e4tsmanagement</a>\\n<li><a href=\\\"/de/Unternehmen/Verwaltung/index.php\\\" target=\\\"_self\\\">Verwaltung</a>\\n<li><a href=\\\"/de/Unternehmen/Leitbild/index.php\\\" target=\\\"_self\\\">Leitbild</a>\\n<li><a href=\\\"/de/Unternehmen/Daten_und_Fakten/index.php\\\" target=\\\"_self\\\">Daten und Fakten</a>\\n<li><a href=\\\"/de/Unternehmen/Historie/index.php\\\" target=\\\"_self\\\">Historie</a>\\n<li><a href=\\\"/de/Unternehmen/Bildergalerie/index.php\\\" target=\\\"_self\\\">Bildergalerie</a>\\n<li><a href=\\\"/de/Unternehmen/Kooperationen/index.php\\\" target=\\\"_self\\\">Kooperationen</a>\\n<li><a href=\\\"/de/Unternehmen/Das_Medizinische_Netz_der_Knappschaft/index.php\\\" target=\\\"_self\\\">Das Medizinische Netz der Knappschaft</a>\\n<li><a href=\\\"/de/Unternehmen/Compliance/index.php\\\" target=\\\"_self\\\">Compliance</a>\\n<li><a href=\\\"/de/Kliniken_Zentren_Bereiche/Zentralapotheke/index.php\\\" target=\\\"_self\\\">Zentralapotheke</a>\\n<li><a href=\\\"/de/Unternehmen/Anfahrt/index.php\\\" target=\\\"_self\\\">Anfahrt</a>\\n</ul>\\n</li>\\n<li class=\\\"Verbund\\\"><span class=\\\"emptylink\\\"><a href=\\\"../../../../Verbund.php\\\">Verbund</a></span></li>\\n</ul>\\n</div>\\n</div></div>\\n<div id=\\\"BreadCrumb\\\" class=\\\"pansiteelement Pfadnavigation\\\">\\n<ul>\\n<li class=\\\"start\\\"><a href=\\\"../../../../index.php\\\">Startseite &gt;&gt; </a></li><li class=\\\"lvl0\\\"><a href=\\\"https://www.kk-bochum.de/de/Kliniken_Zentren_Bereiche/index.php\\\">Kliniken, Zentren, Bereiche</a></li><li class=\\\"lvl1\\\">Kliniken</li><li class=\\\"lvl3\\\"><a href=\\\"https://www.kk-bochum.de/de/Kliniken_Zentren_Bereiche/Kliniken/Mund_Kiefer_und_Plastische_Gesichtschirurgie/index.php\\\">Mund-, Kiefer- und Plastische Gesichtschirurgie</a></li></ul>\\n</div>\\n</div>\\n<div id=\\\"sidebarLeft\\\">\\n<div id=\\\"id2904\\\" class=\\\"pansiteelement NavLD\\\"><a href=\\\"#\\\" id=\\\"pull\\\">Men&uuml;</a>\\n  <div class=\\\"rahmenA\\\">\\n  <div class=\\\"rahmenI\\\">\\n<div class=\\\"navh4\\\"><a href=\\\"./index.php\\\" target=_self>Mund-, Kiefer- und Plastische Gesichtschirurgie</a></div>\\n<ul class='divcss'><li class='divcss'><div class=\\\"mainpasempty\\\"><a accesskey=\\\"t\\\" tabindex=\\\"1\\\" href=\\\"/de/Kliniken_Zentren_Bereiche/Kliniken/Mund_Kiefer_und_Plastische_Gesichtschirurgie/Team.php\\\" target=\\\"_self\\\">Team</a></div></li>\\n\\n<li class='divcss'><div class=\\\"footdiv\\\">&nbsp;</div></li>\\n\\n</ul>\\n</div>\\n</div>\\n<div class=\\\"schatten\\\"></div></div>\\n</div><!--nxid=1--><!--contentid=1-->\\n<div id=\\\"mainContent\\\">\\n<div id=\\\"id89509\\\" class=\\\"pansiteelement\\\">\\n<div class=\\\"schnellkontakt2018\\\">\\n\\n<a href=\\\"../../../_Schnellkontakt.php\\\" target=\\\"_self\\\" title=\\\"Schnellkontakt\\\"><IMG class=\\\"sk2018\\\" border=0 alt='Schnellkontakt' src='/images/xschnellkontakt_42021.png.pagespeed.ic.6yrsviSoXZ.png' title=\\\"Schnellkontakt\\\"></a>\\n\\n<a href=\\\"../../../Im_Notfall.php\\\" target=\\\"_self\\\" title=\\\"Im Notfall\\\"><IMG class=\\\"sk2018\\\" border=0 alt='Im Notfall' src='/images/ximNotfall_42020.png.pagespeed.ic.FcCn1rCq51.png' title=\\\"Im Notfall\\\"></a>\\n\\n<a href=\\\"../../../Unternehmen/Anfahrt/index.php\\\" target=\\\"_self\\\" title=\\\"Anfahrt\\\"><IMG class=\\\"sk2018\\\" border=0 alt='Anfahrt' src='/images/xanfahrt_42022.png.pagespeed.ic.UD2RJriQB8.png' title=\\\"Anfahrt\\\"></a>\\n\\n<a href=\\\"../../../Unternehmen/Lob_und_Kritik/index.php\\\" target=\\\"_blank\\\" title=\\\"Lob und Kritik\\\"><IMG class=\\\"sk2018\\\" border=0 alt='Lob und Kritik' src='/images/xlobundkritik_42026.png.pagespeed.ic.aAVu173RcI.png' title=\\\"Lob und Kritik\\\"></a>\\n\\n<a href=\\\"../../../Aktuelles_und_Presse/Veranstaltungen/index.php\\\" target=\\\"_self\\\" title=\\\"Veranstaltungen\\\"><IMG class=\\\"sk2018\\\" border=0 alt='Veranstaltungen' src='/images/xveranstaltungen_42028.png.pagespeed.ic.7hg8NBkMAI.png' title=\\\"Veranstaltungen\\\"></a>\\n\\n<a href=\\\"../../../Patienten_Besucher/Gaestehaus/index.php\\\" target=\\\"_self\\\" title=\\\"G&auml;stehaus\\\"><IMG class=\\\"sk2018\\\" border=0 alt='G&auml;stehaus' src='/images/xgaestehaus_42281.png.pagespeed.ic.xClN9UM2DI.png' title=\\\"G&auml;stehaus\\\"></a>\\n\\n<a href=\\\"../../../Aktuelles_und_Presse/index.php\\\" target=\\\"_self\\\" title=\\\"Aktuelles\\\"><IMG class=\\\"sk2018\\\" border=0 alt='Aktuelles' src='/images/xaktuelles_42283.png.pagespeed.ic.DixyBlJJbJ.png' title=\\\"Aktuelles\\\"></a>\\n\\n<a href=\\\"https://www.knappschaft.de/cae/servlet/path/common/LoginPages?view=renderLogin\\\" target=\\\"_blank\\\" title=\\\"Mitglied werden\\\"><IMG class=\\\"sk2018\\\" border=0 alt='Mitglied werden' src='/images/xmitgliedwerden_42282.png.pagespeed.ic.1TG6_BRZr6.png' title=\\\"Mitglied werden\\\"></a>\\n\\n</div>\\n\\n\\t\\t</div>\\n<div id=\\\"id2962\\\" class=\\\"pansiteelement\\\">\\n\\t\\t<link rel=\\\"stylesheet\\\" href=\\\"/0_Technik/css/A.flexslider.css.pagespeed.cf.4r7M9BXdQt.css\\\" type=\\\"text/css\\\">\\n\\t\\t<div class=\\\"rahmenA\\\">\\n\\t\\t<div class=\\\"rahmenI\\\">\\n\\t\\t<div class=\\\"flexslider\\\">\\n          \\t\\t<ul class=\\\"slides\\\">\\n\\t\\t\\n\\t\\t\\t<li>\\n  \\t    \\t   \\t <div class=\\\"SlidrInhalt\\\"><img src=\\\"/images/x275C3382_29042.jpg.pagespeed.ic.bJpboBvdW9.jpg\\\" border=0 alt=\\\"Klinik f&uuml;r Mund-, Kiefer- und Plastische Gesichtschirurgie\\\" title=\\\"Klinik f&uuml;r Mund-, Kiefer- und Plastische Gesichtschirurgie\\\"></div>\\n  \\t    \\t\\t</li>\\n\\n\\t\\t\\n\\t\\t\\t<li>\\n  \\t    \\t   \\t <div class=\\\"SlidrInhalt\\\"><img src=\\\"/images/xMKG_AB_06b_30381.jpg.pagespeed.ic.7WQMAa1WZn.jpg\\\" border=0 alt=\\\"Klinik f&uuml;r Mund-, Kiefer- und Plastische Gesichtschirurgie\\\" title=\\\"Klinik f&uuml;r Mund-, Kiefer- und Plastische Gesichtschirurgie\\\"></div>\\n  \\t    \\t\\t</li>\\n\\n\\t\\t\\n\\t\\t\\t<li>\\n  \\t    \\t   \\t <div class=\\\"SlidrInhalt\\\"><img src=\\\"/images/xMKG_AB_02_30380.jpg.pagespeed.ic.nIgc4k-1KI.jpg\\\" border=0 alt=\\\"Klinik f&uuml;r Mund-, Kiefer- und Plastische Gesichtschirurgie\\\" title=\\\"Klinik f&uuml;r Mund-, Kiefer- und Plastische Gesichtschirurgie\\\"></div>\\n  \\t    \\t\\t</li>\\n\\n\\t\\t\\n\\t\\t</ul>\\n\\t\\t</div>\\n\\t\\t</div>\\n\\t\\t</div>\\n\\t\\t<div class=\\\"schatten\\\"></div>\\n<!-- jquery.flexslider.js -->\\n<script>eval(mod_pagespeed_LeNfIV0mLY);</script>\\n  <script type=\\\"text/javascript\\\">$(function(){});$(window).load(function(){$('.flexslider').flexslider({animation:\\\"slide\\\",start:function(slider){$('body').removeClass('loading');}});});</script>\\n\\t\\t</div>\\n<div id=\\\"id62426\\\" class=\\\"pansiteelement\\\">\\n\\t\\t<h1>Klinik f&uuml;r Mund-, Kiefer- und Plastische Gesichtschirurgie</h1>\\n\\t</div>\\n<div id=\\\"id64182\\\" class=\\\"pansiteelement\\\">\\n\\t\\t<DIV class=fliesstext>Die Klinik f&uuml;r Mund-, Kiefer- und Plastische Gesichtschirurgie am Knappschaftskrankenhaus Bochum-Langendreer unter der Leitung von Prof. Dr. Dr. Martin Kunkel ist eine universit&auml;re Einrichtung der Maximalversorgung. Unsere Klinik betreut das gesamte Spektrum s&auml;mtlicher Erkrankungen in der Mundh&ouml;hle sowie der Gesichts- und Kieferregion. <p><strong>Ambulante und station&auml;re Versorgung<br></strong>Neben derzeit 43 Betten f&uuml;r die station&auml;re operative Patientenversorgung verf&uuml;gt die Klinik &uuml;ber einen eigenst&auml;ndigen Ambulanzbereich mit der M&ouml;glichkeit, kleinere operative Eingriffe flexibel durchzuf&uuml;hren. Auch eine kurzzeitige, tagesklinische Betreuung im Rahmen des ambulanten Operierens ist auf der interdisziplin&auml;ren Therapiestation unseres Hauses jederzeit gew&auml;hrleistet. Der entscheidende Vorteil dieses verzahnten Versorgungskonzeptes liegt in der M&ouml;glichkeit, bei Bedarf innerhalb der Klinik jederzeit von den ambulanten zur station&auml;re Betreuung oder umgekehrt &uuml;berzuleiten. F&uuml;r die ambulante Behandlung, die wir gerne auf &Uuml;berweisung sowohl von &auml;rztlichen als auch von zahn&auml;rztlichen Kollegen vornehmen, steht Ihnen eine durchgehende allgemeine Sprechstunde zur Untersuchung und Beratung offen. Daneben bieten wir f&uuml;r einige Krankheitsbilder Spezialsprechstunden an, beispielsweise f&uuml;r die spezielle Beratung und Behandlung bei Gesichtsfehlbildungen (Lippen-Kiefer-Gaumenspalten), bei wachstumsbedingten Fehlbissen (Dysgnathien) und bei Tumorerkrankungen, aber auch f&uuml;r die Behandlung von Zahnverlusten und schlechtem Prothesenhalt wegen der R&uuml;ckbildung oder Erkrankung des Kieferknochens. </p><p>An dieser Stelle haben wir Ihnen&nbsp;<a href=\\\"_doc/2017_05_17_Checkliste_ambulante_Behandlung_MKG.pdf\\\" target=\\\"_blank\\\">hier</a> einige Hinweise f&uuml;r Ihren Untersuchungs- bzw. Behandlungstermin in unserer Ambulanz zusammengestellt.</p></DIV>\\n\\t\\t\\n\\t\\t</div>\\n<div id=\\\"id64183\\\" class=\\\"pansiteelement\\\">\\n\\t\\t<h2>Therapeutische Schwerpunkte</h2>\\n\\t</div>\\n<div id=\\\"id64181\\\" class=\\\"pansiteelement\\\">\\n\\t<script type=\\\"text/javascript\\\">$(document).ready(function(){$('.acc_container').hide();$('.acc_trigger').click(function(){if($(this).next().is(':hidden')){$('.acc_trigger').removeClass('active').next().slideUp();$(this).toggleClass('active').next().slideDown();}else{$('.acc_trigger').removeClass('active').next().slideUp();}return false;});});</script>\\n\\n\\n\\t  <div class=\\\"container\\\">\\n\\t\\t\\n\\t<h2 class=\\\"acc_trigger\\\"><a href=\\\"#\\\">Behandlung mit Zahnimplantaten</a></h2>\\n\\t<div class=\\\"acc_container\\\">\\n\\t\\t<div class=\\\"block\\\">\\n\\t\\t\\t<p>Die Behandlung der Folgen des Zahnverlustes stellt einen weiteren Schwerpunkt unseres Leistungsspektrums dar. Gerade bei einem fortgeschrittenen Abbau des Kieferknochens ist es h&auml;ufig erforderlich, zahn&auml;rztliche Behandlungen auf der Basis von k&uuml;nstlichen Zahnwurzeln (Implantaten) vorzunehmen. In einigen F&auml;llen muss zuvor noch der Kieferknochen aufgebaut oder erweitert werden. Hierzu stehen uns heute zahlreiche Behandlungsmethoden zur Verf&uuml;gung, mit denen, h&auml;ufig in recht schonenden, ambulanten Eingriffen, ein gutes Fundament f&uuml;r eine sp&auml;tere zahn&auml;rztliche Versorgung gelegt werden kann.</p>\\n\\t\\t</div>\\n\\t</div>\\n\\t\\t\\n\\t\\t\\n\\t<h2 class=\\\"acc_trigger\\\"><a href=\\\"#\\\">Behandlung von Wachstumsst&ouml;rungen und Fehlbissen</a></h2>\\n\\t<div class=\\\"acc_container\\\">\\n\\t\\t<div class=\\\"block\\\">\\n\\t\\t\\t<p>Die operative Behandlung von Wachstumsst&ouml;rungen und Fehlbissen (sog. Dysgnathie-Chirurgie) erfolgt in enger Zusammenarbeit mit den kieferorthop&auml;dischen Spezialisten der Region. Bei diesen Operationen korrigieren wir Wachstums- und Formst&ouml;rungen der Kiefer mit langj&auml;hrig bew&auml;hrten Operationsmethoden unter Einbeziehung moderner Planungs- und Simulationstechniken, um optimale Voraussetzungen f&uuml;r die Gesundheit des Kausystems zu schaffen. Dar&uuml;ber hinaus wird die Harmonie der Proportionen des Gesichtes verbessert oder wieder hergestellt.</p>\\n\\t\\t</div>\\n\\t</div>\\n\\t\\t\\n\\t\\t\\n\\t<h2 class=\\\"acc_trigger\\\"><a href=\\\"#\\\">Behandlung von angeborenen Gesichtsfehlbildungen</a></h2>\\n\\t<div class=\\\"acc_container\\\">\\n\\t\\t<div class=\\\"block\\\">\\n\\t\\t\\t<p>Die Behandlung der angeborenen Gesichtsfehlbildungen stellt einen besonderen Schwerpunkt der Klinik dar. In Zusammenarbeit mit den kinderheilkundlichen Zentren der Region werden die kleinen Patienten vom ersten Tag an kontinuierlich und individuell betreut. Auch &uuml;ber die operative Korrektur hinaus gew&auml;hrleistet unsere Klinik eine interdisziplin&auml;re Behandlung bis in das Erwachsenenalter, in die wir beispielsweise die Abteilung f&uuml;r Sprachdiagnostik und Sprachtherapie unseres Hauses aber auch andere Fachdisziplinen wie die Kieferorthop&auml;die kontinuierlich einbeziehen.</p>\\n\\t\\t</div>\\n\\t</div>\\n\\t\\t\\n\\t\\t\\n\\t<h2 class=\\\"acc_trigger\\\"><a href=\\\"#\\\">Behandlung von Tumorerkrankungen</a></h2>\\n\\t<div class=\\\"acc_container\\\">\\n\\t\\t<div class=\\\"block\\\">\\n\\t\\t\\t<p>Unsere Klinik betreut in gro&szlig;em Umfang Patienten mit gutartigen und b&ouml;sartigen Tumoren in der Mundh&ouml;hle, der Kiefer-Gesichtsregion aber auch der Hals- Gesichts- und Kopfhaut. <br>In diesem sensiblen und sichtbaren Bereich gilt unser Bestreben einer bestm&ouml;glichen Wiederherstellung der Sprech-, Kau- und Schluckfunktion und vor allem auch der Erhaltung oder Wiederherstellung der Harmonie, Ausdrucksweise und &Auml;sthetik des individuellen Gesichtes. <br>Hierzu ber&uuml;cksichtigen wir aktuelle Therapieleitlinien und ethische Gesichtspunkte und wenden modernste Operationsverfahren an, die, wenn erforderlich, beispielsweise auch die Transplantation k&ouml;rpereigenen Gewebes einbeziehen. F&uuml;r die interdisziplin&auml;re Abstimmung und Optimierung der Krebstherapie finden w&ouml;chentliche Tumorkonferenzen unter Beteiligung aller Spezialdisziplinen der modernen Krebsbehandlung statt (Innere Medizin und Onkologie, Strahlentherapie, Chirurgie, diagnostische Radiologie/Nuklearmedizin). Unsere Klinik &uuml;bernimmt, in Abstimmung mit den niedergelassenen Kollegen, auch die regelm&auml;&szlig;ige onkologische Nachkontrolle. </p>\\n\\t\\t</div>\\n\\t</div>\\n\\t\\t\\n\\t\\t\\n\\t<h2 class=\\\"acc_trigger\\\"><a href=\\\"#\\\">Akutbehandlung und Sekund&auml;rversorgung von Verletzungen</a></h2>\\n\\t<div class=\\\"acc_container\\\">\\n\\t\\t<div class=\\\"block\\\">\\n\\t\\t\\t<p>Die Akutbehandlung von Verletzungen im Gesichts-, Hals- und Kieferbereich, insbesondere von Knochenbr&uuml;chen aber auch von Weichgewebsverletzungen z&auml;hlt zu unseren sehr h&auml;ufigen Aufgaben. Durch den Einsatz moderner Osteosyntheseverfahren (Knochen-Stabilisierungs-Techniken) sowie mit Hilfe plastisch-rekonstruktiver Verfahren k&ouml;nnen selbst schwerste Verletzungen oftmals ohne nennenswerte Folgeerscheinungen behandelt werden. Die bew&auml;hrte enge Zusammenarbeit mit den direkten Nachbardisziplinen Neurochirurgie und Augenheilkunde sowie mit der Radiologie erlaubt bei der Versorgung von Gesichtsverletzungen aber auch bei der chirurgischen Therapie von Tumorerkrankungen und Fehlbildungen f&auml;cher&uuml;bergreifende Behandlungen mit hoher interdisziplin&auml;rer Fachkompetenz.</p>\\n\\t\\t</div>\\n\\t</div>\\n\\t\\t\\n\\t\\t\\n\\t<h2 class=\\\"acc_trigger\\\"><a href=\\\"#\\\">Wissenschaft und Forschung</a></h2>\\n\\t<div class=\\\"acc_container\\\">\\n\\t\\t<div class=\\\"block\\\">\\n\\t\\t\\t<p><p>Neben unserem Lehrauftrag in der Ausbildung von Studierenden der Medizin liegen die wissenschaftlichen Schwerpunkte unserer Klinik auf dem Gebiet der Grundlagen- und Prognoseforschung beim Mundh&ouml;hlenkarzinom. Dar&uuml;ber hinaus besch&auml;ftigen wir uns intensiv mit Aspekten von Knochenerkrankungen und Mechanismen der Knochenheilung und Knochenregeneration. </p><p>Weitere Arbeitsgebiete in der klinischen Forschung stellen die unterschiedlichen Methoden der skelettalen Verankerung in der Kieferorthop&auml;die aber auch Untersuchungen zur Lebensqualit&auml;t nach unterschiedlichen chirurgischen Ma&szlig;nahmen dar. Unter dem Gesichtpunkt der Qualit&auml;tssicherung beteiligen wir uns auf &uuml;berregionaler Ebene aktiv an der Erstellung und Weiterentwicklung von Leitlinien auf dem Fachgebiet der Mund-, Kiefer- und Gesichtschirurgie. </p></p>\\n\\t\\t</div>\\n\\t</div>\\n\\t\\t\\n\\t\\t\\n\\t   </div>\\n\\t\\t</div>\\n</div><!--contentid=1--><!--nxid=1-->\\n<div id=\\\"sidebarRight\\\">\\n<div id=\\\"id4786\\\" class=\\\"pansiteelement Ansprechpartner\\\">\\n\\t\\t\\n\\t\\t\\t<div class=\\\"rahmenA\\\">\\n\\t\\t\\t\\t<div class=\\\"rahmenI\\\">\\n\\t\\t\\t\\t\\t<div class=\\\"navh4\\\">Klinikdirektor</div>\\n\\t\\t\\t\\t\\t<div class=\\\"TeaserBild\\\"><img src=\\\"/images/xkunkel_martin2_29045.jpg.pagespeed.ic.Cej5gj2Kuw.jpg\\\" class=\\\"teaserhombild\\\" border=0 alt=\\\"Univ.-Prof. Dr. med. Dr. med. dent. Martin Kunkel\\\" title=\\\"Univ.-Prof. Dr. med. Dr. med. dent. Martin Kunkel\\\"></div>\\n\\t\\t\\t\\t\\t<div class=\\\"TeaserText\\\"><strong>Univ.-Prof. Dr. med. Dr. med. dent. Martin Kunkel</strong><br></div>\\n\\t\\t\\t\\t\\t<div class=\\\"Email\\\"><a href=\\\"/Inhalt/Kontakt/Kontakt_Formular.php?u=79\\\" target=\\\"_self\\\" title=\\\"E-Mail versenden\\\"><IMG border=0 alt=\\\"E-Mail\\\" src='/0_Technik/img/xEMail.png.pagespeed.ic.e0O6Z8TEGN.png' class=\\\"E-MAIL versenden\\\"></a></div>\\n\\t\\t\\t\\t\\t\\t\\t\\n\\t\\t\\t\\t</div>\\n\\t\\t\\t</div>\\n\\t\\t\\t<div class=\\\"schatten\\\"></div>\\n\\n\\t\\t</div>\\n<div id=\\\"id4786\\\" class=\\\"pansiteelement Ansprechpartner\\\">\\n\\t\\t\\n\\t\\t\\t<div class=\\\"rahmenA\\\">\\n\\t\\t\\t\\t<div class=\\\"rahmenI\\\">\\n\\t\\t\\t\\t\\t<div class=\\\"navh4\\\">Sekretariat</div>\\n\\t\\t\\t\\t\\t<div class=\\\"TeaserText\\\"><strong>Melanie Winderlich</strong><br>Tel.: <a href=\\\"tel:02342993501\\\">0234 / 299-3501</a><br>Fax: 0234 / 299-3509</div>\\n\\t\\t\\t\\t\\t<div class=\\\"Email\\\"><a href=\\\"/Inhalt/Kontakt/Kontakt_Formular.php?u=84\\\" target=\\\"_self\\\" title=\\\"E-Mail versenden\\\"><IMG border=0 alt=\\\"E-Mail\\\" src='/0_Technik/img/xEMail.png.pagespeed.ic.e0O6Z8TEGN.png' class=\\\"E-MAIL versenden\\\" title=\\\"E-MAIL versenden\\\"></a></div>\\n\\t\\t\\t\\t\\t\\t\\t\\n\\t\\t\\t\\t</div>\\n\\t\\t\\t</div>\\n\\t\\t\\t<div class=\\\"schatten\\\"></div>\\n\\n\\t\\t</div>\\n<div id=\\\"id64316\\\" class=\\\"pansiteelement TeaserRahmen\\\">\\n\\t\\t<div class=\\\"TeaserEinstieg\\\">\\n\\t\\t\\t<div class=\\\"rahmenA\\\">\\n\\t\\t\\t\\t<div class=\\\"rahmenI\\\">\\n\\t\\t\\t\\t\\t<h4>Sprechstunden</h4>\\n\\t\\t\\t\\t\\t<div class=\\\"TeaserBild\\\"><a href=\\\"./_Sprechstunden.php\\\" target=\\\"_self\\\" title=\\\"Sprechstunden\\\"><img src=\\\"/images/xSprechstunde_AB_01_30481.jpg.pagespeed.ic.tZy30sAm4Z.jpg\\\" class=\\\"teaserhombild\\\" border=0 alt=\\\"Sprechstunden\\\" title=\\\"Sprechstunden\\\"></a></div>\\n\\t\\t\\t\\t\\t<div class=\\\"TeaserLink\\\"><a href=\\\"./_Sprechstunden.php\\\" target=\\\"_self\\\" title=\\\"Sprechstunden\\\"><IMG border=0 alt='weiter' src='/images/xPfeil_Teaser_21417.png.pagespeed.ic.77iBgK3hI_.png' title=\\\"Sprechstunden\\\"></a></div>\\n\\t\\t\\t\\t\\t\\t\\t\\n\\t\\t\\t\\t</div>\\n\\t\\t\\t</div>\\n\\t\\t\\t<div class=\\\"schatten\\\"></div>\\n\\t\\t</div>\\n\\n\\t\\t</div>\\n<div id=\\\"id5420\\\" class=\\\"pansiteelement Ansprechpartner\\\">\\n\\t\\t\\n\\t\\t\\t<div class=\\\"rahmenA\\\">\\n\\t\\t\\t\\t<div class=\\\"rahmenI\\\">\\n\\t\\t\\t\\t\\t<div class=\\\"navh4\\\">Weitere Info</div>\\n\\t\\t\\t\\t\\t<div class=\\\"TeaserText\\\"><a href=\\\"http://www.ruhr-uni-bochum.de/mkg/\\\" target=\\\"_blank\\\">externe Klinikhomepage</a></div>\\n\\t\\t\\t\\t\\t\\t\\t\\t\\t\\t\\n\\t\\t\\t\\t</div>\\n\\t\\t\\t</div>\\n\\t\\t\\t<div class=\\\"schatten\\\"></div>\\n\\n\\t\\t</div>\\n<div id=\\\"id5420\\\" class=\\\"pansiteelement Ansprechpartner\\\">\\n\\t\\t\\n\\t\\t\\t<div class=\\\"rahmenA\\\">\\n\\t\\t\\t\\t<div class=\\\"rahmenI\\\">\\n\\t\\t\\t\\t\\t<div class=\\\"navh4\\\">Flyer</div>\\n\\t\\t\\t\\t\\t<div class=\\\"TeaserText\\\"><a href=\\\"../../../Patienten_Besucher/Downloadbereich/_doc/FL_MKG_2018.pdf\\\" target=\\\"_blank\\\">MKG-Chirurgie</a></div>\\n\\t\\t\\t\\t\\t\\t\\t\\t\\t\\t\\n\\t\\t\\t\\t</div>\\n\\t\\t\\t</div>\\n\\t\\t\\t<div class=\\\"schatten\\\"></div>\\n\\n\\t\\t</div>\\n<div id=\\\"id56939\\\" class=\\\"pansiteelement Ansprechpartner kompas\\\">\\n\\t\\t\\n\\t\\t\\t<div class=\\\"rahmenA\\\">\\n\\t\\t\\t\\t<div class=\\\"rahmenI\\\">\\n\\t\\t\\t\\t\\t<div class=\\\"navh4\\\">Focus &#8222;&Auml;rzteliste 2019&#8220; </div>\\n\\t\\t\\t\\t\\t<div class=\\\"TeaserBild\\\"><a href=\\\"https://focus-arztsuche.de/ueber-uns/siegel/top-mediziner \\\" target=\\\"_blank\\\"><img src=\\\"/images/x2019_Focus_Aerzte_Implantologie_44685.jpg.pagespeed.ic.vleCMDFeFn.jpg\\\" class=\\\"teaserhombild\\\" border=0 alt=\\\"Focus Siegel Implantologie\\\" title=\\\"Focus Siegel Implantologie\\\"></a></div>\\n\\t\\t\\t\\t\\t\\t\\t\\t\\t\\t\\t\\t\\n\\t\\t\\t\\t</div>\\n\\t\\t\\t</div>\\n\\t\\t\\t<div class=\\\"schatten\\\"></div>\\n\\n\\t\\t</div>\\n<div id=\\\"id56939\\\" class=\\\"pansiteelement Ansprechpartner kompas\\\">\\n\\t\\t\\n\\t\\t\\t<div class=\\\"rahmenA\\\">\\n\\t\\t\\t\\t<div class=\\\"rahmenI\\\">\\n\\t\\t\\t\\t\\t<div class=\\\"navh4\\\">Direktlink zum Arztprofil</div>\\n\\t\\t\\t\\t\\t<div class=\\\"TeaserBild\\\"><a href=\\\"https://focus-arztsuche.de/arzt/prof-dr-med-dr-med-dent-martin-kunkel-3419003\\\" target=\\\"_blank\\\"><img src=\\\"/images/x2019_Backlink-Top-Mediziner_44687.png.pagespeed.ic.7wXecA79cE.png\\\" class=\\\"teaserhombild\\\" border=0 alt=\\\"\\\" title=\\\"\\\"></a></div>\\n\\t\\t\\t\\t\\t\\t\\t\\t\\t\\t\\t\\t\\n\\t\\t\\t\\t</div>\\n\\t\\t\\t</div>\\n\\t\\t\\t<div class=\\\"schatten\\\"></div>\\n\\n\\t\\t</div>\\n</div>\\n<div class=\\\"clearfloat\\\">\\n</div>\\n</div>\\n<div id=\\\"FotterR\\\">\\n<div id=\\\"footer\\\">\\n<div id=\\\"id28789\\\" class=\\\"pansiteelement Fnav\\\">\\n\\t\\t<div class=\\\"rahmenA\\\">\\n\\t\\t<div class=\\\"rahmenI\\\">\\n\\t\\t<div class=\\\"navh4\\\"></div>\\n\\t\\t<ul>\\n\\t\\t\\n\\t\\t\\t<li class=\\\"Datenschutz\\\"><a href=\\\"../../../Datenschutz.php\\\" target=\\\"_self\\\">Datenschutz</a></li>\\n\\t\\t\\n\\t\\t\\t<li class=\\\"Impressum\\\"><a href=\\\"../../../Impressum.php\\\" target=\\\"_self\\\">Impressum</a></li>\\n\\t\\t\\n\\t\\t\\t<li class=\\\"Kontakt\\\"><a href=\\\"../../../Kontakt.php\\\" target=\\\"_self\\\">Kontakt</a></li>\\n\\t\\t\\n\\t\\t\\t<li class=\\\"Print\\\"><a href=\\\"javascript:self.print()\\\" target=\\\"_self\\\">Drucken</a></li>\\n\\t\\t\\n\\t\\t</ul>\\n\\t\\t</div>\\n\\t\\t</div>\\n\\t\\t<div class=\\\"schatten\\\"></div>\\n\\t\\t</div>\\n<div id=\\\"id89514\\\" class=\\\"pansiteelement\\\">\\n<div class=\\\"service2018\\\">\\n\\n<a href=\\\"../../../../index.php\\\" target=\\\"_self\\\" title=\\\"Home\\\"><IMG class=\\\"sk2018s\\\" border=0 alt='Home' src='/images/xfooterhome_42039.png.pagespeed.ic.XzgMw-RhhG.png' title=\\\"Home\\\"></a>\\n\\n<a href=\\\"../../../../Sitemap.php\\\" target=\\\"_self\\\" title=\\\"Sitemap\\\"><IMG class=\\\"sk2018s\\\" border=0 alt='Sitemap' src='/images/xfootersitemap_42034.png.pagespeed.ic.mYUcUvQ_LV.png' title=\\\"Sitemap\\\"></a>\\n\\n</div>\\n\\n\\t\\t</div>\\n</div>\\n<div id=\\\"footer2\\\">\\n<div id=\\\"id83336\\\" class=\\\"pansiteelement SitemapA\\\"><h6 class=\\\"sitemap\\\">Kliniken</h6>\\n\\n<ul class=\\\"sitemap\\\">\\n<li class=\\\"mainliu1\\\"><a href=\\\"/de/Kliniken_Zentren_Bereiche/Kliniken/Anaesthesiologie_Intensivmedizin_und_Schmerztherapie/index.php\\\" target=\\\"_self\\\">An\\u00e4sthesiologie, Intensivmedizin und Schmerztherapie</a></li>\\n<li class=\\\"mainliu2\\\"><a href=\\\"/de/Kliniken_Zentren_Bereiche/Kliniken/Augenheilkunde/index.php\\\" target=\\\"_self\\\">Augenheilkunde</a></li>\\n<li class=\\\"mainliu3\\\"><a href=\\\"/de/Kliniken_Zentren_Bereiche/Kliniken/Chirurgie/index.php\\\" target=\\\"_self\\\">Chirurgie</a></li>\\n<li class=\\\"mainliu4\\\"><a href=\\\"/de/Kliniken_Zentren_Bereiche/Kliniken/Medizinische_Klinik/index.php\\\" target=\\\"_self\\\">Medizinische Klinik</a></li>\\n<li class=\\\"mainliu5\\\"><a href=\\\"/de/Kliniken_Zentren_Bereiche/Kliniken/Mund_Kiefer_und_Plastische_Gesichtschirurgie/index.php\\\" target=\\\"_self\\\">Mund-, Kiefer- und Plastische Gesichtschirurgie</a></li>\\n<li class=\\\"mainliu6\\\"><a href=\\\"/de/Kliniken_Zentren_Bereiche/Kliniken/Neurochirurgie/index.php\\\" target=\\\"_self\\\">Neurochirurgie</a></li>\\n<li class=\\\"mainliu7\\\"><a href=\\\"/de/Kliniken_Zentren_Bereiche/Kliniken/Neurologie/index.php\\\" target=\\\"_self\\\">Neurologie</a></li>\\n<li class=\\\"mainliu8\\\"><a href=\\\"/de/Kliniken_Zentren_Bereiche/Kliniken/Radiologie_und_Nuklearmedizin/index.php\\\" target=\\\"_self\\\">Radiologie, Neuroradiologie und Nuklearmedizin</a></li>\\n<li class=\\\"mainliu9\\\"><a href=\\\"/de/Kliniken_Zentren_Bereiche/Kliniken/Unfallchirurgie_und_Orthopaedie/index.php\\\" target=\\\"_self\\\">Unfallchirurgie und Orthop\\u00e4die</a></li>\\n<li class=\\\"mainliu10\\\"><a href=\\\"/de/Kliniken_Zentren_Bereiche/Abteilung/Physikalische_Therapie_und_Physiotherapie/index.php\\\" target=\\\"_self\\\">Physikalische Therapie und Physiotherapie</a></li>\\n<li class=\\\"mainliu11\\\"><a href=\\\"/de/Kliniken_Zentren_Bereiche/Abteilung/Sprachdiagnostik_und_Sprachtherapie/index.php\\\" target=\\\"_self\\\">Sprachdiagnostik und Sprachtherapie</a></li>\\n</ul></div>\\n<div id=\\\"id83335\\\" class=\\\"pansiteelement SitemapB\\\"><h6 class=\\\"sitemap\\\">Zentren</h6>\\n\\n<ul class=\\\"sitemap\\\">\\n<li class=\\\"mainliu1\\\"><a href=\\\"/de/Kliniken_Zentren_Bereiche/Medizinische_Zentren/Darmkrebszentrum/index.php\\\" target=\\\"_self\\\">Darmzentrum</a></li>\\n<li class=\\\"mainliu2\\\"><a href=\\\"/de/Kliniken_Zentren_Bereiche/Medizinische_Zentren/Epilepsiezentrum/index.php\\\" target=\\\"_self\\\">Epilepsiezentrum</a></li>\\n<li class=\\\"mainliu3\\\"><a href=\\\"/de/Kliniken_Zentren_Bereiche/Kliniken/Mund_Kiefer_und_Plastische_Gesichtschirurgie/index.php\\\" target=\\\"_self\\\">Kopf-Hals-Tumorzentrum</a></li>\\n<li class=\\\"mainliu4\\\"><a href=\\\"/de/Kliniken_Zentren_Bereiche/Medizinische_Zentren/Onkologisches_Zentrum/index.php\\\" target=\\\"_self\\\">Onkologisches Zentrum</a></li>\\n<li class=\\\"mainliu5\\\"><a href=\\\"/de/Kliniken_Zentren_Bereiche/Medizinische_Zentren/Stroke_Unit/index.php\\\" target=\\\"_self\\\">Stroke Unit</a></li>\\n<li class=\\\"mainliu6\\\"><a href=\\\"/de/Kliniken_Zentren_Bereiche/Medizinische_Zentren/Transplantationszentrum/index.php\\\" target=\\\"_self\\\">Transplantationszentrum</a></li>\\n<li class=\\\"mainliu7\\\"><a href=\\\"/de/Kliniken_Zentren_Bereiche/Medizinische_Zentren/Traumazentrum/index.php\\\" target=\\\"_self\\\">Traumazentrum</a></li>\\n</ul></div>\\n</div>\\n<div id=\\\"footer3\\\">\\n<div id=\\\"id83333\\\" class=\\\"pansiteelement Zertifikat\\\"><IMG alt='Focus' src='/images/x2018_Focus_Klinikliste_website_42186.png.pagespeed.ic.LTpAzHTLbf.png' class=\\\"focus\\\"><IMG border=0 alt=\\\"KTQ Log\\\" src=\\\"https://www.kk-bochum.de/0_Technik/img/2018/xktq_2018.png.pagespeed.ic.kdck5Qs19z.png\\\"></div>\\n</div>\\n</div>\\n</div>  <!-- jquery.searchMeme.js-->\\n<script type=\\\"text/javascript\\\" src=\\\"https://www.kk-bochum.de/0_Technik/js/datenschutz.js.pagespeed.jm.ew1kieE3dZ.js\\\"></script>     <a href=\\\"#0\\\" class=\\\"cd-top\\\">Top</a>\\n<script type=\\\"text/javascript\\\">$(\\\"a\\\").each(function(){if($(this).attr(\\\"target\\\")==\\\"_blank\\\"){$(this).attr(\\\"title\\\",\\\"Externer Link, \\u00f6ffnet in neuem Fenster\\\");}});jQuery(document).ready(function($){var offset=300,offset_opacity=1200,scroll_top_duration=700,$back_to_top=$('.cd-top');$(window).scroll(function(){($(this).scrollTop()>offset)?$back_to_top.addClass('cd-is-visible'):$back_to_top.removeClass('cd-is-visible cd-fade-out');if($(this).scrollTop()>offset_opacity){$back_to_top.addClass('cd-fade-out');}});$back_to_top.on('click',function(event){event.preventDefault();$('body,html').animate({scrollTop:0,},scroll_top_duration);});});</script>  <script type=\\\"text/javascript\\\">$(document).ready(function(){\\\"use strict\\\";$('.menu > ul > li:has( > ul)').addClass('menu-dropdown-icon');$('.menu > ul > li > ul:not(:has(ul))').addClass('normal-sub');$(\\\".menu > ul\\\").before(\\\"<a href=\\\\\\\"#\\\\\\\" class=\\\\\\\"menu-mobile\\\\\\\">Men\\u00fc</a>\\\");$(\\\".menu > ul > li\\\").hover(function(e){if($(window).width()>943){$(this).children(\\\"ul\\\").stop(true,false).fadeToggle(150);e.preventDefault();}});$(\\\".menu > ul > li\\\").click(function(){if($(window).width()<=943){$(this).children(\\\"ul\\\").fadeToggle(150);}});$(\\\".menu-mobile\\\").click(function(e){$(\\\".menu > ul\\\").toggleClass('show-on-mobile');e.preventDefault();});});</script>\\n <!--nxid=1--></body></html>\\n\"\n        ],\n        \"semantic_type\": \"\",\n        \"description\": \"\"\n      }\n    },\n    {\n      \"column\": \"html_text\",\n      \"properties\": {\n        \"dtype\": \"string\",\n        \"num_unique_values\": 5,\n        \"samples\": [\n          \"\\n \\n \\n \\n \\n \\n \\n \\n \\n \\n \\n \\n \\n \\n \\n \\n \\n \\n \\n \\n \\n \\n \\n \\n \\n \\n Unser Profil\\u00a0|\\u00a0Gef\\u00c3\\u00a4\\u00c3\\u009f- und Thoraxchirurgie | Klinikum Esslingen   \\n \\n \\n \\n \\n \\n \\n \\n Toggle navigation \\n \\n \\n \\n \\n \\n \\n \\n \\n \\n \\n \\n \\n \\n Kliniken & Zentren \\n \\n \\n Kliniken Allgemein- und Viszeralchirurgie Allgemeine Innere Medizin, Onkologie/H\\u00c3\\u00a4matologie, Gastroenterologie und Infektiologie An\\u00c3\\u00a4sthesiologie und operative Intensivmedizin Frauenheilkunde und Geburtshilfe Gef\\u00c3\\u00a4\\u00c3\\u009f- und Thoraxchirurgie Kardiologie, Angiologie und Pneumologie Kinder und Jugendliche Kinder- und Jugendpsychiatrie, Psychosomatik und Psychotherapie Neurologie und klinische Neurophysiologie Psychosomatische Medizin und Psychotherapie Diagnostische und interventionelle Radiologie und Nuklearmedizin Strahlentherapie und Radioonkologie Unfallchirurgie und Orthop\\u00c3\\u00a4die \\u00a0 Belegklinik Augen Belegklinik HNO \\n \\n \\n \\n \\n \\n Zentren Cancer Center Esslingen CCE Darmzentrum Esslingen DZE Brustzentrum Esslingen BZE Lungenkrebszentrum (TESS) Gyn\\u00c3\\u00a4kologisches Tumorzentrum Esslingen GTZE Pankreaszentrum PZE Leberzentrum Esslingen LZE Ambulantes Onkologiezentrum Adipositaszentrum Ambulantes OP-Zentrum Beckenbodenzentrum Endometriose- und Myom-Zentrum Endoprothetikzentrum Endoskopiezentrum Gef\\u00c3\\u00a4\\u00c3\\u009fzentrum Mutter-Kind-Zentrum Perinatalzentrum Regionales Traumazentrum Sozialp\\u00c3\\u00a4diatrisches Zentrum Zentrum f\\u00c3\\u00bcr Wirbels\\u00c3\\u00a4ulentherapie \\n \\n \\n \\n \\n \\n Weitere Einrichtungen Zentrale Notaufnahme Praxen im Medizinischen Versorgungszentrum (MVZ) MVZ Strahlentherapie und Radioonkologie MVZ Gastroenterologie MVZ HNO-Praxis MVZ Kinder- und Jugendpsychiatrie MVZ Neurologie MVZ Nuklearmedizin Therapieabteilung Team f\\u00c3\\u00bcr Notfalltraining (TNT) Apotheke Dialyse Zentrallabor Institut f\\u00c3\\u00bcr Pathologie \\n \\n \\n Babygalerie Frisch geschl\\u00c3\\u00bcpft: werfen Sie einen Blick auf unsere Neuank\\u00c3\\u00b6mmlinge in der  Babygalerie  Pflege & Beratung Pflegedienst Hygiene Demenzsensibles Krankenhaus Sozialdienst Seelsorge Patientenf\\u00c3\\u00bcrsprecher Ethik-Kommitee KE im Dialog Elternschule Ohne Kippe Selbsthilfegruppen Sterilgut und Service GmbH Ihr Aufenthalt Vor dem Aufenthalt Auf der Station Nach dem Aufenthalt Wahlleistungen G\\u00c3\\u00a4stehaus Serviceangebote von A - Z Ihre Meinung Notfall Beruf & Karriere Arbeitgeber Klinikum Beruf und Familie Gesundheit am Arbeitsplatz Schule f\\u00c3\\u00bcr Pflegeberufe Ausbildung FSJ / BUFDI / Praktika Akademisches Lehrkrankenhaus PJ-Studenten Fort- und Weiterbildung Betriebsrat Schwerbehindertenvertretung Stellenb\\u00c3\\u00b6rse \\u00c3\\u009cber uns Das Klinikum Esslingen Daten und Fakten Gesch\\u00c3\\u00a4ftsf\\u00c3\\u00bchrung Ansprechpartner Presse und Publikationen Geschichte F\\u00c3\\u00b6rdervereine Unsere Spenden Lageplan / Wegweiser Infos f\\u00c3\\u00bcr Kids Ein Tag im Krankenhaus Meine Oma muss ins Krankenhaus Was passiert im Krankenhaus? Wissensecke Videos f\\u00c3\\u00bcr Kids Notfall Login Dienstleister \\n \\n \\n \\n \\n Klinik f\\u00c3\\u00bcr Gef\\u00c3\\u00a4\\u00c3\\u009f- und Thoraxchirurgie \\n \\n \\n \\n \\n \\n \\n \\n Toggle navigation \\n \\n \\n \\n \\n \\n Unser Profil Team Ambulanzen & Sprechstunden Medizinische Schwerpunkte Patienteninformationen Pflege und Stationen Fortbildungen Klinische Studien / Forschung Kooperationen Zertifikate und Auszeichnungen Selbsthilfegruppen \\n Sekretariat Christina Prawatschke Telefon: 0711 3103-2700, -2701 Telefax: 0711 3103-2704 E-Mail:  f.liewald @ klinikum-esslingen.de \\n \\n \\n \\n \\n \\n \\n \\n \\n \\n \\n \\n \\n \\n \\n Die Klinik f\\u00c3\\u00bcr Gef\\u00c3\\u00a4\\u00c3\\u009f- und Thoraxchirurgie ist von der Deutschen Gesellschaft f\\u00c3\\u00bcr Gef\\u00c3\\u00a4\\u00c3\\u009fchirurgie als Zentrum f\\u00c3\\u00bcr Gef\\u00c3\\u00a4\\u00c3\\u009fkrankheiten am Klinikum Esslingen zertifiziert. \\n \\n \\n \\n \\n \\n \\n \\n \\n \\u00e2\\u0080\\u009eUnser Motto lautet:  Keine F\\u00c3\\u00a4lle, sondern Patienten,  keine Leistungszahlen, sondern Leistung,  keine Werbung, sondern Vertrauen durch gute Arbeit.\\u00e2\\u0080\\u009d  Chefarzt Prof. Dr. Florian Liewald \\n \\n \\n \\n \\n \\n \\n Die  Gef\\u00c3\\u00a4\\u00c3\\u009fchirurgie  umfasst die Chirurgie von Schlagadern (Arterien) und Venen.\\u00a0Schwerpunkte unserer T\\u00c3\\u00a4tigkeit sind die Behandlung von Erweiterungen der Hauptschlagader (Aortenaneurysmen), Verengungen der Halsschlagader (Carotisstenosen), Verschlussprozesse im Bereich der Becken- und Beingef\\u00c3\\u00a4\\u00c3\\u009fe (arterielle Verschlusskrankheit) sowie die operative Behandlung von Krampfadern (Varikosis). Besonderen Wert legen wir auf eine intensive interdisziplin\\u00c3\\u00a4re Zusammenarbeit. Im Bereich der Gef\\u00c3\\u00a4\\u00c3\\u009fchirurgie arbeiten wir zum Wohle unserer Patienten eng mit Spezialisten der Angiologie, Radiologie, Kardiologie, An\\u00c3\\u00a4sthesie, Neurologie und Intensivmedizin zusammen.\\n \\n Die  Thoraxchirurgie  ist die Chirurgie aller Erkrankungen des Brustkorbes mit Ausnahme des Herzens. Im Bereich der Thoraxchirurgie sind wir die f\\u00c3\\u00bcnftgr\\u00c3\\u00b6\\u00c3\\u009fte Klinik in Baden-W\\u00c3\\u00bcrttemberg und sind spezialisiert auf die Behandlung b\\u00c3\\u00b6sartiger Lungentumore (Bronchialkarzinom), Tumore des Mittelfells (Mediastinum),\\u00a0 Einri\\u00c3\\u009f und Kollaps der Lunge (Pneumothorax) sowie alle tumor\\u00c3\\u00b6sen und entz\\u00c3\\u00bcndlichen Ver\\u00c3\\u00a4nderungen des Brustfells (Pleura). In einer Tumorkonferenz werden w\\u00c3\\u00b6chentlich interdisziplin\\u00c3\\u00a4r alle onkologischen Thoraxpatienten besprochen und das Therapiekonzept f\\u00c3\\u00bcr jeden einzelnen Patienten speziell festgelegt. Gro\\u00c3\\u009fe Erfahrungen liegen auch bei unfallbedingten Verletzungen der Lunge und des Brustkorbes (Thoraxtrauma) vor. \\n \\n Die Thoraxchirurgie ist Teil des  Thoraxzentrums Esslingen-Stuttgart (TESS)  und in diesem Rahmen eines von deutschlandweit nur 38 zertifizierten Zentren f\\u00c3\\u00bcr die Behandlung von Lungenkrebspatienten. Hierbei sind Pneumologen, Onkologen, Thoraxchirurgen, Strahlentherapeuten, Thoraxan\\u00c3\\u00a4sthesisten und Intensivmediziner sowie Schlafmediziner und Psychologen eng in ein gemeinsames Therapiekonzept eingebunden. Die Klinik f\\u00c3\\u00bcr Gef\\u00c3\\u00a4\\u00c3\\u009f- und Thoraxchirurgie wurde als Teil des Thoraxzentrums Esslingen-Stuttgart in die  FOCUS-Liste der Top-Kliniken zur Behandlung des Lungenkrebses  aufgenommen.\\n \\n F\\u00c3\\u00bcr die medizinische und menschliche Betreuung steht Ihnen ein Team aus zw\\u00c3\\u00b6lf \\u00c3\\u0084rzten und 24 Pflegekr\\u00c3\\u00a4ften zur Verf\\u00c3\\u00bcgung. \\n \\n Die Patienten werden in 50 modernen Krankenhausbetten versorgt. Die intensivmedizinische Betreuung schwerstkranker Patienten erfolgt auf der an\\u00c3\\u00a4sthesiologischen Intensivstation, wo durch die gemeinsamen t\\u00c3\\u00a4glichen Visiten von Intensivmedizinern und Chirurgen die Therapiekonzepte festgelegt werden. Die Klinik ist zertifiziertes Zentrum f\\u00c3\\u00bcr die Behandlung von Lungenkrebspatienten sowie zertifiziertes Gef\\u00c3\\u00a4\\u00c3\\u009fzentrum. Diese Doppelzertifizierung ist deutschlandweit nahezu einzigartig und unterstreicht unsere hohe Kompetenz in der Behandlung unserer Patienten. Oberstes Ziel aller Mitarbeiter der Klinik f\\u00c3\\u00bcr Gef\\u00c3\\u00a4\\u00c3\\u009f- und Thoraxchirurgie ist die optimale Behandlung der Patienten auf fachlich modernstem Niveau unter Ber\\u00c3\\u00bccksichtigung der Maxime der Menschlichkeit. \\n \\n \\n \\n \\n \\n \\n \\n \\n Schwerpunkte der Klinik \\n \\n \\n \\n \\n \\n\\t\\t\\t\\t\\t\\t\\tGef\\u00c3\\u00a4\\u00c3\\u009fchirurgie\\n\\t\\t\\t\\t\\t\\t \\n \\n \\n \\n\\t\\t\\t\\t\\t\\t\\tThoraxchirurgie\\n\\t\\t\\t\\t\\t\\t \\n \\n \\n \\n \\n \\n \\n \\n \\n Sekretariat Christina Prawatschke Telefon: 0711 3103-2700, -2701 Telefax: 0711 3103-2704 E-Mail:  f.liewald @ klinikum-esslingen.de \\n \\n \\n \\n \\n \\n \\u00a9\\u00a02019\\u00a0Klinikum Esslingen Datenschutz Impressum Jobs Kontakt Veranstaltungen \\n \\n \\n \\n \\n \\n \\n \\n \\n \\n \\n \\n \\n \\n \\n \\n \\n \\n \\n \\n \\n \\n\",\n          \"\\n \\n \\n \\n \\n \\n \\n \\n \\n \\n \\n \\n \\n \\n \\n \\n \\n \\n \\n \\n \\n \\n \\n   \\n \\n \\n \\n \\n \\n \\n \\n \\n \\n \\n \\n \\n \\n \\n \\n \\n Mund-, Kiefer- und Plastische Gesichtschirurgie \\n \\n   \\n \\n \\n \\n \\n de\\n\\t\\t\\t\\t\\t\\t\\t\\t\\t \\n en \\n \\n \\n \\n \\n \\n \\n \\n \\n \\n \\n \\n Home \\n Patienten & Besucher \\n \\n Patienten & Besucher \\n Bibliothek \\n Cafeteria und K\\u00fcche \\n Downloadbereich \\n Ern\\u00e4hrungsmedizin \\n Friseur \\n G\\u00e4stehaus \\n Klinik ABC \\n Komfortstationen \\n Medizin-Tipps \\n Patientenmanagement \\n Pflege Zuhause \\n Psychoonkologie \\n Seelsorge \\n Sozialdienst \\n \\n \\n Kliniken \\n \\n An\\u00e4sthesiologie, Intensivmedizin und Schmerztherapie \\n Augenheilkunde \\n Chirurgie \\n Medizinische Klinik \\n Mund-, Kiefer- und Plastische Gesichtschirurgie \\n Neurochirurgie \\n Neurologie \\n Radiologie, Neuroradiologie und Nuklearmedizin \\n Unfallchirurgie und Orthop\\u00e4die \\n Physikalische Therapie und Physiotherapie \\n Sprachdiagnostik und Sprachtherapie \\n \\n \\n Zentren \\n \\n Darmzentrum \\n Epilepsiezentrum \\n Kopf-Hals-Tumorzentrum \\n Onkologisches Zentrum \\n Stroke Unit \\n Transplantationszentrum \\n Traumazentrum \\n \\n \\n Pflege \\n \\n Pflegedirektion \\n Hygiene \\n Intensivstationen \\n Krankenpflege \\n Operationsbereiche \\n Sozialdienst \\n Stationsleitungen \\n Zentrale Notaufnahme \\n ZSVA \\n \\n \\n Karriere \\n \\n Karriere \\n Stellenangebote \\n Kaufleute im Gesundheitswesen \\n Gesundheits- und Krankenpflegeassistenz \\n MTA-Schule \\n Gesundheits- und Krankenpflege \\n Intensivpflege und An\\u00e4sthesie \\n Notfallpflege \\n Palliative Care \\n Studium \\n \\n \\n Aktuelles  \\n \\n Aktuelles \\n Ansprechpartner \\n Presse-Archiv \\n Veranstaltungen \\n Downloadbereich \\n Bildergalerie \\n \\n \\n Unternehmen \\n \\n Unternehmen \\n Gesch\\u00e4ftsf\\u00fchrung und Gremien \\n Lob und Kritik \\n Personalvertretung \\n Qualit\\u00e4tsmanagement \\n Verwaltung \\n Leitbild \\n Daten und Fakten \\n Historie \\n Bildergalerie \\n Kooperationen \\n Das Medizinische Netz der Knappschaft \\n Compliance \\n Zentralapotheke \\n Anfahrt \\n \\n \\n Verbund \\n \\n \\n \\n \\n \\n Startseite >>  Kliniken, Zentren, Bereiche Kliniken Mund-, Kiefer- und Plastische Gesichtschirurgie \\n \\n \\n \\n Men\\u00fc \\n \\n \\n Mund-, Kiefer- und Plastische Gesichtschirurgie \\n Team \\n \\u00a0 \\n \\n \\n \\n \\n \\n \\n \\n \\n \\n \\n \\n \\n \\n \\n \\n \\n \\n \\n \\n \\n \\n \\n \\n \\n \\n \\n \\n \\n \\n \\n \\n \\n \\n \\n \\n \\n \\n \\n \\n \\n \\n \\n \\n Klinik f\\u00fcr Mund-, Kiefer- und Plastische Gesichtschirurgie \\n \\n \\n Die Klinik f\\u00fcr Mund-, Kiefer- und Plastische Gesichtschirurgie am Knappschaftskrankenhaus Bochum-Langendreer unter der Leitung von Prof. Dr. Dr. Martin Kunkel ist eine universit\\u00e4re Einrichtung der Maximalversorgung. Unsere Klinik betreut das gesamte Spektrum s\\u00e4mtlicher Erkrankungen in der Mundh\\u00f6hle sowie der Gesichts- und Kieferregion.  Ambulante und station\\u00e4re Versorgung Neben derzeit 43 Betten f\\u00fcr die station\\u00e4re operative Patientenversorgung verf\\u00fcgt die Klinik \\u00fcber einen eigenst\\u00e4ndigen Ambulanzbereich mit der M\\u00f6glichkeit, kleinere operative Eingriffe flexibel durchzuf\\u00fchren. Auch eine kurzzeitige, tagesklinische Betreuung im Rahmen des ambulanten Operierens ist auf der interdisziplin\\u00e4ren Therapiestation unseres Hauses jederzeit gew\\u00e4hrleistet. Der entscheidende Vorteil dieses verzahnten Versorgungskonzeptes liegt in der M\\u00f6glichkeit, bei Bedarf innerhalb der Klinik jederzeit von den ambulanten zur station\\u00e4re Betreuung oder umgekehrt \\u00fcberzuleiten. F\\u00fcr die ambulante Behandlung, die wir gerne auf \\u00dcberweisung sowohl von \\u00e4rztlichen als auch von zahn\\u00e4rztlichen Kollegen vornehmen, steht Ihnen eine durchgehende allgemeine Sprechstunde zur Untersuchung und Beratung offen. Daneben bieten wir f\\u00fcr einige Krankheitsbilder Spezialsprechstunden an, beispielsweise f\\u00fcr die spezielle Beratung und Behandlung bei Gesichtsfehlbildungen (Lippen-Kiefer-Gaumenspalten), bei wachstumsbedingten Fehlbissen (Dysgnathien) und bei Tumorerkrankungen, aber auch f\\u00fcr die Behandlung von Zahnverlusten und schlechtem Prothesenhalt wegen der R\\u00fcckbildung oder Erkrankung des Kieferknochens.  An dieser Stelle haben wir Ihnen\\u00a0 hier  einige Hinweise f\\u00fcr Ihren Untersuchungs- bzw. Behandlungstermin in unserer Ambulanz zusammengestellt. \\n \\n \\n Therapeutische Schwerpunkte \\n \\n \\n \\n \\n Behandlung mit Zahnimplantaten \\n \\n \\n Die Behandlung der Folgen des Zahnverlustes stellt einen weiteren Schwerpunkt unseres Leistungsspektrums dar. Gerade bei einem fortgeschrittenen Abbau des Kieferknochens ist es h\\u00e4ufig erforderlich, zahn\\u00e4rztliche Behandlungen auf der Basis von k\\u00fcnstlichen Zahnwurzeln (Implantaten) vorzunehmen. In einigen F\\u00e4llen muss zuvor noch der Kieferknochen aufgebaut oder erweitert werden. Hierzu stehen uns heute zahlreiche Behandlungsmethoden zur Verf\\u00fcgung, mit denen, h\\u00e4ufig in recht schonenden, ambulanten Eingriffen, ein gutes Fundament f\\u00fcr eine sp\\u00e4tere zahn\\u00e4rztliche Versorgung gelegt werden kann. \\n \\n \\n Behandlung von Wachstumsst\\u00f6rungen und Fehlbissen \\n \\n \\n Die operative Behandlung von Wachstumsst\\u00f6rungen und Fehlbissen (sog. Dysgnathie-Chirurgie) erfolgt in enger Zusammenarbeit mit den kieferorthop\\u00e4dischen Spezialisten der Region. Bei diesen Operationen korrigieren wir Wachstums- und Formst\\u00f6rungen der Kiefer mit langj\\u00e4hrig bew\\u00e4hrten Operationsmethoden unter Einbeziehung moderner Planungs- und Simulationstechniken, um optimale Voraussetzungen f\\u00fcr die Gesundheit des Kausystems zu schaffen. Dar\\u00fcber hinaus wird die Harmonie der Proportionen des Gesichtes verbessert oder wieder hergestellt. \\n \\n \\n Behandlung von angeborenen Gesichtsfehlbildungen \\n \\n \\n Die Behandlung der angeborenen Gesichtsfehlbildungen stellt einen besonderen Schwerpunkt der Klinik dar. In Zusammenarbeit mit den kinderheilkundlichen Zentren der Region werden die kleinen Patienten vom ersten Tag an kontinuierlich und individuell betreut. Auch \\u00fcber die operative Korrektur hinaus gew\\u00e4hrleistet unsere Klinik eine interdisziplin\\u00e4re Behandlung bis in das Erwachsenenalter, in die wir beispielsweise die Abteilung f\\u00fcr Sprachdiagnostik und Sprachtherapie unseres Hauses aber auch andere Fachdisziplinen wie die Kieferorthop\\u00e4die kontinuierlich einbeziehen. \\n \\n \\n Behandlung von Tumorerkrankungen \\n \\n \\n Unsere Klinik betreut in gro\\u00dfem Umfang Patienten mit gutartigen und b\\u00f6sartigen Tumoren in der Mundh\\u00f6hle, der Kiefer-Gesichtsregion aber auch der Hals- Gesichts- und Kopfhaut.  In diesem sensiblen und sichtbaren Bereich gilt unser Bestreben einer bestm\\u00f6glichen Wiederherstellung der Sprech-, Kau- und Schluckfunktion und vor allem auch der Erhaltung oder Wiederherstellung der Harmonie, Ausdrucksweise und \\u00c4sthetik des individuellen Gesichtes.  Hierzu ber\\u00fccksichtigen wir aktuelle Therapieleitlinien und ethische Gesichtspunkte und wenden modernste Operationsverfahren an, die, wenn erforderlich, beispielsweise auch die Transplantation k\\u00f6rpereigenen Gewebes einbeziehen. F\\u00fcr die interdisziplin\\u00e4re Abstimmung und Optimierung der Krebstherapie finden w\\u00f6chentliche Tumorkonferenzen unter Beteiligung aller Spezialdisziplinen der modernen Krebsbehandlung statt (Innere Medizin und Onkologie, Strahlentherapie, Chirurgie, diagnostische Radiologie/Nuklearmedizin). Unsere Klinik \\u00fcbernimmt, in Abstimmung mit den niedergelassenen Kollegen, auch die regelm\\u00e4\\u00dfige onkologische Nachkontrolle.  \\n \\n \\n Akutbehandlung und Sekund\\u00e4rversorgung von Verletzungen \\n \\n \\n Die Akutbehandlung von Verletzungen im Gesichts-, Hals- und Kieferbereich, insbesondere von Knochenbr\\u00fcchen aber auch von Weichgewebsverletzungen z\\u00e4hlt zu unseren sehr h\\u00e4ufigen Aufgaben. Durch den Einsatz moderner Osteosyntheseverfahren (Knochen-Stabilisierungs-Techniken) sowie mit Hilfe plastisch-rekonstruktiver Verfahren k\\u00f6nnen selbst schwerste Verletzungen oftmals ohne nennenswerte Folgeerscheinungen behandelt werden. Die bew\\u00e4hrte enge Zusammenarbeit mit den direkten Nachbardisziplinen Neurochirurgie und Augenheilkunde sowie mit der Radiologie erlaubt bei der Versorgung von Gesichtsverletzungen aber auch bei der chirurgischen Therapie von Tumorerkrankungen und Fehlbildungen f\\u00e4cher\\u00fcbergreifende Behandlungen mit hoher interdisziplin\\u00e4rer Fachkompetenz. \\n \\n \\n Wissenschaft und Forschung \\n \\n \\n Neben unserem Lehrauftrag in der Ausbildung von Studierenden der Medizin liegen die wissenschaftlichen Schwerpunkte unserer Klinik auf dem Gebiet der Grundlagen- und Prognoseforschung beim Mundh\\u00f6hlenkarzinom. Dar\\u00fcber hinaus besch\\u00e4ftigen wir uns intensiv mit Aspekten von Knochenerkrankungen und Mechanismen der Knochenheilung und Knochenregeneration.  Weitere Arbeitsgebiete in der klinischen Forschung stellen die unterschiedlichen Methoden der skelettalen Verankerung in der Kieferorthop\\u00e4die aber auch Untersuchungen zur Lebensqualit\\u00e4t nach unterschiedlichen chirurgischen Ma\\u00dfnahmen dar. Unter dem Gesichtpunkt der Qualit\\u00e4tssicherung beteiligen wir uns auf \\u00fcberregionaler Ebene aktiv an der Erstellung und Weiterentwicklung von Leitlinien auf dem Fachgebiet der Mund-, Kiefer- und Gesichtschirurgie.  \\n \\n \\n \\n \\n \\n \\n \\n \\n \\n Klinikdirektor \\n \\n Univ.-Prof. Dr. med. Dr. med. dent. Martin Kunkel \\n \\n \\n \\n \\n \\n \\n \\n \\n Sekretariat \\n Melanie Winderlich Tel.:  0234 / 299-3501 Fax: 0234 / 299-3509 \\n \\n \\n \\n \\n \\n \\n \\n \\n \\n Sprechstunden \\n \\n \\n \\n \\n \\n \\n \\n \\n \\n \\n Weitere Info \\n externe Klinikhomepage \\n \\n \\n \\n \\n \\n \\n \\n Flyer \\n MKG-Chirurgie \\n \\n \\n \\n \\n \\n \\n \\n Focus \\u201e\\u00c4rzteliste 2019\\u201c  \\n \\n \\n \\n \\n \\n \\n \\n \\n Direktlink zum Arztprofil \\n \\n \\n \\n \\n \\n \\n \\n \\n \\n \\n \\n \\n \\n \\n \\n \\n Datenschutz \\n Impressum \\n Kontakt \\n Drucken \\n \\n \\n \\n \\n \\n \\n \\n \\n \\n \\n \\n \\n \\n Kliniken \\n \\n An\\u00e4sthesiologie, Intensivmedizin und Schmerztherapie \\n Augenheilkunde \\n Chirurgie \\n Medizinische Klinik \\n Mund-, Kiefer- und Plastische Gesichtschirurgie \\n Neurochirurgie \\n Neurologie \\n Radiologie, Neuroradiologie und Nuklearmedizin \\n Unfallchirurgie und Orthop\\u00e4die \\n Physikalische Therapie und Physiotherapie \\n Sprachdiagnostik und Sprachtherapie \\n \\n Zentren \\n \\n Darmzentrum \\n Epilepsiezentrum \\n Kopf-Hals-Tumorzentrum \\n Onkologisches Zentrum \\n Stroke Unit \\n Transplantationszentrum \\n Traumazentrum \\n \\n \\n \\n \\n \\n \\n   \\n   Top \\n   \\n \\n\"\n        ],\n        \"semantic_type\": \"\",\n        \"description\": \"\"\n      }\n    }\n  ]\n}"
            }
          },
          "metadata": {},
          "execution_count": 35
        }
      ]
    },
    {
      "cell_type": "markdown",
      "source": [
        "**Exploratory Data Analysis**"
      ],
      "metadata": {
        "id": "1kZ-PVYll-Z4"
      }
    },
    {
      "cell_type": "code",
      "source": [
        "import plotly.express as px\n",
        "import plotly.offline as pyo\n",
        "\n",
        "# set notebook mode to work in offline\n",
        "pyo.init_notebook_mode(connected=True)"
      ],
      "metadata": {
        "colab": {
          "base_uri": "https://localhost:8080/",
          "height": 17
        },
        "id": "mE7jLG4ilm7y",
        "outputId": "d583174b-337b-468b-ff3f-627947974802"
      },
      "execution_count": 36,
      "outputs": [
        {
          "output_type": "display_data",
          "data": {
            "text/html": [
              "        <script type=\"text/javascript\">\n",
              "        window.PlotlyConfig = {MathJaxConfig: 'local'};\n",
              "        if (window.MathJax && window.MathJax.Hub && window.MathJax.Hub.Config) {window.MathJax.Hub.Config({SVG: {font: \"STIX-Web\"}});}\n",
              "        if (typeof require !== 'undefined') {\n",
              "        require.undef(\"plotly\");\n",
              "        requirejs.config({\n",
              "            paths: {\n",
              "                'plotly': ['https://cdn.plot.ly/plotly-2.35.2.min']\n",
              "            }\n",
              "        });\n",
              "        require(['plotly'], function(Plotly) {\n",
              "            window._Plotly = Plotly;\n",
              "        });\n",
              "        }\n",
              "        </script>\n",
              "        "
            ]
          },
          "metadata": {}
        }
      ]
    },
    {
      "cell_type": "code",
      "source": [
        "import re\n",
        "from bs4 import BeautifulSoup\n",
        "\n",
        "def preprocessed_html_text(html_text: str) -> str:\n",
        "    # Check if html_text is a string before processing\n",
        "    if not isinstance(html_text, str):\n",
        "        return \"\" # Return an empty string or handle appropriately\n",
        "\n",
        "    # Use html.parser for the first step to potentially handle malformed HTML more gracefully\n",
        "    # Note: The previous step used lxml for extraction, so we should be consistent or\n",
        "    # carefully handle potential differences. For this specific issue, sticking to\n",
        "    # the original logic of using BeautifulSoup for the text cleaning step after\n",
        "    # initial extraction seems intended.\n",
        "    try:\n",
        "        text = BeautifulSoup(html_text, \"html.parser\").get_text()\n",
        "    except Exception as e:\n",
        "        print(f\"Warning: Error parsing HTML text: {e}\")\n",
        "        text = html_text # Fallback to original text if parsing fails\n",
        "\n",
        "    text = re.sub(r'[^A-Za-z0-9\\s]', '', text)  # Remove non-alphanumeric\n",
        "    text = re.sub(r'\\s+', ' ', text)  # Remove multiple whitespaces\n",
        "    text = text.strip().lower()\n",
        "    return text\n",
        "\n",
        "# Apply the preprocessed_html_text function to the 'html_text' column\n",
        "train_csv[\"preprocessed_html_text\"] = train_csv[\"html_text\"].apply(preprocessed_html_text)\n",
        ")\n",
        "\n",
        "# Now the 'preprocessed_html_text' column exists and can be used for plotting\n",
        "px.histogram(x=train_csv[\"preprocessed_html_text\"].apply(len), title=\"Distribution of Text Length (Character Count)\")"
      ],
      "metadata": {
        "colab": {
          "base_uri": "https://localhost:8080/",
          "height": 1000
        },
        "id": "EzJvVMlcmFxs",
        "outputId": "184e8864-151a-4a13-f390-0abc9b652979"
      },
      "execution_count": 45,
      "outputs": [
        {
          "output_type": "display_data",
          "data": {
            "application/vnd.plotly.v1+json": {
              "data": [
                {
                  "alignmentgroup": "True",
                  "bingroup": "x",
                  "hovertemplate": "x=%{x}<br>count=%{y}<extra></extra>",
                  "legendgroup": "",
                  "marker": {
                    "color": "#636efa",
                    "pattern": {
                      "shape": ""
                    }
                  },
                  "name": "",
                  "offsetgroup": "",
                  "orientation": "v",
                  "showlegend": false,
                  "x": [
                    8648,
                    24888,
                    9396,
                    4353,
                    4898,
                    2736,
                    2846,
                    1760,
                    2293,
                    2759,
                    2968,
                    10055,
                    8123,
                    8123,
                    5990,
                    5990,
                    9764,
                    10286,
                    8381,
                    4021,
                    26864,
                    37679,
                    6806,
                    7947,
                    7552,
                    19611,
                    17359,
                    33124,
                    36740,
                    10191,
                    10893,
                    33285,
                    12941,
                    16997,
                    44175,
                    3756,
                    7303,
                    4488,
                    28653,
                    5367,
                    12228,
                    6787,
                    3957,
                    4781,
                    8545,
                    5121,
                    31861,
                    43918,
                    8939,
                    2574,
                    4094,
                    3565,
                    6208,
                    6208,
                    3581,
                    3657,
                    16634,
                    15110,
                    7541,
                    35427,
                    7753,
                    13781,
                    14599,
                    16458,
                    8247,
                    3288,
                    8905,
                    6565,
                    17270,
                    16698,
                    19080,
                    16257,
                    9744,
                    3730,
                    14783,
                    7300,
                    16125,
                    11273,
                    22854,
                    12521,
                    7017,
                    6946,
                    4777,
                    13234,
                    6667,
                    4421,
                    6113,
                    6113,
                    4645,
                    4645,
                    19591,
                    5998,
                    7404,
                    20325,
                    21540,
                    187248,
                    7213,
                    13903,
                    15975,
                    9136
                  ],
                  "xaxis": "x",
                  "yaxis": "y",
                  "type": "histogram"
                }
              ],
              "layout": {
                "template": {
                  "data": {
                    "histogram2dcontour": [
                      {
                        "type": "histogram2dcontour",
                        "colorbar": {
                          "outlinewidth": 0,
                          "ticks": ""
                        },
                        "colorscale": [
                          [
                            0,
                            "#0d0887"
                          ],
                          [
                            0.1111111111111111,
                            "#46039f"
                          ],
                          [
                            0.2222222222222222,
                            "#7201a8"
                          ],
                          [
                            0.3333333333333333,
                            "#9c179e"
                          ],
                          [
                            0.4444444444444444,
                            "#bd3786"
                          ],
                          [
                            0.5555555555555556,
                            "#d8576b"
                          ],
                          [
                            0.6666666666666666,
                            "#ed7953"
                          ],
                          [
                            0.7777777777777778,
                            "#fb9f3a"
                          ],
                          [
                            0.8888888888888888,
                            "#fdca26"
                          ],
                          [
                            1,
                            "#f0f921"
                          ]
                        ]
                      }
                    ],
                    "choropleth": [
                      {
                        "type": "choropleth",
                        "colorbar": {
                          "outlinewidth": 0,
                          "ticks": ""
                        }
                      }
                    ],
                    "histogram2d": [
                      {
                        "type": "histogram2d",
                        "colorbar": {
                          "outlinewidth": 0,
                          "ticks": ""
                        },
                        "colorscale": [
                          [
                            0,
                            "#0d0887"
                          ],
                          [
                            0.1111111111111111,
                            "#46039f"
                          ],
                          [
                            0.2222222222222222,
                            "#7201a8"
                          ],
                          [
                            0.3333333333333333,
                            "#9c179e"
                          ],
                          [
                            0.4444444444444444,
                            "#bd3786"
                          ],
                          [
                            0.5555555555555556,
                            "#d8576b"
                          ],
                          [
                            0.6666666666666666,
                            "#ed7953"
                          ],
                          [
                            0.7777777777777778,
                            "#fb9f3a"
                          ],
                          [
                            0.8888888888888888,
                            "#fdca26"
                          ],
                          [
                            1,
                            "#f0f921"
                          ]
                        ]
                      }
                    ],
                    "heatmap": [
                      {
                        "type": "heatmap",
                        "colorbar": {
                          "outlinewidth": 0,
                          "ticks": ""
                        },
                        "colorscale": [
                          [
                            0,
                            "#0d0887"
                          ],
                          [
                            0.1111111111111111,
                            "#46039f"
                          ],
                          [
                            0.2222222222222222,
                            "#7201a8"
                          ],
                          [
                            0.3333333333333333,
                            "#9c179e"
                          ],
                          [
                            0.4444444444444444,
                            "#bd3786"
                          ],
                          [
                            0.5555555555555556,
                            "#d8576b"
                          ],
                          [
                            0.6666666666666666,
                            "#ed7953"
                          ],
                          [
                            0.7777777777777778,
                            "#fb9f3a"
                          ],
                          [
                            0.8888888888888888,
                            "#fdca26"
                          ],
                          [
                            1,
                            "#f0f921"
                          ]
                        ]
                      }
                    ],
                    "heatmapgl": [
                      {
                        "type": "heatmapgl",
                        "colorbar": {
                          "outlinewidth": 0,
                          "ticks": ""
                        },
                        "colorscale": [
                          [
                            0,
                            "#0d0887"
                          ],
                          [
                            0.1111111111111111,
                            "#46039f"
                          ],
                          [
                            0.2222222222222222,
                            "#7201a8"
                          ],
                          [
                            0.3333333333333333,
                            "#9c179e"
                          ],
                          [
                            0.4444444444444444,
                            "#bd3786"
                          ],
                          [
                            0.5555555555555556,
                            "#d8576b"
                          ],
                          [
                            0.6666666666666666,
                            "#ed7953"
                          ],
                          [
                            0.7777777777777778,
                            "#fb9f3a"
                          ],
                          [
                            0.8888888888888888,
                            "#fdca26"
                          ],
                          [
                            1,
                            "#f0f921"
                          ]
                        ]
                      }
                    ],
                    "contourcarpet": [
                      {
                        "type": "contourcarpet",
                        "colorbar": {
                          "outlinewidth": 0,
                          "ticks": ""
                        }
                      }
                    ],
                    "contour": [
                      {
                        "type": "contour",
                        "colorbar": {
                          "outlinewidth": 0,
                          "ticks": ""
                        },
                        "colorscale": [
                          [
                            0,
                            "#0d0887"
                          ],
                          [
                            0.1111111111111111,
                            "#46039f"
                          ],
                          [
                            0.2222222222222222,
                            "#7201a8"
                          ],
                          [
                            0.3333333333333333,
                            "#9c179e"
                          ],
                          [
                            0.4444444444444444,
                            "#bd3786"
                          ],
                          [
                            0.5555555555555556,
                            "#d8576b"
                          ],
                          [
                            0.6666666666666666,
                            "#ed7953"
                          ],
                          [
                            0.7777777777777778,
                            "#fb9f3a"
                          ],
                          [
                            0.8888888888888888,
                            "#fdca26"
                          ],
                          [
                            1,
                            "#f0f921"
                          ]
                        ]
                      }
                    ],
                    "surface": [
                      {
                        "type": "surface",
                        "colorbar": {
                          "outlinewidth": 0,
                          "ticks": ""
                        },
                        "colorscale": [
                          [
                            0,
                            "#0d0887"
                          ],
                          [
                            0.1111111111111111,
                            "#46039f"
                          ],
                          [
                            0.2222222222222222,
                            "#7201a8"
                          ],
                          [
                            0.3333333333333333,
                            "#9c179e"
                          ],
                          [
                            0.4444444444444444,
                            "#bd3786"
                          ],
                          [
                            0.5555555555555556,
                            "#d8576b"
                          ],
                          [
                            0.6666666666666666,
                            "#ed7953"
                          ],
                          [
                            0.7777777777777778,
                            "#fb9f3a"
                          ],
                          [
                            0.8888888888888888,
                            "#fdca26"
                          ],
                          [
                            1,
                            "#f0f921"
                          ]
                        ]
                      }
                    ],
                    "mesh3d": [
                      {
                        "type": "mesh3d",
                        "colorbar": {
                          "outlinewidth": 0,
                          "ticks": ""
                        }
                      }
                    ],
                    "scatter": [
                      {
                        "fillpattern": {
                          "fillmode": "overlay",
                          "size": 10,
                          "solidity": 0.2
                        },
                        "type": "scatter"
                      }
                    ],
                    "parcoords": [
                      {
                        "type": "parcoords",
                        "line": {
                          "colorbar": {
                            "outlinewidth": 0,
                            "ticks": ""
                          }
                        }
                      }
                    ],
                    "scatterpolargl": [
                      {
                        "type": "scatterpolargl",
                        "marker": {
                          "colorbar": {
                            "outlinewidth": 0,
                            "ticks": ""
                          }
                        }
                      }
                    ],
                    "bar": [
                      {
                        "error_x": {
                          "color": "#2a3f5f"
                        },
                        "error_y": {
                          "color": "#2a3f5f"
                        },
                        "marker": {
                          "line": {
                            "color": "#E5ECF6",
                            "width": 0.5
                          },
                          "pattern": {
                            "fillmode": "overlay",
                            "size": 10,
                            "solidity": 0.2
                          }
                        },
                        "type": "bar"
                      }
                    ],
                    "scattergeo": [
                      {
                        "type": "scattergeo",
                        "marker": {
                          "colorbar": {
                            "outlinewidth": 0,
                            "ticks": ""
                          }
                        }
                      }
                    ],
                    "scatterpolar": [
                      {
                        "type": "scatterpolar",
                        "marker": {
                          "colorbar": {
                            "outlinewidth": 0,
                            "ticks": ""
                          }
                        }
                      }
                    ],
                    "histogram": [
                      {
                        "marker": {
                          "pattern": {
                            "fillmode": "overlay",
                            "size": 10,
                            "solidity": 0.2
                          }
                        },
                        "type": "histogram"
                      }
                    ],
                    "scattergl": [
                      {
                        "type": "scattergl",
                        "marker": {
                          "colorbar": {
                            "outlinewidth": 0,
                            "ticks": ""
                          }
                        }
                      }
                    ],
                    "scatter3d": [
                      {
                        "type": "scatter3d",
                        "line": {
                          "colorbar": {
                            "outlinewidth": 0,
                            "ticks": ""
                          }
                        },
                        "marker": {
                          "colorbar": {
                            "outlinewidth": 0,
                            "ticks": ""
                          }
                        }
                      }
                    ],
                    "scattermapbox": [
                      {
                        "type": "scattermapbox",
                        "marker": {
                          "colorbar": {
                            "outlinewidth": 0,
                            "ticks": ""
                          }
                        }
                      }
                    ],
                    "scatterternary": [
                      {
                        "type": "scatterternary",
                        "marker": {
                          "colorbar": {
                            "outlinewidth": 0,
                            "ticks": ""
                          }
                        }
                      }
                    ],
                    "scattercarpet": [
                      {
                        "type": "scattercarpet",
                        "marker": {
                          "colorbar": {
                            "outlinewidth": 0,
                            "ticks": ""
                          }
                        }
                      }
                    ],
                    "carpet": [
                      {
                        "aaxis": {
                          "endlinecolor": "#2a3f5f",
                          "gridcolor": "white",
                          "linecolor": "white",
                          "minorgridcolor": "white",
                          "startlinecolor": "#2a3f5f"
                        },
                        "baxis": {
                          "endlinecolor": "#2a3f5f",
                          "gridcolor": "white",
                          "linecolor": "white",
                          "minorgridcolor": "white",
                          "startlinecolor": "#2a3f5f"
                        },
                        "type": "carpet"
                      }
                    ],
                    "table": [
                      {
                        "cells": {
                          "fill": {
                            "color": "#EBF0F8"
                          },
                          "line": {
                            "color": "white"
                          }
                        },
                        "header": {
                          "fill": {
                            "color": "#C8D4E3"
                          },
                          "line": {
                            "color": "white"
                          }
                        },
                        "type": "table"
                      }
                    ],
                    "barpolar": [
                      {
                        "marker": {
                          "line": {
                            "color": "#E5ECF6",
                            "width": 0.5
                          },
                          "pattern": {
                            "fillmode": "overlay",
                            "size": 10,
                            "solidity": 0.2
                          }
                        },
                        "type": "barpolar"
                      }
                    ],
                    "pie": [
                      {
                        "automargin": true,
                        "type": "pie"
                      }
                    ]
                  },
                  "layout": {
                    "autotypenumbers": "strict",
                    "colorway": [
                      "#636efa",
                      "#EF553B",
                      "#00cc96",
                      "#ab63fa",
                      "#FFA15A",
                      "#19d3f3",
                      "#FF6692",
                      "#B6E880",
                      "#FF97FF",
                      "#FECB52"
                    ],
                    "font": {
                      "color": "#2a3f5f"
                    },
                    "hovermode": "closest",
                    "hoverlabel": {
                      "align": "left"
                    },
                    "paper_bgcolor": "white",
                    "plot_bgcolor": "#E5ECF6",
                    "polar": {
                      "bgcolor": "#E5ECF6",
                      "angularaxis": {
                        "gridcolor": "white",
                        "linecolor": "white",
                        "ticks": ""
                      },
                      "radialaxis": {
                        "gridcolor": "white",
                        "linecolor": "white",
                        "ticks": ""
                      }
                    },
                    "ternary": {
                      "bgcolor": "#E5ECF6",
                      "aaxis": {
                        "gridcolor": "white",
                        "linecolor": "white",
                        "ticks": ""
                      },
                      "baxis": {
                        "gridcolor": "white",
                        "linecolor": "white",
                        "ticks": ""
                      },
                      "caxis": {
                        "gridcolor": "white",
                        "linecolor": "white",
                        "ticks": ""
                      }
                    },
                    "coloraxis": {
                      "colorbar": {
                        "outlinewidth": 0,
                        "ticks": ""
                      }
                    },
                    "colorscale": {
                      "sequential": [
                        [
                          0,
                          "#0d0887"
                        ],
                        [
                          0.1111111111111111,
                          "#46039f"
                        ],
                        [
                          0.2222222222222222,
                          "#7201a8"
                        ],
                        [
                          0.3333333333333333,
                          "#9c179e"
                        ],
                        [
                          0.4444444444444444,
                          "#bd3786"
                        ],
                        [
                          0.5555555555555556,
                          "#d8576b"
                        ],
                        [
                          0.6666666666666666,
                          "#ed7953"
                        ],
                        [
                          0.7777777777777778,
                          "#fb9f3a"
                        ],
                        [
                          0.8888888888888888,
                          "#fdca26"
                        ],
                        [
                          1,
                          "#f0f921"
                        ]
                      ],
                      "sequentialminus": [
                        [
                          0,
                          "#0d0887"
                        ],
                        [
                          0.1111111111111111,
                          "#46039f"
                        ],
                        [
                          0.2222222222222222,
                          "#7201a8"
                        ],
                        [
                          0.3333333333333333,
                          "#9c179e"
                        ],
                        [
                          0.4444444444444444,
                          "#bd3786"
                        ],
                        [
                          0.5555555555555556,
                          "#d8576b"
                        ],
                        [
                          0.6666666666666666,
                          "#ed7953"
                        ],
                        [
                          0.7777777777777778,
                          "#fb9f3a"
                        ],
                        [
                          0.8888888888888888,
                          "#fdca26"
                        ],
                        [
                          1,
                          "#f0f921"
                        ]
                      ],
                      "diverging": [
                        [
                          0,
                          "#8e0152"
                        ],
                        [
                          0.1,
                          "#c51b7d"
                        ],
                        [
                          0.2,
                          "#de77ae"
                        ],
                        [
                          0.3,
                          "#f1b6da"
                        ],
                        [
                          0.4,
                          "#fde0ef"
                        ],
                        [
                          0.5,
                          "#f7f7f7"
                        ],
                        [
                          0.6,
                          "#e6f5d0"
                        ],
                        [
                          0.7,
                          "#b8e186"
                        ],
                        [
                          0.8,
                          "#7fbc41"
                        ],
                        [
                          0.9,
                          "#4d9221"
                        ],
                        [
                          1,
                          "#276419"
                        ]
                      ]
                    },
                    "xaxis": {
                      "gridcolor": "white",
                      "linecolor": "white",
                      "ticks": "",
                      "title": {
                        "standoff": 15
                      },
                      "zerolinecolor": "white",
                      "automargin": true,
                      "zerolinewidth": 2
                    },
                    "yaxis": {
                      "gridcolor": "white",
                      "linecolor": "white",
                      "ticks": "",
                      "title": {
                        "standoff": 15
                      },
                      "zerolinecolor": "white",
                      "automargin": true,
                      "zerolinewidth": 2
                    },
                    "scene": {
                      "xaxis": {
                        "backgroundcolor": "#E5ECF6",
                        "gridcolor": "white",
                        "linecolor": "white",
                        "showbackground": true,
                        "ticks": "",
                        "zerolinecolor": "white",
                        "gridwidth": 2
                      },
                      "yaxis": {
                        "backgroundcolor": "#E5ECF6",
                        "gridcolor": "white",
                        "linecolor": "white",
                        "showbackground": true,
                        "ticks": "",
                        "zerolinecolor": "white",
                        "gridwidth": 2
                      },
                      "zaxis": {
                        "backgroundcolor": "#E5ECF6",
                        "gridcolor": "white",
                        "linecolor": "white",
                        "showbackground": true,
                        "ticks": "",
                        "zerolinecolor": "white",
                        "gridwidth": 2
                      }
                    },
                    "shapedefaults": {
                      "line": {
                        "color": "#2a3f5f"
                      }
                    },
                    "annotationdefaults": {
                      "arrowcolor": "#2a3f5f",
                      "arrowhead": 0,
                      "arrowwidth": 1
                    },
                    "geo": {
                      "bgcolor": "white",
                      "landcolor": "#E5ECF6",
                      "subunitcolor": "white",
                      "showland": true,
                      "showlakes": true,
                      "lakecolor": "white"
                    },
                    "title": {
                      "x": 0.05
                    },
                    "mapbox": {
                      "style": "light"
                    }
                  }
                },
                "xaxis": {
                  "anchor": "y",
                  "domain": [
                    0,
                    1
                  ],
                  "title": {
                    "text": "x"
                  }
                },
                "yaxis": {
                  "anchor": "x",
                  "domain": [
                    0,
                    1
                  ],
                  "title": {
                    "text": "count"
                  }
                },
                "legend": {
                  "tracegroupgap": 0
                },
                "title": {
                  "text": "Distribution of Text Length (Character Count)"
                },
                "barmode": "relative"
              },
              "config": {
                "plotlyServerURL": "https://plot.ly"
              }
            },
            "text/html": [
              "<div>                            <div id=\"b433b1de-6b89-4f4b-882b-3d776bbfb2d2\" class=\"plotly-graph-div\" style=\"height:525px; width:100%;\"></div>            <script type=\"text/javascript\">                require([\"plotly\"], function(Plotly) {                    window.PLOTLYENV=window.PLOTLYENV || {};                                    if (document.getElementById(\"b433b1de-6b89-4f4b-882b-3d776bbfb2d2\")) {                    Plotly.newPlot(                        \"b433b1de-6b89-4f4b-882b-3d776bbfb2d2\",                        [{\"alignmentgroup\":\"True\",\"bingroup\":\"x\",\"hovertemplate\":\"x=%{x}\\u003cbr\\u003ecount=%{y}\\u003cextra\\u003e\\u003c\\u002fextra\\u003e\",\"legendgroup\":\"\",\"marker\":{\"color\":\"#636efa\",\"pattern\":{\"shape\":\"\"}},\"name\":\"\",\"offsetgroup\":\"\",\"orientation\":\"v\",\"showlegend\":false,\"x\":[8648,24888,9396,4353,4898,2736,2846,1760,2293,2759,2968,10055,8123,8123,5990,5990,9764,10286,8381,4021,26864,37679,6806,7947,7552,19611,17359,33124,36740,10191,10893,33285,12941,16997,44175,3756,7303,4488,28653,5367,12228,6787,3957,4781,8545,5121,31861,43918,8939,2574,4094,3565,6208,6208,3581,3657,16634,15110,7541,35427,7753,13781,14599,16458,8247,3288,8905,6565,17270,16698,19080,16257,9744,3730,14783,7300,16125,11273,22854,12521,7017,6946,4777,13234,6667,4421,6113,6113,4645,4645,19591,5998,7404,20325,21540,187248,7213,13903,15975,9136],\"xaxis\":\"x\",\"yaxis\":\"y\",\"type\":\"histogram\"}],                        {\"template\":{\"data\":{\"histogram2dcontour\":[{\"type\":\"histogram2dcontour\",\"colorbar\":{\"outlinewidth\":0,\"ticks\":\"\"},\"colorscale\":[[0.0,\"#0d0887\"],[0.1111111111111111,\"#46039f\"],[0.2222222222222222,\"#7201a8\"],[0.3333333333333333,\"#9c179e\"],[0.4444444444444444,\"#bd3786\"],[0.5555555555555556,\"#d8576b\"],[0.6666666666666666,\"#ed7953\"],[0.7777777777777778,\"#fb9f3a\"],[0.8888888888888888,\"#fdca26\"],[1.0,\"#f0f921\"]]}],\"choropleth\":[{\"type\":\"choropleth\",\"colorbar\":{\"outlinewidth\":0,\"ticks\":\"\"}}],\"histogram2d\":[{\"type\":\"histogram2d\",\"colorbar\":{\"outlinewidth\":0,\"ticks\":\"\"},\"colorscale\":[[0.0,\"#0d0887\"],[0.1111111111111111,\"#46039f\"],[0.2222222222222222,\"#7201a8\"],[0.3333333333333333,\"#9c179e\"],[0.4444444444444444,\"#bd3786\"],[0.5555555555555556,\"#d8576b\"],[0.6666666666666666,\"#ed7953\"],[0.7777777777777778,\"#fb9f3a\"],[0.8888888888888888,\"#fdca26\"],[1.0,\"#f0f921\"]]}],\"heatmap\":[{\"type\":\"heatmap\",\"colorbar\":{\"outlinewidth\":0,\"ticks\":\"\"},\"colorscale\":[[0.0,\"#0d0887\"],[0.1111111111111111,\"#46039f\"],[0.2222222222222222,\"#7201a8\"],[0.3333333333333333,\"#9c179e\"],[0.4444444444444444,\"#bd3786\"],[0.5555555555555556,\"#d8576b\"],[0.6666666666666666,\"#ed7953\"],[0.7777777777777778,\"#fb9f3a\"],[0.8888888888888888,\"#fdca26\"],[1.0,\"#f0f921\"]]}],\"heatmapgl\":[{\"type\":\"heatmapgl\",\"colorbar\":{\"outlinewidth\":0,\"ticks\":\"\"},\"colorscale\":[[0.0,\"#0d0887\"],[0.1111111111111111,\"#46039f\"],[0.2222222222222222,\"#7201a8\"],[0.3333333333333333,\"#9c179e\"],[0.4444444444444444,\"#bd3786\"],[0.5555555555555556,\"#d8576b\"],[0.6666666666666666,\"#ed7953\"],[0.7777777777777778,\"#fb9f3a\"],[0.8888888888888888,\"#fdca26\"],[1.0,\"#f0f921\"]]}],\"contourcarpet\":[{\"type\":\"contourcarpet\",\"colorbar\":{\"outlinewidth\":0,\"ticks\":\"\"}}],\"contour\":[{\"type\":\"contour\",\"colorbar\":{\"outlinewidth\":0,\"ticks\":\"\"},\"colorscale\":[[0.0,\"#0d0887\"],[0.1111111111111111,\"#46039f\"],[0.2222222222222222,\"#7201a8\"],[0.3333333333333333,\"#9c179e\"],[0.4444444444444444,\"#bd3786\"],[0.5555555555555556,\"#d8576b\"],[0.6666666666666666,\"#ed7953\"],[0.7777777777777778,\"#fb9f3a\"],[0.8888888888888888,\"#fdca26\"],[1.0,\"#f0f921\"]]}],\"surface\":[{\"type\":\"surface\",\"colorbar\":{\"outlinewidth\":0,\"ticks\":\"\"},\"colorscale\":[[0.0,\"#0d0887\"],[0.1111111111111111,\"#46039f\"],[0.2222222222222222,\"#7201a8\"],[0.3333333333333333,\"#9c179e\"],[0.4444444444444444,\"#bd3786\"],[0.5555555555555556,\"#d8576b\"],[0.6666666666666666,\"#ed7953\"],[0.7777777777777778,\"#fb9f3a\"],[0.8888888888888888,\"#fdca26\"],[1.0,\"#f0f921\"]]}],\"mesh3d\":[{\"type\":\"mesh3d\",\"colorbar\":{\"outlinewidth\":0,\"ticks\":\"\"}}],\"scatter\":[{\"fillpattern\":{\"fillmode\":\"overlay\",\"size\":10,\"solidity\":0.2},\"type\":\"scatter\"}],\"parcoords\":[{\"type\":\"parcoords\",\"line\":{\"colorbar\":{\"outlinewidth\":0,\"ticks\":\"\"}}}],\"scatterpolargl\":[{\"type\":\"scatterpolargl\",\"marker\":{\"colorbar\":{\"outlinewidth\":0,\"ticks\":\"\"}}}],\"bar\":[{\"error_x\":{\"color\":\"#2a3f5f\"},\"error_y\":{\"color\":\"#2a3f5f\"},\"marker\":{\"line\":{\"color\":\"#E5ECF6\",\"width\":0.5},\"pattern\":{\"fillmode\":\"overlay\",\"size\":10,\"solidity\":0.2}},\"type\":\"bar\"}],\"scattergeo\":[{\"type\":\"scattergeo\",\"marker\":{\"colorbar\":{\"outlinewidth\":0,\"ticks\":\"\"}}}],\"scatterpolar\":[{\"type\":\"scatterpolar\",\"marker\":{\"colorbar\":{\"outlinewidth\":0,\"ticks\":\"\"}}}],\"histogram\":[{\"marker\":{\"pattern\":{\"fillmode\":\"overlay\",\"size\":10,\"solidity\":0.2}},\"type\":\"histogram\"}],\"scattergl\":[{\"type\":\"scattergl\",\"marker\":{\"colorbar\":{\"outlinewidth\":0,\"ticks\":\"\"}}}],\"scatter3d\":[{\"type\":\"scatter3d\",\"line\":{\"colorbar\":{\"outlinewidth\":0,\"ticks\":\"\"}},\"marker\":{\"colorbar\":{\"outlinewidth\":0,\"ticks\":\"\"}}}],\"scattermapbox\":[{\"type\":\"scattermapbox\",\"marker\":{\"colorbar\":{\"outlinewidth\":0,\"ticks\":\"\"}}}],\"scatterternary\":[{\"type\":\"scatterternary\",\"marker\":{\"colorbar\":{\"outlinewidth\":0,\"ticks\":\"\"}}}],\"scattercarpet\":[{\"type\":\"scattercarpet\",\"marker\":{\"colorbar\":{\"outlinewidth\":0,\"ticks\":\"\"}}}],\"carpet\":[{\"aaxis\":{\"endlinecolor\":\"#2a3f5f\",\"gridcolor\":\"white\",\"linecolor\":\"white\",\"minorgridcolor\":\"white\",\"startlinecolor\":\"#2a3f5f\"},\"baxis\":{\"endlinecolor\":\"#2a3f5f\",\"gridcolor\":\"white\",\"linecolor\":\"white\",\"minorgridcolor\":\"white\",\"startlinecolor\":\"#2a3f5f\"},\"type\":\"carpet\"}],\"table\":[{\"cells\":{\"fill\":{\"color\":\"#EBF0F8\"},\"line\":{\"color\":\"white\"}},\"header\":{\"fill\":{\"color\":\"#C8D4E3\"},\"line\":{\"color\":\"white\"}},\"type\":\"table\"}],\"barpolar\":[{\"marker\":{\"line\":{\"color\":\"#E5ECF6\",\"width\":0.5},\"pattern\":{\"fillmode\":\"overlay\",\"size\":10,\"solidity\":0.2}},\"type\":\"barpolar\"}],\"pie\":[{\"automargin\":true,\"type\":\"pie\"}]},\"layout\":{\"autotypenumbers\":\"strict\",\"colorway\":[\"#636efa\",\"#EF553B\",\"#00cc96\",\"#ab63fa\",\"#FFA15A\",\"#19d3f3\",\"#FF6692\",\"#B6E880\",\"#FF97FF\",\"#FECB52\"],\"font\":{\"color\":\"#2a3f5f\"},\"hovermode\":\"closest\",\"hoverlabel\":{\"align\":\"left\"},\"paper_bgcolor\":\"white\",\"plot_bgcolor\":\"#E5ECF6\",\"polar\":{\"bgcolor\":\"#E5ECF6\",\"angularaxis\":{\"gridcolor\":\"white\",\"linecolor\":\"white\",\"ticks\":\"\"},\"radialaxis\":{\"gridcolor\":\"white\",\"linecolor\":\"white\",\"ticks\":\"\"}},\"ternary\":{\"bgcolor\":\"#E5ECF6\",\"aaxis\":{\"gridcolor\":\"white\",\"linecolor\":\"white\",\"ticks\":\"\"},\"baxis\":{\"gridcolor\":\"white\",\"linecolor\":\"white\",\"ticks\":\"\"},\"caxis\":{\"gridcolor\":\"white\",\"linecolor\":\"white\",\"ticks\":\"\"}},\"coloraxis\":{\"colorbar\":{\"outlinewidth\":0,\"ticks\":\"\"}},\"colorscale\":{\"sequential\":[[0.0,\"#0d0887\"],[0.1111111111111111,\"#46039f\"],[0.2222222222222222,\"#7201a8\"],[0.3333333333333333,\"#9c179e\"],[0.4444444444444444,\"#bd3786\"],[0.5555555555555556,\"#d8576b\"],[0.6666666666666666,\"#ed7953\"],[0.7777777777777778,\"#fb9f3a\"],[0.8888888888888888,\"#fdca26\"],[1.0,\"#f0f921\"]],\"sequentialminus\":[[0.0,\"#0d0887\"],[0.1111111111111111,\"#46039f\"],[0.2222222222222222,\"#7201a8\"],[0.3333333333333333,\"#9c179e\"],[0.4444444444444444,\"#bd3786\"],[0.5555555555555556,\"#d8576b\"],[0.6666666666666666,\"#ed7953\"],[0.7777777777777778,\"#fb9f3a\"],[0.8888888888888888,\"#fdca26\"],[1.0,\"#f0f921\"]],\"diverging\":[[0,\"#8e0152\"],[0.1,\"#c51b7d\"],[0.2,\"#de77ae\"],[0.3,\"#f1b6da\"],[0.4,\"#fde0ef\"],[0.5,\"#f7f7f7\"],[0.6,\"#e6f5d0\"],[0.7,\"#b8e186\"],[0.8,\"#7fbc41\"],[0.9,\"#4d9221\"],[1,\"#276419\"]]},\"xaxis\":{\"gridcolor\":\"white\",\"linecolor\":\"white\",\"ticks\":\"\",\"title\":{\"standoff\":15},\"zerolinecolor\":\"white\",\"automargin\":true,\"zerolinewidth\":2},\"yaxis\":{\"gridcolor\":\"white\",\"linecolor\":\"white\",\"ticks\":\"\",\"title\":{\"standoff\":15},\"zerolinecolor\":\"white\",\"automargin\":true,\"zerolinewidth\":2},\"scene\":{\"xaxis\":{\"backgroundcolor\":\"#E5ECF6\",\"gridcolor\":\"white\",\"linecolor\":\"white\",\"showbackground\":true,\"ticks\":\"\",\"zerolinecolor\":\"white\",\"gridwidth\":2},\"yaxis\":{\"backgroundcolor\":\"#E5ECF6\",\"gridcolor\":\"white\",\"linecolor\":\"white\",\"showbackground\":true,\"ticks\":\"\",\"zerolinecolor\":\"white\",\"gridwidth\":2},\"zaxis\":{\"backgroundcolor\":\"#E5ECF6\",\"gridcolor\":\"white\",\"linecolor\":\"white\",\"showbackground\":true,\"ticks\":\"\",\"zerolinecolor\":\"white\",\"gridwidth\":2}},\"shapedefaults\":{\"line\":{\"color\":\"#2a3f5f\"}},\"annotationdefaults\":{\"arrowcolor\":\"#2a3f5f\",\"arrowhead\":0,\"arrowwidth\":1},\"geo\":{\"bgcolor\":\"white\",\"landcolor\":\"#E5ECF6\",\"subunitcolor\":\"white\",\"showland\":true,\"showlakes\":true,\"lakecolor\":\"white\"},\"title\":{\"x\":0.05},\"mapbox\":{\"style\":\"light\"}}},\"xaxis\":{\"anchor\":\"y\",\"domain\":[0.0,1.0],\"title\":{\"text\":\"x\"}},\"yaxis\":{\"anchor\":\"x\",\"domain\":[0.0,1.0],\"title\":{\"text\":\"count\"}},\"legend\":{\"tracegroupgap\":0},\"title\":{\"text\":\"Distribution of Text Length (Character Count)\"},\"barmode\":\"relative\"},                        {\"responsive\": true}                    ).then(function(){\n",
              "                            \n",
              "var gd = document.getElementById('b433b1de-6b89-4f4b-882b-3d776bbfb2d2');\n",
              "var x = new MutationObserver(function (mutations, observer) {{\n",
              "        var display = window.getComputedStyle(gd).display;\n",
              "        if (!display || display === 'none') {{\n",
              "            console.log([gd, 'removed!']);\n",
              "            Plotly.purge(gd);\n",
              "            observer.disconnect();\n",
              "        }}\n",
              "}});\n",
              "\n",
              "// Listen for the removal of the full notebook cells\n",
              "var notebookContainer = gd.closest('#notebook-container');\n",
              "if (notebookContainer) {{\n",
              "    x.observe(notebookContainer, {childList: true});\n",
              "}}\n",
              "\n",
              "// Listen for the clearing of the current output cell\n",
              "var outputEl = gd.closest('.output');\n",
              "if (outputEl) {{\n",
              "    x.observe(outputEl, {childList: true});\n",
              "}}\n",
              "\n",
              "                        })                };                });            </script>        </div>"
            ]
          },
          "metadata": {}
        },
        {
          "output_type": "display_data",
          "data": {
            "application/vnd.plotly.v1+json": {
              "data": [
                {
                  "alignmentgroup": "True",
                  "bingroup": "x",
                  "hovertemplate": "x=%{x}<br>count=%{y}<extra></extra>",
                  "legendgroup": "",
                  "marker": {
                    "color": "#636efa",
                    "pattern": {
                      "shape": ""
                    }
                  },
                  "name": "",
                  "offsetgroup": "",
                  "orientation": "v",
                  "showlegend": false,
                  "x": [
                    8648,
                    24888,
                    9396,
                    4353,
                    4898,
                    2736,
                    2846,
                    1760,
                    2293,
                    2759,
                    2968,
                    10055,
                    8123,
                    8123,
                    5990,
                    5990,
                    9764,
                    10286,
                    8381,
                    4021,
                    26864,
                    37679,
                    6806,
                    7947,
                    7552,
                    19611,
                    17359,
                    33124,
                    36740,
                    10191,
                    10893,
                    33285,
                    12941,
                    16997,
                    44175,
                    3756,
                    7303,
                    4488,
                    28653,
                    5367,
                    12228,
                    6787,
                    3957,
                    4781,
                    8545,
                    5121,
                    31861,
                    43918,
                    8939,
                    2574,
                    4094,
                    3565,
                    6208,
                    6208,
                    3581,
                    3657,
                    16634,
                    15110,
                    7541,
                    35427,
                    7753,
                    13781,
                    14599,
                    16458,
                    8247,
                    3288,
                    8905,
                    6565,
                    17270,
                    16698,
                    19080,
                    16257,
                    9744,
                    3730,
                    14783,
                    7300,
                    16125,
                    11273,
                    22854,
                    12521,
                    7017,
                    6946,
                    4777,
                    13234,
                    6667,
                    4421,
                    6113,
                    6113,
                    4645,
                    4645,
                    19591,
                    5998,
                    7404,
                    20325,
                    21540,
                    187248,
                    7213,
                    13903,
                    15975,
                    9136
                  ],
                  "xaxis": "x",
                  "yaxis": "y",
                  "type": "histogram"
                }
              ],
              "layout": {
                "template": {
                  "data": {
                    "histogram2dcontour": [
                      {
                        "type": "histogram2dcontour",
                        "colorbar": {
                          "outlinewidth": 0,
                          "ticks": ""
                        },
                        "colorscale": [
                          [
                            0,
                            "#0d0887"
                          ],
                          [
                            0.1111111111111111,
                            "#46039f"
                          ],
                          [
                            0.2222222222222222,
                            "#7201a8"
                          ],
                          [
                            0.3333333333333333,
                            "#9c179e"
                          ],
                          [
                            0.4444444444444444,
                            "#bd3786"
                          ],
                          [
                            0.5555555555555556,
                            "#d8576b"
                          ],
                          [
                            0.6666666666666666,
                            "#ed7953"
                          ],
                          [
                            0.7777777777777778,
                            "#fb9f3a"
                          ],
                          [
                            0.8888888888888888,
                            "#fdca26"
                          ],
                          [
                            1,
                            "#f0f921"
                          ]
                        ]
                      }
                    ],
                    "choropleth": [
                      {
                        "type": "choropleth",
                        "colorbar": {
                          "outlinewidth": 0,
                          "ticks": ""
                        }
                      }
                    ],
                    "histogram2d": [
                      {
                        "type": "histogram2d",
                        "colorbar": {
                          "outlinewidth": 0,
                          "ticks": ""
                        },
                        "colorscale": [
                          [
                            0,
                            "#0d0887"
                          ],
                          [
                            0.1111111111111111,
                            "#46039f"
                          ],
                          [
                            0.2222222222222222,
                            "#7201a8"
                          ],
                          [
                            0.3333333333333333,
                            "#9c179e"
                          ],
                          [
                            0.4444444444444444,
                            "#bd3786"
                          ],
                          [
                            0.5555555555555556,
                            "#d8576b"
                          ],
                          [
                            0.6666666666666666,
                            "#ed7953"
                          ],
                          [
                            0.7777777777777778,
                            "#fb9f3a"
                          ],
                          [
                            0.8888888888888888,
                            "#fdca26"
                          ],
                          [
                            1,
                            "#f0f921"
                          ]
                        ]
                      }
                    ],
                    "heatmap": [
                      {
                        "type": "heatmap",
                        "colorbar": {
                          "outlinewidth": 0,
                          "ticks": ""
                        },
                        "colorscale": [
                          [
                            0,
                            "#0d0887"
                          ],
                          [
                            0.1111111111111111,
                            "#46039f"
                          ],
                          [
                            0.2222222222222222,
                            "#7201a8"
                          ],
                          [
                            0.3333333333333333,
                            "#9c179e"
                          ],
                          [
                            0.4444444444444444,
                            "#bd3786"
                          ],
                          [
                            0.5555555555555556,
                            "#d8576b"
                          ],
                          [
                            0.6666666666666666,
                            "#ed7953"
                          ],
                          [
                            0.7777777777777778,
                            "#fb9f3a"
                          ],
                          [
                            0.8888888888888888,
                            "#fdca26"
                          ],
                          [
                            1,
                            "#f0f921"
                          ]
                        ]
                      }
                    ],
                    "heatmapgl": [
                      {
                        "type": "heatmapgl",
                        "colorbar": {
                          "outlinewidth": 0,
                          "ticks": ""
                        },
                        "colorscale": [
                          [
                            0,
                            "#0d0887"
                          ],
                          [
                            0.1111111111111111,
                            "#46039f"
                          ],
                          [
                            0.2222222222222222,
                            "#7201a8"
                          ],
                          [
                            0.3333333333333333,
                            "#9c179e"
                          ],
                          [
                            0.4444444444444444,
                            "#bd3786"
                          ],
                          [
                            0.5555555555555556,
                            "#d8576b"
                          ],
                          [
                            0.6666666666666666,
                            "#ed7953"
                          ],
                          [
                            0.7777777777777778,
                            "#fb9f3a"
                          ],
                          [
                            0.8888888888888888,
                            "#fdca26"
                          ],
                          [
                            1,
                            "#f0f921"
                          ]
                        ]
                      }
                    ],
                    "contourcarpet": [
                      {
                        "type": "contourcarpet",
                        "colorbar": {
                          "outlinewidth": 0,
                          "ticks": ""
                        }
                      }
                    ],
                    "contour": [
                      {
                        "type": "contour",
                        "colorbar": {
                          "outlinewidth": 0,
                          "ticks": ""
                        },
                        "colorscale": [
                          [
                            0,
                            "#0d0887"
                          ],
                          [
                            0.1111111111111111,
                            "#46039f"
                          ],
                          [
                            0.2222222222222222,
                            "#7201a8"
                          ],
                          [
                            0.3333333333333333,
                            "#9c179e"
                          ],
                          [
                            0.4444444444444444,
                            "#bd3786"
                          ],
                          [
                            0.5555555555555556,
                            "#d8576b"
                          ],
                          [
                            0.6666666666666666,
                            "#ed7953"
                          ],
                          [
                            0.7777777777777778,
                            "#fb9f3a"
                          ],
                          [
                            0.8888888888888888,
                            "#fdca26"
                          ],
                          [
                            1,
                            "#f0f921"
                          ]
                        ]
                      }
                    ],
                    "surface": [
                      {
                        "type": "surface",
                        "colorbar": {
                          "outlinewidth": 0,
                          "ticks": ""
                        },
                        "colorscale": [
                          [
                            0,
                            "#0d0887"
                          ],
                          [
                            0.1111111111111111,
                            "#46039f"
                          ],
                          [
                            0.2222222222222222,
                            "#7201a8"
                          ],
                          [
                            0.3333333333333333,
                            "#9c179e"
                          ],
                          [
                            0.4444444444444444,
                            "#bd3786"
                          ],
                          [
                            0.5555555555555556,
                            "#d8576b"
                          ],
                          [
                            0.6666666666666666,
                            "#ed7953"
                          ],
                          [
                            0.7777777777777778,
                            "#fb9f3a"
                          ],
                          [
                            0.8888888888888888,
                            "#fdca26"
                          ],
                          [
                            1,
                            "#f0f921"
                          ]
                        ]
                      }
                    ],
                    "mesh3d": [
                      {
                        "type": "mesh3d",
                        "colorbar": {
                          "outlinewidth": 0,
                          "ticks": ""
                        }
                      }
                    ],
                    "scatter": [
                      {
                        "fillpattern": {
                          "fillmode": "overlay",
                          "size": 10,
                          "solidity": 0.2
                        },
                        "type": "scatter"
                      }
                    ],
                    "parcoords": [
                      {
                        "type": "parcoords",
                        "line": {
                          "colorbar": {
                            "outlinewidth": 0,
                            "ticks": ""
                          }
                        }
                      }
                    ],
                    "scatterpolargl": [
                      {
                        "type": "scatterpolargl",
                        "marker": {
                          "colorbar": {
                            "outlinewidth": 0,
                            "ticks": ""
                          }
                        }
                      }
                    ],
                    "bar": [
                      {
                        "error_x": {
                          "color": "#2a3f5f"
                        },
                        "error_y": {
                          "color": "#2a3f5f"
                        },
                        "marker": {
                          "line": {
                            "color": "#E5ECF6",
                            "width": 0.5
                          },
                          "pattern": {
                            "fillmode": "overlay",
                            "size": 10,
                            "solidity": 0.2
                          }
                        },
                        "type": "bar"
                      }
                    ],
                    "scattergeo": [
                      {
                        "type": "scattergeo",
                        "marker": {
                          "colorbar": {
                            "outlinewidth": 0,
                            "ticks": ""
                          }
                        }
                      }
                    ],
                    "scatterpolar": [
                      {
                        "type": "scatterpolar",
                        "marker": {
                          "colorbar": {
                            "outlinewidth": 0,
                            "ticks": ""
                          }
                        }
                      }
                    ],
                    "histogram": [
                      {
                        "marker": {
                          "pattern": {
                            "fillmode": "overlay",
                            "size": 10,
                            "solidity": 0.2
                          }
                        },
                        "type": "histogram"
                      }
                    ],
                    "scattergl": [
                      {
                        "type": "scattergl",
                        "marker": {
                          "colorbar": {
                            "outlinewidth": 0,
                            "ticks": ""
                          }
                        }
                      }
                    ],
                    "scatter3d": [
                      {
                        "type": "scatter3d",
                        "line": {
                          "colorbar": {
                            "outlinewidth": 0,
                            "ticks": ""
                          }
                        },
                        "marker": {
                          "colorbar": {
                            "outlinewidth": 0,
                            "ticks": ""
                          }
                        }
                      }
                    ],
                    "scattermapbox": [
                      {
                        "type": "scattermapbox",
                        "marker": {
                          "colorbar": {
                            "outlinewidth": 0,
                            "ticks": ""
                          }
                        }
                      }
                    ],
                    "scatterternary": [
                      {
                        "type": "scatterternary",
                        "marker": {
                          "colorbar": {
                            "outlinewidth": 0,
                            "ticks": ""
                          }
                        }
                      }
                    ],
                    "scattercarpet": [
                      {
                        "type": "scattercarpet",
                        "marker": {
                          "colorbar": {
                            "outlinewidth": 0,
                            "ticks": ""
                          }
                        }
                      }
                    ],
                    "carpet": [
                      {
                        "aaxis": {
                          "endlinecolor": "#2a3f5f",
                          "gridcolor": "white",
                          "linecolor": "white",
                          "minorgridcolor": "white",
                          "startlinecolor": "#2a3f5f"
                        },
                        "baxis": {
                          "endlinecolor": "#2a3f5f",
                          "gridcolor": "white",
                          "linecolor": "white",
                          "minorgridcolor": "white",
                          "startlinecolor": "#2a3f5f"
                        },
                        "type": "carpet"
                      }
                    ],
                    "table": [
                      {
                        "cells": {
                          "fill": {
                            "color": "#EBF0F8"
                          },
                          "line": {
                            "color": "white"
                          }
                        },
                        "header": {
                          "fill": {
                            "color": "#C8D4E3"
                          },
                          "line": {
                            "color": "white"
                          }
                        },
                        "type": "table"
                      }
                    ],
                    "barpolar": [
                      {
                        "marker": {
                          "line": {
                            "color": "#E5ECF6",
                            "width": 0.5
                          },
                          "pattern": {
                            "fillmode": "overlay",
                            "size": 10,
                            "solidity": 0.2
                          }
                        },
                        "type": "barpolar"
                      }
                    ],
                    "pie": [
                      {
                        "automargin": true,
                        "type": "pie"
                      }
                    ]
                  },
                  "layout": {
                    "autotypenumbers": "strict",
                    "colorway": [
                      "#636efa",
                      "#EF553B",
                      "#00cc96",
                      "#ab63fa",
                      "#FFA15A",
                      "#19d3f3",
                      "#FF6692",
                      "#B6E880",
                      "#FF97FF",
                      "#FECB52"
                    ],
                    "font": {
                      "color": "#2a3f5f"
                    },
                    "hovermode": "closest",
                    "hoverlabel": {
                      "align": "left"
                    },
                    "paper_bgcolor": "white",
                    "plot_bgcolor": "#E5ECF6",
                    "polar": {
                      "bgcolor": "#E5ECF6",
                      "angularaxis": {
                        "gridcolor": "white",
                        "linecolor": "white",
                        "ticks": ""
                      },
                      "radialaxis": {
                        "gridcolor": "white",
                        "linecolor": "white",
                        "ticks": ""
                      }
                    },
                    "ternary": {
                      "bgcolor": "#E5ECF6",
                      "aaxis": {
                        "gridcolor": "white",
                        "linecolor": "white",
                        "ticks": ""
                      },
                      "baxis": {
                        "gridcolor": "white",
                        "linecolor": "white",
                        "ticks": ""
                      },
                      "caxis": {
                        "gridcolor": "white",
                        "linecolor": "white",
                        "ticks": ""
                      }
                    },
                    "coloraxis": {
                      "colorbar": {
                        "outlinewidth": 0,
                        "ticks": ""
                      }
                    },
                    "colorscale": {
                      "sequential": [
                        [
                          0,
                          "#0d0887"
                        ],
                        [
                          0.1111111111111111,
                          "#46039f"
                        ],
                        [
                          0.2222222222222222,
                          "#7201a8"
                        ],
                        [
                          0.3333333333333333,
                          "#9c179e"
                        ],
                        [
                          0.4444444444444444,
                          "#bd3786"
                        ],
                        [
                          0.5555555555555556,
                          "#d8576b"
                        ],
                        [
                          0.6666666666666666,
                          "#ed7953"
                        ],
                        [
                          0.7777777777777778,
                          "#fb9f3a"
                        ],
                        [
                          0.8888888888888888,
                          "#fdca26"
                        ],
                        [
                          1,
                          "#f0f921"
                        ]
                      ],
                      "sequentialminus": [
                        [
                          0,
                          "#0d0887"
                        ],
                        [
                          0.1111111111111111,
                          "#46039f"
                        ],
                        [
                          0.2222222222222222,
                          "#7201a8"
                        ],
                        [
                          0.3333333333333333,
                          "#9c179e"
                        ],
                        [
                          0.4444444444444444,
                          "#bd3786"
                        ],
                        [
                          0.5555555555555556,
                          "#d8576b"
                        ],
                        [
                          0.6666666666666666,
                          "#ed7953"
                        ],
                        [
                          0.7777777777777778,
                          "#fb9f3a"
                        ],
                        [
                          0.8888888888888888,
                          "#fdca26"
                        ],
                        [
                          1,
                          "#f0f921"
                        ]
                      ],
                      "diverging": [
                        [
                          0,
                          "#8e0152"
                        ],
                        [
                          0.1,
                          "#c51b7d"
                        ],
                        [
                          0.2,
                          "#de77ae"
                        ],
                        [
                          0.3,
                          "#f1b6da"
                        ],
                        [
                          0.4,
                          "#fde0ef"
                        ],
                        [
                          0.5,
                          "#f7f7f7"
                        ],
                        [
                          0.6,
                          "#e6f5d0"
                        ],
                        [
                          0.7,
                          "#b8e186"
                        ],
                        [
                          0.8,
                          "#7fbc41"
                        ],
                        [
                          0.9,
                          "#4d9221"
                        ],
                        [
                          1,
                          "#276419"
                        ]
                      ]
                    },
                    "xaxis": {
                      "gridcolor": "white",
                      "linecolor": "white",
                      "ticks": "",
                      "title": {
                        "standoff": 15
                      },
                      "zerolinecolor": "white",
                      "automargin": true,
                      "zerolinewidth": 2
                    },
                    "yaxis": {
                      "gridcolor": "white",
                      "linecolor": "white",
                      "ticks": "",
                      "title": {
                        "standoff": 15
                      },
                      "zerolinecolor": "white",
                      "automargin": true,
                      "zerolinewidth": 2
                    },
                    "scene": {
                      "xaxis": {
                        "backgroundcolor": "#E5ECF6",
                        "gridcolor": "white",
                        "linecolor": "white",
                        "showbackground": true,
                        "ticks": "",
                        "zerolinecolor": "white",
                        "gridwidth": 2
                      },
                      "yaxis": {
                        "backgroundcolor": "#E5ECF6",
                        "gridcolor": "white",
                        "linecolor": "white",
                        "showbackground": true,
                        "ticks": "",
                        "zerolinecolor": "white",
                        "gridwidth": 2
                      },
                      "zaxis": {
                        "backgroundcolor": "#E5ECF6",
                        "gridcolor": "white",
                        "linecolor": "white",
                        "showbackground": true,
                        "ticks": "",
                        "zerolinecolor": "white",
                        "gridwidth": 2
                      }
                    },
                    "shapedefaults": {
                      "line": {
                        "color": "#2a3f5f"
                      }
                    },
                    "annotationdefaults": {
                      "arrowcolor": "#2a3f5f",
                      "arrowhead": 0,
                      "arrowwidth": 1
                    },
                    "geo": {
                      "bgcolor": "white",
                      "landcolor": "#E5ECF6",
                      "subunitcolor": "white",
                      "showland": true,
                      "showlakes": true,
                      "lakecolor": "white"
                    },
                    "title": {
                      "x": 0.05
                    },
                    "mapbox": {
                      "style": "light"
                    }
                  }
                },
                "xaxis": {
                  "anchor": "y",
                  "domain": [
                    0,
                    1
                  ],
                  "title": {
                    "text": "x"
                  }
                },
                "yaxis": {
                  "anchor": "x",
                  "domain": [
                    0,
                    1
                  ],
                  "title": {
                    "text": "count"
                  }
                },
                "legend": {
                  "tracegroupgap": 0
                },
                "title": {
                  "text": "Distribution of Text Length (Character Count)"
                },
                "barmode": "relative"
              },
              "config": {
                "plotlyServerURL": "https://plot.ly"
              }
            },
            "text/html": [
              "<div>                            <div id=\"110961e9-3694-4803-9c01-29d80b197002\" class=\"plotly-graph-div\" style=\"height:525px; width:100%;\"></div>            <script type=\"text/javascript\">                require([\"plotly\"], function(Plotly) {                    window.PLOTLYENV=window.PLOTLYENV || {};                                    if (document.getElementById(\"110961e9-3694-4803-9c01-29d80b197002\")) {                    Plotly.newPlot(                        \"110961e9-3694-4803-9c01-29d80b197002\",                        [{\"alignmentgroup\":\"True\",\"bingroup\":\"x\",\"hovertemplate\":\"x=%{x}\\u003cbr\\u003ecount=%{y}\\u003cextra\\u003e\\u003c\\u002fextra\\u003e\",\"legendgroup\":\"\",\"marker\":{\"color\":\"#636efa\",\"pattern\":{\"shape\":\"\"}},\"name\":\"\",\"offsetgroup\":\"\",\"orientation\":\"v\",\"showlegend\":false,\"x\":[8648,24888,9396,4353,4898,2736,2846,1760,2293,2759,2968,10055,8123,8123,5990,5990,9764,10286,8381,4021,26864,37679,6806,7947,7552,19611,17359,33124,36740,10191,10893,33285,12941,16997,44175,3756,7303,4488,28653,5367,12228,6787,3957,4781,8545,5121,31861,43918,8939,2574,4094,3565,6208,6208,3581,3657,16634,15110,7541,35427,7753,13781,14599,16458,8247,3288,8905,6565,17270,16698,19080,16257,9744,3730,14783,7300,16125,11273,22854,12521,7017,6946,4777,13234,6667,4421,6113,6113,4645,4645,19591,5998,7404,20325,21540,187248,7213,13903,15975,9136],\"xaxis\":\"x\",\"yaxis\":\"y\",\"type\":\"histogram\"}],                        {\"template\":{\"data\":{\"histogram2dcontour\":[{\"type\":\"histogram2dcontour\",\"colorbar\":{\"outlinewidth\":0,\"ticks\":\"\"},\"colorscale\":[[0.0,\"#0d0887\"],[0.1111111111111111,\"#46039f\"],[0.2222222222222222,\"#7201a8\"],[0.3333333333333333,\"#9c179e\"],[0.4444444444444444,\"#bd3786\"],[0.5555555555555556,\"#d8576b\"],[0.6666666666666666,\"#ed7953\"],[0.7777777777777778,\"#fb9f3a\"],[0.8888888888888888,\"#fdca26\"],[1.0,\"#f0f921\"]]}],\"choropleth\":[{\"type\":\"choropleth\",\"colorbar\":{\"outlinewidth\":0,\"ticks\":\"\"}}],\"histogram2d\":[{\"type\":\"histogram2d\",\"colorbar\":{\"outlinewidth\":0,\"ticks\":\"\"},\"colorscale\":[[0.0,\"#0d0887\"],[0.1111111111111111,\"#46039f\"],[0.2222222222222222,\"#7201a8\"],[0.3333333333333333,\"#9c179e\"],[0.4444444444444444,\"#bd3786\"],[0.5555555555555556,\"#d8576b\"],[0.6666666666666666,\"#ed7953\"],[0.7777777777777778,\"#fb9f3a\"],[0.8888888888888888,\"#fdca26\"],[1.0,\"#f0f921\"]]}],\"heatmap\":[{\"type\":\"heatmap\",\"colorbar\":{\"outlinewidth\":0,\"ticks\":\"\"},\"colorscale\":[[0.0,\"#0d0887\"],[0.1111111111111111,\"#46039f\"],[0.2222222222222222,\"#7201a8\"],[0.3333333333333333,\"#9c179e\"],[0.4444444444444444,\"#bd3786\"],[0.5555555555555556,\"#d8576b\"],[0.6666666666666666,\"#ed7953\"],[0.7777777777777778,\"#fb9f3a\"],[0.8888888888888888,\"#fdca26\"],[1.0,\"#f0f921\"]]}],\"heatmapgl\":[{\"type\":\"heatmapgl\",\"colorbar\":{\"outlinewidth\":0,\"ticks\":\"\"},\"colorscale\":[[0.0,\"#0d0887\"],[0.1111111111111111,\"#46039f\"],[0.2222222222222222,\"#7201a8\"],[0.3333333333333333,\"#9c179e\"],[0.4444444444444444,\"#bd3786\"],[0.5555555555555556,\"#d8576b\"],[0.6666666666666666,\"#ed7953\"],[0.7777777777777778,\"#fb9f3a\"],[0.8888888888888888,\"#fdca26\"],[1.0,\"#f0f921\"]]}],\"contourcarpet\":[{\"type\":\"contourcarpet\",\"colorbar\":{\"outlinewidth\":0,\"ticks\":\"\"}}],\"contour\":[{\"type\":\"contour\",\"colorbar\":{\"outlinewidth\":0,\"ticks\":\"\"},\"colorscale\":[[0.0,\"#0d0887\"],[0.1111111111111111,\"#46039f\"],[0.2222222222222222,\"#7201a8\"],[0.3333333333333333,\"#9c179e\"],[0.4444444444444444,\"#bd3786\"],[0.5555555555555556,\"#d8576b\"],[0.6666666666666666,\"#ed7953\"],[0.7777777777777778,\"#fb9f3a\"],[0.8888888888888888,\"#fdca26\"],[1.0,\"#f0f921\"]]}],\"surface\":[{\"type\":\"surface\",\"colorbar\":{\"outlinewidth\":0,\"ticks\":\"\"},\"colorscale\":[[0.0,\"#0d0887\"],[0.1111111111111111,\"#46039f\"],[0.2222222222222222,\"#7201a8\"],[0.3333333333333333,\"#9c179e\"],[0.4444444444444444,\"#bd3786\"],[0.5555555555555556,\"#d8576b\"],[0.6666666666666666,\"#ed7953\"],[0.7777777777777778,\"#fb9f3a\"],[0.8888888888888888,\"#fdca26\"],[1.0,\"#f0f921\"]]}],\"mesh3d\":[{\"type\":\"mesh3d\",\"colorbar\":{\"outlinewidth\":0,\"ticks\":\"\"}}],\"scatter\":[{\"fillpattern\":{\"fillmode\":\"overlay\",\"size\":10,\"solidity\":0.2},\"type\":\"scatter\"}],\"parcoords\":[{\"type\":\"parcoords\",\"line\":{\"colorbar\":{\"outlinewidth\":0,\"ticks\":\"\"}}}],\"scatterpolargl\":[{\"type\":\"scatterpolargl\",\"marker\":{\"colorbar\":{\"outlinewidth\":0,\"ticks\":\"\"}}}],\"bar\":[{\"error_x\":{\"color\":\"#2a3f5f\"},\"error_y\":{\"color\":\"#2a3f5f\"},\"marker\":{\"line\":{\"color\":\"#E5ECF6\",\"width\":0.5},\"pattern\":{\"fillmode\":\"overlay\",\"size\":10,\"solidity\":0.2}},\"type\":\"bar\"}],\"scattergeo\":[{\"type\":\"scattergeo\",\"marker\":{\"colorbar\":{\"outlinewidth\":0,\"ticks\":\"\"}}}],\"scatterpolar\":[{\"type\":\"scatterpolar\",\"marker\":{\"colorbar\":{\"outlinewidth\":0,\"ticks\":\"\"}}}],\"histogram\":[{\"marker\":{\"pattern\":{\"fillmode\":\"overlay\",\"size\":10,\"solidity\":0.2}},\"type\":\"histogram\"}],\"scattergl\":[{\"type\":\"scattergl\",\"marker\":{\"colorbar\":{\"outlinewidth\":0,\"ticks\":\"\"}}}],\"scatter3d\":[{\"type\":\"scatter3d\",\"line\":{\"colorbar\":{\"outlinewidth\":0,\"ticks\":\"\"}},\"marker\":{\"colorbar\":{\"outlinewidth\":0,\"ticks\":\"\"}}}],\"scattermapbox\":[{\"type\":\"scattermapbox\",\"marker\":{\"colorbar\":{\"outlinewidth\":0,\"ticks\":\"\"}}}],\"scatterternary\":[{\"type\":\"scatterternary\",\"marker\":{\"colorbar\":{\"outlinewidth\":0,\"ticks\":\"\"}}}],\"scattercarpet\":[{\"type\":\"scattercarpet\",\"marker\":{\"colorbar\":{\"outlinewidth\":0,\"ticks\":\"\"}}}],\"carpet\":[{\"aaxis\":{\"endlinecolor\":\"#2a3f5f\",\"gridcolor\":\"white\",\"linecolor\":\"white\",\"minorgridcolor\":\"white\",\"startlinecolor\":\"#2a3f5f\"},\"baxis\":{\"endlinecolor\":\"#2a3f5f\",\"gridcolor\":\"white\",\"linecolor\":\"white\",\"minorgridcolor\":\"white\",\"startlinecolor\":\"#2a3f5f\"},\"type\":\"carpet\"}],\"table\":[{\"cells\":{\"fill\":{\"color\":\"#EBF0F8\"},\"line\":{\"color\":\"white\"}},\"header\":{\"fill\":{\"color\":\"#C8D4E3\"},\"line\":{\"color\":\"white\"}},\"type\":\"table\"}],\"barpolar\":[{\"marker\":{\"line\":{\"color\":\"#E5ECF6\",\"width\":0.5},\"pattern\":{\"fillmode\":\"overlay\",\"size\":10,\"solidity\":0.2}},\"type\":\"barpolar\"}],\"pie\":[{\"automargin\":true,\"type\":\"pie\"}]},\"layout\":{\"autotypenumbers\":\"strict\",\"colorway\":[\"#636efa\",\"#EF553B\",\"#00cc96\",\"#ab63fa\",\"#FFA15A\",\"#19d3f3\",\"#FF6692\",\"#B6E880\",\"#FF97FF\",\"#FECB52\"],\"font\":{\"color\":\"#2a3f5f\"},\"hovermode\":\"closest\",\"hoverlabel\":{\"align\":\"left\"},\"paper_bgcolor\":\"white\",\"plot_bgcolor\":\"#E5ECF6\",\"polar\":{\"bgcolor\":\"#E5ECF6\",\"angularaxis\":{\"gridcolor\":\"white\",\"linecolor\":\"white\",\"ticks\":\"\"},\"radialaxis\":{\"gridcolor\":\"white\",\"linecolor\":\"white\",\"ticks\":\"\"}},\"ternary\":{\"bgcolor\":\"#E5ECF6\",\"aaxis\":{\"gridcolor\":\"white\",\"linecolor\":\"white\",\"ticks\":\"\"},\"baxis\":{\"gridcolor\":\"white\",\"linecolor\":\"white\",\"ticks\":\"\"},\"caxis\":{\"gridcolor\":\"white\",\"linecolor\":\"white\",\"ticks\":\"\"}},\"coloraxis\":{\"colorbar\":{\"outlinewidth\":0,\"ticks\":\"\"}},\"colorscale\":{\"sequential\":[[0.0,\"#0d0887\"],[0.1111111111111111,\"#46039f\"],[0.2222222222222222,\"#7201a8\"],[0.3333333333333333,\"#9c179e\"],[0.4444444444444444,\"#bd3786\"],[0.5555555555555556,\"#d8576b\"],[0.6666666666666666,\"#ed7953\"],[0.7777777777777778,\"#fb9f3a\"],[0.8888888888888888,\"#fdca26\"],[1.0,\"#f0f921\"]],\"sequentialminus\":[[0.0,\"#0d0887\"],[0.1111111111111111,\"#46039f\"],[0.2222222222222222,\"#7201a8\"],[0.3333333333333333,\"#9c179e\"],[0.4444444444444444,\"#bd3786\"],[0.5555555555555556,\"#d8576b\"],[0.6666666666666666,\"#ed7953\"],[0.7777777777777778,\"#fb9f3a\"],[0.8888888888888888,\"#fdca26\"],[1.0,\"#f0f921\"]],\"diverging\":[[0,\"#8e0152\"],[0.1,\"#c51b7d\"],[0.2,\"#de77ae\"],[0.3,\"#f1b6da\"],[0.4,\"#fde0ef\"],[0.5,\"#f7f7f7\"],[0.6,\"#e6f5d0\"],[0.7,\"#b8e186\"],[0.8,\"#7fbc41\"],[0.9,\"#4d9221\"],[1,\"#276419\"]]},\"xaxis\":{\"gridcolor\":\"white\",\"linecolor\":\"white\",\"ticks\":\"\",\"title\":{\"standoff\":15},\"zerolinecolor\":\"white\",\"automargin\":true,\"zerolinewidth\":2},\"yaxis\":{\"gridcolor\":\"white\",\"linecolor\":\"white\",\"ticks\":\"\",\"title\":{\"standoff\":15},\"zerolinecolor\":\"white\",\"automargin\":true,\"zerolinewidth\":2},\"scene\":{\"xaxis\":{\"backgroundcolor\":\"#E5ECF6\",\"gridcolor\":\"white\",\"linecolor\":\"white\",\"showbackground\":true,\"ticks\":\"\",\"zerolinecolor\":\"white\",\"gridwidth\":2},\"yaxis\":{\"backgroundcolor\":\"#E5ECF6\",\"gridcolor\":\"white\",\"linecolor\":\"white\",\"showbackground\":true,\"ticks\":\"\",\"zerolinecolor\":\"white\",\"gridwidth\":2},\"zaxis\":{\"backgroundcolor\":\"#E5ECF6\",\"gridcolor\":\"white\",\"linecolor\":\"white\",\"showbackground\":true,\"ticks\":\"\",\"zerolinecolor\":\"white\",\"gridwidth\":2}},\"shapedefaults\":{\"line\":{\"color\":\"#2a3f5f\"}},\"annotationdefaults\":{\"arrowcolor\":\"#2a3f5f\",\"arrowhead\":0,\"arrowwidth\":1},\"geo\":{\"bgcolor\":\"white\",\"landcolor\":\"#E5ECF6\",\"subunitcolor\":\"white\",\"showland\":true,\"showlakes\":true,\"lakecolor\":\"white\"},\"title\":{\"x\":0.05},\"mapbox\":{\"style\":\"light\"}}},\"xaxis\":{\"anchor\":\"y\",\"domain\":[0.0,1.0],\"title\":{\"text\":\"x\"}},\"yaxis\":{\"anchor\":\"x\",\"domain\":[0.0,1.0],\"title\":{\"text\":\"count\"}},\"legend\":{\"tracegroupgap\":0},\"title\":{\"text\":\"Distribution of Text Length (Character Count)\"},\"barmode\":\"relative\"},                        {\"responsive\": true}                    ).then(function(){\n",
              "                            \n",
              "var gd = document.getElementById('110961e9-3694-4803-9c01-29d80b197002');\n",
              "var x = new MutationObserver(function (mutations, observer) {{\n",
              "        var display = window.getComputedStyle(gd).display;\n",
              "        if (!display || display === 'none') {{\n",
              "            console.log([gd, 'removed!']);\n",
              "            Plotly.purge(gd);\n",
              "            observer.disconnect();\n",
              "        }}\n",
              "}});\n",
              "\n",
              "// Listen for the removal of the full notebook cells\n",
              "var notebookContainer = gd.closest('#notebook-container');\n",
              "if (notebookContainer) {{\n",
              "    x.observe(notebookContainer, {childList: true});\n",
              "}}\n",
              "\n",
              "// Listen for the clearing of the current output cell\n",
              "var outputEl = gd.closest('.output');\n",
              "if (outputEl) {{\n",
              "    x.observe(outputEl, {childList: true});\n",
              "}}\n",
              "\n",
              "                        })                };                });            </script>        </div>"
            ]
          },
          "metadata": {}
        }
      ]
    },
    {
      "cell_type": "code",
      "source": [
        "px.histogram(x=train_csv[\"preprocessed_html_text\"].apply(lambda text: text.split(\" \")).apply(len),\n",
        "             title=\"Distribution of Text Length (Word Count)\")"
      ],
      "metadata": {
        "colab": {
          "base_uri": "https://localhost:8080/",
          "height": 542
        },
        "id": "vfulGQfJpiZn",
        "outputId": "402481c3-2100-420d-9a01-fe0eabfc3bb3"
      },
      "execution_count": 42,
      "outputs": [
        {
          "output_type": "display_data",
          "data": {
            "application/vnd.plotly.v1+json": {
              "data": [
                {
                  "alignmentgroup": "True",
                  "bingroup": "x",
                  "hovertemplate": "x=%{x}<br>count=%{y}<extra></extra>",
                  "legendgroup": "",
                  "marker": {
                    "color": "#636efa",
                    "pattern": {
                      "shape": ""
                    }
                  },
                  "name": "",
                  "offsetgroup": "",
                  "orientation": "v",
                  "showlegend": false,
                  "x": [
                    937,
                    2970,
                    1115,
                    499,
                    575,
                    291,
                    303,
                    186,
                    239,
                    297,
                    308,
                    1133,
                    937,
                    937,
                    675,
                    675,
                    1104,
                    1186,
                    955,
                    469,
                    3850,
                    4936,
                    799,
                    927,
                    846,
                    2079,
                    1795,
                    3573,
                    4008,
                    1034,
                    1298,
                    4211,
                    1214,
                    1767,
                    4660,
                    436,
                    865,
                    497,
                    3553,
                    661,
                    1291,
                    834,
                    439,
                    605,
                    962,
                    539,
                    3345,
                    5105,
                    1092,
                    276,
                    424,
                    371,
                    707,
                    707,
                    393,
                    378,
                    2021,
                    1771,
                    817,
                    4410,
                    809,
                    1531,
                    1529,
                    1868,
                    872,
                    374,
                    893,
                    683,
                    1792,
                    1740,
                    1999,
                    1623,
                    891,
                    390,
                    1694,
                    811,
                    2001,
                    1706,
                    2726,
                    1627,
                    757,
                    768,
                    532,
                    1384,
                    689,
                    478,
                    749,
                    749,
                    532,
                    532,
                    2053,
                    684,
                    886,
                    2515,
                    2391,
                    28328,
                    853,
                    1505,
                    1763,
                    1095
                  ],
                  "xaxis": "x",
                  "yaxis": "y",
                  "type": "histogram"
                }
              ],
              "layout": {
                "template": {
                  "data": {
                    "histogram2dcontour": [
                      {
                        "type": "histogram2dcontour",
                        "colorbar": {
                          "outlinewidth": 0,
                          "ticks": ""
                        },
                        "colorscale": [
                          [
                            0,
                            "#0d0887"
                          ],
                          [
                            0.1111111111111111,
                            "#46039f"
                          ],
                          [
                            0.2222222222222222,
                            "#7201a8"
                          ],
                          [
                            0.3333333333333333,
                            "#9c179e"
                          ],
                          [
                            0.4444444444444444,
                            "#bd3786"
                          ],
                          [
                            0.5555555555555556,
                            "#d8576b"
                          ],
                          [
                            0.6666666666666666,
                            "#ed7953"
                          ],
                          [
                            0.7777777777777778,
                            "#fb9f3a"
                          ],
                          [
                            0.8888888888888888,
                            "#fdca26"
                          ],
                          [
                            1,
                            "#f0f921"
                          ]
                        ]
                      }
                    ],
                    "choropleth": [
                      {
                        "type": "choropleth",
                        "colorbar": {
                          "outlinewidth": 0,
                          "ticks": ""
                        }
                      }
                    ],
                    "histogram2d": [
                      {
                        "type": "histogram2d",
                        "colorbar": {
                          "outlinewidth": 0,
                          "ticks": ""
                        },
                        "colorscale": [
                          [
                            0,
                            "#0d0887"
                          ],
                          [
                            0.1111111111111111,
                            "#46039f"
                          ],
                          [
                            0.2222222222222222,
                            "#7201a8"
                          ],
                          [
                            0.3333333333333333,
                            "#9c179e"
                          ],
                          [
                            0.4444444444444444,
                            "#bd3786"
                          ],
                          [
                            0.5555555555555556,
                            "#d8576b"
                          ],
                          [
                            0.6666666666666666,
                            "#ed7953"
                          ],
                          [
                            0.7777777777777778,
                            "#fb9f3a"
                          ],
                          [
                            0.8888888888888888,
                            "#fdca26"
                          ],
                          [
                            1,
                            "#f0f921"
                          ]
                        ]
                      }
                    ],
                    "heatmap": [
                      {
                        "type": "heatmap",
                        "colorbar": {
                          "outlinewidth": 0,
                          "ticks": ""
                        },
                        "colorscale": [
                          [
                            0,
                            "#0d0887"
                          ],
                          [
                            0.1111111111111111,
                            "#46039f"
                          ],
                          [
                            0.2222222222222222,
                            "#7201a8"
                          ],
                          [
                            0.3333333333333333,
                            "#9c179e"
                          ],
                          [
                            0.4444444444444444,
                            "#bd3786"
                          ],
                          [
                            0.5555555555555556,
                            "#d8576b"
                          ],
                          [
                            0.6666666666666666,
                            "#ed7953"
                          ],
                          [
                            0.7777777777777778,
                            "#fb9f3a"
                          ],
                          [
                            0.8888888888888888,
                            "#fdca26"
                          ],
                          [
                            1,
                            "#f0f921"
                          ]
                        ]
                      }
                    ],
                    "heatmapgl": [
                      {
                        "type": "heatmapgl",
                        "colorbar": {
                          "outlinewidth": 0,
                          "ticks": ""
                        },
                        "colorscale": [
                          [
                            0,
                            "#0d0887"
                          ],
                          [
                            0.1111111111111111,
                            "#46039f"
                          ],
                          [
                            0.2222222222222222,
                            "#7201a8"
                          ],
                          [
                            0.3333333333333333,
                            "#9c179e"
                          ],
                          [
                            0.4444444444444444,
                            "#bd3786"
                          ],
                          [
                            0.5555555555555556,
                            "#d8576b"
                          ],
                          [
                            0.6666666666666666,
                            "#ed7953"
                          ],
                          [
                            0.7777777777777778,
                            "#fb9f3a"
                          ],
                          [
                            0.8888888888888888,
                            "#fdca26"
                          ],
                          [
                            1,
                            "#f0f921"
                          ]
                        ]
                      }
                    ],
                    "contourcarpet": [
                      {
                        "type": "contourcarpet",
                        "colorbar": {
                          "outlinewidth": 0,
                          "ticks": ""
                        }
                      }
                    ],
                    "contour": [
                      {
                        "type": "contour",
                        "colorbar": {
                          "outlinewidth": 0,
                          "ticks": ""
                        },
                        "colorscale": [
                          [
                            0,
                            "#0d0887"
                          ],
                          [
                            0.1111111111111111,
                            "#46039f"
                          ],
                          [
                            0.2222222222222222,
                            "#7201a8"
                          ],
                          [
                            0.3333333333333333,
                            "#9c179e"
                          ],
                          [
                            0.4444444444444444,
                            "#bd3786"
                          ],
                          [
                            0.5555555555555556,
                            "#d8576b"
                          ],
                          [
                            0.6666666666666666,
                            "#ed7953"
                          ],
                          [
                            0.7777777777777778,
                            "#fb9f3a"
                          ],
                          [
                            0.8888888888888888,
                            "#fdca26"
                          ],
                          [
                            1,
                            "#f0f921"
                          ]
                        ]
                      }
                    ],
                    "surface": [
                      {
                        "type": "surface",
                        "colorbar": {
                          "outlinewidth": 0,
                          "ticks": ""
                        },
                        "colorscale": [
                          [
                            0,
                            "#0d0887"
                          ],
                          [
                            0.1111111111111111,
                            "#46039f"
                          ],
                          [
                            0.2222222222222222,
                            "#7201a8"
                          ],
                          [
                            0.3333333333333333,
                            "#9c179e"
                          ],
                          [
                            0.4444444444444444,
                            "#bd3786"
                          ],
                          [
                            0.5555555555555556,
                            "#d8576b"
                          ],
                          [
                            0.6666666666666666,
                            "#ed7953"
                          ],
                          [
                            0.7777777777777778,
                            "#fb9f3a"
                          ],
                          [
                            0.8888888888888888,
                            "#fdca26"
                          ],
                          [
                            1,
                            "#f0f921"
                          ]
                        ]
                      }
                    ],
                    "mesh3d": [
                      {
                        "type": "mesh3d",
                        "colorbar": {
                          "outlinewidth": 0,
                          "ticks": ""
                        }
                      }
                    ],
                    "scatter": [
                      {
                        "fillpattern": {
                          "fillmode": "overlay",
                          "size": 10,
                          "solidity": 0.2
                        },
                        "type": "scatter"
                      }
                    ],
                    "parcoords": [
                      {
                        "type": "parcoords",
                        "line": {
                          "colorbar": {
                            "outlinewidth": 0,
                            "ticks": ""
                          }
                        }
                      }
                    ],
                    "scatterpolargl": [
                      {
                        "type": "scatterpolargl",
                        "marker": {
                          "colorbar": {
                            "outlinewidth": 0,
                            "ticks": ""
                          }
                        }
                      }
                    ],
                    "bar": [
                      {
                        "error_x": {
                          "color": "#2a3f5f"
                        },
                        "error_y": {
                          "color": "#2a3f5f"
                        },
                        "marker": {
                          "line": {
                            "color": "#E5ECF6",
                            "width": 0.5
                          },
                          "pattern": {
                            "fillmode": "overlay",
                            "size": 10,
                            "solidity": 0.2
                          }
                        },
                        "type": "bar"
                      }
                    ],
                    "scattergeo": [
                      {
                        "type": "scattergeo",
                        "marker": {
                          "colorbar": {
                            "outlinewidth": 0,
                            "ticks": ""
                          }
                        }
                      }
                    ],
                    "scatterpolar": [
                      {
                        "type": "scatterpolar",
                        "marker": {
                          "colorbar": {
                            "outlinewidth": 0,
                            "ticks": ""
                          }
                        }
                      }
                    ],
                    "histogram": [
                      {
                        "marker": {
                          "pattern": {
                            "fillmode": "overlay",
                            "size": 10,
                            "solidity": 0.2
                          }
                        },
                        "type": "histogram"
                      }
                    ],
                    "scattergl": [
                      {
                        "type": "scattergl",
                        "marker": {
                          "colorbar": {
                            "outlinewidth": 0,
                            "ticks": ""
                          }
                        }
                      }
                    ],
                    "scatter3d": [
                      {
                        "type": "scatter3d",
                        "line": {
                          "colorbar": {
                            "outlinewidth": 0,
                            "ticks": ""
                          }
                        },
                        "marker": {
                          "colorbar": {
                            "outlinewidth": 0,
                            "ticks": ""
                          }
                        }
                      }
                    ],
                    "scattermapbox": [
                      {
                        "type": "scattermapbox",
                        "marker": {
                          "colorbar": {
                            "outlinewidth": 0,
                            "ticks": ""
                          }
                        }
                      }
                    ],
                    "scatterternary": [
                      {
                        "type": "scatterternary",
                        "marker": {
                          "colorbar": {
                            "outlinewidth": 0,
                            "ticks": ""
                          }
                        }
                      }
                    ],
                    "scattercarpet": [
                      {
                        "type": "scattercarpet",
                        "marker": {
                          "colorbar": {
                            "outlinewidth": 0,
                            "ticks": ""
                          }
                        }
                      }
                    ],
                    "carpet": [
                      {
                        "aaxis": {
                          "endlinecolor": "#2a3f5f",
                          "gridcolor": "white",
                          "linecolor": "white",
                          "minorgridcolor": "white",
                          "startlinecolor": "#2a3f5f"
                        },
                        "baxis": {
                          "endlinecolor": "#2a3f5f",
                          "gridcolor": "white",
                          "linecolor": "white",
                          "minorgridcolor": "white",
                          "startlinecolor": "#2a3f5f"
                        },
                        "type": "carpet"
                      }
                    ],
                    "table": [
                      {
                        "cells": {
                          "fill": {
                            "color": "#EBF0F8"
                          },
                          "line": {
                            "color": "white"
                          }
                        },
                        "header": {
                          "fill": {
                            "color": "#C8D4E3"
                          },
                          "line": {
                            "color": "white"
                          }
                        },
                        "type": "table"
                      }
                    ],
                    "barpolar": [
                      {
                        "marker": {
                          "line": {
                            "color": "#E5ECF6",
                            "width": 0.5
                          },
                          "pattern": {
                            "fillmode": "overlay",
                            "size": 10,
                            "solidity": 0.2
                          }
                        },
                        "type": "barpolar"
                      }
                    ],
                    "pie": [
                      {
                        "automargin": true,
                        "type": "pie"
                      }
                    ]
                  },
                  "layout": {
                    "autotypenumbers": "strict",
                    "colorway": [
                      "#636efa",
                      "#EF553B",
                      "#00cc96",
                      "#ab63fa",
                      "#FFA15A",
                      "#19d3f3",
                      "#FF6692",
                      "#B6E880",
                      "#FF97FF",
                      "#FECB52"
                    ],
                    "font": {
                      "color": "#2a3f5f"
                    },
                    "hovermode": "closest",
                    "hoverlabel": {
                      "align": "left"
                    },
                    "paper_bgcolor": "white",
                    "plot_bgcolor": "#E5ECF6",
                    "polar": {
                      "bgcolor": "#E5ECF6",
                      "angularaxis": {
                        "gridcolor": "white",
                        "linecolor": "white",
                        "ticks": ""
                      },
                      "radialaxis": {
                        "gridcolor": "white",
                        "linecolor": "white",
                        "ticks": ""
                      }
                    },
                    "ternary": {
                      "bgcolor": "#E5ECF6",
                      "aaxis": {
                        "gridcolor": "white",
                        "linecolor": "white",
                        "ticks": ""
                      },
                      "baxis": {
                        "gridcolor": "white",
                        "linecolor": "white",
                        "ticks": ""
                      },
                      "caxis": {
                        "gridcolor": "white",
                        "linecolor": "white",
                        "ticks": ""
                      }
                    },
                    "coloraxis": {
                      "colorbar": {
                        "outlinewidth": 0,
                        "ticks": ""
                      }
                    },
                    "colorscale": {
                      "sequential": [
                        [
                          0,
                          "#0d0887"
                        ],
                        [
                          0.1111111111111111,
                          "#46039f"
                        ],
                        [
                          0.2222222222222222,
                          "#7201a8"
                        ],
                        [
                          0.3333333333333333,
                          "#9c179e"
                        ],
                        [
                          0.4444444444444444,
                          "#bd3786"
                        ],
                        [
                          0.5555555555555556,
                          "#d8576b"
                        ],
                        [
                          0.6666666666666666,
                          "#ed7953"
                        ],
                        [
                          0.7777777777777778,
                          "#fb9f3a"
                        ],
                        [
                          0.8888888888888888,
                          "#fdca26"
                        ],
                        [
                          1,
                          "#f0f921"
                        ]
                      ],
                      "sequentialminus": [
                        [
                          0,
                          "#0d0887"
                        ],
                        [
                          0.1111111111111111,
                          "#46039f"
                        ],
                        [
                          0.2222222222222222,
                          "#7201a8"
                        ],
                        [
                          0.3333333333333333,
                          "#9c179e"
                        ],
                        [
                          0.4444444444444444,
                          "#bd3786"
                        ],
                        [
                          0.5555555555555556,
                          "#d8576b"
                        ],
                        [
                          0.6666666666666666,
                          "#ed7953"
                        ],
                        [
                          0.7777777777777778,
                          "#fb9f3a"
                        ],
                        [
                          0.8888888888888888,
                          "#fdca26"
                        ],
                        [
                          1,
                          "#f0f921"
                        ]
                      ],
                      "diverging": [
                        [
                          0,
                          "#8e0152"
                        ],
                        [
                          0.1,
                          "#c51b7d"
                        ],
                        [
                          0.2,
                          "#de77ae"
                        ],
                        [
                          0.3,
                          "#f1b6da"
                        ],
                        [
                          0.4,
                          "#fde0ef"
                        ],
                        [
                          0.5,
                          "#f7f7f7"
                        ],
                        [
                          0.6,
                          "#e6f5d0"
                        ],
                        [
                          0.7,
                          "#b8e186"
                        ],
                        [
                          0.8,
                          "#7fbc41"
                        ],
                        [
                          0.9,
                          "#4d9221"
                        ],
                        [
                          1,
                          "#276419"
                        ]
                      ]
                    },
                    "xaxis": {
                      "gridcolor": "white",
                      "linecolor": "white",
                      "ticks": "",
                      "title": {
                        "standoff": 15
                      },
                      "zerolinecolor": "white",
                      "automargin": true,
                      "zerolinewidth": 2
                    },
                    "yaxis": {
                      "gridcolor": "white",
                      "linecolor": "white",
                      "ticks": "",
                      "title": {
                        "standoff": 15
                      },
                      "zerolinecolor": "white",
                      "automargin": true,
                      "zerolinewidth": 2
                    },
                    "scene": {
                      "xaxis": {
                        "backgroundcolor": "#E5ECF6",
                        "gridcolor": "white",
                        "linecolor": "white",
                        "showbackground": true,
                        "ticks": "",
                        "zerolinecolor": "white",
                        "gridwidth": 2
                      },
                      "yaxis": {
                        "backgroundcolor": "#E5ECF6",
                        "gridcolor": "white",
                        "linecolor": "white",
                        "showbackground": true,
                        "ticks": "",
                        "zerolinecolor": "white",
                        "gridwidth": 2
                      },
                      "zaxis": {
                        "backgroundcolor": "#E5ECF6",
                        "gridcolor": "white",
                        "linecolor": "white",
                        "showbackground": true,
                        "ticks": "",
                        "zerolinecolor": "white",
                        "gridwidth": 2
                      }
                    },
                    "shapedefaults": {
                      "line": {
                        "color": "#2a3f5f"
                      }
                    },
                    "annotationdefaults": {
                      "arrowcolor": "#2a3f5f",
                      "arrowhead": 0,
                      "arrowwidth": 1
                    },
                    "geo": {
                      "bgcolor": "white",
                      "landcolor": "#E5ECF6",
                      "subunitcolor": "white",
                      "showland": true,
                      "showlakes": true,
                      "lakecolor": "white"
                    },
                    "title": {
                      "x": 0.05
                    },
                    "mapbox": {
                      "style": "light"
                    }
                  }
                },
                "xaxis": {
                  "anchor": "y",
                  "domain": [
                    0,
                    1
                  ],
                  "title": {
                    "text": "x"
                  }
                },
                "yaxis": {
                  "anchor": "x",
                  "domain": [
                    0,
                    1
                  ],
                  "title": {
                    "text": "count"
                  }
                },
                "legend": {
                  "tracegroupgap": 0
                },
                "title": {
                  "text": "Distribution of Text Length (Word Count)"
                },
                "barmode": "relative"
              },
              "config": {
                "plotlyServerURL": "https://plot.ly"
              }
            },
            "text/html": [
              "<div>                            <div id=\"98d45a90-a143-4315-b097-22821bcfec79\" class=\"plotly-graph-div\" style=\"height:525px; width:100%;\"></div>            <script type=\"text/javascript\">                require([\"plotly\"], function(Plotly) {                    window.PLOTLYENV=window.PLOTLYENV || {};                                    if (document.getElementById(\"98d45a90-a143-4315-b097-22821bcfec79\")) {                    Plotly.newPlot(                        \"98d45a90-a143-4315-b097-22821bcfec79\",                        [{\"alignmentgroup\":\"True\",\"bingroup\":\"x\",\"hovertemplate\":\"x=%{x}\\u003cbr\\u003ecount=%{y}\\u003cextra\\u003e\\u003c\\u002fextra\\u003e\",\"legendgroup\":\"\",\"marker\":{\"color\":\"#636efa\",\"pattern\":{\"shape\":\"\"}},\"name\":\"\",\"offsetgroup\":\"\",\"orientation\":\"v\",\"showlegend\":false,\"x\":[937,2970,1115,499,575,291,303,186,239,297,308,1133,937,937,675,675,1104,1186,955,469,3850,4936,799,927,846,2079,1795,3573,4008,1034,1298,4211,1214,1767,4660,436,865,497,3553,661,1291,834,439,605,962,539,3345,5105,1092,276,424,371,707,707,393,378,2021,1771,817,4410,809,1531,1529,1868,872,374,893,683,1792,1740,1999,1623,891,390,1694,811,2001,1706,2726,1627,757,768,532,1384,689,478,749,749,532,532,2053,684,886,2515,2391,28328,853,1505,1763,1095],\"xaxis\":\"x\",\"yaxis\":\"y\",\"type\":\"histogram\"}],                        {\"template\":{\"data\":{\"histogram2dcontour\":[{\"type\":\"histogram2dcontour\",\"colorbar\":{\"outlinewidth\":0,\"ticks\":\"\"},\"colorscale\":[[0.0,\"#0d0887\"],[0.1111111111111111,\"#46039f\"],[0.2222222222222222,\"#7201a8\"],[0.3333333333333333,\"#9c179e\"],[0.4444444444444444,\"#bd3786\"],[0.5555555555555556,\"#d8576b\"],[0.6666666666666666,\"#ed7953\"],[0.7777777777777778,\"#fb9f3a\"],[0.8888888888888888,\"#fdca26\"],[1.0,\"#f0f921\"]]}],\"choropleth\":[{\"type\":\"choropleth\",\"colorbar\":{\"outlinewidth\":0,\"ticks\":\"\"}}],\"histogram2d\":[{\"type\":\"histogram2d\",\"colorbar\":{\"outlinewidth\":0,\"ticks\":\"\"},\"colorscale\":[[0.0,\"#0d0887\"],[0.1111111111111111,\"#46039f\"],[0.2222222222222222,\"#7201a8\"],[0.3333333333333333,\"#9c179e\"],[0.4444444444444444,\"#bd3786\"],[0.5555555555555556,\"#d8576b\"],[0.6666666666666666,\"#ed7953\"],[0.7777777777777778,\"#fb9f3a\"],[0.8888888888888888,\"#fdca26\"],[1.0,\"#f0f921\"]]}],\"heatmap\":[{\"type\":\"heatmap\",\"colorbar\":{\"outlinewidth\":0,\"ticks\":\"\"},\"colorscale\":[[0.0,\"#0d0887\"],[0.1111111111111111,\"#46039f\"],[0.2222222222222222,\"#7201a8\"],[0.3333333333333333,\"#9c179e\"],[0.4444444444444444,\"#bd3786\"],[0.5555555555555556,\"#d8576b\"],[0.6666666666666666,\"#ed7953\"],[0.7777777777777778,\"#fb9f3a\"],[0.8888888888888888,\"#fdca26\"],[1.0,\"#f0f921\"]]}],\"heatmapgl\":[{\"type\":\"heatmapgl\",\"colorbar\":{\"outlinewidth\":0,\"ticks\":\"\"},\"colorscale\":[[0.0,\"#0d0887\"],[0.1111111111111111,\"#46039f\"],[0.2222222222222222,\"#7201a8\"],[0.3333333333333333,\"#9c179e\"],[0.4444444444444444,\"#bd3786\"],[0.5555555555555556,\"#d8576b\"],[0.6666666666666666,\"#ed7953\"],[0.7777777777777778,\"#fb9f3a\"],[0.8888888888888888,\"#fdca26\"],[1.0,\"#f0f921\"]]}],\"contourcarpet\":[{\"type\":\"contourcarpet\",\"colorbar\":{\"outlinewidth\":0,\"ticks\":\"\"}}],\"contour\":[{\"type\":\"contour\",\"colorbar\":{\"outlinewidth\":0,\"ticks\":\"\"},\"colorscale\":[[0.0,\"#0d0887\"],[0.1111111111111111,\"#46039f\"],[0.2222222222222222,\"#7201a8\"],[0.3333333333333333,\"#9c179e\"],[0.4444444444444444,\"#bd3786\"],[0.5555555555555556,\"#d8576b\"],[0.6666666666666666,\"#ed7953\"],[0.7777777777777778,\"#fb9f3a\"],[0.8888888888888888,\"#fdca26\"],[1.0,\"#f0f921\"]]}],\"surface\":[{\"type\":\"surface\",\"colorbar\":{\"outlinewidth\":0,\"ticks\":\"\"},\"colorscale\":[[0.0,\"#0d0887\"],[0.1111111111111111,\"#46039f\"],[0.2222222222222222,\"#7201a8\"],[0.3333333333333333,\"#9c179e\"],[0.4444444444444444,\"#bd3786\"],[0.5555555555555556,\"#d8576b\"],[0.6666666666666666,\"#ed7953\"],[0.7777777777777778,\"#fb9f3a\"],[0.8888888888888888,\"#fdca26\"],[1.0,\"#f0f921\"]]}],\"mesh3d\":[{\"type\":\"mesh3d\",\"colorbar\":{\"outlinewidth\":0,\"ticks\":\"\"}}],\"scatter\":[{\"fillpattern\":{\"fillmode\":\"overlay\",\"size\":10,\"solidity\":0.2},\"type\":\"scatter\"}],\"parcoords\":[{\"type\":\"parcoords\",\"line\":{\"colorbar\":{\"outlinewidth\":0,\"ticks\":\"\"}}}],\"scatterpolargl\":[{\"type\":\"scatterpolargl\",\"marker\":{\"colorbar\":{\"outlinewidth\":0,\"ticks\":\"\"}}}],\"bar\":[{\"error_x\":{\"color\":\"#2a3f5f\"},\"error_y\":{\"color\":\"#2a3f5f\"},\"marker\":{\"line\":{\"color\":\"#E5ECF6\",\"width\":0.5},\"pattern\":{\"fillmode\":\"overlay\",\"size\":10,\"solidity\":0.2}},\"type\":\"bar\"}],\"scattergeo\":[{\"type\":\"scattergeo\",\"marker\":{\"colorbar\":{\"outlinewidth\":0,\"ticks\":\"\"}}}],\"scatterpolar\":[{\"type\":\"scatterpolar\",\"marker\":{\"colorbar\":{\"outlinewidth\":0,\"ticks\":\"\"}}}],\"histogram\":[{\"marker\":{\"pattern\":{\"fillmode\":\"overlay\",\"size\":10,\"solidity\":0.2}},\"type\":\"histogram\"}],\"scattergl\":[{\"type\":\"scattergl\",\"marker\":{\"colorbar\":{\"outlinewidth\":0,\"ticks\":\"\"}}}],\"scatter3d\":[{\"type\":\"scatter3d\",\"line\":{\"colorbar\":{\"outlinewidth\":0,\"ticks\":\"\"}},\"marker\":{\"colorbar\":{\"outlinewidth\":0,\"ticks\":\"\"}}}],\"scattermapbox\":[{\"type\":\"scattermapbox\",\"marker\":{\"colorbar\":{\"outlinewidth\":0,\"ticks\":\"\"}}}],\"scatterternary\":[{\"type\":\"scatterternary\",\"marker\":{\"colorbar\":{\"outlinewidth\":0,\"ticks\":\"\"}}}],\"scattercarpet\":[{\"type\":\"scattercarpet\",\"marker\":{\"colorbar\":{\"outlinewidth\":0,\"ticks\":\"\"}}}],\"carpet\":[{\"aaxis\":{\"endlinecolor\":\"#2a3f5f\",\"gridcolor\":\"white\",\"linecolor\":\"white\",\"minorgridcolor\":\"white\",\"startlinecolor\":\"#2a3f5f\"},\"baxis\":{\"endlinecolor\":\"#2a3f5f\",\"gridcolor\":\"white\",\"linecolor\":\"white\",\"minorgridcolor\":\"white\",\"startlinecolor\":\"#2a3f5f\"},\"type\":\"carpet\"}],\"table\":[{\"cells\":{\"fill\":{\"color\":\"#EBF0F8\"},\"line\":{\"color\":\"white\"}},\"header\":{\"fill\":{\"color\":\"#C8D4E3\"},\"line\":{\"color\":\"white\"}},\"type\":\"table\"}],\"barpolar\":[{\"marker\":{\"line\":{\"color\":\"#E5ECF6\",\"width\":0.5},\"pattern\":{\"fillmode\":\"overlay\",\"size\":10,\"solidity\":0.2}},\"type\":\"barpolar\"}],\"pie\":[{\"automargin\":true,\"type\":\"pie\"}]},\"layout\":{\"autotypenumbers\":\"strict\",\"colorway\":[\"#636efa\",\"#EF553B\",\"#00cc96\",\"#ab63fa\",\"#FFA15A\",\"#19d3f3\",\"#FF6692\",\"#B6E880\",\"#FF97FF\",\"#FECB52\"],\"font\":{\"color\":\"#2a3f5f\"},\"hovermode\":\"closest\",\"hoverlabel\":{\"align\":\"left\"},\"paper_bgcolor\":\"white\",\"plot_bgcolor\":\"#E5ECF6\",\"polar\":{\"bgcolor\":\"#E5ECF6\",\"angularaxis\":{\"gridcolor\":\"white\",\"linecolor\":\"white\",\"ticks\":\"\"},\"radialaxis\":{\"gridcolor\":\"white\",\"linecolor\":\"white\",\"ticks\":\"\"}},\"ternary\":{\"bgcolor\":\"#E5ECF6\",\"aaxis\":{\"gridcolor\":\"white\",\"linecolor\":\"white\",\"ticks\":\"\"},\"baxis\":{\"gridcolor\":\"white\",\"linecolor\":\"white\",\"ticks\":\"\"},\"caxis\":{\"gridcolor\":\"white\",\"linecolor\":\"white\",\"ticks\":\"\"}},\"coloraxis\":{\"colorbar\":{\"outlinewidth\":0,\"ticks\":\"\"}},\"colorscale\":{\"sequential\":[[0.0,\"#0d0887\"],[0.1111111111111111,\"#46039f\"],[0.2222222222222222,\"#7201a8\"],[0.3333333333333333,\"#9c179e\"],[0.4444444444444444,\"#bd3786\"],[0.5555555555555556,\"#d8576b\"],[0.6666666666666666,\"#ed7953\"],[0.7777777777777778,\"#fb9f3a\"],[0.8888888888888888,\"#fdca26\"],[1.0,\"#f0f921\"]],\"sequentialminus\":[[0.0,\"#0d0887\"],[0.1111111111111111,\"#46039f\"],[0.2222222222222222,\"#7201a8\"],[0.3333333333333333,\"#9c179e\"],[0.4444444444444444,\"#bd3786\"],[0.5555555555555556,\"#d8576b\"],[0.6666666666666666,\"#ed7953\"],[0.7777777777777778,\"#fb9f3a\"],[0.8888888888888888,\"#fdca26\"],[1.0,\"#f0f921\"]],\"diverging\":[[0,\"#8e0152\"],[0.1,\"#c51b7d\"],[0.2,\"#de77ae\"],[0.3,\"#f1b6da\"],[0.4,\"#fde0ef\"],[0.5,\"#f7f7f7\"],[0.6,\"#e6f5d0\"],[0.7,\"#b8e186\"],[0.8,\"#7fbc41\"],[0.9,\"#4d9221\"],[1,\"#276419\"]]},\"xaxis\":{\"gridcolor\":\"white\",\"linecolor\":\"white\",\"ticks\":\"\",\"title\":{\"standoff\":15},\"zerolinecolor\":\"white\",\"automargin\":true,\"zerolinewidth\":2},\"yaxis\":{\"gridcolor\":\"white\",\"linecolor\":\"white\",\"ticks\":\"\",\"title\":{\"standoff\":15},\"zerolinecolor\":\"white\",\"automargin\":true,\"zerolinewidth\":2},\"scene\":{\"xaxis\":{\"backgroundcolor\":\"#E5ECF6\",\"gridcolor\":\"white\",\"linecolor\":\"white\",\"showbackground\":true,\"ticks\":\"\",\"zerolinecolor\":\"white\",\"gridwidth\":2},\"yaxis\":{\"backgroundcolor\":\"#E5ECF6\",\"gridcolor\":\"white\",\"linecolor\":\"white\",\"showbackground\":true,\"ticks\":\"\",\"zerolinecolor\":\"white\",\"gridwidth\":2},\"zaxis\":{\"backgroundcolor\":\"#E5ECF6\",\"gridcolor\":\"white\",\"linecolor\":\"white\",\"showbackground\":true,\"ticks\":\"\",\"zerolinecolor\":\"white\",\"gridwidth\":2}},\"shapedefaults\":{\"line\":{\"color\":\"#2a3f5f\"}},\"annotationdefaults\":{\"arrowcolor\":\"#2a3f5f\",\"arrowhead\":0,\"arrowwidth\":1},\"geo\":{\"bgcolor\":\"white\",\"landcolor\":\"#E5ECF6\",\"subunitcolor\":\"white\",\"showland\":true,\"showlakes\":true,\"lakecolor\":\"white\"},\"title\":{\"x\":0.05},\"mapbox\":{\"style\":\"light\"}}},\"xaxis\":{\"anchor\":\"y\",\"domain\":[0.0,1.0],\"title\":{\"text\":\"x\"}},\"yaxis\":{\"anchor\":\"x\",\"domain\":[0.0,1.0],\"title\":{\"text\":\"count\"}},\"legend\":{\"tracegroupgap\":0},\"title\":{\"text\":\"Distribution of Text Length (Word Count)\"},\"barmode\":\"relative\"},                        {\"responsive\": true}                    ).then(function(){\n",
              "                            \n",
              "var gd = document.getElementById('98d45a90-a143-4315-b097-22821bcfec79');\n",
              "var x = new MutationObserver(function (mutations, observer) {{\n",
              "        var display = window.getComputedStyle(gd).display;\n",
              "        if (!display || display === 'none') {{\n",
              "            console.log([gd, 'removed!']);\n",
              "            Plotly.purge(gd);\n",
              "            observer.disconnect();\n",
              "        }}\n",
              "}});\n",
              "\n",
              "// Listen for the removal of the full notebook cells\n",
              "var notebookContainer = gd.closest('#notebook-container');\n",
              "if (notebookContainer) {{\n",
              "    x.observe(notebookContainer, {childList: true});\n",
              "}}\n",
              "\n",
              "// Listen for the clearing of the current output cell\n",
              "var outputEl = gd.closest('.output');\n",
              "if (outputEl) {{\n",
              "    x.observe(outputEl, {childList: true});\n",
              "}}\n",
              "\n",
              "                        })                };                });            </script>        </div>"
            ]
          },
          "metadata": {}
        }
      ]
    },
    {
      "cell_type": "code",
      "source": [
        "px.histogram(x=train_csv[\"preprocessed_html_text\"].apply(lambda text: set(text.split(\" \"))).apply(len),\n",
        "             title=\"Unique Words Count\")"
      ],
      "metadata": {
        "colab": {
          "base_uri": "https://localhost:8080/",
          "height": 542
        },
        "id": "6J_b7d4opoKN",
        "outputId": "367249ff-2f56-40fb-c809-98509c56c52e"
      },
      "execution_count": 43,
      "outputs": [
        {
          "output_type": "display_data",
          "data": {
            "application/vnd.plotly.v1+json": {
              "data": [
                {
                  "alignmentgroup": "True",
                  "bingroup": "x",
                  "hovertemplate": "x=%{x}<br>count=%{y}<extra></extra>",
                  "legendgroup": "",
                  "marker": {
                    "color": "#636efa",
                    "pattern": {
                      "shape": ""
                    }
                  },
                  "name": "",
                  "offsetgroup": "",
                  "orientation": "v",
                  "showlegend": false,
                  "x": [
                    476,
                    1003,
                    519,
                    279,
                    243,
                    194,
                    218,
                    128,
                    170,
                    193,
                    198,
                    594,
                    491,
                    491,
                    346,
                    346,
                    512,
                    483,
                    507,
                    290,
                    1336,
                    1875,
                    437,
                    517,
                    429,
                    786,
                    664,
                    1035,
                    1178,
                    412,
                    600,
                    1700,
                    449,
                    711,
                    1381,
                    261,
                    438,
                    291,
                    1080,
                    337,
                    674,
                    487,
                    291,
                    348,
                    517,
                    343,
                    1223,
                    1891,
                    565,
                    189,
                    301,
                    257,
                    411,
                    411,
                    268,
                    262,
                    912,
                    616,
                    443,
                    1455,
                    345,
                    650,
                    467,
                    693,
                    517,
                    144,
                    421,
                    288,
                    611,
                    606,
                    719,
                    529,
                    446,
                    207,
                    799,
                    460,
                    900,
                    531,
                    984,
                    545,
                    466,
                    409,
                    310,
                    717,
                    423,
                    252,
                    398,
                    398,
                    312,
                    312,
                    801,
                    279,
                    355,
                    1072,
                    1067,
                    7156,
                    457,
                    422,
                    559,
                    494
                  ],
                  "xaxis": "x",
                  "yaxis": "y",
                  "type": "histogram"
                }
              ],
              "layout": {
                "template": {
                  "data": {
                    "histogram2dcontour": [
                      {
                        "type": "histogram2dcontour",
                        "colorbar": {
                          "outlinewidth": 0,
                          "ticks": ""
                        },
                        "colorscale": [
                          [
                            0,
                            "#0d0887"
                          ],
                          [
                            0.1111111111111111,
                            "#46039f"
                          ],
                          [
                            0.2222222222222222,
                            "#7201a8"
                          ],
                          [
                            0.3333333333333333,
                            "#9c179e"
                          ],
                          [
                            0.4444444444444444,
                            "#bd3786"
                          ],
                          [
                            0.5555555555555556,
                            "#d8576b"
                          ],
                          [
                            0.6666666666666666,
                            "#ed7953"
                          ],
                          [
                            0.7777777777777778,
                            "#fb9f3a"
                          ],
                          [
                            0.8888888888888888,
                            "#fdca26"
                          ],
                          [
                            1,
                            "#f0f921"
                          ]
                        ]
                      }
                    ],
                    "choropleth": [
                      {
                        "type": "choropleth",
                        "colorbar": {
                          "outlinewidth": 0,
                          "ticks": ""
                        }
                      }
                    ],
                    "histogram2d": [
                      {
                        "type": "histogram2d",
                        "colorbar": {
                          "outlinewidth": 0,
                          "ticks": ""
                        },
                        "colorscale": [
                          [
                            0,
                            "#0d0887"
                          ],
                          [
                            0.1111111111111111,
                            "#46039f"
                          ],
                          [
                            0.2222222222222222,
                            "#7201a8"
                          ],
                          [
                            0.3333333333333333,
                            "#9c179e"
                          ],
                          [
                            0.4444444444444444,
                            "#bd3786"
                          ],
                          [
                            0.5555555555555556,
                            "#d8576b"
                          ],
                          [
                            0.6666666666666666,
                            "#ed7953"
                          ],
                          [
                            0.7777777777777778,
                            "#fb9f3a"
                          ],
                          [
                            0.8888888888888888,
                            "#fdca26"
                          ],
                          [
                            1,
                            "#f0f921"
                          ]
                        ]
                      }
                    ],
                    "heatmap": [
                      {
                        "type": "heatmap",
                        "colorbar": {
                          "outlinewidth": 0,
                          "ticks": ""
                        },
                        "colorscale": [
                          [
                            0,
                            "#0d0887"
                          ],
                          [
                            0.1111111111111111,
                            "#46039f"
                          ],
                          [
                            0.2222222222222222,
                            "#7201a8"
                          ],
                          [
                            0.3333333333333333,
                            "#9c179e"
                          ],
                          [
                            0.4444444444444444,
                            "#bd3786"
                          ],
                          [
                            0.5555555555555556,
                            "#d8576b"
                          ],
                          [
                            0.6666666666666666,
                            "#ed7953"
                          ],
                          [
                            0.7777777777777778,
                            "#fb9f3a"
                          ],
                          [
                            0.8888888888888888,
                            "#fdca26"
                          ],
                          [
                            1,
                            "#f0f921"
                          ]
                        ]
                      }
                    ],
                    "heatmapgl": [
                      {
                        "type": "heatmapgl",
                        "colorbar": {
                          "outlinewidth": 0,
                          "ticks": ""
                        },
                        "colorscale": [
                          [
                            0,
                            "#0d0887"
                          ],
                          [
                            0.1111111111111111,
                            "#46039f"
                          ],
                          [
                            0.2222222222222222,
                            "#7201a8"
                          ],
                          [
                            0.3333333333333333,
                            "#9c179e"
                          ],
                          [
                            0.4444444444444444,
                            "#bd3786"
                          ],
                          [
                            0.5555555555555556,
                            "#d8576b"
                          ],
                          [
                            0.6666666666666666,
                            "#ed7953"
                          ],
                          [
                            0.7777777777777778,
                            "#fb9f3a"
                          ],
                          [
                            0.8888888888888888,
                            "#fdca26"
                          ],
                          [
                            1,
                            "#f0f921"
                          ]
                        ]
                      }
                    ],
                    "contourcarpet": [
                      {
                        "type": "contourcarpet",
                        "colorbar": {
                          "outlinewidth": 0,
                          "ticks": ""
                        }
                      }
                    ],
                    "contour": [
                      {
                        "type": "contour",
                        "colorbar": {
                          "outlinewidth": 0,
                          "ticks": ""
                        },
                        "colorscale": [
                          [
                            0,
                            "#0d0887"
                          ],
                          [
                            0.1111111111111111,
                            "#46039f"
                          ],
                          [
                            0.2222222222222222,
                            "#7201a8"
                          ],
                          [
                            0.3333333333333333,
                            "#9c179e"
                          ],
                          [
                            0.4444444444444444,
                            "#bd3786"
                          ],
                          [
                            0.5555555555555556,
                            "#d8576b"
                          ],
                          [
                            0.6666666666666666,
                            "#ed7953"
                          ],
                          [
                            0.7777777777777778,
                            "#fb9f3a"
                          ],
                          [
                            0.8888888888888888,
                            "#fdca26"
                          ],
                          [
                            1,
                            "#f0f921"
                          ]
                        ]
                      }
                    ],
                    "surface": [
                      {
                        "type": "surface",
                        "colorbar": {
                          "outlinewidth": 0,
                          "ticks": ""
                        },
                        "colorscale": [
                          [
                            0,
                            "#0d0887"
                          ],
                          [
                            0.1111111111111111,
                            "#46039f"
                          ],
                          [
                            0.2222222222222222,
                            "#7201a8"
                          ],
                          [
                            0.3333333333333333,
                            "#9c179e"
                          ],
                          [
                            0.4444444444444444,
                            "#bd3786"
                          ],
                          [
                            0.5555555555555556,
                            "#d8576b"
                          ],
                          [
                            0.6666666666666666,
                            "#ed7953"
                          ],
                          [
                            0.7777777777777778,
                            "#fb9f3a"
                          ],
                          [
                            0.8888888888888888,
                            "#fdca26"
                          ],
                          [
                            1,
                            "#f0f921"
                          ]
                        ]
                      }
                    ],
                    "mesh3d": [
                      {
                        "type": "mesh3d",
                        "colorbar": {
                          "outlinewidth": 0,
                          "ticks": ""
                        }
                      }
                    ],
                    "scatter": [
                      {
                        "fillpattern": {
                          "fillmode": "overlay",
                          "size": 10,
                          "solidity": 0.2
                        },
                        "type": "scatter"
                      }
                    ],
                    "parcoords": [
                      {
                        "type": "parcoords",
                        "line": {
                          "colorbar": {
                            "outlinewidth": 0,
                            "ticks": ""
                          }
                        }
                      }
                    ],
                    "scatterpolargl": [
                      {
                        "type": "scatterpolargl",
                        "marker": {
                          "colorbar": {
                            "outlinewidth": 0,
                            "ticks": ""
                          }
                        }
                      }
                    ],
                    "bar": [
                      {
                        "error_x": {
                          "color": "#2a3f5f"
                        },
                        "error_y": {
                          "color": "#2a3f5f"
                        },
                        "marker": {
                          "line": {
                            "color": "#E5ECF6",
                            "width": 0.5
                          },
                          "pattern": {
                            "fillmode": "overlay",
                            "size": 10,
                            "solidity": 0.2
                          }
                        },
                        "type": "bar"
                      }
                    ],
                    "scattergeo": [
                      {
                        "type": "scattergeo",
                        "marker": {
                          "colorbar": {
                            "outlinewidth": 0,
                            "ticks": ""
                          }
                        }
                      }
                    ],
                    "scatterpolar": [
                      {
                        "type": "scatterpolar",
                        "marker": {
                          "colorbar": {
                            "outlinewidth": 0,
                            "ticks": ""
                          }
                        }
                      }
                    ],
                    "histogram": [
                      {
                        "marker": {
                          "pattern": {
                            "fillmode": "overlay",
                            "size": 10,
                            "solidity": 0.2
                          }
                        },
                        "type": "histogram"
                      }
                    ],
                    "scattergl": [
                      {
                        "type": "scattergl",
                        "marker": {
                          "colorbar": {
                            "outlinewidth": 0,
                            "ticks": ""
                          }
                        }
                      }
                    ],
                    "scatter3d": [
                      {
                        "type": "scatter3d",
                        "line": {
                          "colorbar": {
                            "outlinewidth": 0,
                            "ticks": ""
                          }
                        },
                        "marker": {
                          "colorbar": {
                            "outlinewidth": 0,
                            "ticks": ""
                          }
                        }
                      }
                    ],
                    "scattermapbox": [
                      {
                        "type": "scattermapbox",
                        "marker": {
                          "colorbar": {
                            "outlinewidth": 0,
                            "ticks": ""
                          }
                        }
                      }
                    ],
                    "scatterternary": [
                      {
                        "type": "scatterternary",
                        "marker": {
                          "colorbar": {
                            "outlinewidth": 0,
                            "ticks": ""
                          }
                        }
                      }
                    ],
                    "scattercarpet": [
                      {
                        "type": "scattercarpet",
                        "marker": {
                          "colorbar": {
                            "outlinewidth": 0,
                            "ticks": ""
                          }
                        }
                      }
                    ],
                    "carpet": [
                      {
                        "aaxis": {
                          "endlinecolor": "#2a3f5f",
                          "gridcolor": "white",
                          "linecolor": "white",
                          "minorgridcolor": "white",
                          "startlinecolor": "#2a3f5f"
                        },
                        "baxis": {
                          "endlinecolor": "#2a3f5f",
                          "gridcolor": "white",
                          "linecolor": "white",
                          "minorgridcolor": "white",
                          "startlinecolor": "#2a3f5f"
                        },
                        "type": "carpet"
                      }
                    ],
                    "table": [
                      {
                        "cells": {
                          "fill": {
                            "color": "#EBF0F8"
                          },
                          "line": {
                            "color": "white"
                          }
                        },
                        "header": {
                          "fill": {
                            "color": "#C8D4E3"
                          },
                          "line": {
                            "color": "white"
                          }
                        },
                        "type": "table"
                      }
                    ],
                    "barpolar": [
                      {
                        "marker": {
                          "line": {
                            "color": "#E5ECF6",
                            "width": 0.5
                          },
                          "pattern": {
                            "fillmode": "overlay",
                            "size": 10,
                            "solidity": 0.2
                          }
                        },
                        "type": "barpolar"
                      }
                    ],
                    "pie": [
                      {
                        "automargin": true,
                        "type": "pie"
                      }
                    ]
                  },
                  "layout": {
                    "autotypenumbers": "strict",
                    "colorway": [
                      "#636efa",
                      "#EF553B",
                      "#00cc96",
                      "#ab63fa",
                      "#FFA15A",
                      "#19d3f3",
                      "#FF6692",
                      "#B6E880",
                      "#FF97FF",
                      "#FECB52"
                    ],
                    "font": {
                      "color": "#2a3f5f"
                    },
                    "hovermode": "closest",
                    "hoverlabel": {
                      "align": "left"
                    },
                    "paper_bgcolor": "white",
                    "plot_bgcolor": "#E5ECF6",
                    "polar": {
                      "bgcolor": "#E5ECF6",
                      "angularaxis": {
                        "gridcolor": "white",
                        "linecolor": "white",
                        "ticks": ""
                      },
                      "radialaxis": {
                        "gridcolor": "white",
                        "linecolor": "white",
                        "ticks": ""
                      }
                    },
                    "ternary": {
                      "bgcolor": "#E5ECF6",
                      "aaxis": {
                        "gridcolor": "white",
                        "linecolor": "white",
                        "ticks": ""
                      },
                      "baxis": {
                        "gridcolor": "white",
                        "linecolor": "white",
                        "ticks": ""
                      },
                      "caxis": {
                        "gridcolor": "white",
                        "linecolor": "white",
                        "ticks": ""
                      }
                    },
                    "coloraxis": {
                      "colorbar": {
                        "outlinewidth": 0,
                        "ticks": ""
                      }
                    },
                    "colorscale": {
                      "sequential": [
                        [
                          0,
                          "#0d0887"
                        ],
                        [
                          0.1111111111111111,
                          "#46039f"
                        ],
                        [
                          0.2222222222222222,
                          "#7201a8"
                        ],
                        [
                          0.3333333333333333,
                          "#9c179e"
                        ],
                        [
                          0.4444444444444444,
                          "#bd3786"
                        ],
                        [
                          0.5555555555555556,
                          "#d8576b"
                        ],
                        [
                          0.6666666666666666,
                          "#ed7953"
                        ],
                        [
                          0.7777777777777778,
                          "#fb9f3a"
                        ],
                        [
                          0.8888888888888888,
                          "#fdca26"
                        ],
                        [
                          1,
                          "#f0f921"
                        ]
                      ],
                      "sequentialminus": [
                        [
                          0,
                          "#0d0887"
                        ],
                        [
                          0.1111111111111111,
                          "#46039f"
                        ],
                        [
                          0.2222222222222222,
                          "#7201a8"
                        ],
                        [
                          0.3333333333333333,
                          "#9c179e"
                        ],
                        [
                          0.4444444444444444,
                          "#bd3786"
                        ],
                        [
                          0.5555555555555556,
                          "#d8576b"
                        ],
                        [
                          0.6666666666666666,
                          "#ed7953"
                        ],
                        [
                          0.7777777777777778,
                          "#fb9f3a"
                        ],
                        [
                          0.8888888888888888,
                          "#fdca26"
                        ],
                        [
                          1,
                          "#f0f921"
                        ]
                      ],
                      "diverging": [
                        [
                          0,
                          "#8e0152"
                        ],
                        [
                          0.1,
                          "#c51b7d"
                        ],
                        [
                          0.2,
                          "#de77ae"
                        ],
                        [
                          0.3,
                          "#f1b6da"
                        ],
                        [
                          0.4,
                          "#fde0ef"
                        ],
                        [
                          0.5,
                          "#f7f7f7"
                        ],
                        [
                          0.6,
                          "#e6f5d0"
                        ],
                        [
                          0.7,
                          "#b8e186"
                        ],
                        [
                          0.8,
                          "#7fbc41"
                        ],
                        [
                          0.9,
                          "#4d9221"
                        ],
                        [
                          1,
                          "#276419"
                        ]
                      ]
                    },
                    "xaxis": {
                      "gridcolor": "white",
                      "linecolor": "white",
                      "ticks": "",
                      "title": {
                        "standoff": 15
                      },
                      "zerolinecolor": "white",
                      "automargin": true,
                      "zerolinewidth": 2
                    },
                    "yaxis": {
                      "gridcolor": "white",
                      "linecolor": "white",
                      "ticks": "",
                      "title": {
                        "standoff": 15
                      },
                      "zerolinecolor": "white",
                      "automargin": true,
                      "zerolinewidth": 2
                    },
                    "scene": {
                      "xaxis": {
                        "backgroundcolor": "#E5ECF6",
                        "gridcolor": "white",
                        "linecolor": "white",
                        "showbackground": true,
                        "ticks": "",
                        "zerolinecolor": "white",
                        "gridwidth": 2
                      },
                      "yaxis": {
                        "backgroundcolor": "#E5ECF6",
                        "gridcolor": "white",
                        "linecolor": "white",
                        "showbackground": true,
                        "ticks": "",
                        "zerolinecolor": "white",
                        "gridwidth": 2
                      },
                      "zaxis": {
                        "backgroundcolor": "#E5ECF6",
                        "gridcolor": "white",
                        "linecolor": "white",
                        "showbackground": true,
                        "ticks": "",
                        "zerolinecolor": "white",
                        "gridwidth": 2
                      }
                    },
                    "shapedefaults": {
                      "line": {
                        "color": "#2a3f5f"
                      }
                    },
                    "annotationdefaults": {
                      "arrowcolor": "#2a3f5f",
                      "arrowhead": 0,
                      "arrowwidth": 1
                    },
                    "geo": {
                      "bgcolor": "white",
                      "landcolor": "#E5ECF6",
                      "subunitcolor": "white",
                      "showland": true,
                      "showlakes": true,
                      "lakecolor": "white"
                    },
                    "title": {
                      "x": 0.05
                    },
                    "mapbox": {
                      "style": "light"
                    }
                  }
                },
                "xaxis": {
                  "anchor": "y",
                  "domain": [
                    0,
                    1
                  ],
                  "title": {
                    "text": "x"
                  }
                },
                "yaxis": {
                  "anchor": "x",
                  "domain": [
                    0,
                    1
                  ],
                  "title": {
                    "text": "count"
                  }
                },
                "legend": {
                  "tracegroupgap": 0
                },
                "title": {
                  "text": "Unique Words Count"
                },
                "barmode": "relative"
              },
              "config": {
                "plotlyServerURL": "https://plot.ly"
              }
            },
            "text/html": [
              "<div>                            <div id=\"c5265f27-fc18-4723-964d-fa7490278157\" class=\"plotly-graph-div\" style=\"height:525px; width:100%;\"></div>            <script type=\"text/javascript\">                require([\"plotly\"], function(Plotly) {                    window.PLOTLYENV=window.PLOTLYENV || {};                                    if (document.getElementById(\"c5265f27-fc18-4723-964d-fa7490278157\")) {                    Plotly.newPlot(                        \"c5265f27-fc18-4723-964d-fa7490278157\",                        [{\"alignmentgroup\":\"True\",\"bingroup\":\"x\",\"hovertemplate\":\"x=%{x}\\u003cbr\\u003ecount=%{y}\\u003cextra\\u003e\\u003c\\u002fextra\\u003e\",\"legendgroup\":\"\",\"marker\":{\"color\":\"#636efa\",\"pattern\":{\"shape\":\"\"}},\"name\":\"\",\"offsetgroup\":\"\",\"orientation\":\"v\",\"showlegend\":false,\"x\":[476,1003,519,279,243,194,218,128,170,193,198,594,491,491,346,346,512,483,507,290,1336,1875,437,517,429,786,664,1035,1178,412,600,1700,449,711,1381,261,438,291,1080,337,674,487,291,348,517,343,1223,1891,565,189,301,257,411,411,268,262,912,616,443,1455,345,650,467,693,517,144,421,288,611,606,719,529,446,207,799,460,900,531,984,545,466,409,310,717,423,252,398,398,312,312,801,279,355,1072,1067,7156,457,422,559,494],\"xaxis\":\"x\",\"yaxis\":\"y\",\"type\":\"histogram\"}],                        {\"template\":{\"data\":{\"histogram2dcontour\":[{\"type\":\"histogram2dcontour\",\"colorbar\":{\"outlinewidth\":0,\"ticks\":\"\"},\"colorscale\":[[0.0,\"#0d0887\"],[0.1111111111111111,\"#46039f\"],[0.2222222222222222,\"#7201a8\"],[0.3333333333333333,\"#9c179e\"],[0.4444444444444444,\"#bd3786\"],[0.5555555555555556,\"#d8576b\"],[0.6666666666666666,\"#ed7953\"],[0.7777777777777778,\"#fb9f3a\"],[0.8888888888888888,\"#fdca26\"],[1.0,\"#f0f921\"]]}],\"choropleth\":[{\"type\":\"choropleth\",\"colorbar\":{\"outlinewidth\":0,\"ticks\":\"\"}}],\"histogram2d\":[{\"type\":\"histogram2d\",\"colorbar\":{\"outlinewidth\":0,\"ticks\":\"\"},\"colorscale\":[[0.0,\"#0d0887\"],[0.1111111111111111,\"#46039f\"],[0.2222222222222222,\"#7201a8\"],[0.3333333333333333,\"#9c179e\"],[0.4444444444444444,\"#bd3786\"],[0.5555555555555556,\"#d8576b\"],[0.6666666666666666,\"#ed7953\"],[0.7777777777777778,\"#fb9f3a\"],[0.8888888888888888,\"#fdca26\"],[1.0,\"#f0f921\"]]}],\"heatmap\":[{\"type\":\"heatmap\",\"colorbar\":{\"outlinewidth\":0,\"ticks\":\"\"},\"colorscale\":[[0.0,\"#0d0887\"],[0.1111111111111111,\"#46039f\"],[0.2222222222222222,\"#7201a8\"],[0.3333333333333333,\"#9c179e\"],[0.4444444444444444,\"#bd3786\"],[0.5555555555555556,\"#d8576b\"],[0.6666666666666666,\"#ed7953\"],[0.7777777777777778,\"#fb9f3a\"],[0.8888888888888888,\"#fdca26\"],[1.0,\"#f0f921\"]]}],\"heatmapgl\":[{\"type\":\"heatmapgl\",\"colorbar\":{\"outlinewidth\":0,\"ticks\":\"\"},\"colorscale\":[[0.0,\"#0d0887\"],[0.1111111111111111,\"#46039f\"],[0.2222222222222222,\"#7201a8\"],[0.3333333333333333,\"#9c179e\"],[0.4444444444444444,\"#bd3786\"],[0.5555555555555556,\"#d8576b\"],[0.6666666666666666,\"#ed7953\"],[0.7777777777777778,\"#fb9f3a\"],[0.8888888888888888,\"#fdca26\"],[1.0,\"#f0f921\"]]}],\"contourcarpet\":[{\"type\":\"contourcarpet\",\"colorbar\":{\"outlinewidth\":0,\"ticks\":\"\"}}],\"contour\":[{\"type\":\"contour\",\"colorbar\":{\"outlinewidth\":0,\"ticks\":\"\"},\"colorscale\":[[0.0,\"#0d0887\"],[0.1111111111111111,\"#46039f\"],[0.2222222222222222,\"#7201a8\"],[0.3333333333333333,\"#9c179e\"],[0.4444444444444444,\"#bd3786\"],[0.5555555555555556,\"#d8576b\"],[0.6666666666666666,\"#ed7953\"],[0.7777777777777778,\"#fb9f3a\"],[0.8888888888888888,\"#fdca26\"],[1.0,\"#f0f921\"]]}],\"surface\":[{\"type\":\"surface\",\"colorbar\":{\"outlinewidth\":0,\"ticks\":\"\"},\"colorscale\":[[0.0,\"#0d0887\"],[0.1111111111111111,\"#46039f\"],[0.2222222222222222,\"#7201a8\"],[0.3333333333333333,\"#9c179e\"],[0.4444444444444444,\"#bd3786\"],[0.5555555555555556,\"#d8576b\"],[0.6666666666666666,\"#ed7953\"],[0.7777777777777778,\"#fb9f3a\"],[0.8888888888888888,\"#fdca26\"],[1.0,\"#f0f921\"]]}],\"mesh3d\":[{\"type\":\"mesh3d\",\"colorbar\":{\"outlinewidth\":0,\"ticks\":\"\"}}],\"scatter\":[{\"fillpattern\":{\"fillmode\":\"overlay\",\"size\":10,\"solidity\":0.2},\"type\":\"scatter\"}],\"parcoords\":[{\"type\":\"parcoords\",\"line\":{\"colorbar\":{\"outlinewidth\":0,\"ticks\":\"\"}}}],\"scatterpolargl\":[{\"type\":\"scatterpolargl\",\"marker\":{\"colorbar\":{\"outlinewidth\":0,\"ticks\":\"\"}}}],\"bar\":[{\"error_x\":{\"color\":\"#2a3f5f\"},\"error_y\":{\"color\":\"#2a3f5f\"},\"marker\":{\"line\":{\"color\":\"#E5ECF6\",\"width\":0.5},\"pattern\":{\"fillmode\":\"overlay\",\"size\":10,\"solidity\":0.2}},\"type\":\"bar\"}],\"scattergeo\":[{\"type\":\"scattergeo\",\"marker\":{\"colorbar\":{\"outlinewidth\":0,\"ticks\":\"\"}}}],\"scatterpolar\":[{\"type\":\"scatterpolar\",\"marker\":{\"colorbar\":{\"outlinewidth\":0,\"ticks\":\"\"}}}],\"histogram\":[{\"marker\":{\"pattern\":{\"fillmode\":\"overlay\",\"size\":10,\"solidity\":0.2}},\"type\":\"histogram\"}],\"scattergl\":[{\"type\":\"scattergl\",\"marker\":{\"colorbar\":{\"outlinewidth\":0,\"ticks\":\"\"}}}],\"scatter3d\":[{\"type\":\"scatter3d\",\"line\":{\"colorbar\":{\"outlinewidth\":0,\"ticks\":\"\"}},\"marker\":{\"colorbar\":{\"outlinewidth\":0,\"ticks\":\"\"}}}],\"scattermapbox\":[{\"type\":\"scattermapbox\",\"marker\":{\"colorbar\":{\"outlinewidth\":0,\"ticks\":\"\"}}}],\"scatterternary\":[{\"type\":\"scatterternary\",\"marker\":{\"colorbar\":{\"outlinewidth\":0,\"ticks\":\"\"}}}],\"scattercarpet\":[{\"type\":\"scattercarpet\",\"marker\":{\"colorbar\":{\"outlinewidth\":0,\"ticks\":\"\"}}}],\"carpet\":[{\"aaxis\":{\"endlinecolor\":\"#2a3f5f\",\"gridcolor\":\"white\",\"linecolor\":\"white\",\"minorgridcolor\":\"white\",\"startlinecolor\":\"#2a3f5f\"},\"baxis\":{\"endlinecolor\":\"#2a3f5f\",\"gridcolor\":\"white\",\"linecolor\":\"white\",\"minorgridcolor\":\"white\",\"startlinecolor\":\"#2a3f5f\"},\"type\":\"carpet\"}],\"table\":[{\"cells\":{\"fill\":{\"color\":\"#EBF0F8\"},\"line\":{\"color\":\"white\"}},\"header\":{\"fill\":{\"color\":\"#C8D4E3\"},\"line\":{\"color\":\"white\"}},\"type\":\"table\"}],\"barpolar\":[{\"marker\":{\"line\":{\"color\":\"#E5ECF6\",\"width\":0.5},\"pattern\":{\"fillmode\":\"overlay\",\"size\":10,\"solidity\":0.2}},\"type\":\"barpolar\"}],\"pie\":[{\"automargin\":true,\"type\":\"pie\"}]},\"layout\":{\"autotypenumbers\":\"strict\",\"colorway\":[\"#636efa\",\"#EF553B\",\"#00cc96\",\"#ab63fa\",\"#FFA15A\",\"#19d3f3\",\"#FF6692\",\"#B6E880\",\"#FF97FF\",\"#FECB52\"],\"font\":{\"color\":\"#2a3f5f\"},\"hovermode\":\"closest\",\"hoverlabel\":{\"align\":\"left\"},\"paper_bgcolor\":\"white\",\"plot_bgcolor\":\"#E5ECF6\",\"polar\":{\"bgcolor\":\"#E5ECF6\",\"angularaxis\":{\"gridcolor\":\"white\",\"linecolor\":\"white\",\"ticks\":\"\"},\"radialaxis\":{\"gridcolor\":\"white\",\"linecolor\":\"white\",\"ticks\":\"\"}},\"ternary\":{\"bgcolor\":\"#E5ECF6\",\"aaxis\":{\"gridcolor\":\"white\",\"linecolor\":\"white\",\"ticks\":\"\"},\"baxis\":{\"gridcolor\":\"white\",\"linecolor\":\"white\",\"ticks\":\"\"},\"caxis\":{\"gridcolor\":\"white\",\"linecolor\":\"white\",\"ticks\":\"\"}},\"coloraxis\":{\"colorbar\":{\"outlinewidth\":0,\"ticks\":\"\"}},\"colorscale\":{\"sequential\":[[0.0,\"#0d0887\"],[0.1111111111111111,\"#46039f\"],[0.2222222222222222,\"#7201a8\"],[0.3333333333333333,\"#9c179e\"],[0.4444444444444444,\"#bd3786\"],[0.5555555555555556,\"#d8576b\"],[0.6666666666666666,\"#ed7953\"],[0.7777777777777778,\"#fb9f3a\"],[0.8888888888888888,\"#fdca26\"],[1.0,\"#f0f921\"]],\"sequentialminus\":[[0.0,\"#0d0887\"],[0.1111111111111111,\"#46039f\"],[0.2222222222222222,\"#7201a8\"],[0.3333333333333333,\"#9c179e\"],[0.4444444444444444,\"#bd3786\"],[0.5555555555555556,\"#d8576b\"],[0.6666666666666666,\"#ed7953\"],[0.7777777777777778,\"#fb9f3a\"],[0.8888888888888888,\"#fdca26\"],[1.0,\"#f0f921\"]],\"diverging\":[[0,\"#8e0152\"],[0.1,\"#c51b7d\"],[0.2,\"#de77ae\"],[0.3,\"#f1b6da\"],[0.4,\"#fde0ef\"],[0.5,\"#f7f7f7\"],[0.6,\"#e6f5d0\"],[0.7,\"#b8e186\"],[0.8,\"#7fbc41\"],[0.9,\"#4d9221\"],[1,\"#276419\"]]},\"xaxis\":{\"gridcolor\":\"white\",\"linecolor\":\"white\",\"ticks\":\"\",\"title\":{\"standoff\":15},\"zerolinecolor\":\"white\",\"automargin\":true,\"zerolinewidth\":2},\"yaxis\":{\"gridcolor\":\"white\",\"linecolor\":\"white\",\"ticks\":\"\",\"title\":{\"standoff\":15},\"zerolinecolor\":\"white\",\"automargin\":true,\"zerolinewidth\":2},\"scene\":{\"xaxis\":{\"backgroundcolor\":\"#E5ECF6\",\"gridcolor\":\"white\",\"linecolor\":\"white\",\"showbackground\":true,\"ticks\":\"\",\"zerolinecolor\":\"white\",\"gridwidth\":2},\"yaxis\":{\"backgroundcolor\":\"#E5ECF6\",\"gridcolor\":\"white\",\"linecolor\":\"white\",\"showbackground\":true,\"ticks\":\"\",\"zerolinecolor\":\"white\",\"gridwidth\":2},\"zaxis\":{\"backgroundcolor\":\"#E5ECF6\",\"gridcolor\":\"white\",\"linecolor\":\"white\",\"showbackground\":true,\"ticks\":\"\",\"zerolinecolor\":\"white\",\"gridwidth\":2}},\"shapedefaults\":{\"line\":{\"color\":\"#2a3f5f\"}},\"annotationdefaults\":{\"arrowcolor\":\"#2a3f5f\",\"arrowhead\":0,\"arrowwidth\":1},\"geo\":{\"bgcolor\":\"white\",\"landcolor\":\"#E5ECF6\",\"subunitcolor\":\"white\",\"showland\":true,\"showlakes\":true,\"lakecolor\":\"white\"},\"title\":{\"x\":0.05},\"mapbox\":{\"style\":\"light\"}}},\"xaxis\":{\"anchor\":\"y\",\"domain\":[0.0,1.0],\"title\":{\"text\":\"x\"}},\"yaxis\":{\"anchor\":\"x\",\"domain\":[0.0,1.0],\"title\":{\"text\":\"count\"}},\"legend\":{\"tracegroupgap\":0},\"title\":{\"text\":\"Unique Words Count\"},\"barmode\":\"relative\"},                        {\"responsive\": true}                    ).then(function(){\n",
              "                            \n",
              "var gd = document.getElementById('c5265f27-fc18-4723-964d-fa7490278157');\n",
              "var x = new MutationObserver(function (mutations, observer) {{\n",
              "        var display = window.getComputedStyle(gd).display;\n",
              "        if (!display || display === 'none') {{\n",
              "            console.log([gd, 'removed!']);\n",
              "            Plotly.purge(gd);\n",
              "            observer.disconnect();\n",
              "        }}\n",
              "}});\n",
              "\n",
              "// Listen for the removal of the full notebook cells\n",
              "var notebookContainer = gd.closest('#notebook-container');\n",
              "if (notebookContainer) {{\n",
              "    x.observe(notebookContainer, {childList: true});\n",
              "}}\n",
              "\n",
              "// Listen for the clearing of the current output cell\n",
              "var outputEl = gd.closest('.output');\n",
              "if (outputEl) {{\n",
              "    x.observe(outputEl, {childList: true});\n",
              "}}\n",
              "\n",
              "                        })                };                });            </script>        </div>"
            ]
          },
          "metadata": {}
        }
      ]
    },
    {
      "cell_type": "code",
      "source": [],
      "metadata": {
        "id": "41Tezb0npqu4"
      },
      "execution_count": null,
      "outputs": []
    }
  ]
}